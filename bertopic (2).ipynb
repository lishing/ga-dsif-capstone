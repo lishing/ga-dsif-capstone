{
 "cells": [
  {
   "cell_type": "code",
   "execution_count": 2,
   "metadata": {
    "_cell_guid": "b1076dfc-b9ad-4769-8c92-a6c4dae69d19",
    "_uuid": "8f2839f25d086af736a60e9eeb907d3b93b6e0e5",
    "execution": {
     "iopub.execute_input": "2023-05-24T23:47:17.756377Z",
     "iopub.status.busy": "2023-05-24T23:47:17.755867Z",
     "iopub.status.idle": "2023-05-24T23:47:17.785390Z",
     "shell.execute_reply": "2023-05-24T23:47:17.784124Z",
     "shell.execute_reply.started": "2023-05-24T23:47:17.756337Z"
    }
   },
   "outputs": [
    {
     "name": "stdout",
     "output_type": "stream",
     "text": [
      "/kaggle/input/scmp-raw/scmp_spider.csv\n",
      "/kaggle/input/spinarak-raw/spinarak_articles.csv\n"
     ]
    }
   ],
   "source": [
    "# This Python 3 environment comes with many helpful analytics libraries installed\n",
    "# It is defined by the kaggle/python Docker image: https://github.com/kaggle/docker-python\n",
    "# For example, here's several helpful packages to load\n",
    "\n",
    "import numpy as np # linear algebra\n",
    "import pandas as pd # data processing, CSV file I/O (e.g. pd.read_csv)\n",
    "\n",
    "# Input data files are available in the read-only \"../input/\" directory\n",
    "# For example, running this (by clicking run or pressing Shift+Enter) will list all files under the input directory\n",
    "\n",
    "import os\n",
    "for dirname, _, filenames in os.walk('/kaggle/input'):\n",
    "    for filename in filenames:\n",
    "        print(os.path.join(dirname, filename))\n",
    "\n",
    "# You can write up to 20GB to the current directory (/kaggle/working/) that gets preserved as output when you create a version using \"Save & Run All\" \n",
    "# You can also write temporary files to /kaggle/temp/, but they won't be saved outside of the current session"
   ]
  },
  {
   "cell_type": "markdown",
   "metadata": {},
   "source": [
    "# Imports \n",
    "## Libraries"
   ]
  },
  {
   "cell_type": "code",
   "execution_count": 2,
   "metadata": {
    "tags": []
   },
   "outputs": [
    {
     "ename": "ModuleNotFoundError",
     "evalue": "No module named 'wordcloud'",
     "output_type": "error",
     "traceback": [
      "\u001b[0;31m---------------------------------------------------------------------------\u001b[0m",
      "\u001b[0;31mModuleNotFoundError\u001b[0m                       Traceback (most recent call last)",
      "Cell \u001b[0;32mIn [2], line 6\u001b[0m\n\u001b[1;32m      4\u001b[0m \u001b[38;5;28;01mimport\u001b[39;00m \u001b[38;5;21;01mnumpy\u001b[39;00m \u001b[38;5;28;01mas\u001b[39;00m \u001b[38;5;21;01mnp\u001b[39;00m\n\u001b[1;32m      5\u001b[0m \u001b[38;5;28;01mimport\u001b[39;00m \u001b[38;5;21;01mseaborn\u001b[39;00m \u001b[38;5;28;01mas\u001b[39;00m \u001b[38;5;21;01msns\u001b[39;00m\n\u001b[0;32m----> 6\u001b[0m \u001b[38;5;28;01mfrom\u001b[39;00m \u001b[38;5;21;01mwordcloud\u001b[39;00m \u001b[38;5;28;01mimport\u001b[39;00m WordCloud, ImageColorGenerator\n\u001b[1;32m      8\u001b[0m \u001b[38;5;66;03m# libraries for data preprocessing\u001b[39;00m\n\u001b[1;32m      9\u001b[0m \u001b[38;5;28;01mimport\u001b[39;00m \u001b[38;5;21;01mnltk\u001b[39;00m\n",
      "\u001b[0;31mModuleNotFoundError\u001b[0m: No module named 'wordcloud'"
     ]
    }
   ],
   "source": [
    "# usual libraries\n",
    "import matplotlib.pyplot as plt\n",
    "import pandas as pd\n",
    "import numpy as np\n",
    "import seaborn as sns\n",
    "from wordcloud import WordCloud, ImageColorGenerator\n",
    "\n",
    "# libraries for data preprocessing\n",
    "import nltk\n",
    "import re\n",
    "from nltk.tokenize import word_tokenize, RegexpTokenizer\n",
    "from nltk.corpus import stopwords\n",
    "from nltk.stem import WordNetLemmatizer\n",
    "from nltk.stem.porter import PorterStemmer\n",
    "from nltk.corpus import stopwords\n",
    "\n",
    "# libraries for vectorization\n",
    "from sklearn.feature_extraction.text import CountVectorizer, TfidfVectorizer\n",
    "\n",
    "# libraries for model selection\n",
    "from sklearn.model_selection import train_test_split"
   ]
  },
  {
   "cell_type": "code",
   "execution_count": null,
   "metadata": {
    "tags": []
   },
   "outputs": [],
   "source": [
    "# this setting widens how many characters pandas will display in a column:\n",
    "pd.options.display.max_colwidth = 400\n",
    "\n",
    "# this setting widens how many characters pandas will display in a row:\n",
    "pd.set_option('display.max_rows', 100)"
   ]
  },
  {
   "cell_type": "markdown",
   "metadata": {},
   "source": [
    "## Data"
   ]
  },
  {
   "cell_type": "code",
   "execution_count": null,
   "metadata": {
    "tags": []
   },
   "outputs": [],
   "source": [
    "scmp_df = pd.read_csv('scmp_spider.csv', encoding='iso-8859-1', index_col=0)"
   ]
  },
  {
   "cell_type": "code",
   "execution_count": 6,
   "metadata": {
    "execution": {
     "iopub.execute_input": "2023-05-24T23:47:19.852167Z",
     "iopub.status.busy": "2023-05-24T23:47:19.850861Z",
     "iopub.status.idle": "2023-05-24T23:47:19.861337Z",
     "shell.execute_reply": "2023-05-24T23:47:19.859791Z",
     "shell.execute_reply.started": "2023-05-24T23:47:19.852109Z"
    }
   },
   "outputs": [
    {
     "data": {
      "text/plain": [
       "(1636, 4)"
      ]
     },
     "execution_count": 6,
     "metadata": {},
     "output_type": "execute_result"
    }
   ],
   "source": [
    "scmp_df.shape"
   ]
  },
  {
   "cell_type": "code",
   "execution_count": 7,
   "metadata": {
    "execution": {
     "iopub.execute_input": "2023-05-24T23:47:19.864485Z",
     "iopub.status.busy": "2023-05-24T23:47:19.863956Z",
     "iopub.status.idle": "2023-05-24T23:47:19.882588Z",
     "shell.execute_reply": "2023-05-24T23:47:19.881256Z",
     "shell.execute_reply.started": "2023-05-24T23:47:19.864440Z"
    }
   },
   "outputs": [],
   "source": [
    "# flatten df\n",
    "scmp_df.columns = scmp_df.columns.map(''.join)\n",
    "scmp_df = scmp_df.reset_index()"
   ]
  },
  {
   "cell_type": "code",
   "execution_count": 8,
   "metadata": {
    "execution": {
     "iopub.execute_input": "2023-05-24T23:47:19.885293Z",
     "iopub.status.busy": "2023-05-24T23:47:19.884016Z",
     "iopub.status.idle": "2023-05-24T23:47:19.913639Z",
     "shell.execute_reply": "2023-05-24T23:47:19.912245Z",
     "shell.execute_reply.started": "2023-05-24T23:47:19.885250Z"
    }
   },
   "outputs": [
    {
     "data": {
      "text/plain": [
       "index        0\n",
       "title       43\n",
       "summary      0\n",
       "url          0\n",
       "source     403\n",
       "dtype: int64"
      ]
     },
     "execution_count": 8,
     "metadata": {},
     "output_type": "execute_result"
    }
   ],
   "source": [
    "scmp_df.isnull().sum()"
   ]
  },
  {
   "cell_type": "code",
   "execution_count": 9,
   "metadata": {
    "execution": {
     "iopub.execute_input": "2023-05-24T23:47:19.915700Z",
     "iopub.status.busy": "2023-05-24T23:47:19.915291Z",
     "iopub.status.idle": "2023-05-24T23:47:19.940952Z",
     "shell.execute_reply": "2023-05-24T23:47:19.939196Z",
     "shell.execute_reply.started": "2023-05-24T23:47:19.915666Z"
    }
   },
   "outputs": [],
   "source": [
    "scmp_df.dropna(subset=['title', 'source'], inplace=True)"
   ]
  },
  {
   "cell_type": "markdown",
   "metadata": {},
   "source": [
    "# Start Preprocessing"
   ]
  },
  {
   "cell_type": "code",
   "execution_count": 10,
   "metadata": {
    "execution": {
     "iopub.execute_input": "2023-05-24T23:47:19.943490Z",
     "iopub.status.busy": "2023-05-24T23:47:19.943054Z",
     "iopub.status.idle": "2023-05-24T23:47:19.956337Z",
     "shell.execute_reply": "2023-05-24T23:47:19.955214Z",
     "shell.execute_reply.started": "2023-05-24T23:47:19.943455Z"
    }
   },
   "outputs": [],
   "source": [
    "def clean_text(s):\n",
    "    \"\"\"\n",
    "    Returns a cleaned version of the text by removing punctuations, digits. \n",
    "    Make upper case to lower case\n",
    "\n",
    "    \"\"\"\n",
    "    s = s.lower() # make lower case\n",
    "    s = re.sub(r'[^\\w\\s]','',s) # only words taken into account\n",
    "    s = re.sub(r\"\\S*\\d\\S*\", \"\", s).strip() # remove whitespaces and capture words with digits\n",
    "    s = re.sub(r'\\d+',\" \", s) # this removes digit\n",
    "    s = re.sub(r'_+',\" \", s) # this removes underscore \n",
    "    s = re.sub(r'[^a-zA-Z0-9]+',\" \", s) # special characters\n",
    "    s = re.sub(r'-+', \" \", s) # replace hyphens with spaces\n",
    "    s = \" \".join(s.split()) # remove extra whitespace\n",
    "    return s"
   ]
  },
  {
   "cell_type": "code",
   "execution_count": 11,
   "metadata": {
    "execution": {
     "iopub.execute_input": "2023-05-24T23:47:19.959049Z",
     "iopub.status.busy": "2023-05-24T23:47:19.957996Z",
     "iopub.status.idle": "2023-05-24T23:47:20.000438Z",
     "shell.execute_reply": "2023-05-24T23:47:19.998836Z",
     "shell.execute_reply.started": "2023-05-24T23:47:19.959007Z"
    }
   },
   "outputs": [
    {
     "data": {
      "text/html": [
       "<div>\n",
       "<style scoped>\n",
       "    .dataframe tbody tr th:only-of-type {\n",
       "        vertical-align: middle;\n",
       "    }\n",
       "\n",
       "    .dataframe tbody tr th {\n",
       "        vertical-align: top;\n",
       "    }\n",
       "\n",
       "    .dataframe thead th {\n",
       "        text-align: right;\n",
       "    }\n",
       "</style>\n",
       "<table border=\"1\" class=\"dataframe\">\n",
       "  <thead>\n",
       "    <tr style=\"text-align: right;\">\n",
       "      <th></th>\n",
       "      <th>index</th>\n",
       "      <th>title</th>\n",
       "      <th>summary</th>\n",
       "      <th>url</th>\n",
       "      <th>source</th>\n",
       "    </tr>\n",
       "  </thead>\n",
       "  <tbody>\n",
       "    <tr>\n",
       "      <th>0</th>\n",
       "      <td>Summit a âmajor diplomatic eventâ to boost Chinaâs ties with Central Asia</td>\n",
       "      <td>Leaders of Kazakhstan, Kyrgyzstan, Tajikistan, Turkmenistan and Uzbekistan invited to first China-Central Asia summit\\nPresence of ethnic Russians in the five countries has triggered fears Moscow could target their territory next, analyst says\\n</td>\n",
       "      <td>/news/china/diplomacy/article/3213710/summit-major-diplomatic-event-boost-chinas-ties-central-asian-nations-amid-ukraine-afghanistan</td>\n",
       "      <td>us_china_spider</td>\n",
       "      <td>China is expected to further boost ties with Central Asia when President Xi Jinping hosts his counterparts from the region amid uncertainties stemming from Russiaâs war in Ukraine and increasing hostility from the West. Beijing has hailed the two-day summit of nations in the vast and geo-strategically important neighbouring region on Thursday and Friday as the âfirst major diplomatic event...</td>\n",
       "    </tr>\n",
       "    <tr>\n",
       "      <th>1</th>\n",
       "      <td>US arrests man on charges of acting as unregistered foreign agent for Beijing</td>\n",
       "      <td>Litang Liang, 63, of Massachusetts is accused of reporting to consulate officials on protests in the Boston area against China government actions since 2018.\\n</td>\n",
       "      <td>/news/china/diplomacy/article/3220662/us-arrests-chinese-american-charges-acting-unregistered-foreign-agent-beijing</td>\n",
       "      <td>us_china_spider</td>\n",
       "      <td>A Chinese-American man was arrested last week for allegedly serving as an agent of the Chinese government without notifying the US government, the Department of Justice announced on Monday. Litang Liang, 63, of Brighton, Massachusetts, was accused of providing Chinese officials with information about Boston-area individuals and organisations; leading a counter-protest against anti-Beijing acti...</td>\n",
       "    </tr>\n",
       "    <tr>\n",
       "      <th>2</th>\n",
       "      <td>US report says China jailed as many as 10,000 religious adherents</td>\n",
       "      <td>Beijing has broadened its efforts to bring all theological activity under Communist Party control, according to annual State Department publication.\\n</td>\n",
       "      <td>/news/china/article/3220659/us-religious-freedom-report-accuses-china-jailing-many-10000-people-repression-campaign</td>\n",
       "      <td>us_china_spider</td>\n",
       "      <td>The US government on Monday accused Beijing of jailing as many as 10,000 or more people in 2022 in a widening campaign of repression against religious belief meant to bring all theological activity under the Chinese Communist Party âs control. The estimate of those imprisoned in the country ranging âfrom the low thousands to over 10,000â is one of many accusations contained in the State ...</td>\n",
       "    </tr>\n",
       "    <tr>\n",
       "      <th>3</th>\n",
       "      <td>US citizen with Hong Kong residency given life sentence for spying in China</td>\n",
       "      <td>John Shing-wan Leung, 78, was convicted and sentenced in Suzhou court on Monday for committing espionage activities in China.\\n</td>\n",
       "      <td>/news/china/politics/article/3220562/hong-kong-resident-american-passport-sentenced-life-china-after-being-convicted-spying-charges</td>\n",
       "      <td>us_china_spider</td>\n",
       "      <td>A US-based Hong Kong permanent resident â who is believed to have promoted business and cultural exchanges â was sentenced to life in prison on Monday after being convicted on spying charges in China. It comes as China is stepping up efforts targeting spies, especially those from the United States and its allies. But a lack of transparency around national security cases in China and âmut...</td>\n",
       "    </tr>\n",
       "    <tr>\n",
       "      <th>4</th>\n",
       "      <td>ExplainerWhatâs Joe Biden up to on his 8-day trip to the Asia-Pacific?</td>\n",
       "      <td>The 80-year-old will visit a city that the US destroyed with a nuclear bomb and spend an awful lot of time with Indiaâs prime minister as he looks to demonstrate that he still has enough in the tank to handle the gruelling pace of the presidency.\\n</td>\n",
       "      <td>/news/asia/article/3220558/whats-joe-biden-his-eight-day-trip-asia-pacific</td>\n",
       "      <td>us_china_spider</td>\n",
       "      <td>US President Joe Biden has an ambitious agenda when he sets off this week on an eight-day trip to the Indo-Pacific . Heâs looking to tighten bonds with long-time allies, make history as the first sitting president of the United States to visit the tiny island state of Papua New Guinea and spotlight his administrationâs commitment to the Pacific. The three-country trip also presents the 80-...</td>\n",
       "    </tr>\n",
       "  </tbody>\n",
       "</table>\n",
       "</div>"
      ],
      "text/plain": [
       "                                                                             index  \\\n",
       "0  Summit a âmajor diplomatic eventâ to boost Chinaâs ties with Central Asia   \n",
       "1    US arrests man on charges of acting as unregistered foreign agent for Beijing   \n",
       "2                US report says China jailed as many as 10,000 religious adherents   \n",
       "3      US citizen with Hong Kong residency given life sentence for spying in China   \n",
       "4         ExplainerWhatâs Joe Biden up to on his 8-day trip to the Asia-Pacific?   \n",
       "\n",
       "                                                                                                                                                                                                                                                        title  \\\n",
       "0       Leaders of Kazakhstan, Kyrgyzstan, Tajikistan, Turkmenistan and Uzbekistan invited to first China-Central Asia summit\\nPresence of ethnic Russians in the five countries has triggered fears Moscow could target their territory next, analyst says\\n   \n",
       "1                                                                                             Litang Liang, 63, of Massachusetts is accused of reporting to consulate officials on protests in the Boston area against China government actions since 2018.\\n   \n",
       "2                                                                                                      Beijing has broadened its efforts to bring all theological activity under Communist Party control, according to annual State Department publication.\\n   \n",
       "3                                                                                                                             John Shing-wan Leung, 78, was convicted and sentenced in Suzhou court on Monday for committing espionage activities in China.\\n   \n",
       "4  The 80-year-old will visit a city that the US destroyed with a nuclear bomb and spend an awful lot of time with Indiaâs prime minister as he looks to demonstrate that he still has enough in the tank to handle the gruelling pace of the presidency.\\n   \n",
       "\n",
       "                                                                                                                                summary  \\\n",
       "0  /news/china/diplomacy/article/3213710/summit-major-diplomatic-event-boost-chinas-ties-central-asian-nations-amid-ukraine-afghanistan   \n",
       "1                   /news/china/diplomacy/article/3220662/us-arrests-chinese-american-charges-acting-unregistered-foreign-agent-beijing   \n",
       "2                   /news/china/article/3220659/us-religious-freedom-report-accuses-china-jailing-many-10000-people-repression-campaign   \n",
       "3   /news/china/politics/article/3220562/hong-kong-resident-american-passport-sentenced-life-china-after-being-convicted-spying-charges   \n",
       "4                                                            /news/asia/article/3220558/whats-joe-biden-his-eight-day-trip-asia-pacific   \n",
       "\n",
       "               url  \\\n",
       "0  us_china_spider   \n",
       "1  us_china_spider   \n",
       "2  us_china_spider   \n",
       "3  us_china_spider   \n",
       "4  us_china_spider   \n",
       "\n",
       "                                                                                                                                                                                                                                                                                                                                                                                                            source  \n",
       "0  China is expected to further boost ties with Central Asia when President Xi Jinping hosts his counterparts from the region amid uncertainties stemming from Russiaâs war in Ukraine and increasing hostility from the West. Beijing has hailed the two-day summit of nations in the vast and geo-strategically important neighbouring region on Thursday and Friday as the âfirst major diplomatic event...  \n",
       "1  A Chinese-American man was arrested last week for allegedly serving as an agent of the Chinese government without notifying the US government, the Department of Justice announced on Monday. Litang Liang, 63, of Brighton, Massachusetts, was accused of providing Chinese officials with information about Boston-area individuals and organisations; leading a counter-protest against anti-Beijing acti...  \n",
       "2  The US government on Monday accused Beijing of jailing as many as 10,000 or more people in 2022 in a widening campaign of repression against religious belief meant to bring all theological activity under the Chinese Communist Party âs control. The estimate of those imprisoned in the country ranging âfrom the low thousands to over 10,000â is one of many accusations contained in the State ...  \n",
       "3  A US-based Hong Kong permanent resident â who is believed to have promoted business and cultural exchanges â was sentenced to life in prison on Monday after being convicted on spying charges in China. It comes as China is stepping up efforts targeting spies, especially those from the United States and its allies. But a lack of transparency around national security cases in China and âmut...  \n",
       "4  US President Joe Biden has an ambitious agenda when he sets off this week on an eight-day trip to the Indo-Pacific . Heâs looking to tighten bonds with long-time allies, make history as the first sitting president of the United States to visit the tiny island state of Papua New Guinea and spotlight his administrationâs commitment to the Pacific. The three-country trip also presents the 80-...  "
      ]
     },
     "execution_count": 11,
     "metadata": {},
     "output_type": "execute_result"
    }
   ],
   "source": [
    "scmp_df.head()"
   ]
  },
  {
   "cell_type": "code",
   "execution_count": 12,
   "metadata": {
    "execution": {
     "iopub.execute_input": "2023-05-24T23:47:20.005756Z",
     "iopub.status.busy": "2023-05-24T23:47:20.005300Z",
     "iopub.status.idle": "2023-05-24T23:47:22.904639Z",
     "shell.execute_reply": "2023-05-24T23:47:22.903228Z",
     "shell.execute_reply.started": "2023-05-24T23:47:20.005724Z"
    }
   },
   "outputs": [],
   "source": [
    "scmp_df['clean_text'] = scmp_df['source'].apply(clean_text)"
   ]
  },
  {
   "cell_type": "code",
   "execution_count": 13,
   "metadata": {
    "execution": {
     "iopub.execute_input": "2023-05-24T23:47:22.906522Z",
     "iopub.status.busy": "2023-05-24T23:47:22.906178Z",
     "iopub.status.idle": "2023-05-24T23:47:22.913907Z",
     "shell.execute_reply": "2023-05-24T23:47:22.912449Z",
     "shell.execute_reply.started": "2023-05-24T23:47:22.906492Z"
    }
   },
   "outputs": [],
   "source": [
    "# tokenize with nltk\n",
    "def tokenize_text(s):\n",
    "    \"\"\"Returns a message with word_tokenize package from nltk library\"\"\"\n",
    "    return word_tokenize(s.lower())"
   ]
  },
  {
   "cell_type": "code",
   "execution_count": 14,
   "metadata": {
    "execution": {
     "iopub.execute_input": "2023-05-24T23:47:22.916292Z",
     "iopub.status.busy": "2023-05-24T23:47:22.915809Z",
     "iopub.status.idle": "2023-05-24T23:47:22.927184Z",
     "shell.execute_reply": "2023-05-24T23:47:22.925803Z",
     "shell.execute_reply.started": "2023-05-24T23:47:22.916247Z"
    }
   },
   "outputs": [],
   "source": [
    "#spinarak_df.head()"
   ]
  },
  {
   "cell_type": "code",
   "execution_count": 15,
   "metadata": {
    "execution": {
     "iopub.execute_input": "2023-05-24T23:47:22.930615Z",
     "iopub.status.busy": "2023-05-24T23:47:22.929798Z",
     "iopub.status.idle": "2023-05-24T23:47:22.940614Z",
     "shell.execute_reply": "2023-05-24T23:47:22.939553Z",
     "shell.execute_reply.started": "2023-05-24T23:47:22.930576Z"
    }
   },
   "outputs": [],
   "source": [
    "#spinarak_df['tokens'] = spinarak_df['clean_text'].apply(tokenize_text)"
   ]
  },
  {
   "cell_type": "code",
   "execution_count": 16,
   "metadata": {
    "execution": {
     "iopub.execute_input": "2023-05-24T23:47:22.943638Z",
     "iopub.status.busy": "2023-05-24T23:47:22.942225Z",
     "iopub.status.idle": "2023-05-24T23:47:31.687405Z",
     "shell.execute_reply": "2023-05-24T23:47:31.685844Z",
     "shell.execute_reply.started": "2023-05-24T23:47:22.943552Z"
    }
   },
   "outputs": [],
   "source": [
    "scmp_df['tokens'] = scmp_df['clean_text'].apply(tokenize_text)"
   ]
  },
  {
   "cell_type": "code",
   "execution_count": 17,
   "metadata": {
    "execution": {
     "iopub.execute_input": "2023-05-24T23:47:31.689595Z",
     "iopub.status.busy": "2023-05-24T23:47:31.689141Z",
     "iopub.status.idle": "2023-05-24T23:47:31.700641Z",
     "shell.execute_reply": "2023-05-24T23:47:31.699154Z",
     "shell.execute_reply.started": "2023-05-24T23:47:31.689560Z"
    }
   },
   "outputs": [
    {
     "data": {
      "text/plain": [
       "(1233, 7)"
      ]
     },
     "execution_count": 17,
     "metadata": {},
     "output_type": "execute_result"
    }
   ],
   "source": [
    "scmp_df.shape"
   ]
  },
  {
   "cell_type": "code",
   "execution_count": 18,
   "metadata": {
    "execution": {
     "iopub.execute_input": "2023-05-24T23:47:31.703554Z",
     "iopub.status.busy": "2023-05-24T23:47:31.702731Z",
     "iopub.status.idle": "2023-05-24T23:47:31.717662Z",
     "shell.execute_reply": "2023-05-24T23:47:31.716823Z",
     "shell.execute_reply.started": "2023-05-24T23:47:31.703519Z"
    }
   },
   "outputs": [],
   "source": [
    "# remove rare words from both the df\n",
    "\n",
    "# #count words\n",
    "# from collections import Counter\n",
    "# cnt = Counter()\n",
    "# for text in spinarak_df[\"filtered_tokens\"].values:\n",
    "#     for word in text.split():\n",
    "#         cnt[word] += 1\n",
    "        \n",
    "# cnt.most_common(10)"
   ]
  },
  {
   "cell_type": "code",
   "execution_count": 19,
   "metadata": {
    "execution": {
     "iopub.execute_input": "2023-05-24T23:47:31.719954Z",
     "iopub.status.busy": "2023-05-24T23:47:31.719301Z",
     "iopub.status.idle": "2023-05-24T23:47:31.738740Z",
     "shell.execute_reply": "2023-05-24T23:47:31.737721Z",
     "shell.execute_reply.started": "2023-05-24T23:47:31.719920Z"
    }
   },
   "outputs": [],
   "source": [
    "# remove stop words from the tokens from nltk.corpus for both the df\n",
    "\n",
    "# include the common words found on the threads\n",
    "english_stopwords = stopwords.words('english')\n",
    "english_stopwords.extend(['hi', 'hello', 'welcome', 'roundup', 'said', 'would', 'also', 'us', 'china', 'hong', 'kong', 'taiwan', 'beijing', 'lettersscmpcom'])"
   ]
  },
  {
   "cell_type": "code",
   "execution_count": 20,
   "metadata": {
    "execution": {
     "iopub.execute_input": "2023-05-24T23:47:31.740745Z",
     "iopub.status.busy": "2023-05-24T23:47:31.740384Z",
     "iopub.status.idle": "2023-05-24T23:47:31.747598Z",
     "shell.execute_reply": "2023-05-24T23:47:31.745745Z",
     "shell.execute_reply.started": "2023-05-24T23:47:31.740715Z"
    }
   },
   "outputs": [],
   "source": [
    "def filtered_text(words):\n",
    "    \"\"\"Remove common english stop words from defined array. Also remove numbers\"\"\"\n",
    "    filtered_words = [word for word in words if (word not in english_stopwords) and (not word.isdigit())]\n",
    "    return filtered_words"
   ]
  },
  {
   "cell_type": "code",
   "execution_count": 21,
   "metadata": {
    "execution": {
     "iopub.execute_input": "2023-05-24T23:47:31.750231Z",
     "iopub.status.busy": "2023-05-24T23:47:31.749507Z",
     "iopub.status.idle": "2023-05-24T23:47:31.767755Z",
     "shell.execute_reply": "2023-05-24T23:47:31.766829Z",
     "shell.execute_reply.started": "2023-05-24T23:47:31.750196Z"
    }
   },
   "outputs": [],
   "source": [
    "#spinarak_df['filtered_tokens'] = spinarak_df['tokens'].apply(filtered_text)"
   ]
  },
  {
   "cell_type": "code",
   "execution_count": 22,
   "metadata": {
    "execution": {
     "iopub.execute_input": "2023-05-24T23:47:31.769531Z",
     "iopub.status.busy": "2023-05-24T23:47:31.769185Z",
     "iopub.status.idle": "2023-05-24T23:47:33.797676Z",
     "shell.execute_reply": "2023-05-24T23:47:33.796697Z",
     "shell.execute_reply.started": "2023-05-24T23:47:31.769503Z"
    }
   },
   "outputs": [],
   "source": [
    "scmp_df['filtered_tokens'] = scmp_df['tokens'].apply(filtered_text)"
   ]
  },
  {
   "cell_type": "code",
   "execution_count": 23,
   "metadata": {
    "execution": {
     "iopub.execute_input": "2023-05-24T23:47:33.799220Z",
     "iopub.status.busy": "2023-05-24T23:47:33.798918Z",
     "iopub.status.idle": "2023-05-24T23:47:33.830780Z",
     "shell.execute_reply": "2023-05-24T23:47:33.829693Z",
     "shell.execute_reply.started": "2023-05-24T23:47:33.799193Z"
    }
   },
   "outputs": [
    {
     "data": {
      "text/html": [
       "<div>\n",
       "<style scoped>\n",
       "    .dataframe tbody tr th:only-of-type {\n",
       "        vertical-align: middle;\n",
       "    }\n",
       "\n",
       "    .dataframe tbody tr th {\n",
       "        vertical-align: top;\n",
       "    }\n",
       "\n",
       "    .dataframe thead th {\n",
       "        text-align: right;\n",
       "    }\n",
       "</style>\n",
       "<table border=\"1\" class=\"dataframe\">\n",
       "  <thead>\n",
       "    <tr style=\"text-align: right;\">\n",
       "      <th></th>\n",
       "      <th>index</th>\n",
       "      <th>title</th>\n",
       "      <th>summary</th>\n",
       "      <th>url</th>\n",
       "      <th>source</th>\n",
       "      <th>clean_text</th>\n",
       "      <th>tokens</th>\n",
       "      <th>filtered_tokens</th>\n",
       "    </tr>\n",
       "  </thead>\n",
       "  <tbody>\n",
       "    <tr>\n",
       "      <th>0</th>\n",
       "      <td>Summit a âmajor diplomatic eventâ to boost Chinaâs ties with Central Asia</td>\n",
       "      <td>Leaders of Kazakhstan, Kyrgyzstan, Tajikistan, Turkmenistan and Uzbekistan invited to first China-Central Asia summit\\nPresence of ethnic Russians in the five countries has triggered fears Moscow could target their territory next, analyst says\\n</td>\n",
       "      <td>/news/china/diplomacy/article/3213710/summit-major-diplomatic-event-boost-chinas-ties-central-asian-nations-amid-ukraine-afghanistan</td>\n",
       "      <td>us_china_spider</td>\n",
       "      <td>China is expected to further boost ties with Central Asia when President Xi Jinping hosts his counterparts from the region amid uncertainties stemming from Russiaâs war in Ukraine and increasing hostility from the West. Beijing has hailed the two-day summit of nations in the vast and geo-strategically important neighbouring region on Thursday and Friday as the âfirst major diplomatic event...</td>\n",
       "      <td>china is expected to further boost ties with central asia when president xi jinping hosts his counterparts from the region amid uncertainties stemming from russia s war in ukraine and increasing hostility from the west beijing has hailed the twoday summit of nations in the vast and geostrategically important neighbouring region on thursday and friday as the first major diplomatic event that ch...</td>\n",
       "      <td>[china, is, expected, to, further, boost, ties, with, central, asia, when, president, xi, jinping, hosts, his, counterparts, from, the, region, amid, uncertainties, stemming, from, russia, s, war, in, ukraine, and, increasing, hostility, from, the, west, beijing, has, hailed, the, twoday, summit, of, nations, in, the, vast, and, geostrategically, important, neighbouring, region, on, thursday, ...</td>\n",
       "      <td>[expected, boost, ties, central, asia, president, xi, jinping, hosts, counterparts, region, amid, uncertainties, stemming, russia, war, ukraine, increasing, hostility, west, hailed, twoday, summit, nations, vast, geostrategically, important, neighbouring, region, thursday, friday, first, major, diplomatic, event, hosts, year, meeting, xian, northwestern, province, shaanxi, coincides, leaders, ...</td>\n",
       "    </tr>\n",
       "    <tr>\n",
       "      <th>1</th>\n",
       "      <td>US arrests man on charges of acting as unregistered foreign agent for Beijing</td>\n",
       "      <td>Litang Liang, 63, of Massachusetts is accused of reporting to consulate officials on protests in the Boston area against China government actions since 2018.\\n</td>\n",
       "      <td>/news/china/diplomacy/article/3220662/us-arrests-chinese-american-charges-acting-unregistered-foreign-agent-beijing</td>\n",
       "      <td>us_china_spider</td>\n",
       "      <td>A Chinese-American man was arrested last week for allegedly serving as an agent of the Chinese government without notifying the US government, the Department of Justice announced on Monday. Litang Liang, 63, of Brighton, Massachusetts, was accused of providing Chinese officials with information about Boston-area individuals and organisations; leading a counter-protest against anti-Beijing acti...</td>\n",
       "      <td>a chineseamerican man was arrested last week for allegedly serving as an agent of the chinese government without notifying the us government the department of justice announced on monday litang liang of brighton massachusetts was accused of providing chinese officials with information about bostonarea individuals and organisations leading a counterprotest against antibeijing activists and sugg...</td>\n",
       "      <td>[a, chineseamerican, man, was, arrested, last, week, for, allegedly, serving, as, an, agent, of, the, chinese, government, without, notifying, the, us, government, the, department, of, justice, announced, on, monday, litang, liang, of, brighton, massachusetts, was, accused, of, providing, chinese, officials, with, information, about, bostonarea, individuals, and, organisations, leading, a, cou...</td>\n",
       "      <td>[chineseamerican, man, arrested, last, week, allegedly, serving, agent, chinese, government, without, notifying, government, department, justice, announced, monday, litang, liang, brighton, massachusetts, accused, providing, chinese, officials, information, bostonarea, individuals, organisations, leading, counterprotest, antibeijing, activists, suggesting, potential, recruits, ministry, public...</td>\n",
       "    </tr>\n",
       "    <tr>\n",
       "      <th>2</th>\n",
       "      <td>US report says China jailed as many as 10,000 religious adherents</td>\n",
       "      <td>Beijing has broadened its efforts to bring all theological activity under Communist Party control, according to annual State Department publication.\\n</td>\n",
       "      <td>/news/china/article/3220659/us-religious-freedom-report-accuses-china-jailing-many-10000-people-repression-campaign</td>\n",
       "      <td>us_china_spider</td>\n",
       "      <td>The US government on Monday accused Beijing of jailing as many as 10,000 or more people in 2022 in a widening campaign of repression against religious belief meant to bring all theological activity under the Chinese Communist Party âs control. The estimate of those imprisoned in the country ranging âfrom the low thousands to over 10,000â is one of many accusations contained in the State ...</td>\n",
       "      <td>the us government on monday accused beijing of jailing as many as or more people in in a widening campaign of repression against religious belief meant to bring all theological activity under the chinese communist party s control the estimate of those imprisoned in the country ranging from the low thousands to over is one of many accusations contained in the state department s international re...</td>\n",
       "      <td>[the, us, government, on, monday, accused, beijing, of, jailing, as, many, as, or, more, people, in, in, a, widening, campaign, of, repression, against, religious, belief, meant, to, bring, all, theological, activity, under, the, chinese, communist, party, s, control, the, estimate, of, those, imprisoned, in, the, country, ranging, from, the, low, thousands, to, over, is, one, of, many, accusa...</td>\n",
       "      <td>[government, monday, accused, jailing, many, people, widening, campaign, repression, religious, belief, meant, bring, theological, activity, chinese, communist, party, control, estimate, imprisoned, country, ranging, low, thousands, one, many, accusations, contained, state, department, international, religious, freedom, report, published, annually, since, covers, nearly, countries, report, sec...</td>\n",
       "    </tr>\n",
       "    <tr>\n",
       "      <th>3</th>\n",
       "      <td>US citizen with Hong Kong residency given life sentence for spying in China</td>\n",
       "      <td>John Shing-wan Leung, 78, was convicted and sentenced in Suzhou court on Monday for committing espionage activities in China.\\n</td>\n",
       "      <td>/news/china/politics/article/3220562/hong-kong-resident-american-passport-sentenced-life-china-after-being-convicted-spying-charges</td>\n",
       "      <td>us_china_spider</td>\n",
       "      <td>A US-based Hong Kong permanent resident â who is believed to have promoted business and cultural exchanges â was sentenced to life in prison on Monday after being convicted on spying charges in China. It comes as China is stepping up efforts targeting spies, especially those from the United States and its allies. But a lack of transparency around national security cases in China and âmut...</td>\n",
       "      <td>a usbased hong kong permanent resident who is believed to have promoted business and cultural exchanges was sentenced to life in prison on monday after being convicted on spying charges in china it comes as china is stepping up efforts targeting spies especially those from the united states and its allies but a lack of transparency around national security cases in china and mutual recriminati...</td>\n",
       "      <td>[a, usbased, hong, kong, permanent, resident, who, is, believed, to, have, promoted, business, and, cultural, exchanges, was, sentenced, to, life, in, prison, on, monday, after, being, convicted, on, spying, charges, in, china, it, comes, as, china, is, stepping, up, efforts, targeting, spies, especially, those, from, the, united, states, and, its, allies, but, a, lack, of, transparency, aroun...</td>\n",
       "      <td>[usbased, permanent, resident, believed, promoted, business, cultural, exchanges, sentenced, life, prison, monday, convicted, spying, charges, comes, stepping, efforts, targeting, spies, especially, united, states, allies, lack, transparency, around, national, security, cases, mutual, recriminations, perceived, espionage, activities, contradict, talk, encouraging, foreign, investment, country,...</td>\n",
       "    </tr>\n",
       "    <tr>\n",
       "      <th>4</th>\n",
       "      <td>ExplainerWhatâs Joe Biden up to on his 8-day trip to the Asia-Pacific?</td>\n",
       "      <td>The 80-year-old will visit a city that the US destroyed with a nuclear bomb and spend an awful lot of time with Indiaâs prime minister as he looks to demonstrate that he still has enough in the tank to handle the gruelling pace of the presidency.\\n</td>\n",
       "      <td>/news/asia/article/3220558/whats-joe-biden-his-eight-day-trip-asia-pacific</td>\n",
       "      <td>us_china_spider</td>\n",
       "      <td>US President Joe Biden has an ambitious agenda when he sets off this week on an eight-day trip to the Indo-Pacific . Heâs looking to tighten bonds with long-time allies, make history as the first sitting president of the United States to visit the tiny island state of Papua New Guinea and spotlight his administrationâs commitment to the Pacific. The three-country trip also presents the 80-...</td>\n",
       "      <td>us president joe biden has an ambitious agenda when he sets off this week on an eightday trip to the indopacific he s looking to tighten bonds with longtime allies make history as the first sitting president of the united states to visit the tiny island state of papua new guinea and spotlight his administration s commitment to the pacific the threecountry trip also presents the biden who recen...</td>\n",
       "      <td>[us, president, joe, biden, has, an, ambitious, agenda, when, he, sets, off, this, week, on, an, eightday, trip, to, the, indopacific, he, s, looking, to, tighten, bonds, with, longtime, allies, make, history, as, the, first, sitting, president, of, the, united, states, to, visit, the, tiny, island, state, of, papua, new, guinea, and, spotlight, his, administration, s, commitment, to, the, pac...</td>\n",
       "      <td>[president, joe, biden, ambitious, agenda, sets, week, eightday, trip, indopacific, looking, tighten, bonds, longtime, allies, make, history, first, sitting, president, united, states, visit, tiny, island, state, papua, new, guinea, spotlight, administration, commitment, pacific, threecountry, trip, presents, biden, recently, announced, running, reelection, opportunity, demonstrate, still, eno...</td>\n",
       "    </tr>\n",
       "  </tbody>\n",
       "</table>\n",
       "</div>"
      ],
      "text/plain": [
       "                                                                             index  \\\n",
       "0  Summit a âmajor diplomatic eventâ to boost Chinaâs ties with Central Asia   \n",
       "1    US arrests man on charges of acting as unregistered foreign agent for Beijing   \n",
       "2                US report says China jailed as many as 10,000 religious adherents   \n",
       "3      US citizen with Hong Kong residency given life sentence for spying in China   \n",
       "4         ExplainerWhatâs Joe Biden up to on his 8-day trip to the Asia-Pacific?   \n",
       "\n",
       "                                                                                                                                                                                                                                                        title  \\\n",
       "0       Leaders of Kazakhstan, Kyrgyzstan, Tajikistan, Turkmenistan and Uzbekistan invited to first China-Central Asia summit\\nPresence of ethnic Russians in the five countries has triggered fears Moscow could target their territory next, analyst says\\n   \n",
       "1                                                                                             Litang Liang, 63, of Massachusetts is accused of reporting to consulate officials on protests in the Boston area against China government actions since 2018.\\n   \n",
       "2                                                                                                      Beijing has broadened its efforts to bring all theological activity under Communist Party control, according to annual State Department publication.\\n   \n",
       "3                                                                                                                             John Shing-wan Leung, 78, was convicted and sentenced in Suzhou court on Monday for committing espionage activities in China.\\n   \n",
       "4  The 80-year-old will visit a city that the US destroyed with a nuclear bomb and spend an awful lot of time with Indiaâs prime minister as he looks to demonstrate that he still has enough in the tank to handle the gruelling pace of the presidency.\\n   \n",
       "\n",
       "                                                                                                                                summary  \\\n",
       "0  /news/china/diplomacy/article/3213710/summit-major-diplomatic-event-boost-chinas-ties-central-asian-nations-amid-ukraine-afghanistan   \n",
       "1                   /news/china/diplomacy/article/3220662/us-arrests-chinese-american-charges-acting-unregistered-foreign-agent-beijing   \n",
       "2                   /news/china/article/3220659/us-religious-freedom-report-accuses-china-jailing-many-10000-people-repression-campaign   \n",
       "3   /news/china/politics/article/3220562/hong-kong-resident-american-passport-sentenced-life-china-after-being-convicted-spying-charges   \n",
       "4                                                            /news/asia/article/3220558/whats-joe-biden-his-eight-day-trip-asia-pacific   \n",
       "\n",
       "               url  \\\n",
       "0  us_china_spider   \n",
       "1  us_china_spider   \n",
       "2  us_china_spider   \n",
       "3  us_china_spider   \n",
       "4  us_china_spider   \n",
       "\n",
       "                                                                                                                                                                                                                                                                                                                                                                                                            source  \\\n",
       "0  China is expected to further boost ties with Central Asia when President Xi Jinping hosts his counterparts from the region amid uncertainties stemming from Russiaâs war in Ukraine and increasing hostility from the West. Beijing has hailed the two-day summit of nations in the vast and geo-strategically important neighbouring region on Thursday and Friday as the âfirst major diplomatic event...   \n",
       "1  A Chinese-American man was arrested last week for allegedly serving as an agent of the Chinese government without notifying the US government, the Department of Justice announced on Monday. Litang Liang, 63, of Brighton, Massachusetts, was accused of providing Chinese officials with information about Boston-area individuals and organisations; leading a counter-protest against anti-Beijing acti...   \n",
       "2  The US government on Monday accused Beijing of jailing as many as 10,000 or more people in 2022 in a widening campaign of repression against religious belief meant to bring all theological activity under the Chinese Communist Party âs control. The estimate of those imprisoned in the country ranging âfrom the low thousands to over 10,000â is one of many accusations contained in the State ...   \n",
       "3  A US-based Hong Kong permanent resident â who is believed to have promoted business and cultural exchanges â was sentenced to life in prison on Monday after being convicted on spying charges in China. It comes as China is stepping up efforts targeting spies, especially those from the United States and its allies. But a lack of transparency around national security cases in China and âmut...   \n",
       "4  US President Joe Biden has an ambitious agenda when he sets off this week on an eight-day trip to the Indo-Pacific . Heâs looking to tighten bonds with long-time allies, make history as the first sitting president of the United States to visit the tiny island state of Papua New Guinea and spotlight his administrationâs commitment to the Pacific. The three-country trip also presents the 80-...   \n",
       "\n",
       "                                                                                                                                                                                                                                                                                                                                                                                                        clean_text  \\\n",
       "0  china is expected to further boost ties with central asia when president xi jinping hosts his counterparts from the region amid uncertainties stemming from russia s war in ukraine and increasing hostility from the west beijing has hailed the twoday summit of nations in the vast and geostrategically important neighbouring region on thursday and friday as the first major diplomatic event that ch...   \n",
       "1  a chineseamerican man was arrested last week for allegedly serving as an agent of the chinese government without notifying the us government the department of justice announced on monday litang liang of brighton massachusetts was accused of providing chinese officials with information about bostonarea individuals and organisations leading a counterprotest against antibeijing activists and sugg...   \n",
       "2  the us government on monday accused beijing of jailing as many as or more people in in a widening campaign of repression against religious belief meant to bring all theological activity under the chinese communist party s control the estimate of those imprisoned in the country ranging from the low thousands to over is one of many accusations contained in the state department s international re...   \n",
       "3  a usbased hong kong permanent resident who is believed to have promoted business and cultural exchanges was sentenced to life in prison on monday after being convicted on spying charges in china it comes as china is stepping up efforts targeting spies especially those from the united states and its allies but a lack of transparency around national security cases in china and mutual recriminati...   \n",
       "4  us president joe biden has an ambitious agenda when he sets off this week on an eightday trip to the indopacific he s looking to tighten bonds with longtime allies make history as the first sitting president of the united states to visit the tiny island state of papua new guinea and spotlight his administration s commitment to the pacific the threecountry trip also presents the biden who recen...   \n",
       "\n",
       "                                                                                                                                                                                                                                                                                                                                                                                                            tokens  \\\n",
       "0  [china, is, expected, to, further, boost, ties, with, central, asia, when, president, xi, jinping, hosts, his, counterparts, from, the, region, amid, uncertainties, stemming, from, russia, s, war, in, ukraine, and, increasing, hostility, from, the, west, beijing, has, hailed, the, twoday, summit, of, nations, in, the, vast, and, geostrategically, important, neighbouring, region, on, thursday, ...   \n",
       "1  [a, chineseamerican, man, was, arrested, last, week, for, allegedly, serving, as, an, agent, of, the, chinese, government, without, notifying, the, us, government, the, department, of, justice, announced, on, monday, litang, liang, of, brighton, massachusetts, was, accused, of, providing, chinese, officials, with, information, about, bostonarea, individuals, and, organisations, leading, a, cou...   \n",
       "2  [the, us, government, on, monday, accused, beijing, of, jailing, as, many, as, or, more, people, in, in, a, widening, campaign, of, repression, against, religious, belief, meant, to, bring, all, theological, activity, under, the, chinese, communist, party, s, control, the, estimate, of, those, imprisoned, in, the, country, ranging, from, the, low, thousands, to, over, is, one, of, many, accusa...   \n",
       "3  [a, usbased, hong, kong, permanent, resident, who, is, believed, to, have, promoted, business, and, cultural, exchanges, was, sentenced, to, life, in, prison, on, monday, after, being, convicted, on, spying, charges, in, china, it, comes, as, china, is, stepping, up, efforts, targeting, spies, especially, those, from, the, united, states, and, its, allies, but, a, lack, of, transparency, aroun...   \n",
       "4  [us, president, joe, biden, has, an, ambitious, agenda, when, he, sets, off, this, week, on, an, eightday, trip, to, the, indopacific, he, s, looking, to, tighten, bonds, with, longtime, allies, make, history, as, the, first, sitting, president, of, the, united, states, to, visit, the, tiny, island, state, of, papua, new, guinea, and, spotlight, his, administration, s, commitment, to, the, pac...   \n",
       "\n",
       "                                                                                                                                                                                                                                                                                                                                                                                                   filtered_tokens  \n",
       "0  [expected, boost, ties, central, asia, president, xi, jinping, hosts, counterparts, region, amid, uncertainties, stemming, russia, war, ukraine, increasing, hostility, west, hailed, twoday, summit, nations, vast, geostrategically, important, neighbouring, region, thursday, friday, first, major, diplomatic, event, hosts, year, meeting, xian, northwestern, province, shaanxi, coincides, leaders, ...  \n",
       "1  [chineseamerican, man, arrested, last, week, allegedly, serving, agent, chinese, government, without, notifying, government, department, justice, announced, monday, litang, liang, brighton, massachusetts, accused, providing, chinese, officials, information, bostonarea, individuals, organisations, leading, counterprotest, antibeijing, activists, suggesting, potential, recruits, ministry, public...  \n",
       "2  [government, monday, accused, jailing, many, people, widening, campaign, repression, religious, belief, meant, bring, theological, activity, chinese, communist, party, control, estimate, imprisoned, country, ranging, low, thousands, one, many, accusations, contained, state, department, international, religious, freedom, report, published, annually, since, covers, nearly, countries, report, sec...  \n",
       "3  [usbased, permanent, resident, believed, promoted, business, cultural, exchanges, sentenced, life, prison, monday, convicted, spying, charges, comes, stepping, efforts, targeting, spies, especially, united, states, allies, lack, transparency, around, national, security, cases, mutual, recriminations, perceived, espionage, activities, contradict, talk, encouraging, foreign, investment, country,...  \n",
       "4  [president, joe, biden, ambitious, agenda, sets, week, eightday, trip, indopacific, looking, tighten, bonds, longtime, allies, make, history, first, sitting, president, united, states, visit, tiny, island, state, papua, new, guinea, spotlight, administration, commitment, pacific, threecountry, trip, presents, biden, recently, announced, running, reelection, opportunity, demonstrate, still, eno...  "
      ]
     },
     "execution_count": 23,
     "metadata": {},
     "output_type": "execute_result"
    }
   ],
   "source": [
    "scmp_df.head()"
   ]
  },
  {
   "cell_type": "markdown",
   "metadata": {},
   "source": [
    "# Lematize the text"
   ]
  },
  {
   "cell_type": "code",
   "execution_count": 24,
   "metadata": {
    "execution": {
     "iopub.execute_input": "2023-05-24T23:47:33.832616Z",
     "iopub.status.busy": "2023-05-24T23:47:33.832293Z",
     "iopub.status.idle": "2023-05-24T23:47:33.837119Z",
     "shell.execute_reply": "2023-05-24T23:47:33.836020Z",
     "shell.execute_reply.started": "2023-05-24T23:47:33.832588Z"
    }
   },
   "outputs": [],
   "source": [
    "# initiate lemmatizer\n",
    "lemmatizer = WordNetLemmatizer()"
   ]
  },
  {
   "cell_type": "code",
   "execution_count": 25,
   "metadata": {
    "execution": {
     "iopub.execute_input": "2023-05-24T23:47:33.839286Z",
     "iopub.status.busy": "2023-05-24T23:47:33.838862Z",
     "iopub.status.idle": "2023-05-24T23:47:33.851596Z",
     "shell.execute_reply": "2023-05-24T23:47:33.850479Z",
     "shell.execute_reply.started": "2023-05-24T23:47:33.839249Z"
    }
   },
   "outputs": [],
   "source": [
    "def lemmatize_text(words):\n",
    "    tokens_lem = [lemmatizer.lemmatize(w) for w in words]\n",
    "    return tokens_lem"
   ]
  },
  {
   "cell_type": "code",
   "execution_count": 26,
   "metadata": {
    "execution": {
     "iopub.execute_input": "2023-05-24T23:47:33.853882Z",
     "iopub.status.busy": "2023-05-24T23:47:33.853471Z",
     "iopub.status.idle": "2023-05-24T23:47:34.050972Z",
     "shell.execute_reply": "2023-05-24T23:47:34.049430Z",
     "shell.execute_reply.started": "2023-05-24T23:47:33.853850Z"
    }
   },
   "outputs": [
    {
     "name": "stdout",
     "output_type": "stream",
     "text": [
      "[nltk_data] Downloading package wordnet to /usr/share/nltk_data...\n",
      "[nltk_data]   Package wordnet is already up-to-date!\n"
     ]
    },
    {
     "data": {
      "text/plain": [
       "True"
      ]
     },
     "execution_count": 26,
     "metadata": {},
     "output_type": "execute_result"
    }
   ],
   "source": [
    "nltk.download('wordnet')"
   ]
  },
  {
   "cell_type": "code",
   "execution_count": 27,
   "metadata": {
    "execution": {
     "iopub.execute_input": "2023-05-24T23:47:34.054010Z",
     "iopub.status.busy": "2023-05-24T23:47:34.053257Z",
     "iopub.status.idle": "2023-05-24T23:47:34.061408Z",
     "shell.execute_reply": "2023-05-24T23:47:34.059999Z",
     "shell.execute_reply.started": "2023-05-24T23:47:34.053971Z"
    }
   },
   "outputs": [
    {
     "name": "stdout",
     "output_type": "stream",
     "text": [
      "[nltk_data] Downloading package wordnet to /usr/share/nltk_data...\n",
      "[nltk_data]   Package wordnet is already up-to-date!\n"
     ]
    }
   ],
   "source": [
    "import nltk\n",
    "\n",
    "nltk.download(\"wordnet\")\n",
    "\n",
    "nltk.data.path.append('/kaggle/input')"
   ]
  },
  {
   "cell_type": "code",
   "execution_count": 28,
   "metadata": {
    "execution": {
     "iopub.execute_input": "2023-05-24T23:47:34.063915Z",
     "iopub.status.busy": "2023-05-24T23:47:34.062932Z",
     "iopub.status.idle": "2023-05-24T23:47:35.566994Z",
     "shell.execute_reply": "2023-05-24T23:47:35.565929Z",
     "shell.execute_reply.started": "2023-05-24T23:47:34.063869Z"
    }
   },
   "outputs": [
    {
     "name": "stdout",
     "output_type": "stream",
     "text": [
      "Archive:  /usr/share/nltk_data/corpora/wordnet.zip\n",
      "   creating: /usr/share/nltk_data/corpora/wordnet/\n",
      "  inflating: /usr/share/nltk_data/corpora/wordnet/lexnames  \n",
      "  inflating: /usr/share/nltk_data/corpora/wordnet/data.verb  \n",
      "  inflating: /usr/share/nltk_data/corpora/wordnet/index.adv  \n",
      "  inflating: /usr/share/nltk_data/corpora/wordnet/adv.exc  \n",
      "  inflating: /usr/share/nltk_data/corpora/wordnet/index.verb  \n",
      "  inflating: /usr/share/nltk_data/corpora/wordnet/cntlist.rev  \n",
      "  inflating: /usr/share/nltk_data/corpora/wordnet/data.adj  \n",
      "  inflating: /usr/share/nltk_data/corpora/wordnet/index.adj  \n",
      "  inflating: /usr/share/nltk_data/corpora/wordnet/LICENSE  \n",
      "  inflating: /usr/share/nltk_data/corpora/wordnet/citation.bib  \n",
      "  inflating: /usr/share/nltk_data/corpora/wordnet/noun.exc  \n",
      "  inflating: /usr/share/nltk_data/corpora/wordnet/verb.exc  \n",
      "  inflating: /usr/share/nltk_data/corpora/wordnet/README  \n",
      "  inflating: /usr/share/nltk_data/corpora/wordnet/index.sense  \n",
      "  inflating: /usr/share/nltk_data/corpora/wordnet/data.noun  \n",
      "  inflating: /usr/share/nltk_data/corpora/wordnet/data.adv  \n",
      "  inflating: /usr/share/nltk_data/corpora/wordnet/index.noun  \n",
      "  inflating: /usr/share/nltk_data/corpora/wordnet/adj.exc  \n"
     ]
    }
   ],
   "source": [
    "!unzip /usr/share/nltk_data/corpora/wordnet.zip -d /usr/share/nltk_data/corpora/"
   ]
  },
  {
   "cell_type": "code",
   "execution_count": 29,
   "metadata": {
    "execution": {
     "iopub.execute_input": "2023-05-24T23:47:35.569168Z",
     "iopub.status.busy": "2023-05-24T23:47:35.568778Z",
     "iopub.status.idle": "2023-05-24T23:47:35.574986Z",
     "shell.execute_reply": "2023-05-24T23:47:35.573833Z",
     "shell.execute_reply.started": "2023-05-24T23:47:35.569130Z"
    }
   },
   "outputs": [],
   "source": [
    "#spinarak_df['lem_tokens'] = spinarak_df['filtered_tokens'].apply(lemmatize_text)"
   ]
  },
  {
   "cell_type": "code",
   "execution_count": 30,
   "metadata": {
    "execution": {
     "iopub.execute_input": "2023-05-24T23:47:35.589150Z",
     "iopub.status.busy": "2023-05-24T23:47:35.588631Z",
     "iopub.status.idle": "2023-05-24T23:47:42.203477Z",
     "shell.execute_reply": "2023-05-24T23:47:42.202250Z",
     "shell.execute_reply.started": "2023-05-24T23:47:35.589120Z"
    }
   },
   "outputs": [],
   "source": [
    "scmp_df['lem_tokens'] = scmp_df['filtered_tokens'].apply(lemmatize_text)"
   ]
  },
  {
   "cell_type": "code",
   "execution_count": 31,
   "metadata": {
    "execution": {
     "iopub.execute_input": "2023-05-24T23:47:42.205285Z",
     "iopub.status.busy": "2023-05-24T23:47:42.204919Z",
     "iopub.status.idle": "2023-05-24T23:47:42.243024Z",
     "shell.execute_reply": "2023-05-24T23:47:42.241881Z",
     "shell.execute_reply.started": "2023-05-24T23:47:42.205253Z"
    }
   },
   "outputs": [
    {
     "data": {
      "text/html": [
       "<div>\n",
       "<style scoped>\n",
       "    .dataframe tbody tr th:only-of-type {\n",
       "        vertical-align: middle;\n",
       "    }\n",
       "\n",
       "    .dataframe tbody tr th {\n",
       "        vertical-align: top;\n",
       "    }\n",
       "\n",
       "    .dataframe thead th {\n",
       "        text-align: right;\n",
       "    }\n",
       "</style>\n",
       "<table border=\"1\" class=\"dataframe\">\n",
       "  <thead>\n",
       "    <tr style=\"text-align: right;\">\n",
       "      <th></th>\n",
       "      <th>index</th>\n",
       "      <th>title</th>\n",
       "      <th>summary</th>\n",
       "      <th>url</th>\n",
       "      <th>source</th>\n",
       "      <th>clean_text</th>\n",
       "      <th>tokens</th>\n",
       "      <th>filtered_tokens</th>\n",
       "      <th>lem_tokens</th>\n",
       "    </tr>\n",
       "  </thead>\n",
       "  <tbody>\n",
       "    <tr>\n",
       "      <th>0</th>\n",
       "      <td>Summit a âmajor diplomatic eventâ to boost Chinaâs ties with Central Asia</td>\n",
       "      <td>Leaders of Kazakhstan, Kyrgyzstan, Tajikistan, Turkmenistan and Uzbekistan invited to first China-Central Asia summit\\nPresence of ethnic Russians in the five countries has triggered fears Moscow could target their territory next, analyst says\\n</td>\n",
       "      <td>/news/china/diplomacy/article/3213710/summit-major-diplomatic-event-boost-chinas-ties-central-asian-nations-amid-ukraine-afghanistan</td>\n",
       "      <td>us_china_spider</td>\n",
       "      <td>China is expected to further boost ties with Central Asia when President Xi Jinping hosts his counterparts from the region amid uncertainties stemming from Russiaâs war in Ukraine and increasing hostility from the West. Beijing has hailed the two-day summit of nations in the vast and geo-strategically important neighbouring region on Thursday and Friday as the âfirst major diplomatic event...</td>\n",
       "      <td>china is expected to further boost ties with central asia when president xi jinping hosts his counterparts from the region amid uncertainties stemming from russia s war in ukraine and increasing hostility from the west beijing has hailed the twoday summit of nations in the vast and geostrategically important neighbouring region on thursday and friday as the first major diplomatic event that ch...</td>\n",
       "      <td>[china, is, expected, to, further, boost, ties, with, central, asia, when, president, xi, jinping, hosts, his, counterparts, from, the, region, amid, uncertainties, stemming, from, russia, s, war, in, ukraine, and, increasing, hostility, from, the, west, beijing, has, hailed, the, twoday, summit, of, nations, in, the, vast, and, geostrategically, important, neighbouring, region, on, thursday, ...</td>\n",
       "      <td>[expected, boost, ties, central, asia, president, xi, jinping, hosts, counterparts, region, amid, uncertainties, stemming, russia, war, ukraine, increasing, hostility, west, hailed, twoday, summit, nations, vast, geostrategically, important, neighbouring, region, thursday, friday, first, major, diplomatic, event, hosts, year, meeting, xian, northwestern, province, shaanxi, coincides, leaders, ...</td>\n",
       "      <td>[expected, boost, tie, central, asia, president, xi, jinping, host, counterpart, region, amid, uncertainty, stemming, russia, war, ukraine, increasing, hostility, west, hailed, twoday, summit, nation, vast, geostrategically, important, neighbouring, region, thursday, friday, first, major, diplomatic, event, host, year, meeting, xian, northwestern, province, shaanxi, coincides, leader, summit, ...</td>\n",
       "    </tr>\n",
       "    <tr>\n",
       "      <th>1</th>\n",
       "      <td>US arrests man on charges of acting as unregistered foreign agent for Beijing</td>\n",
       "      <td>Litang Liang, 63, of Massachusetts is accused of reporting to consulate officials on protests in the Boston area against China government actions since 2018.\\n</td>\n",
       "      <td>/news/china/diplomacy/article/3220662/us-arrests-chinese-american-charges-acting-unregistered-foreign-agent-beijing</td>\n",
       "      <td>us_china_spider</td>\n",
       "      <td>A Chinese-American man was arrested last week for allegedly serving as an agent of the Chinese government without notifying the US government, the Department of Justice announced on Monday. Litang Liang, 63, of Brighton, Massachusetts, was accused of providing Chinese officials with information about Boston-area individuals and organisations; leading a counter-protest against anti-Beijing acti...</td>\n",
       "      <td>a chineseamerican man was arrested last week for allegedly serving as an agent of the chinese government without notifying the us government the department of justice announced on monday litang liang of brighton massachusetts was accused of providing chinese officials with information about bostonarea individuals and organisations leading a counterprotest against antibeijing activists and sugg...</td>\n",
       "      <td>[a, chineseamerican, man, was, arrested, last, week, for, allegedly, serving, as, an, agent, of, the, chinese, government, without, notifying, the, us, government, the, department, of, justice, announced, on, monday, litang, liang, of, brighton, massachusetts, was, accused, of, providing, chinese, officials, with, information, about, bostonarea, individuals, and, organisations, leading, a, cou...</td>\n",
       "      <td>[chineseamerican, man, arrested, last, week, allegedly, serving, agent, chinese, government, without, notifying, government, department, justice, announced, monday, litang, liang, brighton, massachusetts, accused, providing, chinese, officials, information, bostonarea, individuals, organisations, leading, counterprotest, antibeijing, activists, suggesting, potential, recruits, ministry, public...</td>\n",
       "      <td>[chineseamerican, man, arrested, last, week, allegedly, serving, agent, chinese, government, without, notifying, government, department, justice, announced, monday, litang, liang, brighton, massachusetts, accused, providing, chinese, official, information, bostonarea, individual, organisation, leading, counterprotest, antibeijing, activist, suggesting, potential, recruit, ministry, public, sec...</td>\n",
       "    </tr>\n",
       "    <tr>\n",
       "      <th>2</th>\n",
       "      <td>US report says China jailed as many as 10,000 religious adherents</td>\n",
       "      <td>Beijing has broadened its efforts to bring all theological activity under Communist Party control, according to annual State Department publication.\\n</td>\n",
       "      <td>/news/china/article/3220659/us-religious-freedom-report-accuses-china-jailing-many-10000-people-repression-campaign</td>\n",
       "      <td>us_china_spider</td>\n",
       "      <td>The US government on Monday accused Beijing of jailing as many as 10,000 or more people in 2022 in a widening campaign of repression against religious belief meant to bring all theological activity under the Chinese Communist Party âs control. The estimate of those imprisoned in the country ranging âfrom the low thousands to over 10,000â is one of many accusations contained in the State ...</td>\n",
       "      <td>the us government on monday accused beijing of jailing as many as or more people in in a widening campaign of repression against religious belief meant to bring all theological activity under the chinese communist party s control the estimate of those imprisoned in the country ranging from the low thousands to over is one of many accusations contained in the state department s international re...</td>\n",
       "      <td>[the, us, government, on, monday, accused, beijing, of, jailing, as, many, as, or, more, people, in, in, a, widening, campaign, of, repression, against, religious, belief, meant, to, bring, all, theological, activity, under, the, chinese, communist, party, s, control, the, estimate, of, those, imprisoned, in, the, country, ranging, from, the, low, thousands, to, over, is, one, of, many, accusa...</td>\n",
       "      <td>[government, monday, accused, jailing, many, people, widening, campaign, repression, religious, belief, meant, bring, theological, activity, chinese, communist, party, control, estimate, imprisoned, country, ranging, low, thousands, one, many, accusations, contained, state, department, international, religious, freedom, report, published, annually, since, covers, nearly, countries, report, sec...</td>\n",
       "      <td>[government, monday, accused, jailing, many, people, widening, campaign, repression, religious, belief, meant, bring, theological, activity, chinese, communist, party, control, estimate, imprisoned, country, ranging, low, thousand, one, many, accusation, contained, state, department, international, religious, freedom, report, published, annually, since, cover, nearly, country, report, section,...</td>\n",
       "    </tr>\n",
       "    <tr>\n",
       "      <th>3</th>\n",
       "      <td>US citizen with Hong Kong residency given life sentence for spying in China</td>\n",
       "      <td>John Shing-wan Leung, 78, was convicted and sentenced in Suzhou court on Monday for committing espionage activities in China.\\n</td>\n",
       "      <td>/news/china/politics/article/3220562/hong-kong-resident-american-passport-sentenced-life-china-after-being-convicted-spying-charges</td>\n",
       "      <td>us_china_spider</td>\n",
       "      <td>A US-based Hong Kong permanent resident â who is believed to have promoted business and cultural exchanges â was sentenced to life in prison on Monday after being convicted on spying charges in China. It comes as China is stepping up efforts targeting spies, especially those from the United States and its allies. But a lack of transparency around national security cases in China and âmut...</td>\n",
       "      <td>a usbased hong kong permanent resident who is believed to have promoted business and cultural exchanges was sentenced to life in prison on monday after being convicted on spying charges in china it comes as china is stepping up efforts targeting spies especially those from the united states and its allies but a lack of transparency around national security cases in china and mutual recriminati...</td>\n",
       "      <td>[a, usbased, hong, kong, permanent, resident, who, is, believed, to, have, promoted, business, and, cultural, exchanges, was, sentenced, to, life, in, prison, on, monday, after, being, convicted, on, spying, charges, in, china, it, comes, as, china, is, stepping, up, efforts, targeting, spies, especially, those, from, the, united, states, and, its, allies, but, a, lack, of, transparency, aroun...</td>\n",
       "      <td>[usbased, permanent, resident, believed, promoted, business, cultural, exchanges, sentenced, life, prison, monday, convicted, spying, charges, comes, stepping, efforts, targeting, spies, especially, united, states, allies, lack, transparency, around, national, security, cases, mutual, recriminations, perceived, espionage, activities, contradict, talk, encouraging, foreign, investment, country,...</td>\n",
       "      <td>[usbased, permanent, resident, believed, promoted, business, cultural, exchange, sentenced, life, prison, monday, convicted, spying, charge, come, stepping, effort, targeting, spy, especially, united, state, ally, lack, transparency, around, national, security, case, mutual, recrimination, perceived, espionage, activity, contradict, talk, encouraging, foreign, investment, country, legal, exper...</td>\n",
       "    </tr>\n",
       "    <tr>\n",
       "      <th>4</th>\n",
       "      <td>ExplainerWhatâs Joe Biden up to on his 8-day trip to the Asia-Pacific?</td>\n",
       "      <td>The 80-year-old will visit a city that the US destroyed with a nuclear bomb and spend an awful lot of time with Indiaâs prime minister as he looks to demonstrate that he still has enough in the tank to handle the gruelling pace of the presidency.\\n</td>\n",
       "      <td>/news/asia/article/3220558/whats-joe-biden-his-eight-day-trip-asia-pacific</td>\n",
       "      <td>us_china_spider</td>\n",
       "      <td>US President Joe Biden has an ambitious agenda when he sets off this week on an eight-day trip to the Indo-Pacific . Heâs looking to tighten bonds with long-time allies, make history as the first sitting president of the United States to visit the tiny island state of Papua New Guinea and spotlight his administrationâs commitment to the Pacific. The three-country trip also presents the 80-...</td>\n",
       "      <td>us president joe biden has an ambitious agenda when he sets off this week on an eightday trip to the indopacific he s looking to tighten bonds with longtime allies make history as the first sitting president of the united states to visit the tiny island state of papua new guinea and spotlight his administration s commitment to the pacific the threecountry trip also presents the biden who recen...</td>\n",
       "      <td>[us, president, joe, biden, has, an, ambitious, agenda, when, he, sets, off, this, week, on, an, eightday, trip, to, the, indopacific, he, s, looking, to, tighten, bonds, with, longtime, allies, make, history, as, the, first, sitting, president, of, the, united, states, to, visit, the, tiny, island, state, of, papua, new, guinea, and, spotlight, his, administration, s, commitment, to, the, pac...</td>\n",
       "      <td>[president, joe, biden, ambitious, agenda, sets, week, eightday, trip, indopacific, looking, tighten, bonds, longtime, allies, make, history, first, sitting, president, united, states, visit, tiny, island, state, papua, new, guinea, spotlight, administration, commitment, pacific, threecountry, trip, presents, biden, recently, announced, running, reelection, opportunity, demonstrate, still, eno...</td>\n",
       "      <td>[president, joe, biden, ambitious, agenda, set, week, eightday, trip, indopacific, looking, tighten, bond, longtime, ally, make, history, first, sitting, president, united, state, visit, tiny, island, state, papua, new, guinea, spotlight, administration, commitment, pacific, threecountry, trip, present, biden, recently, announced, running, reelection, opportunity, demonstrate, still, enough, t...</td>\n",
       "    </tr>\n",
       "  </tbody>\n",
       "</table>\n",
       "</div>"
      ],
      "text/plain": [
       "                                                                             index  \\\n",
       "0  Summit a âmajor diplomatic eventâ to boost Chinaâs ties with Central Asia   \n",
       "1    US arrests man on charges of acting as unregistered foreign agent for Beijing   \n",
       "2                US report says China jailed as many as 10,000 religious adherents   \n",
       "3      US citizen with Hong Kong residency given life sentence for spying in China   \n",
       "4         ExplainerWhatâs Joe Biden up to on his 8-day trip to the Asia-Pacific?   \n",
       "\n",
       "                                                                                                                                                                                                                                                        title  \\\n",
       "0       Leaders of Kazakhstan, Kyrgyzstan, Tajikistan, Turkmenistan and Uzbekistan invited to first China-Central Asia summit\\nPresence of ethnic Russians in the five countries has triggered fears Moscow could target their territory next, analyst says\\n   \n",
       "1                                                                                             Litang Liang, 63, of Massachusetts is accused of reporting to consulate officials on protests in the Boston area against China government actions since 2018.\\n   \n",
       "2                                                                                                      Beijing has broadened its efforts to bring all theological activity under Communist Party control, according to annual State Department publication.\\n   \n",
       "3                                                                                                                             John Shing-wan Leung, 78, was convicted and sentenced in Suzhou court on Monday for committing espionage activities in China.\\n   \n",
       "4  The 80-year-old will visit a city that the US destroyed with a nuclear bomb and spend an awful lot of time with Indiaâs prime minister as he looks to demonstrate that he still has enough in the tank to handle the gruelling pace of the presidency.\\n   \n",
       "\n",
       "                                                                                                                                summary  \\\n",
       "0  /news/china/diplomacy/article/3213710/summit-major-diplomatic-event-boost-chinas-ties-central-asian-nations-amid-ukraine-afghanistan   \n",
       "1                   /news/china/diplomacy/article/3220662/us-arrests-chinese-american-charges-acting-unregistered-foreign-agent-beijing   \n",
       "2                   /news/china/article/3220659/us-religious-freedom-report-accuses-china-jailing-many-10000-people-repression-campaign   \n",
       "3   /news/china/politics/article/3220562/hong-kong-resident-american-passport-sentenced-life-china-after-being-convicted-spying-charges   \n",
       "4                                                            /news/asia/article/3220558/whats-joe-biden-his-eight-day-trip-asia-pacific   \n",
       "\n",
       "               url  \\\n",
       "0  us_china_spider   \n",
       "1  us_china_spider   \n",
       "2  us_china_spider   \n",
       "3  us_china_spider   \n",
       "4  us_china_spider   \n",
       "\n",
       "                                                                                                                                                                                                                                                                                                                                                                                                            source  \\\n",
       "0  China is expected to further boost ties with Central Asia when President Xi Jinping hosts his counterparts from the region amid uncertainties stemming from Russiaâs war in Ukraine and increasing hostility from the West. Beijing has hailed the two-day summit of nations in the vast and geo-strategically important neighbouring region on Thursday and Friday as the âfirst major diplomatic event...   \n",
       "1  A Chinese-American man was arrested last week for allegedly serving as an agent of the Chinese government without notifying the US government, the Department of Justice announced on Monday. Litang Liang, 63, of Brighton, Massachusetts, was accused of providing Chinese officials with information about Boston-area individuals and organisations; leading a counter-protest against anti-Beijing acti...   \n",
       "2  The US government on Monday accused Beijing of jailing as many as 10,000 or more people in 2022 in a widening campaign of repression against religious belief meant to bring all theological activity under the Chinese Communist Party âs control. The estimate of those imprisoned in the country ranging âfrom the low thousands to over 10,000â is one of many accusations contained in the State ...   \n",
       "3  A US-based Hong Kong permanent resident â who is believed to have promoted business and cultural exchanges â was sentenced to life in prison on Monday after being convicted on spying charges in China. It comes as China is stepping up efforts targeting spies, especially those from the United States and its allies. But a lack of transparency around national security cases in China and âmut...   \n",
       "4  US President Joe Biden has an ambitious agenda when he sets off this week on an eight-day trip to the Indo-Pacific . Heâs looking to tighten bonds with long-time allies, make history as the first sitting president of the United States to visit the tiny island state of Papua New Guinea and spotlight his administrationâs commitment to the Pacific. The three-country trip also presents the 80-...   \n",
       "\n",
       "                                                                                                                                                                                                                                                                                                                                                                                                        clean_text  \\\n",
       "0  china is expected to further boost ties with central asia when president xi jinping hosts his counterparts from the region amid uncertainties stemming from russia s war in ukraine and increasing hostility from the west beijing has hailed the twoday summit of nations in the vast and geostrategically important neighbouring region on thursday and friday as the first major diplomatic event that ch...   \n",
       "1  a chineseamerican man was arrested last week for allegedly serving as an agent of the chinese government without notifying the us government the department of justice announced on monday litang liang of brighton massachusetts was accused of providing chinese officials with information about bostonarea individuals and organisations leading a counterprotest against antibeijing activists and sugg...   \n",
       "2  the us government on monday accused beijing of jailing as many as or more people in in a widening campaign of repression against religious belief meant to bring all theological activity under the chinese communist party s control the estimate of those imprisoned in the country ranging from the low thousands to over is one of many accusations contained in the state department s international re...   \n",
       "3  a usbased hong kong permanent resident who is believed to have promoted business and cultural exchanges was sentenced to life in prison on monday after being convicted on spying charges in china it comes as china is stepping up efforts targeting spies especially those from the united states and its allies but a lack of transparency around national security cases in china and mutual recriminati...   \n",
       "4  us president joe biden has an ambitious agenda when he sets off this week on an eightday trip to the indopacific he s looking to tighten bonds with longtime allies make history as the first sitting president of the united states to visit the tiny island state of papua new guinea and spotlight his administration s commitment to the pacific the threecountry trip also presents the biden who recen...   \n",
       "\n",
       "                                                                                                                                                                                                                                                                                                                                                                                                            tokens  \\\n",
       "0  [china, is, expected, to, further, boost, ties, with, central, asia, when, president, xi, jinping, hosts, his, counterparts, from, the, region, amid, uncertainties, stemming, from, russia, s, war, in, ukraine, and, increasing, hostility, from, the, west, beijing, has, hailed, the, twoday, summit, of, nations, in, the, vast, and, geostrategically, important, neighbouring, region, on, thursday, ...   \n",
       "1  [a, chineseamerican, man, was, arrested, last, week, for, allegedly, serving, as, an, agent, of, the, chinese, government, without, notifying, the, us, government, the, department, of, justice, announced, on, monday, litang, liang, of, brighton, massachusetts, was, accused, of, providing, chinese, officials, with, information, about, bostonarea, individuals, and, organisations, leading, a, cou...   \n",
       "2  [the, us, government, on, monday, accused, beijing, of, jailing, as, many, as, or, more, people, in, in, a, widening, campaign, of, repression, against, religious, belief, meant, to, bring, all, theological, activity, under, the, chinese, communist, party, s, control, the, estimate, of, those, imprisoned, in, the, country, ranging, from, the, low, thousands, to, over, is, one, of, many, accusa...   \n",
       "3  [a, usbased, hong, kong, permanent, resident, who, is, believed, to, have, promoted, business, and, cultural, exchanges, was, sentenced, to, life, in, prison, on, monday, after, being, convicted, on, spying, charges, in, china, it, comes, as, china, is, stepping, up, efforts, targeting, spies, especially, those, from, the, united, states, and, its, allies, but, a, lack, of, transparency, aroun...   \n",
       "4  [us, president, joe, biden, has, an, ambitious, agenda, when, he, sets, off, this, week, on, an, eightday, trip, to, the, indopacific, he, s, looking, to, tighten, bonds, with, longtime, allies, make, history, as, the, first, sitting, president, of, the, united, states, to, visit, the, tiny, island, state, of, papua, new, guinea, and, spotlight, his, administration, s, commitment, to, the, pac...   \n",
       "\n",
       "                                                                                                                                                                                                                                                                                                                                                                                                   filtered_tokens  \\\n",
       "0  [expected, boost, ties, central, asia, president, xi, jinping, hosts, counterparts, region, amid, uncertainties, stemming, russia, war, ukraine, increasing, hostility, west, hailed, twoday, summit, nations, vast, geostrategically, important, neighbouring, region, thursday, friday, first, major, diplomatic, event, hosts, year, meeting, xian, northwestern, province, shaanxi, coincides, leaders, ...   \n",
       "1  [chineseamerican, man, arrested, last, week, allegedly, serving, agent, chinese, government, without, notifying, government, department, justice, announced, monday, litang, liang, brighton, massachusetts, accused, providing, chinese, officials, information, bostonarea, individuals, organisations, leading, counterprotest, antibeijing, activists, suggesting, potential, recruits, ministry, public...   \n",
       "2  [government, monday, accused, jailing, many, people, widening, campaign, repression, religious, belief, meant, bring, theological, activity, chinese, communist, party, control, estimate, imprisoned, country, ranging, low, thousands, one, many, accusations, contained, state, department, international, religious, freedom, report, published, annually, since, covers, nearly, countries, report, sec...   \n",
       "3  [usbased, permanent, resident, believed, promoted, business, cultural, exchanges, sentenced, life, prison, monday, convicted, spying, charges, comes, stepping, efforts, targeting, spies, especially, united, states, allies, lack, transparency, around, national, security, cases, mutual, recriminations, perceived, espionage, activities, contradict, talk, encouraging, foreign, investment, country,...   \n",
       "4  [president, joe, biden, ambitious, agenda, sets, week, eightday, trip, indopacific, looking, tighten, bonds, longtime, allies, make, history, first, sitting, president, united, states, visit, tiny, island, state, papua, new, guinea, spotlight, administration, commitment, pacific, threecountry, trip, presents, biden, recently, announced, running, reelection, opportunity, demonstrate, still, eno...   \n",
       "\n",
       "                                                                                                                                                                                                                                                                                                                                                                                                        lem_tokens  \n",
       "0  [expected, boost, tie, central, asia, president, xi, jinping, host, counterpart, region, amid, uncertainty, stemming, russia, war, ukraine, increasing, hostility, west, hailed, twoday, summit, nation, vast, geostrategically, important, neighbouring, region, thursday, friday, first, major, diplomatic, event, host, year, meeting, xian, northwestern, province, shaanxi, coincides, leader, summit, ...  \n",
       "1  [chineseamerican, man, arrested, last, week, allegedly, serving, agent, chinese, government, without, notifying, government, department, justice, announced, monday, litang, liang, brighton, massachusetts, accused, providing, chinese, official, information, bostonarea, individual, organisation, leading, counterprotest, antibeijing, activist, suggesting, potential, recruit, ministry, public, sec...  \n",
       "2  [government, monday, accused, jailing, many, people, widening, campaign, repression, religious, belief, meant, bring, theological, activity, chinese, communist, party, control, estimate, imprisoned, country, ranging, low, thousand, one, many, accusation, contained, state, department, international, religious, freedom, report, published, annually, since, cover, nearly, country, report, section,...  \n",
       "3  [usbased, permanent, resident, believed, promoted, business, cultural, exchange, sentenced, life, prison, monday, convicted, spying, charge, come, stepping, effort, targeting, spy, especially, united, state, ally, lack, transparency, around, national, security, case, mutual, recrimination, perceived, espionage, activity, contradict, talk, encouraging, foreign, investment, country, legal, exper...  \n",
       "4  [president, joe, biden, ambitious, agenda, set, week, eightday, trip, indopacific, looking, tighten, bond, longtime, ally, make, history, first, sitting, president, united, state, visit, tiny, island, state, papua, new, guinea, spotlight, administration, commitment, pacific, threecountry, trip, present, biden, recently, announced, running, reelection, opportunity, demonstrate, still, enough, t...  "
      ]
     },
     "execution_count": 31,
     "metadata": {},
     "output_type": "execute_result"
    }
   ],
   "source": [
    "scmp_df.head()"
   ]
  },
  {
   "cell_type": "markdown",
   "metadata": {},
   "source": [
    "# n-grams"
   ]
  },
  {
   "cell_type": "markdown",
   "metadata": {},
   "source": [
    "## SCMP n-gram"
   ]
  },
  {
   "cell_type": "code",
   "execution_count": 32,
   "metadata": {
    "execution": {
     "iopub.execute_input": "2023-05-24T23:47:42.245632Z",
     "iopub.status.busy": "2023-05-24T23:47:42.244628Z",
     "iopub.status.idle": "2023-05-24T23:48:00.080417Z",
     "shell.execute_reply": "2023-05-24T23:48:00.078876Z",
     "shell.execute_reply.started": "2023-05-24T23:47:42.245584Z"
    }
   },
   "outputs": [],
   "source": [
    "c_vec = CountVectorizer(stop_words=english_stopwords, ngram_range=(2,3))\n",
    "\n",
    "# matrix of ngrams\n",
    "ngrams = c_vec.fit_transform(scmp_df['lem_tokens'].map(' '.join))\n",
    "\n",
    "# count frequency of ngrams\n",
    "count_values = ngrams.toarray().sum(axis=0)\n",
    "\n",
    "# list of ngrams\n",
    "vocab = c_vec.vocabulary_\n",
    "df_ngram = pd.DataFrame(sorted([(count_values[i],k) for k,i in vocab.items()], reverse=True)\n",
    "            ).rename(columns={0: 'frequency', 1:'bigram/trigram'})"
   ]
  },
  {
   "cell_type": "code",
   "execution_count": 33,
   "metadata": {
    "execution": {
     "iopub.execute_input": "2023-05-24T23:48:00.083238Z",
     "iopub.status.busy": "2023-05-24T23:48:00.082729Z",
     "iopub.status.idle": "2023-05-24T23:48:00.089094Z",
     "shell.execute_reply": "2023-05-24T23:48:00.087822Z",
     "shell.execute_reply.started": "2023-05-24T23:48:00.083188Z"
    }
   },
   "outputs": [],
   "source": [
    "# cnt_scmp = Counter()\n",
    "# for text in scmp_df[\"filtered_tokens\"].values:\n",
    "#     for word in text:\n",
    "#         cnt_scmp[word] += 1\n",
    "        \n",
    "# cnt_scmp.most_common(10)"
   ]
  },
  {
   "cell_type": "code",
   "execution_count": 34,
   "metadata": {
    "execution": {
     "iopub.execute_input": "2023-05-24T23:48:00.091545Z",
     "iopub.status.busy": "2023-05-24T23:48:00.091157Z",
     "iopub.status.idle": "2023-05-24T23:48:00.101924Z",
     "shell.execute_reply": "2023-05-24T23:48:00.100790Z",
     "shell.execute_reply.started": "2023-05-24T23:48:00.091511Z"
    }
   },
   "outputs": [],
   "source": [
    "scmp_top30_words = df_ngram.head(30)"
   ]
  },
  {
   "cell_type": "code",
   "execution_count": 35,
   "metadata": {
    "execution": {
     "iopub.execute_input": "2023-05-24T23:48:00.104590Z",
     "iopub.status.busy": "2023-05-24T23:48:00.103355Z",
     "iopub.status.idle": "2023-05-24T23:48:00.625072Z",
     "shell.execute_reply": "2023-05-24T23:48:00.623857Z",
     "shell.execute_reply.started": "2023-05-24T23:48:00.104524Z"
    }
   },
   "outputs": [
    {
     "data": {
      "image/png": "[encoded data removed]",
      "text/plain": [
       "<Figure size 640x480 with 1 Axes>"
      ]
     },
     "metadata": {},
     "output_type": "display_data"
    }
   ],
   "source": [
    "plt.barh(scmp_top30_words['bigram/trigram'], scmp_top30_words['frequency'], color='orange')\n",
    "scmp_top30_words = scmp_top30_words.sort_values(by='frequency', ascending=False)\n",
    "plt.xlabel('Frequency', fontsize=15)\n",
    "plt.ylabel('Bigram/Trigram', fontsize=15)\n",
    "plt.xticks(np.arange(0, 200, step=50))\n",
    "plt.title('Top 30 Frequently Used Bigram/Trigram', fontsize=18)\n",
    "plt.show()"
   ]
  },
  {
   "cell_type": "code",
   "execution_count": 36,
   "metadata": {
    "execution": {
     "iopub.execute_input": "2023-05-24T23:48:00.626592Z",
     "iopub.status.busy": "2023-05-24T23:48:00.626274Z",
     "iopub.status.idle": "2023-05-24T23:48:00.639032Z",
     "shell.execute_reply": "2023-05-24T23:48:00.638119Z",
     "shell.execute_reply.started": "2023-05-24T23:48:00.626565Z"
    }
   },
   "outputs": [
    {
     "data": {
      "text/html": [
       "<div>\n",
       "<style scoped>\n",
       "    .dataframe tbody tr th:only-of-type {\n",
       "        vertical-align: middle;\n",
       "    }\n",
       "\n",
       "    .dataframe tbody tr th {\n",
       "        vertical-align: top;\n",
       "    }\n",
       "\n",
       "    .dataframe thead th {\n",
       "        text-align: right;\n",
       "    }\n",
       "</style>\n",
       "<table border=\"1\" class=\"dataframe\">\n",
       "  <thead>\n",
       "    <tr style=\"text-align: right;\">\n",
       "      <th></th>\n",
       "      <th>frequency</th>\n",
       "      <th>bigram/trigram</th>\n",
       "    </tr>\n",
       "  </thead>\n",
       "  <tbody>\n",
       "    <tr>\n",
       "      <th>0</th>\n",
       "      <td>1351</td>\n",
       "      <td>per cent</td>\n",
       "    </tr>\n",
       "    <tr>\n",
       "      <th>1</th>\n",
       "      <td>1200</td>\n",
       "      <td>united state</td>\n",
       "    </tr>\n",
       "    <tr>\n",
       "      <th>2</th>\n",
       "      <td>804</td>\n",
       "      <td>national security</td>\n",
       "    </tr>\n",
       "    <tr>\n",
       "      <th>3</th>\n",
       "      <td>677</td>\n",
       "      <td>last year</td>\n",
       "    </tr>\n",
       "    <tr>\n",
       "      <th>4</th>\n",
       "      <td>509</td>\n",
       "      <td>joe biden</td>\n",
       "    </tr>\n",
       "    <tr>\n",
       "      <th>5</th>\n",
       "      <td>507</td>\n",
       "      <td>supply chain</td>\n",
       "    </tr>\n",
       "    <tr>\n",
       "      <th>6</th>\n",
       "      <td>485</td>\n",
       "      <td>xi jinping</td>\n",
       "    </tr>\n",
       "    <tr>\n",
       "      <th>7</th>\n",
       "      <td>433</td>\n",
       "      <td>last week</td>\n",
       "    </tr>\n",
       "    <tr>\n",
       "      <th>8</th>\n",
       "      <td>422</td>\n",
       "      <td>south sea</td>\n",
       "    </tr>\n",
       "    <tr>\n",
       "      <th>9</th>\n",
       "      <td>418</td>\n",
       "      <td>president joe biden</td>\n",
       "    </tr>\n",
       "    <tr>\n",
       "      <th>10</th>\n",
       "      <td>418</td>\n",
       "      <td>president joe</td>\n",
       "    </tr>\n",
       "    <tr>\n",
       "      <th>11</th>\n",
       "      <td>398</td>\n",
       "      <td>south korea</td>\n",
       "    </tr>\n",
       "    <tr>\n",
       "      <th>12</th>\n",
       "      <td>395</td>\n",
       "      <td>biden administration</td>\n",
       "    </tr>\n",
       "    <tr>\n",
       "      <th>13</th>\n",
       "      <td>391</td>\n",
       "      <td>last month</td>\n",
       "    </tr>\n",
       "    <tr>\n",
       "      <th>14</th>\n",
       "      <td>382</td>\n",
       "      <td>president xi</td>\n",
       "    </tr>\n",
       "    <tr>\n",
       "      <th>15</th>\n",
       "      <td>351</td>\n",
       "      <td>president xi jinping</td>\n",
       "    </tr>\n",
       "    <tr>\n",
       "      <th>16</th>\n",
       "      <td>345</td>\n",
       "      <td>white house</td>\n",
       "    </tr>\n",
       "    <tr>\n",
       "      <th>17</th>\n",
       "      <td>339</td>\n",
       "      <td>north korea</td>\n",
       "    </tr>\n",
       "    <tr>\n",
       "      <th>18</th>\n",
       "      <td>337</td>\n",
       "      <td>foreign ministry</td>\n",
       "    </tr>\n",
       "    <tr>\n",
       "      <th>19</th>\n",
       "      <td>330</td>\n",
       "      <td>communist party</td>\n",
       "    </tr>\n",
       "    <tr>\n",
       "      <th>20</th>\n",
       "      <td>326</td>\n",
       "      <td>human right</td>\n",
       "    </tr>\n",
       "    <tr>\n",
       "      <th>21</th>\n",
       "      <td>299</td>\n",
       "      <td>secretary state</td>\n",
       "    </tr>\n",
       "    <tr>\n",
       "      <th>22</th>\n",
       "      <td>299</td>\n",
       "      <td>foreign minister</td>\n",
       "    </tr>\n",
       "    <tr>\n",
       "      <th>23</th>\n",
       "      <td>291</td>\n",
       "      <td>two country</td>\n",
       "    </tr>\n",
       "    <tr>\n",
       "      <th>24</th>\n",
       "      <td>255</td>\n",
       "      <td>chinese company</td>\n",
       "    </tr>\n",
       "    <tr>\n",
       "      <th>25</th>\n",
       "      <td>244</td>\n",
       "      <td>chinese government</td>\n",
       "    </tr>\n",
       "    <tr>\n",
       "      <th>26</th>\n",
       "      <td>235</td>\n",
       "      <td>think tank</td>\n",
       "    </tr>\n",
       "    <tr>\n",
       "      <th>27</th>\n",
       "      <td>233</td>\n",
       "      <td>export control</td>\n",
       "    </tr>\n",
       "    <tr>\n",
       "      <th>28</th>\n",
       "      <td>231</td>\n",
       "      <td>chinese foreign</td>\n",
       "    </tr>\n",
       "    <tr>\n",
       "      <th>29</th>\n",
       "      <td>228</td>\n",
       "      <td>house speaker</td>\n",
       "    </tr>\n",
       "  </tbody>\n",
       "</table>\n",
       "</div>"
      ],
      "text/plain": [
       "    frequency        bigram/trigram\n",
       "0        1351              per cent\n",
       "1        1200          united state\n",
       "2         804     national security\n",
       "3         677             last year\n",
       "4         509             joe biden\n",
       "5         507          supply chain\n",
       "6         485            xi jinping\n",
       "7         433             last week\n",
       "8         422             south sea\n",
       "9         418   president joe biden\n",
       "10        418         president joe\n",
       "11        398           south korea\n",
       "12        395  biden administration\n",
       "13        391            last month\n",
       "14        382          president xi\n",
       "15        351  president xi jinping\n",
       "16        345           white house\n",
       "17        339           north korea\n",
       "18        337      foreign ministry\n",
       "19        330       communist party\n",
       "20        326           human right\n",
       "21        299       secretary state\n",
       "22        299      foreign minister\n",
       "23        291           two country\n",
       "24        255       chinese company\n",
       "25        244    chinese government\n",
       "26        235            think tank\n",
       "27        233        export control\n",
       "28        231       chinese foreign\n",
       "29        228         house speaker"
      ]
     },
     "execution_count": 36,
     "metadata": {},
     "output_type": "execute_result"
    }
   ],
   "source": [
    "scmp_top30_words"
   ]
  },
  {
   "cell_type": "code",
   "execution_count": 37,
   "metadata": {
    "execution": {
     "iopub.execute_input": "2023-05-24T23:48:00.641039Z",
     "iopub.status.busy": "2023-05-24T23:48:00.640177Z",
     "iopub.status.idle": "2023-05-24T23:48:08.776517Z",
     "shell.execute_reply": "2023-05-24T23:48:08.775323Z",
     "shell.execute_reply.started": "2023-05-24T23:48:00.641006Z"
    }
   },
   "outputs": [
    {
     "data": {
      "image/png": "[encoded data removed]",
      "text/plain": [
       "<Figure size 800x800 with 1 Axes>"
      ]
     },
     "metadata": {},
     "output_type": "display_data"
    }
   ],
   "source": [
    "# generate a world cloud for exploratory analysis\n",
    "\n",
    "comment_words = \" \"\n",
    "stopwords = english_stopwords\n",
    " \n",
    "# iterate through the csv file\n",
    "for val in scmp_df['lem_tokens']:\n",
    "     \n",
    "    # typecaste each val to string\n",
    "    val = str(val)\n",
    " \n",
    "    tokens = re.findall(r'\\b\\w+\\b', val)\n",
    "     \n",
    "    # Converts each token into lowercase\n",
    "    for i in range(len(tokens)):\n",
    "        tokens[i] = tokens[i].lower()\n",
    "     \n",
    "    comment_words += \" \".join(tokens)\n",
    " \n",
    "wordcloud = WordCloud(width = 800, height = 800,\n",
    "                colormap=\"spring\",\n",
    "                background_color ='white',\n",
    "                stopwords = stopwords,\n",
    "                min_font_size = 10).generate(comment_words)\n",
    " \n",
    "# plot the WordCloud image                      \n",
    "plt.figure(figsize = (8, 8), facecolor = None)\n",
    "plt.imshow(wordcloud)\n",
    "plt.axis(\"off\")\n",
    "plt.tight_layout(pad = 0)\n",
    " \n",
    "plt.show()"
   ]
  },
  {
   "cell_type": "code",
   "execution_count": 38,
   "metadata": {
    "execution": {
     "iopub.execute_input": "2023-05-24T23:48:08.779076Z",
     "iopub.status.busy": "2023-05-24T23:48:08.778011Z",
     "iopub.status.idle": "2023-05-24T23:48:08.800110Z",
     "shell.execute_reply": "2023-05-24T23:48:08.798852Z",
     "shell.execute_reply.started": "2023-05-24T23:48:08.779034Z"
    }
   },
   "outputs": [
    {
     "data": {
      "text/html": [
       "<div>\n",
       "<style scoped>\n",
       "    .dataframe tbody tr th:only-of-type {\n",
       "        vertical-align: middle;\n",
       "    }\n",
       "\n",
       "    .dataframe tbody tr th {\n",
       "        vertical-align: top;\n",
       "    }\n",
       "\n",
       "    .dataframe thead th {\n",
       "        text-align: right;\n",
       "    }\n",
       "</style>\n",
       "<table border=\"1\" class=\"dataframe\">\n",
       "  <thead>\n",
       "    <tr style=\"text-align: right;\">\n",
       "      <th></th>\n",
       "      <th>frequency</th>\n",
       "      <th>bigram/trigram</th>\n",
       "    </tr>\n",
       "  </thead>\n",
       "  <tbody>\n",
       "    <tr>\n",
       "      <th>0</th>\n",
       "      <td>1351</td>\n",
       "      <td>per cent</td>\n",
       "    </tr>\n",
       "    <tr>\n",
       "      <th>1</th>\n",
       "      <td>1200</td>\n",
       "      <td>united state</td>\n",
       "    </tr>\n",
       "    <tr>\n",
       "      <th>2</th>\n",
       "      <td>804</td>\n",
       "      <td>national security</td>\n",
       "    </tr>\n",
       "    <tr>\n",
       "      <th>3</th>\n",
       "      <td>677</td>\n",
       "      <td>last year</td>\n",
       "    </tr>\n",
       "    <tr>\n",
       "      <th>4</th>\n",
       "      <td>509</td>\n",
       "      <td>joe biden</td>\n",
       "    </tr>\n",
       "    <tr>\n",
       "      <th>5</th>\n",
       "      <td>507</td>\n",
       "      <td>supply chain</td>\n",
       "    </tr>\n",
       "    <tr>\n",
       "      <th>6</th>\n",
       "      <td>485</td>\n",
       "      <td>xi jinping</td>\n",
       "    </tr>\n",
       "    <tr>\n",
       "      <th>7</th>\n",
       "      <td>433</td>\n",
       "      <td>last week</td>\n",
       "    </tr>\n",
       "    <tr>\n",
       "      <th>8</th>\n",
       "      <td>422</td>\n",
       "      <td>south sea</td>\n",
       "    </tr>\n",
       "    <tr>\n",
       "      <th>9</th>\n",
       "      <td>418</td>\n",
       "      <td>president joe biden</td>\n",
       "    </tr>\n",
       "    <tr>\n",
       "      <th>10</th>\n",
       "      <td>418</td>\n",
       "      <td>president joe</td>\n",
       "    </tr>\n",
       "    <tr>\n",
       "      <th>11</th>\n",
       "      <td>398</td>\n",
       "      <td>south korea</td>\n",
       "    </tr>\n",
       "    <tr>\n",
       "      <th>12</th>\n",
       "      <td>395</td>\n",
       "      <td>biden administration</td>\n",
       "    </tr>\n",
       "    <tr>\n",
       "      <th>13</th>\n",
       "      <td>391</td>\n",
       "      <td>last month</td>\n",
       "    </tr>\n",
       "    <tr>\n",
       "      <th>14</th>\n",
       "      <td>382</td>\n",
       "      <td>president xi</td>\n",
       "    </tr>\n",
       "    <tr>\n",
       "      <th>15</th>\n",
       "      <td>351</td>\n",
       "      <td>president xi jinping</td>\n",
       "    </tr>\n",
       "    <tr>\n",
       "      <th>16</th>\n",
       "      <td>345</td>\n",
       "      <td>white house</td>\n",
       "    </tr>\n",
       "    <tr>\n",
       "      <th>17</th>\n",
       "      <td>339</td>\n",
       "      <td>north korea</td>\n",
       "    </tr>\n",
       "    <tr>\n",
       "      <th>18</th>\n",
       "      <td>337</td>\n",
       "      <td>foreign ministry</td>\n",
       "    </tr>\n",
       "    <tr>\n",
       "      <th>19</th>\n",
       "      <td>330</td>\n",
       "      <td>communist party</td>\n",
       "    </tr>\n",
       "    <tr>\n",
       "      <th>20</th>\n",
       "      <td>326</td>\n",
       "      <td>human right</td>\n",
       "    </tr>\n",
       "    <tr>\n",
       "      <th>21</th>\n",
       "      <td>299</td>\n",
       "      <td>secretary state</td>\n",
       "    </tr>\n",
       "    <tr>\n",
       "      <th>22</th>\n",
       "      <td>299</td>\n",
       "      <td>foreign minister</td>\n",
       "    </tr>\n",
       "    <tr>\n",
       "      <th>23</th>\n",
       "      <td>291</td>\n",
       "      <td>two country</td>\n",
       "    </tr>\n",
       "    <tr>\n",
       "      <th>24</th>\n",
       "      <td>255</td>\n",
       "      <td>chinese company</td>\n",
       "    </tr>\n",
       "    <tr>\n",
       "      <th>25</th>\n",
       "      <td>244</td>\n",
       "      <td>chinese government</td>\n",
       "    </tr>\n",
       "    <tr>\n",
       "      <th>26</th>\n",
       "      <td>235</td>\n",
       "      <td>think tank</td>\n",
       "    </tr>\n",
       "    <tr>\n",
       "      <th>27</th>\n",
       "      <td>233</td>\n",
       "      <td>export control</td>\n",
       "    </tr>\n",
       "    <tr>\n",
       "      <th>28</th>\n",
       "      <td>231</td>\n",
       "      <td>chinese foreign</td>\n",
       "    </tr>\n",
       "    <tr>\n",
       "      <th>29</th>\n",
       "      <td>228</td>\n",
       "      <td>house speaker</td>\n",
       "    </tr>\n",
       "    <tr>\n",
       "      <th>30</th>\n",
       "      <td>219</td>\n",
       "      <td>antony blinken</td>\n",
       "    </tr>\n",
       "    <tr>\n",
       "      <th>31</th>\n",
       "      <td>218</td>\n",
       "      <td>new york</td>\n",
       "    </tr>\n",
       "    <tr>\n",
       "      <th>32</th>\n",
       "      <td>214</td>\n",
       "      <td>prime minister</td>\n",
       "    </tr>\n",
       "    <tr>\n",
       "      <th>33</th>\n",
       "      <td>208</td>\n",
       "      <td>state department</td>\n",
       "    </tr>\n",
       "    <tr>\n",
       "      <th>34</th>\n",
       "      <td>207</td>\n",
       "      <td>saudi arabia</td>\n",
       "    </tr>\n",
       "    <tr>\n",
       "      <th>35</th>\n",
       "      <td>205</td>\n",
       "      <td>state antony blinken</td>\n",
       "    </tr>\n",
       "    <tr>\n",
       "      <th>36</th>\n",
       "      <td>205</td>\n",
       "      <td>state antony</td>\n",
       "    </tr>\n",
       "    <tr>\n",
       "      <th>37</th>\n",
       "      <td>205</td>\n",
       "      <td>secretary state antony</td>\n",
       "    </tr>\n",
       "    <tr>\n",
       "      <th>38</th>\n",
       "      <td>189</td>\n",
       "      <td>chinese president</td>\n",
       "    </tr>\n",
       "    <tr>\n",
       "      <th>39</th>\n",
       "      <td>187</td>\n",
       "      <td>climate change</td>\n",
       "    </tr>\n",
       "    <tr>\n",
       "      <th>40</th>\n",
       "      <td>185</td>\n",
       "      <td>foreign policy</td>\n",
       "    </tr>\n",
       "    <tr>\n",
       "      <th>41</th>\n",
       "      <td>179</td>\n",
       "      <td>donald trump</td>\n",
       "    </tr>\n",
       "    <tr>\n",
       "      <th>42</th>\n",
       "      <td>173</td>\n",
       "      <td>nancy pelosi</td>\n",
       "    </tr>\n",
       "    <tr>\n",
       "      <th>43</th>\n",
       "      <td>173</td>\n",
       "      <td>chinese president xi</td>\n",
       "    </tr>\n",
       "    <tr>\n",
       "      <th>44</th>\n",
       "      <td>167</td>\n",
       "      <td>two side</td>\n",
       "    </tr>\n",
       "    <tr>\n",
       "      <th>45</th>\n",
       "      <td>164</td>\n",
       "      <td>war ukraine</td>\n",
       "    </tr>\n",
       "    <tr>\n",
       "      <th>46</th>\n",
       "      <td>163</td>\n",
       "      <td>southeast asia</td>\n",
       "    </tr>\n",
       "    <tr>\n",
       "      <th>47</th>\n",
       "      <td>158</td>\n",
       "      <td>recent year</td>\n",
       "    </tr>\n",
       "    <tr>\n",
       "      <th>48</th>\n",
       "      <td>156</td>\n",
       "      <td>chinese foreign ministry</td>\n",
       "    </tr>\n",
       "    <tr>\n",
       "      <th>49</th>\n",
       "      <td>155</td>\n",
       "      <td>southeast asian</td>\n",
       "    </tr>\n",
       "    <tr>\n",
       "      <th>50</th>\n",
       "      <td>148</td>\n",
       "      <td>invasion ukraine</td>\n",
       "    </tr>\n",
       "    <tr>\n",
       "      <th>51</th>\n",
       "      <td>147</td>\n",
       "      <td>air force</td>\n",
       "    </tr>\n",
       "    <tr>\n",
       "      <th>52</th>\n",
       "      <td>145</td>\n",
       "      <td>security council</td>\n",
       "    </tr>\n",
       "    <tr>\n",
       "      <th>53</th>\n",
       "      <td>144</td>\n",
       "      <td>spy balloon</td>\n",
       "    </tr>\n",
       "    <tr>\n",
       "      <th>54</th>\n",
       "      <td>144</td>\n",
       "      <td>next year</td>\n",
       "    </tr>\n",
       "    <tr>\n",
       "      <th>55</th>\n",
       "      <td>143</td>\n",
       "      <td>middle east</td>\n",
       "    </tr>\n",
       "    <tr>\n",
       "      <th>56</th>\n",
       "      <td>142</td>\n",
       "      <td>uschina relation</td>\n",
       "    </tr>\n",
       "    <tr>\n",
       "      <th>57</th>\n",
       "      <td>141</td>\n",
       "      <td>first time</td>\n",
       "    </tr>\n",
       "    <tr>\n",
       "      <th>58</th>\n",
       "      <td>139</td>\n",
       "      <td>south korean</td>\n",
       "    </tr>\n",
       "    <tr>\n",
       "      <th>59</th>\n",
       "      <td>139</td>\n",
       "      <td>party congress</td>\n",
       "    </tr>\n",
       "    <tr>\n",
       "      <th>60</th>\n",
       "      <td>138</td>\n",
       "      <td>speaker nancy pelosi</td>\n",
       "    </tr>\n",
       "    <tr>\n",
       "      <th>61</th>\n",
       "      <td>138</td>\n",
       "      <td>speaker nancy</td>\n",
       "    </tr>\n",
       "    <tr>\n",
       "      <th>62</th>\n",
       "      <td>138</td>\n",
       "      <td>chinese communist</td>\n",
       "    </tr>\n",
       "    <tr>\n",
       "      <th>63</th>\n",
       "      <td>137</td>\n",
       "      <td>people liberation</td>\n",
       "    </tr>\n",
       "    <tr>\n",
       "      <th>64</th>\n",
       "      <td>136</td>\n",
       "      <td>people liberation army</td>\n",
       "    </tr>\n",
       "    <tr>\n",
       "      <th>65</th>\n",
       "      <td>136</td>\n",
       "      <td>liberation army</td>\n",
       "    </tr>\n",
       "    <tr>\n",
       "      <th>66</th>\n",
       "      <td>133</td>\n",
       "      <td>foreign affair</td>\n",
       "    </tr>\n",
       "    <tr>\n",
       "      <th>67</th>\n",
       "      <td>132</td>\n",
       "      <td>european union</td>\n",
       "    </tr>\n",
       "    <tr>\n",
       "      <th>68</th>\n",
       "      <td>131</td>\n",
       "      <td>chinese balloon</td>\n",
       "    </tr>\n",
       "    <tr>\n",
       "      <th>69</th>\n",
       "      <td>130</td>\n",
       "      <td>chinese communist party</td>\n",
       "    </tr>\n",
       "    <tr>\n",
       "      <th>70</th>\n",
       "      <td>129</td>\n",
       "      <td>semiconductor industry</td>\n",
       "    </tr>\n",
       "    <tr>\n",
       "      <th>71</th>\n",
       "      <td>127</td>\n",
       "      <td>former president</td>\n",
       "    </tr>\n",
       "    <tr>\n",
       "      <th>72</th>\n",
       "      <td>125</td>\n",
       "      <td>commerce department</td>\n",
       "    </tr>\n",
       "    <tr>\n",
       "      <th>73</th>\n",
       "      <td>124</td>\n",
       "      <td>chinese military</td>\n",
       "    </tr>\n",
       "    <tr>\n",
       "      <th>74</th>\n",
       "      <td>124</td>\n",
       "      <td>additional reporting</td>\n",
       "    </tr>\n",
       "    <tr>\n",
       "      <th>75</th>\n",
       "      <td>122</td>\n",
       "      <td>international study</td>\n",
       "    </tr>\n",
       "    <tr>\n",
       "      <th>76</th>\n",
       "      <td>122</td>\n",
       "      <td>cold war</td>\n",
       "    </tr>\n",
       "    <tr>\n",
       "      <th>77</th>\n",
       "      <td>121</td>\n",
       "      <td>two year</td>\n",
       "    </tr>\n",
       "    <tr>\n",
       "      <th>78</th>\n",
       "      <td>121</td>\n",
       "      <td>selfruled island</td>\n",
       "    </tr>\n",
       "    <tr>\n",
       "      <th>79</th>\n",
       "      <td>121</td>\n",
       "      <td>earlier month</td>\n",
       "    </tr>\n",
       "    <tr>\n",
       "      <th>80</th>\n",
       "      <td>120</td>\n",
       "      <td>qin gang</td>\n",
       "    </tr>\n",
       "    <tr>\n",
       "      <th>81</th>\n",
       "      <td>119</td>\n",
       "      <td>security law</td>\n",
       "    </tr>\n",
       "    <tr>\n",
       "      <th>82</th>\n",
       "      <td>117</td>\n",
       "      <td>wang yi</td>\n",
       "    </tr>\n",
       "    <tr>\n",
       "      <th>83</th>\n",
       "      <td>116</td>\n",
       "      <td>social medium</td>\n",
       "    </tr>\n",
       "    <tr>\n",
       "      <th>84</th>\n",
       "      <td>116</td>\n",
       "      <td>house speaker nancy</td>\n",
       "    </tr>\n",
       "    <tr>\n",
       "      <th>85</th>\n",
       "      <td>115</td>\n",
       "      <td>peace stability</td>\n",
       "    </tr>\n",
       "    <tr>\n",
       "      <th>86</th>\n",
       "      <td>114</td>\n",
       "      <td>three year</td>\n",
       "    </tr>\n",
       "    <tr>\n",
       "      <th>87</th>\n",
       "      <td>114</td>\n",
       "      <td>russia invasion</td>\n",
       "    </tr>\n",
       "    <tr>\n",
       "      <th>88</th>\n",
       "      <td>114</td>\n",
       "      <td>country including</td>\n",
       "    </tr>\n",
       "    <tr>\n",
       "      <th>89</th>\n",
       "      <td>113</td>\n",
       "      <td>science technology</td>\n",
       "    </tr>\n",
       "    <tr>\n",
       "      <th>90</th>\n",
       "      <td>109</td>\n",
       "      <td>pacific island</td>\n",
       "    </tr>\n",
       "    <tr>\n",
       "      <th>91</th>\n",
       "      <td>109</td>\n",
       "      <td>national security law</td>\n",
       "    </tr>\n",
       "    <tr>\n",
       "      <th>92</th>\n",
       "      <td>107</td>\n",
       "      <td>ukraine war</td>\n",
       "    </tr>\n",
       "    <tr>\n",
       "      <th>93</th>\n",
       "      <td>107</td>\n",
       "      <td>chip maker</td>\n",
       "    </tr>\n",
       "    <tr>\n",
       "      <th>94</th>\n",
       "      <td>107</td>\n",
       "      <td>belt road</td>\n",
       "    </tr>\n",
       "    <tr>\n",
       "      <th>95</th>\n",
       "      <td>106</td>\n",
       "      <td>zerocovid policy</td>\n",
       "    </tr>\n",
       "    <tr>\n",
       "      <th>96</th>\n",
       "      <td>106</td>\n",
       "      <td>pelosi visit</td>\n",
       "    </tr>\n",
       "    <tr>\n",
       "      <th>97</th>\n",
       "      <td>104</td>\n",
       "      <td>chinese official</td>\n",
       "    </tr>\n",
       "    <tr>\n",
       "      <th>98</th>\n",
       "      <td>103</td>\n",
       "      <td>president donald trump</td>\n",
       "    </tr>\n",
       "    <tr>\n",
       "      <th>99</th>\n",
       "      <td>103</td>\n",
       "      <td>president donald</td>\n",
       "    </tr>\n",
       "  </tbody>\n",
       "</table>\n",
       "</div>"
      ],
      "text/plain": [
       "    frequency            bigram/trigram\n",
       "0        1351                  per cent\n",
       "1        1200              united state\n",
       "2         804         national security\n",
       "3         677                 last year\n",
       "4         509                 joe biden\n",
       "5         507              supply chain\n",
       "6         485                xi jinping\n",
       "7         433                 last week\n",
       "8         422                 south sea\n",
       "9         418       president joe biden\n",
       "10        418             president joe\n",
       "11        398               south korea\n",
       "12        395      biden administration\n",
       "13        391                last month\n",
       "14        382              president xi\n",
       "15        351      president xi jinping\n",
       "16        345               white house\n",
       "17        339               north korea\n",
       "18        337          foreign ministry\n",
       "19        330           communist party\n",
       "20        326               human right\n",
       "21        299           secretary state\n",
       "22        299          foreign minister\n",
       "23        291               two country\n",
       "24        255           chinese company\n",
       "25        244        chinese government\n",
       "26        235                think tank\n",
       "27        233            export control\n",
       "28        231           chinese foreign\n",
       "29        228             house speaker\n",
       "30        219            antony blinken\n",
       "31        218                  new york\n",
       "32        214            prime minister\n",
       "33        208          state department\n",
       "34        207              saudi arabia\n",
       "35        205      state antony blinken\n",
       "36        205              state antony\n",
       "37        205    secretary state antony\n",
       "38        189         chinese president\n",
       "39        187            climate change\n",
       "40        185            foreign policy\n",
       "41        179              donald trump\n",
       "42        173              nancy pelosi\n",
       "43        173      chinese president xi\n",
       "44        167                  two side\n",
       "45        164               war ukraine\n",
       "46        163            southeast asia\n",
       "47        158               recent year\n",
       "48        156  chinese foreign ministry\n",
       "49        155           southeast asian\n",
       "50        148          invasion ukraine\n",
       "51        147                 air force\n",
       "52        145          security council\n",
       "53        144               spy balloon\n",
       "54        144                 next year\n",
       "55        143               middle east\n",
       "56        142          uschina relation\n",
       "57        141                first time\n",
       "58        139              south korean\n",
       "59        139            party congress\n",
       "60        138      speaker nancy pelosi\n",
       "61        138             speaker nancy\n",
       "62        138         chinese communist\n",
       "63        137         people liberation\n",
       "64        136    people liberation army\n",
       "65        136           liberation army\n",
       "66        133            foreign affair\n",
       "67        132            european union\n",
       "68        131           chinese balloon\n",
       "69        130   chinese communist party\n",
       "70        129    semiconductor industry\n",
       "71        127          former president\n",
       "72        125       commerce department\n",
       "73        124          chinese military\n",
       "74        124      additional reporting\n",
       "75        122       international study\n",
       "76        122                  cold war\n",
       "77        121                  two year\n",
       "78        121          selfruled island\n",
       "79        121             earlier month\n",
       "80        120                  qin gang\n",
       "81        119              security law\n",
       "82        117                   wang yi\n",
       "83        116             social medium\n",
       "84        116       house speaker nancy\n",
       "85        115           peace stability\n",
       "86        114                three year\n",
       "87        114           russia invasion\n",
       "88        114         country including\n",
       "89        113        science technology\n",
       "90        109            pacific island\n",
       "91        109     national security law\n",
       "92        107               ukraine war\n",
       "93        107                chip maker\n",
       "94        107                 belt road\n",
       "95        106          zerocovid policy\n",
       "96        106              pelosi visit\n",
       "97        104          chinese official\n",
       "98        103    president donald trump\n",
       "99        103          president donald"
      ]
     },
     "execution_count": 38,
     "metadata": {},
     "output_type": "execute_result"
    }
   ],
   "source": [
    "df_ngram.head(100)"
   ]
  },
  {
   "cell_type": "markdown",
   "metadata": {},
   "source": [
    "## N-gram"
   ]
  },
  {
   "cell_type": "code",
   "execution_count": 39,
   "metadata": {
    "execution": {
     "iopub.execute_input": "2023-05-24T23:48:08.802588Z",
     "iopub.status.busy": "2023-05-24T23:48:08.802065Z",
     "iopub.status.idle": "2023-05-24T23:48:08.855323Z",
     "shell.execute_reply": "2023-05-24T23:48:08.853096Z",
     "shell.execute_reply.started": "2023-05-24T23:48:08.802544Z"
    }
   },
   "outputs": [
    {
     "data": {
      "text/html": [
       "<div>\n",
       "<style scoped>\n",
       "    .dataframe tbody tr th:only-of-type {\n",
       "        vertical-align: middle;\n",
       "    }\n",
       "\n",
       "    .dataframe tbody tr th {\n",
       "        vertical-align: top;\n",
       "    }\n",
       "\n",
       "    .dataframe thead th {\n",
       "        text-align: right;\n",
       "    }\n",
       "</style>\n",
       "<table border=\"1\" class=\"dataframe\">\n",
       "  <thead>\n",
       "    <tr style=\"text-align: right;\">\n",
       "      <th></th>\n",
       "      <th>index</th>\n",
       "      <th>title</th>\n",
       "      <th>summary</th>\n",
       "      <th>url</th>\n",
       "      <th>source</th>\n",
       "      <th>clean_text</th>\n",
       "      <th>tokens</th>\n",
       "      <th>filtered_tokens</th>\n",
       "      <th>lem_tokens</th>\n",
       "    </tr>\n",
       "  </thead>\n",
       "  <tbody>\n",
       "    <tr>\n",
       "      <th>0</th>\n",
       "      <td>Summit a âmajor diplomatic eventâ to boost Chinaâs ties with Central Asia</td>\n",
       "      <td>Leaders of Kazakhstan, Kyrgyzstan, Tajikistan, Turkmenistan and Uzbekistan invited to first China-Central Asia summit\\nPresence of ethnic Russians in the five countries has triggered fears Moscow could target their territory next, analyst says\\n</td>\n",
       "      <td>/news/china/diplomacy/article/3213710/summit-major-diplomatic-event-boost-chinas-ties-central-asian-nations-amid-ukraine-afghanistan</td>\n",
       "      <td>us_china_spider</td>\n",
       "      <td>China is expected to further boost ties with Central Asia when President Xi Jinping hosts his counterparts from the region amid uncertainties stemming from Russiaâs war in Ukraine and increasing hostility from the West. Beijing has hailed the two-day summit of nations in the vast and geo-strategically important neighbouring region on Thursday and Friday as the âfirst major diplomatic event...</td>\n",
       "      <td>china is expected to further boost ties with central asia when president xi jinping hosts his counterparts from the region amid uncertainties stemming from russia s war in ukraine and increasing hostility from the west beijing has hailed the twoday summit of nations in the vast and geostrategically important neighbouring region on thursday and friday as the first major diplomatic event that ch...</td>\n",
       "      <td>[china, is, expected, to, further, boost, ties, with, central, asia, when, president, xi, jinping, hosts, his, counterparts, from, the, region, amid, uncertainties, stemming, from, russia, s, war, in, ukraine, and, increasing, hostility, from, the, west, beijing, has, hailed, the, twoday, summit, of, nations, in, the, vast, and, geostrategically, important, neighbouring, region, on, thursday, ...</td>\n",
       "      <td>[expected, boost, ties, central, asia, president, xi, jinping, hosts, counterparts, region, amid, uncertainties, stemming, russia, war, ukraine, increasing, hostility, west, hailed, twoday, summit, nations, vast, geostrategically, important, neighbouring, region, thursday, friday, first, major, diplomatic, event, hosts, year, meeting, xian, northwestern, province, shaanxi, coincides, leaders, ...</td>\n",
       "      <td>[expected, boost, tie, central, asia, president, xi, jinping, host, counterpart, region, amid, uncertainty, stemming, russia, war, ukraine, increasing, hostility, west, hailed, twoday, summit, nation, vast, geostrategically, important, neighbouring, region, thursday, friday, first, major, diplomatic, event, host, year, meeting, xian, northwestern, province, shaanxi, coincides, leader, summit, ...</td>\n",
       "    </tr>\n",
       "    <tr>\n",
       "      <th>1</th>\n",
       "      <td>US arrests man on charges of acting as unregistered foreign agent for Beijing</td>\n",
       "      <td>Litang Liang, 63, of Massachusetts is accused of reporting to consulate officials on protests in the Boston area against China government actions since 2018.\\n</td>\n",
       "      <td>/news/china/diplomacy/article/3220662/us-arrests-chinese-american-charges-acting-unregistered-foreign-agent-beijing</td>\n",
       "      <td>us_china_spider</td>\n",
       "      <td>A Chinese-American man was arrested last week for allegedly serving as an agent of the Chinese government without notifying the US government, the Department of Justice announced on Monday. Litang Liang, 63, of Brighton, Massachusetts, was accused of providing Chinese officials with information about Boston-area individuals and organisations; leading a counter-protest against anti-Beijing acti...</td>\n",
       "      <td>a chineseamerican man was arrested last week for allegedly serving as an agent of the chinese government without notifying the us government the department of justice announced on monday litang liang of brighton massachusetts was accused of providing chinese officials with information about bostonarea individuals and organisations leading a counterprotest against antibeijing activists and sugg...</td>\n",
       "      <td>[a, chineseamerican, man, was, arrested, last, week, for, allegedly, serving, as, an, agent, of, the, chinese, government, without, notifying, the, us, government, the, department, of, justice, announced, on, monday, litang, liang, of, brighton, massachusetts, was, accused, of, providing, chinese, officials, with, information, about, bostonarea, individuals, and, organisations, leading, a, cou...</td>\n",
       "      <td>[chineseamerican, man, arrested, last, week, allegedly, serving, agent, chinese, government, without, notifying, government, department, justice, announced, monday, litang, liang, brighton, massachusetts, accused, providing, chinese, officials, information, bostonarea, individuals, organisations, leading, counterprotest, antibeijing, activists, suggesting, potential, recruits, ministry, public...</td>\n",
       "      <td>[chineseamerican, man, arrested, last, week, allegedly, serving, agent, chinese, government, without, notifying, government, department, justice, announced, monday, litang, liang, brighton, massachusetts, accused, providing, chinese, official, information, bostonarea, individual, organisation, leading, counterprotest, antibeijing, activist, suggesting, potential, recruit, ministry, public, sec...</td>\n",
       "    </tr>\n",
       "    <tr>\n",
       "      <th>2</th>\n",
       "      <td>US report says China jailed as many as 10,000 religious adherents</td>\n",
       "      <td>Beijing has broadened its efforts to bring all theological activity under Communist Party control, according to annual State Department publication.\\n</td>\n",
       "      <td>/news/china/article/3220659/us-religious-freedom-report-accuses-china-jailing-many-10000-people-repression-campaign</td>\n",
       "      <td>us_china_spider</td>\n",
       "      <td>The US government on Monday accused Beijing of jailing as many as 10,000 or more people in 2022 in a widening campaign of repression against religious belief meant to bring all theological activity under the Chinese Communist Party âs control. The estimate of those imprisoned in the country ranging âfrom the low thousands to over 10,000â is one of many accusations contained in the State ...</td>\n",
       "      <td>the us government on monday accused beijing of jailing as many as or more people in in a widening campaign of repression against religious belief meant to bring all theological activity under the chinese communist party s control the estimate of those imprisoned in the country ranging from the low thousands to over is one of many accusations contained in the state department s international re...</td>\n",
       "      <td>[the, us, government, on, monday, accused, beijing, of, jailing, as, many, as, or, more, people, in, in, a, widening, campaign, of, repression, against, religious, belief, meant, to, bring, all, theological, activity, under, the, chinese, communist, party, s, control, the, estimate, of, those, imprisoned, in, the, country, ranging, from, the, low, thousands, to, over, is, one, of, many, accusa...</td>\n",
       "      <td>[government, monday, accused, jailing, many, people, widening, campaign, repression, religious, belief, meant, bring, theological, activity, chinese, communist, party, control, estimate, imprisoned, country, ranging, low, thousands, one, many, accusations, contained, state, department, international, religious, freedom, report, published, annually, since, covers, nearly, countries, report, sec...</td>\n",
       "      <td>[government, monday, accused, jailing, many, people, widening, campaign, repression, religious, belief, meant, bring, theological, activity, chinese, communist, party, control, estimate, imprisoned, country, ranging, low, thousand, one, many, accusation, contained, state, department, international, religious, freedom, report, published, annually, since, cover, nearly, country, report, section,...</td>\n",
       "    </tr>\n",
       "    <tr>\n",
       "      <th>3</th>\n",
       "      <td>US citizen with Hong Kong residency given life sentence for spying in China</td>\n",
       "      <td>John Shing-wan Leung, 78, was convicted and sentenced in Suzhou court on Monday for committing espionage activities in China.\\n</td>\n",
       "      <td>/news/china/politics/article/3220562/hong-kong-resident-american-passport-sentenced-life-china-after-being-convicted-spying-charges</td>\n",
       "      <td>us_china_spider</td>\n",
       "      <td>A US-based Hong Kong permanent resident â who is believed to have promoted business and cultural exchanges â was sentenced to life in prison on Monday after being convicted on spying charges in China. It comes as China is stepping up efforts targeting spies, especially those from the United States and its allies. But a lack of transparency around national security cases in China and âmut...</td>\n",
       "      <td>a usbased hong kong permanent resident who is believed to have promoted business and cultural exchanges was sentenced to life in prison on monday after being convicted on spying charges in china it comes as china is stepping up efforts targeting spies especially those from the united states and its allies but a lack of transparency around national security cases in china and mutual recriminati...</td>\n",
       "      <td>[a, usbased, hong, kong, permanent, resident, who, is, believed, to, have, promoted, business, and, cultural, exchanges, was, sentenced, to, life, in, prison, on, monday, after, being, convicted, on, spying, charges, in, china, it, comes, as, china, is, stepping, up, efforts, targeting, spies, especially, those, from, the, united, states, and, its, allies, but, a, lack, of, transparency, aroun...</td>\n",
       "      <td>[usbased, permanent, resident, believed, promoted, business, cultural, exchanges, sentenced, life, prison, monday, convicted, spying, charges, comes, stepping, efforts, targeting, spies, especially, united, states, allies, lack, transparency, around, national, security, cases, mutual, recriminations, perceived, espionage, activities, contradict, talk, encouraging, foreign, investment, country,...</td>\n",
       "      <td>[usbased, permanent, resident, believed, promoted, business, cultural, exchange, sentenced, life, prison, monday, convicted, spying, charge, come, stepping, effort, targeting, spy, especially, united, state, ally, lack, transparency, around, national, security, case, mutual, recrimination, perceived, espionage, activity, contradict, talk, encouraging, foreign, investment, country, legal, exper...</td>\n",
       "    </tr>\n",
       "    <tr>\n",
       "      <th>4</th>\n",
       "      <td>ExplainerWhatâs Joe Biden up to on his 8-day trip to the Asia-Pacific?</td>\n",
       "      <td>The 80-year-old will visit a city that the US destroyed with a nuclear bomb and spend an awful lot of time with Indiaâs prime minister as he looks to demonstrate that he still has enough in the tank to handle the gruelling pace of the presidency.\\n</td>\n",
       "      <td>/news/asia/article/3220558/whats-joe-biden-his-eight-day-trip-asia-pacific</td>\n",
       "      <td>us_china_spider</td>\n",
       "      <td>US President Joe Biden has an ambitious agenda when he sets off this week on an eight-day trip to the Indo-Pacific . Heâs looking to tighten bonds with long-time allies, make history as the first sitting president of the United States to visit the tiny island state of Papua New Guinea and spotlight his administrationâs commitment to the Pacific. The three-country trip also presents the 80-...</td>\n",
       "      <td>us president joe biden has an ambitious agenda when he sets off this week on an eightday trip to the indopacific he s looking to tighten bonds with longtime allies make history as the first sitting president of the united states to visit the tiny island state of papua new guinea and spotlight his administration s commitment to the pacific the threecountry trip also presents the biden who recen...</td>\n",
       "      <td>[us, president, joe, biden, has, an, ambitious, agenda, when, he, sets, off, this, week, on, an, eightday, trip, to, the, indopacific, he, s, looking, to, tighten, bonds, with, longtime, allies, make, history, as, the, first, sitting, president, of, the, united, states, to, visit, the, tiny, island, state, of, papua, new, guinea, and, spotlight, his, administration, s, commitment, to, the, pac...</td>\n",
       "      <td>[president, joe, biden, ambitious, agenda, sets, week, eightday, trip, indopacific, looking, tighten, bonds, longtime, allies, make, history, first, sitting, president, united, states, visit, tiny, island, state, papua, new, guinea, spotlight, administration, commitment, pacific, threecountry, trip, presents, biden, recently, announced, running, reelection, opportunity, demonstrate, still, eno...</td>\n",
       "      <td>[president, joe, biden, ambitious, agenda, set, week, eightday, trip, indopacific, looking, tighten, bond, longtime, ally, make, history, first, sitting, president, united, state, visit, tiny, island, state, papua, new, guinea, spotlight, administration, commitment, pacific, threecountry, trip, present, biden, recently, announced, running, reelection, opportunity, demonstrate, still, enough, t...</td>\n",
       "    </tr>\n",
       "  </tbody>\n",
       "</table>\n",
       "</div>"
      ],
      "text/plain": [
       "                                                                             index  \\\n",
       "0  Summit a âmajor diplomatic eventâ to boost Chinaâs ties with Central Asia   \n",
       "1    US arrests man on charges of acting as unregistered foreign agent for Beijing   \n",
       "2                US report says China jailed as many as 10,000 religious adherents   \n",
       "3      US citizen with Hong Kong residency given life sentence for spying in China   \n",
       "4         ExplainerWhatâs Joe Biden up to on his 8-day trip to the Asia-Pacific?   \n",
       "\n",
       "                                                                                                                                                                                                                                                        title  \\\n",
       "0       Leaders of Kazakhstan, Kyrgyzstan, Tajikistan, Turkmenistan and Uzbekistan invited to first China-Central Asia summit\\nPresence of ethnic Russians in the five countries has triggered fears Moscow could target their territory next, analyst says\\n   \n",
       "1                                                                                             Litang Liang, 63, of Massachusetts is accused of reporting to consulate officials on protests in the Boston area against China government actions since 2018.\\n   \n",
       "2                                                                                                      Beijing has broadened its efforts to bring all theological activity under Communist Party control, according to annual State Department publication.\\n   \n",
       "3                                                                                                                             John Shing-wan Leung, 78, was convicted and sentenced in Suzhou court on Monday for committing espionage activities in China.\\n   \n",
       "4  The 80-year-old will visit a city that the US destroyed with a nuclear bomb and spend an awful lot of time with Indiaâs prime minister as he looks to demonstrate that he still has enough in the tank to handle the gruelling pace of the presidency.\\n   \n",
       "\n",
       "                                                                                                                                summary  \\\n",
       "0  /news/china/diplomacy/article/3213710/summit-major-diplomatic-event-boost-chinas-ties-central-asian-nations-amid-ukraine-afghanistan   \n",
       "1                   /news/china/diplomacy/article/3220662/us-arrests-chinese-american-charges-acting-unregistered-foreign-agent-beijing   \n",
       "2                   /news/china/article/3220659/us-religious-freedom-report-accuses-china-jailing-many-10000-people-repression-campaign   \n",
       "3   /news/china/politics/article/3220562/hong-kong-resident-american-passport-sentenced-life-china-after-being-convicted-spying-charges   \n",
       "4                                                            /news/asia/article/3220558/whats-joe-biden-his-eight-day-trip-asia-pacific   \n",
       "\n",
       "               url  \\\n",
       "0  us_china_spider   \n",
       "1  us_china_spider   \n",
       "2  us_china_spider   \n",
       "3  us_china_spider   \n",
       "4  us_china_spider   \n",
       "\n",
       "                                                                                                                                                                                                                                                                                                                                                                                                            source  \\\n",
       "0  China is expected to further boost ties with Central Asia when President Xi Jinping hosts his counterparts from the region amid uncertainties stemming from Russiaâs war in Ukraine and increasing hostility from the West. Beijing has hailed the two-day summit of nations in the vast and geo-strategically important neighbouring region on Thursday and Friday as the âfirst major diplomatic event...   \n",
       "1  A Chinese-American man was arrested last week for allegedly serving as an agent of the Chinese government without notifying the US government, the Department of Justice announced on Monday. Litang Liang, 63, of Brighton, Massachusetts, was accused of providing Chinese officials with information about Boston-area individuals and organisations; leading a counter-protest against anti-Beijing acti...   \n",
       "2  The US government on Monday accused Beijing of jailing as many as 10,000 or more people in 2022 in a widening campaign of repression against religious belief meant to bring all theological activity under the Chinese Communist Party âs control. The estimate of those imprisoned in the country ranging âfrom the low thousands to over 10,000â is one of many accusations contained in the State ...   \n",
       "3  A US-based Hong Kong permanent resident â who is believed to have promoted business and cultural exchanges â was sentenced to life in prison on Monday after being convicted on spying charges in China. It comes as China is stepping up efforts targeting spies, especially those from the United States and its allies. But a lack of transparency around national security cases in China and âmut...   \n",
       "4  US President Joe Biden has an ambitious agenda when he sets off this week on an eight-day trip to the Indo-Pacific . Heâs looking to tighten bonds with long-time allies, make history as the first sitting president of the United States to visit the tiny island state of Papua New Guinea and spotlight his administrationâs commitment to the Pacific. The three-country trip also presents the 80-...   \n",
       "\n",
       "                                                                                                                                                                                                                                                                                                                                                                                                        clean_text  \\\n",
       "0  china is expected to further boost ties with central asia when president xi jinping hosts his counterparts from the region amid uncertainties stemming from russia s war in ukraine and increasing hostility from the west beijing has hailed the twoday summit of nations in the vast and geostrategically important neighbouring region on thursday and friday as the first major diplomatic event that ch...   \n",
       "1  a chineseamerican man was arrested last week for allegedly serving as an agent of the chinese government without notifying the us government the department of justice announced on monday litang liang of brighton massachusetts was accused of providing chinese officials with information about bostonarea individuals and organisations leading a counterprotest against antibeijing activists and sugg...   \n",
       "2  the us government on monday accused beijing of jailing as many as or more people in in a widening campaign of repression against religious belief meant to bring all theological activity under the chinese communist party s control the estimate of those imprisoned in the country ranging from the low thousands to over is one of many accusations contained in the state department s international re...   \n",
       "3  a usbased hong kong permanent resident who is believed to have promoted business and cultural exchanges was sentenced to life in prison on monday after being convicted on spying charges in china it comes as china is stepping up efforts targeting spies especially those from the united states and its allies but a lack of transparency around national security cases in china and mutual recriminati...   \n",
       "4  us president joe biden has an ambitious agenda when he sets off this week on an eightday trip to the indopacific he s looking to tighten bonds with longtime allies make history as the first sitting president of the united states to visit the tiny island state of papua new guinea and spotlight his administration s commitment to the pacific the threecountry trip also presents the biden who recen...   \n",
       "\n",
       "                                                                                                                                                                                                                                                                                                                                                                                                            tokens  \\\n",
       "0  [china, is, expected, to, further, boost, ties, with, central, asia, when, president, xi, jinping, hosts, his, counterparts, from, the, region, amid, uncertainties, stemming, from, russia, s, war, in, ukraine, and, increasing, hostility, from, the, west, beijing, has, hailed, the, twoday, summit, of, nations, in, the, vast, and, geostrategically, important, neighbouring, region, on, thursday, ...   \n",
       "1  [a, chineseamerican, man, was, arrested, last, week, for, allegedly, serving, as, an, agent, of, the, chinese, government, without, notifying, the, us, government, the, department, of, justice, announced, on, monday, litang, liang, of, brighton, massachusetts, was, accused, of, providing, chinese, officials, with, information, about, bostonarea, individuals, and, organisations, leading, a, cou...   \n",
       "2  [the, us, government, on, monday, accused, beijing, of, jailing, as, many, as, or, more, people, in, in, a, widening, campaign, of, repression, against, religious, belief, meant, to, bring, all, theological, activity, under, the, chinese, communist, party, s, control, the, estimate, of, those, imprisoned, in, the, country, ranging, from, the, low, thousands, to, over, is, one, of, many, accusa...   \n",
       "3  [a, usbased, hong, kong, permanent, resident, who, is, believed, to, have, promoted, business, and, cultural, exchanges, was, sentenced, to, life, in, prison, on, monday, after, being, convicted, on, spying, charges, in, china, it, comes, as, china, is, stepping, up, efforts, targeting, spies, especially, those, from, the, united, states, and, its, allies, but, a, lack, of, transparency, aroun...   \n",
       "4  [us, president, joe, biden, has, an, ambitious, agenda, when, he, sets, off, this, week, on, an, eightday, trip, to, the, indopacific, he, s, looking, to, tighten, bonds, with, longtime, allies, make, history, as, the, first, sitting, president, of, the, united, states, to, visit, the, tiny, island, state, of, papua, new, guinea, and, spotlight, his, administration, s, commitment, to, the, pac...   \n",
       "\n",
       "                                                                                                                                                                                                                                                                                                                                                                                                   filtered_tokens  \\\n",
       "0  [expected, boost, ties, central, asia, president, xi, jinping, hosts, counterparts, region, amid, uncertainties, stemming, russia, war, ukraine, increasing, hostility, west, hailed, twoday, summit, nations, vast, geostrategically, important, neighbouring, region, thursday, friday, first, major, diplomatic, event, hosts, year, meeting, xian, northwestern, province, shaanxi, coincides, leaders, ...   \n",
       "1  [chineseamerican, man, arrested, last, week, allegedly, serving, agent, chinese, government, without, notifying, government, department, justice, announced, monday, litang, liang, brighton, massachusetts, accused, providing, chinese, officials, information, bostonarea, individuals, organisations, leading, counterprotest, antibeijing, activists, suggesting, potential, recruits, ministry, public...   \n",
       "2  [government, monday, accused, jailing, many, people, widening, campaign, repression, religious, belief, meant, bring, theological, activity, chinese, communist, party, control, estimate, imprisoned, country, ranging, low, thousands, one, many, accusations, contained, state, department, international, religious, freedom, report, published, annually, since, covers, nearly, countries, report, sec...   \n",
       "3  [usbased, permanent, resident, believed, promoted, business, cultural, exchanges, sentenced, life, prison, monday, convicted, spying, charges, comes, stepping, efforts, targeting, spies, especially, united, states, allies, lack, transparency, around, national, security, cases, mutual, recriminations, perceived, espionage, activities, contradict, talk, encouraging, foreign, investment, country,...   \n",
       "4  [president, joe, biden, ambitious, agenda, sets, week, eightday, trip, indopacific, looking, tighten, bonds, longtime, allies, make, history, first, sitting, president, united, states, visit, tiny, island, state, papua, new, guinea, spotlight, administration, commitment, pacific, threecountry, trip, presents, biden, recently, announced, running, reelection, opportunity, demonstrate, still, eno...   \n",
       "\n",
       "                                                                                                                                                                                                                                                                                                                                                                                                        lem_tokens  \n",
       "0  [expected, boost, tie, central, asia, president, xi, jinping, host, counterpart, region, amid, uncertainty, stemming, russia, war, ukraine, increasing, hostility, west, hailed, twoday, summit, nation, vast, geostrategically, important, neighbouring, region, thursday, friday, first, major, diplomatic, event, host, year, meeting, xian, northwestern, province, shaanxi, coincides, leader, summit, ...  \n",
       "1  [chineseamerican, man, arrested, last, week, allegedly, serving, agent, chinese, government, without, notifying, government, department, justice, announced, monday, litang, liang, brighton, massachusetts, accused, providing, chinese, official, information, bostonarea, individual, organisation, leading, counterprotest, antibeijing, activist, suggesting, potential, recruit, ministry, public, sec...  \n",
       "2  [government, monday, accused, jailing, many, people, widening, campaign, repression, religious, belief, meant, bring, theological, activity, chinese, communist, party, control, estimate, imprisoned, country, ranging, low, thousand, one, many, accusation, contained, state, department, international, religious, freedom, report, published, annually, since, cover, nearly, country, report, section,...  \n",
       "3  [usbased, permanent, resident, believed, promoted, business, cultural, exchange, sentenced, life, prison, monday, convicted, spying, charge, come, stepping, effort, targeting, spy, especially, united, state, ally, lack, transparency, around, national, security, case, mutual, recrimination, perceived, espionage, activity, contradict, talk, encouraging, foreign, investment, country, legal, exper...  \n",
       "4  [president, joe, biden, ambitious, agenda, set, week, eightday, trip, indopacific, looking, tighten, bond, longtime, ally, make, history, first, sitting, president, united, state, visit, tiny, island, state, papua, new, guinea, spotlight, administration, commitment, pacific, threecountry, trip, present, biden, recently, announced, running, reelection, opportunity, demonstrate, still, enough, t...  "
      ]
     },
     "execution_count": 39,
     "metadata": {},
     "output_type": "execute_result"
    }
   ],
   "source": [
    "scmp_df.head()"
   ]
  },
  {
   "cell_type": "code",
   "execution_count": 40,
   "metadata": {
    "execution": {
     "iopub.execute_input": "2023-05-24T23:48:08.858837Z",
     "iopub.status.busy": "2023-05-24T23:48:08.858038Z",
     "iopub.status.idle": "2023-05-24T23:49:45.492751Z",
     "shell.execute_reply": "2023-05-24T23:49:45.491316Z",
     "shell.execute_reply.started": "2023-05-24T23:48:08.858791Z"
    }
   },
   "outputs": [
    {
     "name": "stdout",
     "output_type": "stream",
     "text": [
      "Collecting bertopic\n",
      "  Downloading bertopic-0.14.1-py2.py3-none-any.whl (120 kB)\n",
      "\u001b[2K     \u001b[90m━━━━━━━━━━━━━━━━━━━━━━━━━━━━━━━━━━━━━━━\u001b[0m \u001b[32m120.7/120.7 kB\u001b[0m \u001b[31m4.0 MB/s\u001b[0m eta \u001b[36m0:00:00\u001b[0m\n",
      "\u001b[?25hRequirement already satisfied: pandas>=1.1.5 in /opt/conda/lib/python3.10/site-packages (from bertopic) (1.5.3)\n",
      "Requirement already satisfied: tqdm>=4.41.1 in /opt/conda/lib/python3.10/site-packages (from bertopic) (4.64.1)\n",
      "Requirement already satisfied: plotly>=4.7.0 in /opt/conda/lib/python3.10/site-packages (from bertopic) (5.14.1)\n",
      "Collecting hdbscan>=0.8.29\n",
      "  Downloading hdbscan-0.8.29.tar.gz (5.2 MB)\n",
      "\u001b[2K     \u001b[90m━━━━━━━━━━━━━━━━━━━━━━━━━━━━━━━━━━━━━━━━\u001b[0m \u001b[32m5.2/5.2 MB\u001b[0m \u001b[31m53.3 MB/s\u001b[0m eta \u001b[36m0:00:00\u001b[0m00:01\u001b[0m00:01\u001b[0m\n",
      "\u001b[?25h  Installing build dependencies ... \u001b[?25ldone\n",
      "\u001b[?25h  Getting requirements to build wheel ... \u001b[?25ldone\n",
      "\u001b[?25h  Preparing metadata (pyproject.toml) ... \u001b[?25ldone\n",
      "\u001b[?25hCollecting sentence-transformers>=0.4.1\n",
      "  Downloading sentence-transformers-2.2.2.tar.gz (85 kB)\n",
      "\u001b[2K     \u001b[90m━━━━━━━━━━━━━━━━━━━━━━━━━━━━━━━━━━━━━━━━\u001b[0m \u001b[32m86.0/86.0 kB\u001b[0m \u001b[31m7.2 MB/s\u001b[0m eta \u001b[36m0:00:00\u001b[0m\n",
      "\u001b[?25h  Preparing metadata (setup.py) ... \u001b[?25ldone\n",
      "\u001b[?25hRequirement already satisfied: scikit-learn>=0.22.2.post1 in /opt/conda/lib/python3.10/site-packages (from bertopic) (1.2.2)\n",
      "Requirement already satisfied: numpy>=1.20.0 in /opt/conda/lib/python3.10/site-packages (from bertopic) (1.23.5)\n",
      "Requirement already satisfied: umap-learn>=0.5.0 in /opt/conda/lib/python3.10/site-packages (from bertopic) (0.5.3)\n",
      "Requirement already satisfied: cython>=0.27 in /opt/conda/lib/python3.10/site-packages (from hdbscan>=0.8.29->bertopic) (0.29.34)\n",
      "Requirement already satisfied: joblib>=1.0 in /opt/conda/lib/python3.10/site-packages (from hdbscan>=0.8.29->bertopic) (1.2.0)\n",
      "Requirement already satisfied: scipy>=1.0 in /opt/conda/lib/python3.10/site-packages (from hdbscan>=0.8.29->bertopic) (1.9.3)\n",
      "Requirement already satisfied: python-dateutil>=2.8.1 in /opt/conda/lib/python3.10/site-packages (from pandas>=1.1.5->bertopic) (2.8.2)\n",
      "Requirement already satisfied: pytz>=2020.1 in /opt/conda/lib/python3.10/site-packages (from pandas>=1.1.5->bertopic) (2023.3)\n",
      "Requirement already satisfied: packaging in /opt/conda/lib/python3.10/site-packages (from plotly>=4.7.0->bertopic) (21.3)\n",
      "Requirement already satisfied: tenacity>=6.2.0 in /opt/conda/lib/python3.10/site-packages (from plotly>=4.7.0->bertopic) (8.2.2)\n",
      "Requirement already satisfied: threadpoolctl>=2.0.0 in /opt/conda/lib/python3.10/site-packages (from scikit-learn>=0.22.2.post1->bertopic) (3.1.0)\n",
      "Requirement already satisfied: transformers<5.0.0,>=4.6.0 in /opt/conda/lib/python3.10/site-packages (from sentence-transformers>=0.4.1->bertopic) (4.28.1)\n",
      "Requirement already satisfied: torch>=1.6.0 in /opt/conda/lib/python3.10/site-packages (from sentence-transformers>=0.4.1->bertopic) (2.0.0+cpu)\n",
      "Requirement already satisfied: torchvision in /opt/conda/lib/python3.10/site-packages (from sentence-transformers>=0.4.1->bertopic) (0.15.1+cpu)\n",
      "Requirement already satisfied: nltk in /opt/conda/lib/python3.10/site-packages (from sentence-transformers>=0.4.1->bertopic) (3.2.4)\n",
      "Requirement already satisfied: sentencepiece in /opt/conda/lib/python3.10/site-packages (from sentence-transformers>=0.4.1->bertopic) (0.1.98)\n",
      "Requirement already satisfied: huggingface-hub>=0.4.0 in /opt/conda/lib/python3.10/site-packages (from sentence-transformers>=0.4.1->bertopic) (0.13.4)\n",
      "Requirement already satisfied: pynndescent>=0.5 in /opt/conda/lib/python3.10/site-packages (from umap-learn>=0.5.0->bertopic) (0.5.9)\n",
      "Requirement already satisfied: numba>=0.49 in /opt/conda/lib/python3.10/site-packages (from umap-learn>=0.5.0->bertopic) (0.56.4)\n",
      "Requirement already satisfied: filelock in /opt/conda/lib/python3.10/site-packages (from huggingface-hub>=0.4.0->sentence-transformers>=0.4.1->bertopic) (3.11.0)\n",
      "Requirement already satisfied: requests in /opt/conda/lib/python3.10/site-packages (from huggingface-hub>=0.4.0->sentence-transformers>=0.4.1->bertopic) (2.28.2)\n",
      "Requirement already satisfied: typing-extensions>=3.7.4.3 in /opt/conda/lib/python3.10/site-packages (from huggingface-hub>=0.4.0->sentence-transformers>=0.4.1->bertopic) (4.5.0)\n",
      "Requirement already satisfied: pyyaml>=5.1 in /opt/conda/lib/python3.10/site-packages (from huggingface-hub>=0.4.0->sentence-transformers>=0.4.1->bertopic) (6.0)\n",
      "Requirement already satisfied: llvmlite<0.40,>=0.39.0dev0 in /opt/conda/lib/python3.10/site-packages (from numba>=0.49->umap-learn>=0.5.0->bertopic) (0.39.1)\n",
      "Requirement already satisfied: setuptools in /opt/conda/lib/python3.10/site-packages (from numba>=0.49->umap-learn>=0.5.0->bertopic) (59.8.0)\n",
      "Requirement already satisfied: pyparsing!=3.0.5,>=2.0.2 in /opt/conda/lib/python3.10/site-packages (from packaging->plotly>=4.7.0->bertopic) (3.0.9)\n",
      "Requirement already satisfied: six>=1.5 in /opt/conda/lib/python3.10/site-packages (from python-dateutil>=2.8.1->pandas>=1.1.5->bertopic) (1.16.0)\n",
      "Requirement already satisfied: networkx in /opt/conda/lib/python3.10/site-packages (from torch>=1.6.0->sentence-transformers>=0.4.1->bertopic) (3.1)\n",
      "Requirement already satisfied: sympy in /opt/conda/lib/python3.10/site-packages (from torch>=1.6.0->sentence-transformers>=0.4.1->bertopic) (1.11.1)\n",
      "Requirement already satisfied: jinja2 in /opt/conda/lib/python3.10/site-packages (from torch>=1.6.0->sentence-transformers>=0.4.1->bertopic) (3.1.2)\n",
      "Requirement already satisfied: tokenizers!=0.11.3,<0.14,>=0.11.1 in /opt/conda/lib/python3.10/site-packages (from transformers<5.0.0,>=4.6.0->sentence-transformers>=0.4.1->bertopic) (0.13.3)\n",
      "Requirement already satisfied: regex!=2019.12.17 in /opt/conda/lib/python3.10/site-packages (from transformers<5.0.0,>=4.6.0->sentence-transformers>=0.4.1->bertopic) (2023.3.23)\n",
      "Requirement already satisfied: pillow!=8.3.*,>=5.3.0 in /opt/conda/lib/python3.10/site-packages (from torchvision->sentence-transformers>=0.4.1->bertopic) (9.5.0)\n",
      "Requirement already satisfied: MarkupSafe>=2.0 in /opt/conda/lib/python3.10/site-packages (from jinja2->torch>=1.6.0->sentence-transformers>=0.4.1->bertopic) (2.1.2)\n",
      "Requirement already satisfied: charset-normalizer<4,>=2 in /opt/conda/lib/python3.10/site-packages (from requests->huggingface-hub>=0.4.0->sentence-transformers>=0.4.1->bertopic) (2.1.1)\n",
      "Requirement already satisfied: urllib3<1.27,>=1.21.1 in /opt/conda/lib/python3.10/site-packages (from requests->huggingface-hub>=0.4.0->sentence-transformers>=0.4.1->bertopic) (1.26.15)\n",
      "Requirement already satisfied: certifi>=2017.4.17 in /opt/conda/lib/python3.10/site-packages (from requests->huggingface-hub>=0.4.0->sentence-transformers>=0.4.1->bertopic) (2022.12.7)\n",
      "Requirement already satisfied: idna<4,>=2.5 in /opt/conda/lib/python3.10/site-packages (from requests->huggingface-hub>=0.4.0->sentence-transformers>=0.4.1->bertopic) (3.4)\n",
      "Requirement already satisfied: mpmath>=0.19 in /opt/conda/lib/python3.10/site-packages (from sympy->torch>=1.6.0->sentence-transformers>=0.4.1->bertopic) (1.3.0)\n",
      "Building wheels for collected packages: hdbscan, sentence-transformers\n",
      "  Building wheel for hdbscan (pyproject.toml) ... \u001b[?25ldone\n",
      "\u001b[?25h  Created wheel for hdbscan: filename=hdbscan-0.8.29-cp310-cp310-linux_x86_64.whl size=818347 sha256=581621f20f787a77c8fa36d58d58e9340a0a2bcdd7d62d96767f2f6926f6ed95\n",
      "  Stored in directory: /root/.cache/pip/wheels/dc/52/e3/6c6b60b126b4d5c4370cb5ac071b82950f91649d62d72f7f56\n",
      "  Building wheel for sentence-transformers (setup.py) ... \u001b[?25ldone\n",
      "\u001b[?25h  Created wheel for sentence-transformers: filename=sentence_transformers-2.2.2-py3-none-any.whl size=125938 sha256=124574db190c610399f60850997f9b4f8eee285917a15cad8227cf79a61caa9f\n",
      "  Stored in directory: /root/.cache/pip/wheels/62/f2/10/1e606fd5f02395388f74e7462910fe851042f97238cbbd902f\n",
      "Successfully built hdbscan sentence-transformers\n",
      "Installing collected packages: hdbscan, sentence-transformers, bertopic\n",
      "Successfully installed bertopic-0.14.1 hdbscan-0.8.29 sentence-transformers-2.2.2\n",
      "\u001b[33mWARNING: Running pip as the 'root' user can result in broken permissions and conflicting behaviour with the system package manager. It is recommended to use a virtual environment instead: https://pip.pypa.io/warnings/venv\u001b[0m\u001b[33m\n",
      "\u001b[0mNote: you may need to restart the kernel to use updated packages.\n"
     ]
    }
   ],
   "source": [
    "pip install bertopic"
   ]
  },
  {
   "cell_type": "code",
   "execution_count": 41,
   "metadata": {
    "execution": {
     "iopub.execute_input": "2023-05-24T23:49:45.494950Z",
     "iopub.status.busy": "2023-05-24T23:49:45.494550Z",
     "iopub.status.idle": "2023-05-24T23:50:22.295512Z",
     "shell.execute_reply": "2023-05-24T23:50:22.294479Z",
     "shell.execute_reply.started": "2023-05-24T23:49:45.494905Z"
    }
   },
   "outputs": [],
   "source": [
    "from bertopic import BERTopic"
   ]
  },
  {
   "cell_type": "code",
   "execution_count": 42,
   "metadata": {
    "execution": {
     "iopub.execute_input": "2023-05-24T23:50:22.299511Z",
     "iopub.status.busy": "2023-05-24T23:50:22.297415Z",
     "iopub.status.idle": "2023-05-24T23:50:22.305441Z",
     "shell.execute_reply": "2023-05-24T23:50:22.304091Z",
     "shell.execute_reply.started": "2023-05-24T23:50:22.299460Z"
    }
   },
   "outputs": [],
   "source": [
    "from umap import UMAP"
   ]
  },
  {
   "cell_type": "code",
   "execution_count": 114,
   "metadata": {
    "execution": {
     "iopub.execute_input": "2023-05-25T00:41:25.371356Z",
     "iopub.status.busy": "2023-05-25T00:41:25.370919Z",
     "iopub.status.idle": "2023-05-25T00:41:25.377691Z",
     "shell.execute_reply": "2023-05-25T00:41:25.376160Z",
     "shell.execute_reply.started": "2023-05-25T00:41:25.371322Z"
    }
   },
   "outputs": [],
   "source": [
    "# reduce dimensionality with UMAP\n",
    "\n",
    "umap_model = UMAP(n_neighbors=15, n_components=5, \n",
    "                  min_dist=0.0, metric='cosine', random_state=42)\n",
    "topic_model = BERTopic(umap_model=umap_model)"
   ]
  },
  {
   "cell_type": "code",
   "execution_count": 115,
   "metadata": {
    "execution": {
     "iopub.execute_input": "2023-05-25T00:41:25.949562Z",
     "iopub.status.busy": "2023-05-25T00:41:25.949164Z",
     "iopub.status.idle": "2023-05-25T00:43:48.903828Z",
     "shell.execute_reply": "2023-05-25T00:43:48.902257Z",
     "shell.execute_reply.started": "2023-05-25T00:41:25.949532Z"
    }
   },
   "outputs": [],
   "source": [
    "docs = [str(doc) for doc in scmp_df['lem_tokens']]\n",
    "\n",
    "topics, probs = topic_model.fit_transform(docs)"
   ]
  },
  {
   "cell_type": "code",
   "execution_count": 116,
   "metadata": {
    "execution": {
     "iopub.execute_input": "2023-05-25T00:43:48.909247Z",
     "iopub.status.busy": "2023-05-25T00:43:48.908406Z",
     "iopub.status.idle": "2023-05-25T00:43:49.000296Z",
     "shell.execute_reply": "2023-05-25T00:43:48.999103Z",
     "shell.execute_reply.started": "2023-05-25T00:43:48.909172Z"
    }
   },
   "outputs": [
    {
     "data": {
      "text/html": [
       "<div>                            <div id=\"0dfa571c-546f-4407-993e-289ffe5e0915\" class=\"plotly-graph-div\" style=\"height:500px; width:800px;\"></div>            <script type=\"text/javascript\">                require([\"plotly\"], function(Plotly) {                    window.PLOTLYENV=window.PLOTLYENV || {};                                    if (document.getElementById(\"0dfa571c-546f-4407-993e-289ffe5e0915\")) {                    Plotly.newPlot(                        \"0dfa571c-546f-4407-993e-289ffe5e0915\",                        [{\"hovertext\":\"<b>Topic -1</b>:chinese_year_country_state_governm\",\"line\":{\"color\":\"black\",\"width\":1.5},\"mode\":\"lines+lines\",\"name\":\"\",\"opacity\":0.1,\"x\":[1,2,3,4,5,6,7,8,9,10],\"y\":[-1.7921187645227759,-1.9392303720356812,-1.949677312415701,-1.9725329876192401,-2.0213386507549855,-2.02302133619234,-2.0231626171589525,-2.03172400223905,-2.0400760780649057,-2.0408312224351755],\"type\":\"scatter\"},{\"hovertext\":\"<b>Topic 0</b>:xi_country_meeting_state_chinese_bi\",\"line\":{\"color\":\"black\",\"width\":1.5},\"mode\":\"lines+lines\",\"name\":\"\",\"opacity\":0.1,\"x\":[1,2,3,4,5,6,7,8,9,10],\"y\":[-1.6717410012351006,-1.80420091213685,-1.8206575866071677,-1.85335992737823,-1.8551647025902818,-1.8907423483123709,-1.906478583313504,-1.9109983559282617,-1.9260248908985456,-1.9301756177914229],\"type\":\"scatter\"},{\"hovertext\":\"<b>Topic 1</b>:per_cent_trade_year_market_economic\",\"line\":{\"color\":\"black\",\"width\":1.5},\"mode\":\"lines+lines\",\"name\":\"\",\"opacity\":0.1,\"x\":[1,2,3,4,5,6,7,8,9,10],\"y\":[-1.5660851316124942,-1.5735638658037185,-1.6468025535586601,-1.6499059777985918,-1.7201673672869229,-1.7659092569097259,-1.8031906023397988,-1.8257926570338097,-1.8397505363007876,-1.844893284052563],\"type\":\"scatter\"},{\"hovertext\":\"<b>Topic 2</b>:military_pla_defence_force_island_n\",\"line\":{\"color\":\"black\",\"width\":1.5},\"mode\":\"lines+lines\",\"name\":\"\",\"opacity\":0.1,\"x\":[1,2,3,4,5,6,7,8,9,10],\"y\":[-1.4450897227604653,-1.4985612043879266,-1.660983711994055,-1.6660584647909868,-1.670379330711059,-1.7216239807484024,-1.7632370980838765,-1.7831732678435224,-1.8031135655972688,-1.8382241959094676],\"type\":\"scatter\"},{\"hovertext\":\"<b>Topic 3</b>:chip_semiconductor_technology_compa\",\"line\":{\"color\":\"black\",\"width\":1.5},\"mode\":\"lines+lines\",\"name\":\"\",\"opacity\":0.1,\"x\":[1,2,3,4,5,6,7,8,9,10],\"y\":[-1.2186851286053333,-1.367835288496722,-1.4856289135110727,-1.5270541332021,-1.5395922421011339,-1.561507033255514,-1.57758748002387,-1.6521774277635057,-1.718358368133524,-1.7317263381294792],\"type\":\"scatter\"},{\"hovertext\":\"<b>Topic 4</b>:russia_ukraine_war_moscow_russian_c\",\"line\":{\"color\":\"black\",\"width\":1.5},\"mode\":\"lines+lines\",\"name\":\"\",\"opacity\":0.1,\"x\":[1,2,3,4,5,6,7,8,9,10],\"y\":[-1.30869930124938,-1.3829465142516884,-1.6042958687888245,-1.6203924609004272,-1.6206214951254772,-1.7243942859069115,-1.742923171438631,-1.7493887405273645,-1.8146434839404648,-1.821594425225908],\"type\":\"scatter\"},{\"hovertext\":\"<b>Topic 6</b>:tsai_island_taipei_taiwanese_mccart\",\"line\":{\"color\":\"black\",\"width\":1.5},\"mode\":\"lines+lines\",\"name\":\"\",\"opacity\":0.1,\"x\":[1,2,3,4,5,6,7,8,9,10],\"y\":[-1.2704736779981487,-1.4700451324682078,-1.5208587435314587,-1.549124871489342,-1.5520718445825827,-1.5812772971225733,-1.6976057946789074,-1.7651820841273325,-1.8072588229821656,-1.8087909809737057],\"type\":\"scatter\"},{\"hovertext\":\"<b>Topic 7</b>:balloon_object_airspace_shot_survei\",\"line\":{\"color\":\"black\",\"width\":1.5},\"mode\":\"lines+lines\",\"name\":\"\",\"opacity\":0.1,\"x\":[1,2,3,4,5,6,7,8,9,10],\"y\":[-0.976275155757616,-1.5051706898723831,-1.5153615649983136,-1.5888812374817969,-1.6149893129869015,-1.6344960755855977,-1.6737973915570463,-1.7415987649911715,-1.7553754231435663,-1.7834223868865762],\"type\":\"scatter\"},{\"hovertext\":\"<b>Topic 8</b>:philippine_marcos_sea_manila_base_s\",\"line\":{\"color\":\"black\",\"width\":1.5},\"mode\":\"lines+lines\",\"name\":\"\",\"opacity\":0.1,\"x\":[1,2,3,4,5,6,7,8,9,10],\"y\":[-0.9623215503208712,-1.2963138956298985,-1.3519526454805153,-1.4364540752449673,-1.489932871022063,-1.504805254208406,-1.5208345330247548,-1.613543863891104,-1.6337054513082783,-1.7046056317098779],\"type\":\"scatter\"},{\"hovertext\":\"<b>Topic 9</b>:guo_case_charge_trump_chinese_court\",\"line\":{\"color\":\"black\",\"width\":1.5},\"mode\":\"lines+lines\",\"name\":\"\",\"opacity\":0.1,\"x\":[1,2,3,4,5,6,7,8,9,10],\"y\":[-1.450127902354033,-1.4729597435285,-1.5229897255745657,-1.5404902682770598,-1.5681269387928225,-1.5770125475389074,-1.5876846509194291,-1.6235873553348967,-1.668832007437195,-1.6743674572376133],\"type\":\"scatter\"},{\"hovertext\":\"<b>Topic 10</b>:korea_north_south_korean_yoon_seou\",\"line\":{\"color\":\"black\",\"width\":1.5},\"mode\":\"lines+lines\",\"name\":\"\",\"opacity\":0.1,\"x\":[1,2,3,4,5,6,7,8,9,10],\"y\":[-0.9656474570063938,-1.1390893334768812,-1.2118489875030478,-1.2546444420240472,-1.3247880984916176,-1.4285850528209918,-1.479868961600078,-1.488567583170685,-1.6103944114888622,-1.622319200440297],\"type\":\"scatter\"},{\"hovertext\":\"<b>Topic 11</b>:tiktok_app_bytedance_ban_user_data\",\"line\":{\"color\":\"black\",\"width\":1.5},\"mode\":\"lines+lines\",\"name\":\"\",\"opacity\":0.1,\"x\":[1,2,3,4,5,6,7,8,9,10],\"y\":[-0.9792864512414643,-1.313996337516585,-1.3961684100525749,-1.4157279547674273,-1.44090653789939,-1.4777671811220117,-1.6095175695439965,-1.634040865857879,-1.6722506276492122,-1.7043527857461482],\"type\":\"scatter\"},{\"hovertext\":\"<b>Topic 12</b>:letter_must_emailing_exceed_verifi\",\"line\":{\"color\":\"black\",\"width\":1.5},\"mode\":\"lines+lines\",\"name\":\"\",\"opacity\":0.1,\"x\":[1,2,3,4,5,6,7,8,9,10],\"y\":[-1.5150777475759176,-1.6999101109075647,-1.719294833202586,-1.7284692570229838,-1.73185014809141,-1.7326850894261514,-1.7405063459601522,-1.759698038079583,-1.7600788156285523,-1.7713693330295472],\"type\":\"scatter\"},{\"hovertext\":\"<b>Topic 13</b>:republican_house_mccarthy_committe\",\"line\":{\"color\":\"black\",\"width\":1.5},\"mode\":\"lines+lines\",\"name\":\"\",\"opacity\":0.1,\"x\":[1,2,3,4,5,6,7,8,9,10],\"y\":[-1.1531779267509523,-1.3255092264300856,-1.40016452137601,-1.410716842594479,-1.4720762807802188,-1.5876767209312261,-1.6215120053882524,-1.655088211206205,-1.7111492095504552,-1.7301145266515319],\"type\":\"scatter\"},{\"hovertext\":\"<b>Topic 14</b>:sanction_company_chinese_iran_list\",\"line\":{\"color\":\"black\",\"width\":1.5},\"mode\":\"lines+lines\",\"name\":\"\",\"opacity\":0.1,\"x\":[1,2,3,4,5,6,7,8,9,10],\"y\":[-1.5540490791960881,-1.6014454884805298,-1.6816184028588752,-1.7093817556003499,-1.744944087644033,-1.7626285845299223,-1.7636633569305806,-1.7712162038237573,-1.7718545515677333,-1.7793862778650777],\"type\":\"scatter\"},{\"hovertext\":\"<b>Topic 15</b>:boeing_aviation_airbus_airline_fli\",\"line\":{\"color\":\"black\",\"width\":1.5},\"mode\":\"lines+lines\",\"name\":\"\",\"opacity\":0.1,\"x\":[1,2,3,4,5,6,7,8,9,10],\"y\":[-1.3008665255316045,-1.3666394486937885,-1.3892729155447257,-1.4724240585302497,-1.5139444996420006,-1.567827530495149,-1.567827530495149,-1.5953113662807303,-1.6035680940595016,-1.6331254702634954],\"type\":\"scatter\"},{\"hovertext\":\"<b>Topic 16</b>:tiktok_bill_ban_app_user_data_repu\",\"line\":{\"color\":\"black\",\"width\":1.5},\"mode\":\"lines+lines\",\"name\":\"\",\"opacity\":0.1,\"x\":[1,2,3,4,5,6,7,8,9,10],\"y\":[-1.084796039772336,-1.343787603877031,-1.376234944001217,-1.5102665909017643,-1.5133321928736017,-1.5277579183663417,-1.5948279481230891,-1.598000675693706,-1.634794723878223,-1.643289843517713],\"type\":\"scatter\"},{\"hovertext\":\"<b>Topic 17</b>:company_capital_market_investor_ac\",\"line\":{\"color\":\"black\",\"width\":1.5},\"mode\":\"lines+lines\",\"name\":\"\",\"opacity\":0.1,\"x\":[1,2,3,4,5,6,7,8,9,10],\"y\":[-1.3447448531191029,-1.636565081185013,-1.6594945652474664,-1.692874110561304,-1.7079069220979763,-1.730559303175674,-1.7327242319877323,-1.7569534032851544,-1.7728889054089598,-1.7849659976370376],\"type\":\"scatter\"},{\"hovertext\":\"<b>Topic 18</b>:law_city_national_security_report_\",\"line\":{\"color\":\"black\",\"width\":1.5},\"mode\":\"lines+lines\",\"name\":\"\",\"opacity\":0.1,\"x\":[1,2,3,4,5,6,7,8,9,10],\"y\":[-1.131634449436676,-1.3889761384758927,-1.4264757256937473,-1.470275716241099,-1.5239496805015784,-1.58592838103902,-1.5971370093720818,-1.6176365014140162,-1.6188277617715543,-1.62893309653379],\"type\":\"scatter\"},{\"hovertext\":\"<b>Topic 19</b>:japan_defence_japanese_kishida_mil\",\"line\":{\"color\":\"black\",\"width\":1.5},\"mode\":\"lines+lines\",\"name\":\"\",\"opacity\":0.1,\"x\":[1,2,3,4,5,6,7,8,9,10],\"y\":[-1.1456674626021859,-1.4406092120118625,-1.5053801257276345,-1.5167110991972401,-1.586274433485301,-1.6360468602548324,-1.713793008943468,-1.71732629523954,-1.7191496070387786,-1.728248895192854],\"type\":\"scatter\"},{\"hovertext\":\"<b>Topic 20</b>:saudi_arabia_middle_arab_east_iran\",\"line\":{\"color\":\"black\",\"width\":1.5},\"mode\":\"lines+lines\",\"name\":\"\",\"opacity\":0.1,\"x\":[1,2,3,4,5,6,7,8,9,10],\"y\":[-0.9698293097225278,-1.0817794188990102,-1.3903032946254383,-1.427236177300336,-1.4334142075708296,-1.4376976150430352,-1.4427006415384607,-1.4589696408139332,-1.4666623505544623,-1.5222463021767434],\"type\":\"scatter\"},{\"hovertext\":\"<b>Topic 21</b>:pacific_africa_island_african_wash\",\"line\":{\"color\":\"black\",\"width\":1.5},\"mode\":\"lines+lines\",\"name\":\"\",\"opacity\":0.1,\"x\":[1,2,3,4,5,6,7,8,9,10],\"y\":[-1.1665801306867878,-1.1976072791647585,-1.301696578058806,-1.4684413084921561,-1.5704992555074662,-1.5799374091310026,-1.5880198850253013,-1.600892982590635,-1.602689152139274,-1.6391733159879847],\"type\":\"scatter\"},{\"hovertext\":\"<b>Topic 22</b>:washington_region_economic_policy_\",\"line\":{\"color\":\"black\",\"width\":1.5},\"mode\":\"lines+lines\",\"name\":\"\",\"opacity\":0.1,\"x\":[1,2,3,4,5,6,7,8,9,10],\"y\":[-1.796404648399086,-1.7978195768860634,-1.8267251801030369,-1.8415891934042663,-1.8421937235465184,-1.8624599476552073,-1.8684960342277732,-1.8716780235864554,-1.872984960624015,-1.8741526432241755],\"type\":\"scatter\"},{\"hovertext\":\"<b>Topic 23</b>:huawei_meng_company_equipment_netw\",\"line\":{\"color\":\"black\",\"width\":1.5},\"mode\":\"lines+lines\",\"name\":\"\",\"opacity\":0.1,\"x\":[1,2,3,4,5,6,7,8,9,10],\"y\":[-0.9768082055918222,-1.362750775961851,-1.3891173065152844,-1.4657198196527963,-1.5183514484247105,-1.5817046560190593,-1.6208429822440455,-1.6398433678684143,-1.6777771395123295,-1.6834177953775729],\"type\":\"scatter\"},{\"hovertext\":\"<b>Topic 24</b>:australia_submarine_aukus_australi\",\"line\":{\"color\":\"black\",\"width\":1.5},\"mode\":\"lines+lines\",\"name\":\"\",\"opacity\":0.1,\"x\":[1,2,3,4,5,6,7,8,9,10],\"y\":[-0.9995117059701659,-1.0872043412797323,-1.187110229660592,-1.366323888104333,-1.4385060954160749,-1.5700472314912406,-1.6850136357954466,-1.686917227600468,-1.6947806784477735,-1.714169077302587],\"type\":\"scatter\"}],                        {\"template\":{\"data\":{\"barpolar\":[{\"marker\":{\"line\":{\"color\":\"white\",\"width\":0.5},\"pattern\":{\"fillmode\":\"overlay\",\"size\":10,\"solidity\":0.2}},\"type\":\"barpolar\"}],\"bar\":[{\"error_x\":{\"color\":\"#2a3f5f\"},\"error_y\":{\"color\":\"#2a3f5f\"},\"marker\":{\"line\":{\"color\":\"white\",\"width\":0.5},\"pattern\":{\"fillmode\":\"overlay\",\"size\":10,\"solidity\":0.2}},\"type\":\"bar\"}],\"carpet\":[{\"aaxis\":{\"endlinecolor\":\"#2a3f5f\",\"gridcolor\":\"#C8D4E3\",\"linecolor\":\"#C8D4E3\",\"minorgridcolor\":\"#C8D4E3\",\"startlinecolor\":\"#2a3f5f\"},\"baxis\":{\"endlinecolor\":\"#2a3f5f\",\"gridcolor\":\"#C8D4E3\",\"linecolor\":\"#C8D4E3\",\"minorgridcolor\":\"#C8D4E3\",\"startlinecolor\":\"#2a3f5f\"},\"type\":\"carpet\"}],\"choropleth\":[{\"colorbar\":{\"outlinewidth\":0,\"ticks\":\"\"},\"type\":\"choropleth\"}],\"contourcarpet\":[{\"colorbar\":{\"outlinewidth\":0,\"ticks\":\"\"},\"type\":\"contourcarpet\"}],\"contour\":[{\"colorbar\":{\"outlinewidth\":0,\"ticks\":\"\"},\"colorscale\":[[0.0,\"#0d0887\"],[0.1111111111111111,\"#46039f\"],[0.2222222222222222,\"#7201a8\"],[0.3333333333333333,\"#9c179e\"],[0.4444444444444444,\"#bd3786\"],[0.5555555555555556,\"#d8576b\"],[0.6666666666666666,\"#ed7953\"],[0.7777777777777778,\"#fb9f3a\"],[0.8888888888888888,\"#fdca26\"],[1.0,\"#f0f921\"]],\"type\":\"contour\"}],\"heatmapgl\":[{\"colorbar\":{\"outlinewidth\":0,\"ticks\":\"\"},\"colorscale\":[[0.0,\"#0d0887\"],[0.1111111111111111,\"#46039f\"],[0.2222222222222222,\"#7201a8\"],[0.3333333333333333,\"#9c179e\"],[0.4444444444444444,\"#bd3786\"],[0.5555555555555556,\"#d8576b\"],[0.6666666666666666,\"#ed7953\"],[0.7777777777777778,\"#fb9f3a\"],[0.8888888888888888,\"#fdca26\"],[1.0,\"#f0f921\"]],\"type\":\"heatmapgl\"}],\"heatmap\":[{\"colorbar\":{\"outlinewidth\":0,\"ticks\":\"\"},\"colorscale\":[[0.0,\"#0d0887\"],[0.1111111111111111,\"#46039f\"],[0.2222222222222222,\"#7201a8\"],[0.3333333333333333,\"#9c179e\"],[0.4444444444444444,\"#bd3786\"],[0.5555555555555556,\"#d8576b\"],[0.6666666666666666,\"#ed7953\"],[0.7777777777777778,\"#fb9f3a\"],[0.8888888888888888,\"#fdca26\"],[1.0,\"#f0f921\"]],\"type\":\"heatmap\"}],\"histogram2dcontour\":[{\"colorbar\":{\"outlinewidth\":0,\"ticks\":\"\"},\"colorscale\":[[0.0,\"#0d0887\"],[0.1111111111111111,\"#46039f\"],[0.2222222222222222,\"#7201a8\"],[0.3333333333333333,\"#9c179e\"],[0.4444444444444444,\"#bd3786\"],[0.5555555555555556,\"#d8576b\"],[0.6666666666666666,\"#ed7953\"],[0.7777777777777778,\"#fb9f3a\"],[0.8888888888888888,\"#fdca26\"],[1.0,\"#f0f921\"]],\"type\":\"histogram2dcontour\"}],\"histogram2d\":[{\"colorbar\":{\"outlinewidth\":0,\"ticks\":\"\"},\"colorscale\":[[0.0,\"#0d0887\"],[0.1111111111111111,\"#46039f\"],[0.2222222222222222,\"#7201a8\"],[0.3333333333333333,\"#9c179e\"],[0.4444444444444444,\"#bd3786\"],[0.5555555555555556,\"#d8576b\"],[0.6666666666666666,\"#ed7953\"],[0.7777777777777778,\"#fb9f3a\"],[0.8888888888888888,\"#fdca26\"],[1.0,\"#f0f921\"]],\"type\":\"histogram2d\"}],\"histogram\":[{\"marker\":{\"pattern\":{\"fillmode\":\"overlay\",\"size\":10,\"solidity\":0.2}},\"type\":\"histogram\"}],\"mesh3d\":[{\"colorbar\":{\"outlinewidth\":0,\"ticks\":\"\"},\"type\":\"mesh3d\"}],\"parcoords\":[{\"line\":{\"colorbar\":{\"outlinewidth\":0,\"ticks\":\"\"}},\"type\":\"parcoords\"}],\"pie\":[{\"automargin\":true,\"type\":\"pie\"}],\"scatter3d\":[{\"line\":{\"colorbar\":{\"outlinewidth\":0,\"ticks\":\"\"}},\"marker\":{\"colorbar\":{\"outlinewidth\":0,\"ticks\":\"\"}},\"type\":\"scatter3d\"}],\"scattercarpet\":[{\"marker\":{\"colorbar\":{\"outlinewidth\":0,\"ticks\":\"\"}},\"type\":\"scattercarpet\"}],\"scattergeo\":[{\"marker\":{\"colorbar\":{\"outlinewidth\":0,\"ticks\":\"\"}},\"type\":\"scattergeo\"}],\"scattergl\":[{\"marker\":{\"colorbar\":{\"outlinewidth\":0,\"ticks\":\"\"}},\"type\":\"scattergl\"}],\"scattermapbox\":[{\"marker\":{\"colorbar\":{\"outlinewidth\":0,\"ticks\":\"\"}},\"type\":\"scattermapbox\"}],\"scatterpolargl\":[{\"marker\":{\"colorbar\":{\"outlinewidth\":0,\"ticks\":\"\"}},\"type\":\"scatterpolargl\"}],\"scatterpolar\":[{\"marker\":{\"colorbar\":{\"outlinewidth\":0,\"ticks\":\"\"}},\"type\":\"scatterpolar\"}],\"scatter\":[{\"fillpattern\":{\"fillmode\":\"overlay\",\"size\":10,\"solidity\":0.2},\"type\":\"scatter\"}],\"scatterternary\":[{\"marker\":{\"colorbar\":{\"outlinewidth\":0,\"ticks\":\"\"}},\"type\":\"scatterternary\"}],\"surface\":[{\"colorbar\":{\"outlinewidth\":0,\"ticks\":\"\"},\"colorscale\":[[0.0,\"#0d0887\"],[0.1111111111111111,\"#46039f\"],[0.2222222222222222,\"#7201a8\"],[0.3333333333333333,\"#9c179e\"],[0.4444444444444444,\"#bd3786\"],[0.5555555555555556,\"#d8576b\"],[0.6666666666666666,\"#ed7953\"],[0.7777777777777778,\"#fb9f3a\"],[0.8888888888888888,\"#fdca26\"],[1.0,\"#f0f921\"]],\"type\":\"surface\"}],\"table\":[{\"cells\":{\"fill\":{\"color\":\"#EBF0F8\"},\"line\":{\"color\":\"white\"}},\"header\":{\"fill\":{\"color\":\"#C8D4E3\"},\"line\":{\"color\":\"white\"}},\"type\":\"table\"}]},\"layout\":{\"annotationdefaults\":{\"arrowcolor\":\"#2a3f5f\",\"arrowhead\":0,\"arrowwidth\":1},\"autotypenumbers\":\"strict\",\"coloraxis\":{\"colorbar\":{\"outlinewidth\":0,\"ticks\":\"\"}},\"colorscale\":{\"diverging\":[[0,\"#8e0152\"],[0.1,\"#c51b7d\"],[0.2,\"#de77ae\"],[0.3,\"#f1b6da\"],[0.4,\"#fde0ef\"],[0.5,\"#f7f7f7\"],[0.6,\"#e6f5d0\"],[0.7,\"#b8e186\"],[0.8,\"#7fbc41\"],[0.9,\"#4d9221\"],[1,\"#276419\"]],\"sequential\":[[0.0,\"#0d0887\"],[0.1111111111111111,\"#46039f\"],[0.2222222222222222,\"#7201a8\"],[0.3333333333333333,\"#9c179e\"],[0.4444444444444444,\"#bd3786\"],[0.5555555555555556,\"#d8576b\"],[0.6666666666666666,\"#ed7953\"],[0.7777777777777778,\"#fb9f3a\"],[0.8888888888888888,\"#fdca26\"],[1.0,\"#f0f921\"]],\"sequentialminus\":[[0.0,\"#0d0887\"],[0.1111111111111111,\"#46039f\"],[0.2222222222222222,\"#7201a8\"],[0.3333333333333333,\"#9c179e\"],[0.4444444444444444,\"#bd3786\"],[0.5555555555555556,\"#d8576b\"],[0.6666666666666666,\"#ed7953\"],[0.7777777777777778,\"#fb9f3a\"],[0.8888888888888888,\"#fdca26\"],[1.0,\"#f0f921\"]]},\"colorway\":[\"#636efa\",\"#EF553B\",\"#00cc96\",\"#ab63fa\",\"#FFA15A\",\"#19d3f3\",\"#FF6692\",\"#B6E880\",\"#FF97FF\",\"#FECB52\"],\"font\":{\"color\":\"#2a3f5f\"},\"geo\":{\"bgcolor\":\"white\",\"lakecolor\":\"white\",\"landcolor\":\"white\",\"showlakes\":true,\"showland\":true,\"subunitcolor\":\"#C8D4E3\"},\"hoverlabel\":{\"align\":\"left\"},\"hovermode\":\"closest\",\"mapbox\":{\"style\":\"light\"},\"paper_bgcolor\":\"white\",\"plot_bgcolor\":\"white\",\"polar\":{\"angularaxis\":{\"gridcolor\":\"#EBF0F8\",\"linecolor\":\"#EBF0F8\",\"ticks\":\"\"},\"bgcolor\":\"white\",\"radialaxis\":{\"gridcolor\":\"#EBF0F8\",\"linecolor\":\"#EBF0F8\",\"ticks\":\"\"}},\"scene\":{\"xaxis\":{\"backgroundcolor\":\"white\",\"gridcolor\":\"#DFE8F3\",\"gridwidth\":2,\"linecolor\":\"#EBF0F8\",\"showbackground\":true,\"ticks\":\"\",\"zerolinecolor\":\"#EBF0F8\"},\"yaxis\":{\"backgroundcolor\":\"white\",\"gridcolor\":\"#DFE8F3\",\"gridwidth\":2,\"linecolor\":\"#EBF0F8\",\"showbackground\":true,\"ticks\":\"\",\"zerolinecolor\":\"#EBF0F8\"},\"zaxis\":{\"backgroundcolor\":\"white\",\"gridcolor\":\"#DFE8F3\",\"gridwidth\":2,\"linecolor\":\"#EBF0F8\",\"showbackground\":true,\"ticks\":\"\",\"zerolinecolor\":\"#EBF0F8\"}},\"shapedefaults\":{\"line\":{\"color\":\"#2a3f5f\"}},\"ternary\":{\"aaxis\":{\"gridcolor\":\"#DFE8F3\",\"linecolor\":\"#A2B1C6\",\"ticks\":\"\"},\"baxis\":{\"gridcolor\":\"#DFE8F3\",\"linecolor\":\"#A2B1C6\",\"ticks\":\"\"},\"bgcolor\":\"white\",\"caxis\":{\"gridcolor\":\"#DFE8F3\",\"linecolor\":\"#A2B1C6\",\"ticks\":\"\"}},\"title\":{\"x\":0.05},\"xaxis\":{\"automargin\":true,\"gridcolor\":\"#EBF0F8\",\"linecolor\":\"#EBF0F8\",\"ticks\":\"\",\"title\":{\"standoff\":15},\"zerolinecolor\":\"#EBF0F8\",\"zerolinewidth\":2},\"yaxis\":{\"automargin\":true,\"gridcolor\":\"#EBF0F8\",\"linecolor\":\"#EBF0F8\",\"ticks\":\"\",\"title\":{\"standoff\":15},\"zerolinecolor\":\"#EBF0F8\",\"zerolinewidth\":2}}},\"xaxis\":{\"range\":[0,10],\"tick0\":1,\"dtick\":2,\"title\":{\"text\":\"Term Rank\"}},\"title\":{\"font\":{\"size\":22,\"color\":\"Black\"},\"text\":\"<b>Term score decline per Topic</b>\",\"y\":0.9,\"x\":0.5,\"xanchor\":\"center\",\"yanchor\":\"top\"},\"hoverlabel\":{\"font\":{\"size\":16,\"family\":\"Rockwell\"},\"bgcolor\":\"white\"},\"showlegend\":false,\"width\":800,\"height\":500,\"yaxis\":{\"title\":{\"text\":\"c-TF-IDF score (log scale)\"}}},                        {\"responsive\": true}                    ).then(function(){\n",
       "                            \n",
       "var gd = document.getElementById('0dfa571c-546f-4407-993e-289ffe5e0915');\n",
       "var x = new MutationObserver(function (mutations, observer) {{\n",
       "        var display = window.getComputedStyle(gd).display;\n",
       "        if (!display || display === 'none') {{\n",
       "            console.log([gd, 'removed!']);\n",
       "            Plotly.purge(gd);\n",
       "            observer.disconnect();\n",
       "        }}\n",
       "}});\n",
       "\n",
       "// Listen for the removal of the full notebook cells\n",
       "var notebookContainer = gd.closest('#notebook-container');\n",
       "if (notebookContainer) {{\n",
       "    x.observe(notebookContainer, {childList: true});\n",
       "}}\n",
       "\n",
       "// Listen for the clearing of the current output cell\n",
       "var outputEl = gd.closest('.output');\n",
       "if (outputEl) {{\n",
       "    x.observe(outputEl, {childList: true});\n",
       "}}\n",
       "\n",
       "                        })                };                });            </script>        </div>"
      ]
     },
     "metadata": {},
     "output_type": "display_data"
    }
   ],
   "source": [
    "# what does this mean?\n",
    "topic_model.visualize_term_rank(log_scale=True)"
   ]
  },
  {
   "cell_type": "code",
   "execution_count": 117,
   "metadata": {
    "_kg_hide-input": false,
    "execution": {
     "iopub.execute_input": "2023-05-25T00:43:49.003276Z",
     "iopub.status.busy": "2023-05-25T00:43:49.001831Z",
     "iopub.status.idle": "2023-05-25T00:43:49.089580Z",
     "shell.execute_reply": "2023-05-25T00:43:49.088233Z",
     "shell.execute_reply.started": "2023-05-25T00:43:49.003237Z"
    }
   },
   "outputs": [
    {
     "data": {
      "text/html": [
       "<div>                            <div id=\"69055205-a5f6-42e1-b188-4c6a2b1ed66b\" class=\"plotly-graph-div\" style=\"height:800px; width:800px;\"></div>            <script type=\"text/javascript\">                require([\"plotly\"], function(Plotly) {                    window.PLOTLYENV=window.PLOTLYENV || {};                                    if (document.getElementById(\"69055205-a5f6-42e1-b188-4c6a2b1ed66b\")) {                    Plotly.newPlot(                        \"69055205-a5f6-42e1-b188-4c6a2b1ed66b\",                        [{\"coloraxis\":\"coloraxis\",\"name\":\"0\",\"x\":[\"0_xi_country_meeting\",\"1_per_cent_trade\",\"2_military_pla_defence\",\"3_chip_semiconductor_techno...\",\"4_russia_ukraine_war\",\"5_nan__\",\"6_tsai_island_taipei\",\"7_balloon_object_airspace\",\"8_philippine_marcos_sea\",\"9_guo_case_charge\",\"10_korea_north_south\",\"11_tiktok_app_bytedance\",\"12_letter_must_emailing\",\"13_republican_house_mccarthy\",\"14_sanction_company_chinese\",\"15_boeing_aviation_airbus\",\"16_tiktok_bill_ban\",\"17_company_capital_market\",\"18_law_city_national\",\"19_japan_defence_japanese\",\"20_saudi_arabia_middle\",\"21_pacific_africa_island\",\"22_washington_region_economic\",\"23_huawei_meng_company\",\"24_australia_submarine_aukus\"],\"y\":[\"0_xi_country_meeting\",\"1_per_cent_trade\",\"2_military_pla_defence\",\"3_chip_semiconductor_techno...\",\"4_russia_ukraine_war\",\"5_nan__\",\"6_tsai_island_taipei\",\"7_balloon_object_airspace\",\"8_philippine_marcos_sea\",\"9_guo_case_charge\",\"10_korea_north_south\",\"11_tiktok_app_bytedance\",\"12_letter_must_emailing\",\"13_republican_house_mccarthy\",\"14_sanction_company_chinese\",\"15_boeing_aviation_airbus\",\"16_tiktok_bill_ban\",\"17_company_capital_market\",\"18_law_city_national\",\"19_japan_defence_japanese\",\"20_saudi_arabia_middle\",\"21_pacific_africa_island\",\"22_washington_region_economic\",\"23_huawei_meng_company\",\"24_australia_submarine_aukus\"],\"z\":[[0.9999999999999999,0.7483545211416394,0.7338806265025815,0.6752809101152271,0.7434411292447256,0.4043690641114598,0.7396183961190474,0.6709556525774611,0.6968091351848882,0.7791639923547868,0.6495522597633514,0.7078599810470004,0.6781594136286235,0.6932599790734109,0.8099452366390636,0.5550832269816401,0.732768002591889,0.6903098462906612,0.7368229058262863,0.7283688636119164,0.6396775628418527,0.7237921621998952,0.7808986115971106,0.7073580972743403,0.7401829921248857],[0.7483545211416394,0.9999999999999997,0.6549095211303015,0.6998901752915138,0.5830179366884297,0.4214455813498815,0.6412409568879543,0.5596035413993219,0.622762146252759,0.6926016269878701,0.5569130030547029,0.6751977062003618,0.642541197625895,0.5791932596300385,0.7909311413851499,0.49321447409286445,0.6801492887228076,0.8428732386787632,0.6777479274460376,0.6525615624573509,0.5685419016966902,0.631306860536101,0.755019092972566,0.6287336847607796,0.6306543255156138],[0.7338806265025815,0.6549095211303015,1.0,0.6782860603234905,0.6883998361097055,0.4279918303717656,0.6924238235137172,0.7047732998786325,0.7361651339623747,0.6661633357957832,0.6627082696103863,0.65399767433239,0.6294997107574183,0.640415701153802,0.7333323969043836,0.6541643682054812,0.6734420324635396,0.6387909463727826,0.739950215530169,0.8011510473747978,0.6220537381340377,0.7173451240418058,0.7561174226607168,0.6570111151315725,0.775334058577223],[0.6752809101152271,0.6998901752915138,0.6782860603234905,0.9999999999999997,0.5441248758114655,0.35848226915967785,0.5894727398929255,0.621402319001111,0.5699573225239409,0.6425743883131729,0.5006605746838813,0.7030925185751582,0.6661879440063778,0.6016977156550329,0.7471990215855915,0.6144576365718651,0.704354369300026,0.7308307512226468,0.6779831756439487,0.6014956651641143,0.509753084377642,0.5607782169956981,0.6861762680806801,0.718962937975742,0.5693216248986785],[0.7434411292447256,0.5830179366884297,0.6883998361097055,0.5441248758114655,1.0,0.26795160804140555,0.6071892935223124,0.5781392844384515,0.658570182519576,0.6375560031259264,0.7120974091057841,0.6234834449429152,0.5159145499876912,0.5781387040426286,0.7104422851108805,0.4716046381817752,0.6327583262230743,0.5590559659324829,0.6767682973446185,0.7688788182702407,0.7337549133314101,0.7093962104560407,0.7605205261397707,0.5570035125392698,0.7154350540693672],[0.4043690641114598,0.4214455813498815,0.4279918303717656,0.35848226915967785,0.26795160804140555,1.0,0.459970326055846,0.3279525393976823,0.3918140610791784,0.3917310088030702,0.39279356982083447,0.3959320867820003,0.3520918559468848,0.3368551040793043,0.3619554914987792,0.22911961413590487,0.3881962859644835,0.3768210751945126,0.36612495726960664,0.4262328077395749,0.2580017979662828,0.3911472045895546,0.331001982671815,0.3771607546320692,0.34476594127941934],[0.7396183961190474,0.6412409568879543,0.6924238235137172,0.5894727398929255,0.6071892935223124,0.459970326055846,0.9999999999999998,0.557313155822102,0.7229608220732312,0.680993810803217,0.6739896513259248,0.628453546155762,0.6059861964069628,0.6238128250457174,0.687471553528698,0.502891904320907,0.6408890815175086,0.6180132988051479,0.6263651785856501,0.7119479514560798,0.519742001343156,0.7552659534376922,0.6423584001437237,0.6157703330154602,0.6876583789166845],[0.6709556525774611,0.5596035413993219,0.7047732998786325,0.621402319001111,0.5781392844384515,0.3279525393976823,0.557313155822102,0.9999999999999998,0.5588640580608033,0.6751039756602216,0.5100193740142006,0.6614858702772886,0.6124335924208689,0.5965817773427948,0.6527404354925618,0.6541895544513641,0.6844129616380192,0.5432073865390008,0.6663823900139855,0.5949388290142094,0.5446743107477274,0.5856442291782451,0.6317875682307941,0.6109029643897581,0.584211301943572],[0.6968091351848882,0.622762146252759,0.7361651339623747,0.5699573225239409,0.658570182519576,0.3918140610791784,0.7229608220732312,0.5588640580608033,1.0,0.6350375476966768,0.7058294886562788,0.5868673681119458,0.5476277013102209,0.569673648422638,0.6954285783586167,0.5025796241846511,0.6095768737115534,0.6090565542921419,0.651980469065832,0.7568329690415629,0.6816046461951184,0.7320495757943846,0.6808707554096254,0.5929857606483373,0.7281609986806099],[0.7791639923547868,0.6926016269878701,0.6661633357957832,0.6425743883131729,0.6375560031259264,0.3917310088030702,0.680993810803217,0.6751039756602216,0.6350375476966768,1.0000000000000002,0.5615071401339006,0.6620832318722076,0.6563233985066481,0.6603575451922622,0.745391070497273,0.5176582460724402,0.7093730015282225,0.6605555446218245,0.7859223028317217,0.6607368443751445,0.5588358313586266,0.6296156393675236,0.6690831059278776,0.67789325545094,0.6397213756017444],[0.6495522597633514,0.5569130030547029,0.6627082696103863,0.5006605746838813,0.7120974091057841,0.39279356982083447,0.6739896513259248,0.5100193740142006,0.7058294886562788,0.5615071401339006,0.9999999999999996,0.5317120572727961,0.45268148686493054,0.5082266711874414,0.608846607796411,0.42181447683686524,0.5375138112038994,0.5098044465831804,0.5580130516306103,0.7705111335992887,0.6833169448959112,0.723436872090804,0.6755185942404509,0.4819534346833394,0.6745692871716101],[0.7078599810470004,0.6751977062003618,0.65399767433239,0.7030925185751582,0.6234834449429152,0.3959320867820003,0.628453546155762,0.6614858702772886,0.5868673681119458,0.6620832318722076,0.5317120572727961,1.0000000000000002,0.6717469658273263,0.595032407705504,0.7597478755441092,0.46964788288621906,0.9491588841777245,0.6427810661005615,0.6867294751525523,0.6191995881462315,0.5170354943804697,0.6076540568110234,0.6834964652765251,0.7124170726364731,0.5833684041688185],[0.6781594136286235,0.642541197625895,0.6294997107574183,0.6661879440063778,0.5159145499876912,0.3520918559468848,0.6059861964069628,0.6124335924208689,0.5476277013102209,0.6563233985066481,0.45268148686493054,0.6717469658273263,1.0,0.604539051396547,0.6570468338014671,0.5065023053390088,0.6945069795272247,0.6198300531878046,0.6501962665015841,0.5538996884752789,0.4831619321936411,0.5620337203490648,0.6073739395840649,0.5839907547956172,0.5619295307353176],[0.6932599790734109,0.5791932596300385,0.640415701153802,0.6016977156550329,0.5781387040426286,0.3368551040793043,0.6238128250457174,0.5965817773427948,0.569673648422638,0.6603575451922622,0.5082266711874414,0.595032407705504,0.604539051396547,1.0000000000000004,0.635399803094064,0.48085402252239184,0.7154422482045328,0.5611309330173821,0.6557564888829389,0.597095484882938,0.5233880687354688,0.6107953062559771,0.6248347208550971,0.535267119918894,0.6268870527853001],[0.8099452366390636,0.7909311413851499,0.7333323969043836,0.7471990215855915,0.7104422851108805,0.3619554914987792,0.687471553528698,0.6527404354925618,0.6954285783586167,0.745391070497273,0.608846607796411,0.7597478755441092,0.6570468338014671,0.635399803094064,0.9999999999999999,0.5740930055682238,0.7591233328126201,0.7807790808651238,0.748330606306522,0.7443613021398227,0.6947977633444389,0.6995505663975176,0.7536013544185296,0.7317127164416112,0.6988183236154796],[0.5550832269816401,0.49321447409286445,0.6541643682054812,0.6144576365718651,0.4716046381817752,0.22911961413590487,0.502891904320907,0.6541895544513641,0.5025796241846511,0.5176582460724402,0.42181447683686524,0.46964788288621906,0.5065023053390088,0.48085402252239184,0.5740930055682238,0.9999999999999998,0.49871409664023303,0.5428134769436523,0.5340474135754879,0.5024764750596887,0.5021003386722457,0.5358955500338978,0.5299534493160051,0.5646058208558746,0.5397497160559347],[0.732768002591889,0.6801492887228076,0.6734420324635396,0.704354369300026,0.6327583262230743,0.3881962859644835,0.6408890815175086,0.6844129616380192,0.6095768737115534,0.7093730015282225,0.5375138112038994,0.9491588841777245,0.6945069795272247,0.7154422482045328,0.7591233328126201,0.49871409664023303,1.0,0.6295431562870369,0.744568301653334,0.6209554144340819,0.5500547770735493,0.6461643903778039,0.7109296963119007,0.6900870869042383,0.6195226100229672],[0.6903098462906612,0.8428732386787632,0.6387909463727826,0.7308307512226468,0.5590559659324829,0.3768210751945126,0.6180132988051479,0.5432073865390008,0.6090565542921419,0.6605555446218245,0.5098044465831804,0.6427810661005615,0.6198300531878046,0.5611309330173821,0.7807790808651238,0.5428134769436523,0.6295431562870369,1.0000000000000004,0.6740271550530901,0.6275309776222735,0.5629784146914834,0.595700632049982,0.6817038179441066,0.6742382591194156,0.5935714259882086],[0.7368229058262863,0.6777479274460376,0.739950215530169,0.6779831756439487,0.6767682973446185,0.36612495726960664,0.6263651785856501,0.6663823900139855,0.651980469065832,0.7859223028317217,0.5580130516306103,0.6867294751525523,0.6501962665015841,0.6557564888829389,0.748330606306522,0.5340474135754879,0.744568301653334,0.6740271550530901,0.9999999999999997,0.7007115943405771,0.602122644506952,0.68201617259559,0.7939849917828286,0.6284736971645162,0.6647154131268984],[0.7283688636119164,0.6525615624573509,0.8011510473747978,0.6014956651641143,0.7688788182702407,0.4262328077395749,0.7119479514560798,0.5949388290142094,0.7568329690415629,0.6607368443751445,0.7705111335992887,0.6191995881462315,0.5538996884752789,0.597095484882938,0.7443613021398227,0.5024764750596887,0.6209554144340819,0.6275309776222735,0.7007115943405771,1.0,0.6816353557323584,0.7330662780693349,0.7517931146367057,0.6096118415598355,0.7933010949341381],[0.6396775628418527,0.5685419016966902,0.6220537381340377,0.509753084377642,0.7337549133314101,0.2580017979662828,0.519742001343156,0.5446743107477274,0.6816046461951184,0.5588358313586266,0.6833169448959112,0.5170354943804697,0.4831619321936411,0.5233880687354688,0.6947977633444389,0.5021003386722457,0.5500547770735493,0.5629784146914834,0.602122644506952,0.6816353557323584,1.0,0.7268822017272505,0.7075214671398788,0.5134450918376705,0.6652931803826649],[0.7237921621998952,0.631306860536101,0.7173451240418058,0.5607782169956981,0.7093962104560407,0.3911472045895546,0.7552659534376922,0.5856442291782451,0.7320495757943846,0.6296156393675236,0.723436872090804,0.6076540568110234,0.5620337203490648,0.6107953062559771,0.6995505663975176,0.5358955500338978,0.6461643903778039,0.595700632049982,0.68201617259559,0.7330662780693349,0.7268822017272505,1.0000000000000002,0.8066741348971609,0.5709282240138065,0.7697379469325139],[0.7808986115971106,0.755019092972566,0.7561174226607168,0.6861762680806801,0.7605205261397707,0.331001982671815,0.6423584001437237,0.6317875682307941,0.6808707554096254,0.6690831059278776,0.6755185942404509,0.6834964652765251,0.6073739395840649,0.6248347208550971,0.7536013544185296,0.5299534493160051,0.7109296963119007,0.6817038179441066,0.7939849917828286,0.7517931146367057,0.7075214671398788,0.8066741348971609,1.0,0.60653784238646,0.7103867859750574],[0.7073580972743403,0.6287336847607796,0.6570111151315725,0.718962937975742,0.5570035125392698,0.3771607546320692,0.6157703330154602,0.6109029643897581,0.5929857606483373,0.67789325545094,0.4819534346833394,0.7124170726364731,0.5839907547956172,0.535267119918894,0.7317127164416112,0.5646058208558746,0.6900870869042383,0.6742382591194156,0.6284736971645162,0.6096118415598355,0.5134450918376705,0.5709282240138065,0.60653784238646,0.9999999999999993,0.5774651509831588],[0.7401829921248857,0.6306543255156138,0.775334058577223,0.5693216248986785,0.7154350540693672,0.34476594127941934,0.6876583789166845,0.584211301943572,0.7281609986806099,0.6397213756017444,0.6745692871716101,0.5833684041688185,0.5619295307353176,0.6268870527853001,0.6988183236154796,0.5397497160559347,0.6195226100229672,0.5935714259882086,0.6647154131268984,0.7933010949341381,0.6652931803826649,0.7697379469325139,0.7103867859750574,0.5774651509831588,0.9999999999999991]],\"type\":\"heatmap\",\"xaxis\":\"x\",\"yaxis\":\"y\",\"hovertemplate\":\"x: %{x}<br>y: %{y}<br>Similarity Score: %{z}<extra></extra>\"}],                        {\"template\":{\"data\":{\"histogram2dcontour\":[{\"type\":\"histogram2dcontour\",\"colorbar\":{\"outlinewidth\":0,\"ticks\":\"\"},\"colorscale\":[[0.0,\"#0d0887\"],[0.1111111111111111,\"#46039f\"],[0.2222222222222222,\"#7201a8\"],[0.3333333333333333,\"#9c179e\"],[0.4444444444444444,\"#bd3786\"],[0.5555555555555556,\"#d8576b\"],[0.6666666666666666,\"#ed7953\"],[0.7777777777777778,\"#fb9f3a\"],[0.8888888888888888,\"#fdca26\"],[1.0,\"#f0f921\"]]}],\"choropleth\":[{\"type\":\"choropleth\",\"colorbar\":{\"outlinewidth\":0,\"ticks\":\"\"}}],\"histogram2d\":[{\"type\":\"histogram2d\",\"colorbar\":{\"outlinewidth\":0,\"ticks\":\"\"},\"colorscale\":[[0.0,\"#0d0887\"],[0.1111111111111111,\"#46039f\"],[0.2222222222222222,\"#7201a8\"],[0.3333333333333333,\"#9c179e\"],[0.4444444444444444,\"#bd3786\"],[0.5555555555555556,\"#d8576b\"],[0.6666666666666666,\"#ed7953\"],[0.7777777777777778,\"#fb9f3a\"],[0.8888888888888888,\"#fdca26\"],[1.0,\"#f0f921\"]]}],\"heatmap\":[{\"type\":\"heatmap\",\"colorbar\":{\"outlinewidth\":0,\"ticks\":\"\"},\"colorscale\":[[0.0,\"#0d0887\"],[0.1111111111111111,\"#46039f\"],[0.2222222222222222,\"#7201a8\"],[0.3333333333333333,\"#9c179e\"],[0.4444444444444444,\"#bd3786\"],[0.5555555555555556,\"#d8576b\"],[0.6666666666666666,\"#ed7953\"],[0.7777777777777778,\"#fb9f3a\"],[0.8888888888888888,\"#fdca26\"],[1.0,\"#f0f921\"]]}],\"heatmapgl\":[{\"type\":\"heatmapgl\",\"colorbar\":{\"outlinewidth\":0,\"ticks\":\"\"},\"colorscale\":[[0.0,\"#0d0887\"],[0.1111111111111111,\"#46039f\"],[0.2222222222222222,\"#7201a8\"],[0.3333333333333333,\"#9c179e\"],[0.4444444444444444,\"#bd3786\"],[0.5555555555555556,\"#d8576b\"],[0.6666666666666666,\"#ed7953\"],[0.7777777777777778,\"#fb9f3a\"],[0.8888888888888888,\"#fdca26\"],[1.0,\"#f0f921\"]]}],\"contourcarpet\":[{\"type\":\"contourcarpet\",\"colorbar\":{\"outlinewidth\":0,\"ticks\":\"\"}}],\"contour\":[{\"type\":\"contour\",\"colorbar\":{\"outlinewidth\":0,\"ticks\":\"\"},\"colorscale\":[[0.0,\"#0d0887\"],[0.1111111111111111,\"#46039f\"],[0.2222222222222222,\"#7201a8\"],[0.3333333333333333,\"#9c179e\"],[0.4444444444444444,\"#bd3786\"],[0.5555555555555556,\"#d8576b\"],[0.6666666666666666,\"#ed7953\"],[0.7777777777777778,\"#fb9f3a\"],[0.8888888888888888,\"#fdca26\"],[1.0,\"#f0f921\"]]}],\"surface\":[{\"type\":\"surface\",\"colorbar\":{\"outlinewidth\":0,\"ticks\":\"\"},\"colorscale\":[[0.0,\"#0d0887\"],[0.1111111111111111,\"#46039f\"],[0.2222222222222222,\"#7201a8\"],[0.3333333333333333,\"#9c179e\"],[0.4444444444444444,\"#bd3786\"],[0.5555555555555556,\"#d8576b\"],[0.6666666666666666,\"#ed7953\"],[0.7777777777777778,\"#fb9f3a\"],[0.8888888888888888,\"#fdca26\"],[1.0,\"#f0f921\"]]}],\"mesh3d\":[{\"type\":\"mesh3d\",\"colorbar\":{\"outlinewidth\":0,\"ticks\":\"\"}}],\"scatter\":[{\"fillpattern\":{\"fillmode\":\"overlay\",\"size\":10,\"solidity\":0.2},\"type\":\"scatter\"}],\"parcoords\":[{\"type\":\"parcoords\",\"line\":{\"colorbar\":{\"outlinewidth\":0,\"ticks\":\"\"}}}],\"scatterpolargl\":[{\"type\":\"scatterpolargl\",\"marker\":{\"colorbar\":{\"outlinewidth\":0,\"ticks\":\"\"}}}],\"bar\":[{\"error_x\":{\"color\":\"#2a3f5f\"},\"error_y\":{\"color\":\"#2a3f5f\"},\"marker\":{\"line\":{\"color\":\"#E5ECF6\",\"width\":0.5},\"pattern\":{\"fillmode\":\"overlay\",\"size\":10,\"solidity\":0.2}},\"type\":\"bar\"}],\"scattergeo\":[{\"type\":\"scattergeo\",\"marker\":{\"colorbar\":{\"outlinewidth\":0,\"ticks\":\"\"}}}],\"scatterpolar\":[{\"type\":\"scatterpolar\",\"marker\":{\"colorbar\":{\"outlinewidth\":0,\"ticks\":\"\"}}}],\"histogram\":[{\"marker\":{\"pattern\":{\"fillmode\":\"overlay\",\"size\":10,\"solidity\":0.2}},\"type\":\"histogram\"}],\"scattergl\":[{\"type\":\"scattergl\",\"marker\":{\"colorbar\":{\"outlinewidth\":0,\"ticks\":\"\"}}}],\"scatter3d\":[{\"type\":\"scatter3d\",\"line\":{\"colorbar\":{\"outlinewidth\":0,\"ticks\":\"\"}},\"marker\":{\"colorbar\":{\"outlinewidth\":0,\"ticks\":\"\"}}}],\"scattermapbox\":[{\"type\":\"scattermapbox\",\"marker\":{\"colorbar\":{\"outlinewidth\":0,\"ticks\":\"\"}}}],\"scatterternary\":[{\"type\":\"scatterternary\",\"marker\":{\"colorbar\":{\"outlinewidth\":0,\"ticks\":\"\"}}}],\"scattercarpet\":[{\"type\":\"scattercarpet\",\"marker\":{\"colorbar\":{\"outlinewidth\":0,\"ticks\":\"\"}}}],\"carpet\":[{\"aaxis\":{\"endlinecolor\":\"#2a3f5f\",\"gridcolor\":\"white\",\"linecolor\":\"white\",\"minorgridcolor\":\"white\",\"startlinecolor\":\"#2a3f5f\"},\"baxis\":{\"endlinecolor\":\"#2a3f5f\",\"gridcolor\":\"white\",\"linecolor\":\"white\",\"minorgridcolor\":\"white\",\"startlinecolor\":\"#2a3f5f\"},\"type\":\"carpet\"}],\"table\":[{\"cells\":{\"fill\":{\"color\":\"#EBF0F8\"},\"line\":{\"color\":\"white\"}},\"header\":{\"fill\":{\"color\":\"#C8D4E3\"},\"line\":{\"color\":\"white\"}},\"type\":\"table\"}],\"barpolar\":[{\"marker\":{\"line\":{\"color\":\"#E5ECF6\",\"width\":0.5},\"pattern\":{\"fillmode\":\"overlay\",\"size\":10,\"solidity\":0.2}},\"type\":\"barpolar\"}],\"pie\":[{\"automargin\":true,\"type\":\"pie\"}]},\"layout\":{\"autotypenumbers\":\"strict\",\"colorway\":[\"#636efa\",\"#EF553B\",\"#00cc96\",\"#ab63fa\",\"#FFA15A\",\"#19d3f3\",\"#FF6692\",\"#B6E880\",\"#FF97FF\",\"#FECB52\"],\"font\":{\"color\":\"#2a3f5f\"},\"hovermode\":\"closest\",\"hoverlabel\":{\"align\":\"left\"},\"paper_bgcolor\":\"white\",\"plot_bgcolor\":\"#E5ECF6\",\"polar\":{\"bgcolor\":\"#E5ECF6\",\"angularaxis\":{\"gridcolor\":\"white\",\"linecolor\":\"white\",\"ticks\":\"\"},\"radialaxis\":{\"gridcolor\":\"white\",\"linecolor\":\"white\",\"ticks\":\"\"}},\"ternary\":{\"bgcolor\":\"#E5ECF6\",\"aaxis\":{\"gridcolor\":\"white\",\"linecolor\":\"white\",\"ticks\":\"\"},\"baxis\":{\"gridcolor\":\"white\",\"linecolor\":\"white\",\"ticks\":\"\"},\"caxis\":{\"gridcolor\":\"white\",\"linecolor\":\"white\",\"ticks\":\"\"}},\"coloraxis\":{\"colorbar\":{\"outlinewidth\":0,\"ticks\":\"\"}},\"colorscale\":{\"sequential\":[[0.0,\"#0d0887\"],[0.1111111111111111,\"#46039f\"],[0.2222222222222222,\"#7201a8\"],[0.3333333333333333,\"#9c179e\"],[0.4444444444444444,\"#bd3786\"],[0.5555555555555556,\"#d8576b\"],[0.6666666666666666,\"#ed7953\"],[0.7777777777777778,\"#fb9f3a\"],[0.8888888888888888,\"#fdca26\"],[1.0,\"#f0f921\"]],\"sequentialminus\":[[0.0,\"#0d0887\"],[0.1111111111111111,\"#46039f\"],[0.2222222222222222,\"#7201a8\"],[0.3333333333333333,\"#9c179e\"],[0.4444444444444444,\"#bd3786\"],[0.5555555555555556,\"#d8576b\"],[0.6666666666666666,\"#ed7953\"],[0.7777777777777778,\"#fb9f3a\"],[0.8888888888888888,\"#fdca26\"],[1.0,\"#f0f921\"]],\"diverging\":[[0,\"#8e0152\"],[0.1,\"#c51b7d\"],[0.2,\"#de77ae\"],[0.3,\"#f1b6da\"],[0.4,\"#fde0ef\"],[0.5,\"#f7f7f7\"],[0.6,\"#e6f5d0\"],[0.7,\"#b8e186\"],[0.8,\"#7fbc41\"],[0.9,\"#4d9221\"],[1,\"#276419\"]]},\"xaxis\":{\"gridcolor\":\"white\",\"linecolor\":\"white\",\"ticks\":\"\",\"title\":{\"standoff\":15},\"zerolinecolor\":\"white\",\"automargin\":true,\"zerolinewidth\":2},\"yaxis\":{\"gridcolor\":\"white\",\"linecolor\":\"white\",\"ticks\":\"\",\"title\":{\"standoff\":15},\"zerolinecolor\":\"white\",\"automargin\":true,\"zerolinewidth\":2},\"scene\":{\"xaxis\":{\"backgroundcolor\":\"#E5ECF6\",\"gridcolor\":\"white\",\"linecolor\":\"white\",\"showbackground\":true,\"ticks\":\"\",\"zerolinecolor\":\"white\",\"gridwidth\":2},\"yaxis\":{\"backgroundcolor\":\"#E5ECF6\",\"gridcolor\":\"white\",\"linecolor\":\"white\",\"showbackground\":true,\"ticks\":\"\",\"zerolinecolor\":\"white\",\"gridwidth\":2},\"zaxis\":{\"backgroundcolor\":\"#E5ECF6\",\"gridcolor\":\"white\",\"linecolor\":\"white\",\"showbackground\":true,\"ticks\":\"\",\"zerolinecolor\":\"white\",\"gridwidth\":2}},\"shapedefaults\":{\"line\":{\"color\":\"#2a3f5f\"}},\"annotationdefaults\":{\"arrowcolor\":\"#2a3f5f\",\"arrowhead\":0,\"arrowwidth\":1},\"geo\":{\"bgcolor\":\"white\",\"landcolor\":\"#E5ECF6\",\"subunitcolor\":\"white\",\"showland\":true,\"showlakes\":true,\"lakecolor\":\"white\"},\"title\":{\"x\":0.05},\"mapbox\":{\"style\":\"light\"}}},\"xaxis\":{\"anchor\":\"y\",\"domain\":[0.0,1.0],\"scaleanchor\":\"y\",\"constrain\":\"domain\"},\"yaxis\":{\"anchor\":\"x\",\"domain\":[0.0,1.0],\"autorange\":\"reversed\",\"constrain\":\"domain\"},\"coloraxis\":{\"colorbar\":{\"title\":{\"text\":\"Similarity Score\"}},\"colorscale\":[[0.0,\"rgb(247,252,240)\"],[0.125,\"rgb(224,243,219)\"],[0.25,\"rgb(204,235,197)\"],[0.375,\"rgb(168,221,181)\"],[0.5,\"rgb(123,204,196)\"],[0.625,\"rgb(78,179,211)\"],[0.75,\"rgb(43,140,190)\"],[0.875,\"rgb(8,104,172)\"],[1.0,\"rgb(8,64,129)\"]]},\"margin\":{\"t\":60},\"title\":{\"font\":{\"size\":22,\"color\":\"Black\"},\"text\":\"<b>Similarity Matrix</b>\",\"y\":0.95,\"x\":0.55,\"xanchor\":\"center\",\"yanchor\":\"top\"},\"hoverlabel\":{\"font\":{\"size\":16,\"family\":\"Rockwell\"},\"bgcolor\":\"white\"},\"width\":800,\"height\":800,\"showlegend\":true,\"legend\":{\"title\":{\"text\":\"Trend\"}}},                        {\"responsive\": true}                    ).then(function(){\n",
       "                            \n",
       "var gd = document.getElementById('69055205-a5f6-42e1-b188-4c6a2b1ed66b');\n",
       "var x = new MutationObserver(function (mutations, observer) {{\n",
       "        var display = window.getComputedStyle(gd).display;\n",
       "        if (!display || display === 'none') {{\n",
       "            console.log([gd, 'removed!']);\n",
       "            Plotly.purge(gd);\n",
       "            observer.disconnect();\n",
       "        }}\n",
       "}});\n",
       "\n",
       "// Listen for the removal of the full notebook cells\n",
       "var notebookContainer = gd.closest('#notebook-container');\n",
       "if (notebookContainer) {{\n",
       "    x.observe(notebookContainer, {childList: true});\n",
       "}}\n",
       "\n",
       "// Listen for the clearing of the current output cell\n",
       "var outputEl = gd.closest('.output');\n",
       "if (outputEl) {{\n",
       "    x.observe(outputEl, {childList: true});\n",
       "}}\n",
       "\n",
       "                        })                };                });            </script>        </div>"
      ]
     },
     "metadata": {},
     "output_type": "display_data"
    }
   ],
   "source": [
    "topic_model.visualize_heatmap()"
   ]
  },
  {
   "cell_type": "code",
   "execution_count": 118,
   "metadata": {
    "execution": {
     "iopub.execute_input": "2023-05-25T00:43:49.093286Z",
     "iopub.status.busy": "2023-05-25T00:43:49.092869Z",
     "iopub.status.idle": "2023-05-25T00:43:49.103499Z",
     "shell.execute_reply": "2023-05-25T00:43:49.102264Z",
     "shell.execute_reply.started": "2023-05-25T00:43:49.093251Z"
    }
   },
   "outputs": [
    {
     "data": {
      "text/plain": [
       "26"
      ]
     },
     "execution_count": 118,
     "metadata": {},
     "output_type": "execute_result"
    }
   ],
   "source": [
    "topic_model.get_topic_freq().shape[0]"
   ]
  },
  {
   "cell_type": "code",
   "execution_count": 119,
   "metadata": {
    "execution": {
     "iopub.execute_input": "2023-05-25T00:43:49.107073Z",
     "iopub.status.busy": "2023-05-25T00:43:49.106608Z",
     "iopub.status.idle": "2023-05-25T00:43:49.118396Z",
     "shell.execute_reply": "2023-05-25T00:43:49.117146Z",
     "shell.execute_reply.started": "2023-05-25T00:43:49.107037Z"
    }
   },
   "outputs": [
    {
     "name": "stdout",
     "output_type": "stream",
     "text": [
      "Topic 0: [('xi', 0.021294085757474168), ('country', 0.01569636495361132), ('meeting', 0.015112712251611905), ('state', 0.014016515855120058), ('chinese', 0.013958389003072969), ('biden', 0.012860494016821293), ('two', 0.012402847866961228), ('relation', 0.01227443877779661), ('foreign', 0.01185700789661914), ('side', 0.011744225518942716)]\n",
      "Topic 1: [('per', 0.027159068370429047), ('cent', 0.02669538165463662), ('trade', 0.022552643062345334), ('year', 0.022392058609976402), ('market', 0.019047265379052873), ('economic', 0.017143154654836644), ('economy', 0.015732922294106853), ('yuan', 0.014935072768426174), ('chinese', 0.014462702863270732), ('country', 0.014292451131194516)]\n",
      "Topic 2: [('military', 0.03588477910815649), ('pla', 0.03172771498998406), ('defence', 0.02182811775615065), ('force', 0.02157453952814363), ('island', 0.021360955205302495), ('nuclear', 0.018983488312849822), ('sea', 0.017248959477621003), ('aircraft', 0.016475049652950314), ('navy', 0.01573571330489915), ('chinese', 0.01451362187232355)]\n",
      "Topic 3: [('chip', 0.06043866618837817), ('semiconductor', 0.0428711083499492), ('technology', 0.03268670070839719), ('company', 0.02971295647633863), ('export', 0.02886740583976427), ('industry', 0.02744687893805835), ('advanced', 0.02644919874326437), ('memory', 0.022275249246967225), ('restriction', 0.019126769840224506), ('list', 0.01854699956883571)]\n",
      "Topic 4: [('russia', 0.04912478908345243), ('ukraine', 0.041405066429094924), ('war', 0.024871623291555886), ('moscow', 0.023966661337774434), ('russian', 0.023954025352811464), ('country', 0.01886278063298305), ('putin', 0.018074938511644354), ('blinken', 0.017807840595233097), ('sanction', 0.015323448605258366), ('peace', 0.015080146991449498)]\n",
      "Topic 5: [('nan', 6.089447918426759), ('', 1e-05), ('', 1e-05), ('', 1e-05), ('', 1e-05), ('', 1e-05), ('', 1e-05), ('', 1e-05), ('', 1e-05), ('', 1e-05)]\n",
      "Topic 6: [('tsai', 0.0536446383745646), ('island', 0.033880894482719866), ('taipei', 0.03013986178968778), ('taiwanese', 0.028240678617596413), ('mccarthy', 0.028049695783181342), ('visit', 0.026225435140753473), ('mainland', 0.020062922951729747), ('official', 0.01717188280644657), ('speaker', 0.01558623345789738), ('meeting', 0.015531343289558065)]\n",
      "Topic 7: [('balloon', 0.10561481538883831), ('object', 0.03124850971953652), ('airspace', 0.03052378845395283), ('shot', 0.025770257761960604), ('surveillance', 0.024266698092488014), ('chinese', 0.023200851504559507), ('spy', 0.021193496303826994), ('pentagon', 0.01813014322701941), ('military', 0.0175640464453225), ('incident', 0.01646560198123261)]\n",
      "Topic 8: [('philippine', 0.10906325364079826), ('marcos', 0.05054591984941296), ('sea', 0.04446797517323216), ('manila', 0.03660546472004074), ('base', 0.03236436787265302), ('south', 0.031274814740889785), ('military', 0.030141542035916864), ('jnr', 0.024347598759534135), ('defence', 0.023243126652016766), ('edca', 0.01974214640677221)]\n",
      "Topic 9: [('guo', 0.03547089099281418), ('case', 0.03365427634081981), ('charge', 0.02999233473230582), ('trump', 0.028807776018624824), ('chinese', 0.027031681467153047), ('court', 0.02648423619839236), ('justice', 0.025841358973871888), ('indictment', 0.023790997133533703), ('york', 0.02143719668338203), ('department', 0.021165695446330086)]\n",
      "Topic 10: [('korea', 0.10823121727880637), ('north', 0.07259566143014859), ('south', 0.06139754590606323), ('korean', 0.05563595638277566), ('yoon', 0.047338217584731355), ('seoul', 0.03727476783829119), ('nuclear', 0.03312310477789027), ('japan', 0.03246627155229479), ('missile', 0.02452480644444933), ('pyongyang', 0.023860569194259527)]\n",
      "Topic 11: [('tiktok', 0.10488504014282708), ('app', 0.04852925927045128), ('bytedance', 0.040163503522557834), ('ban', 0.038394767780723774), ('user', 0.036232096310705376), ('data', 0.033283793499268195), ('government', 0.024574372126721238), ('company', 0.023225182438080257), ('device', 0.021269112693557298), ('chinese', 0.01975364361802648)]\n",
      "Topic 12: [('letter', 0.03054374268936976), ('must', 0.01995675331685291), ('emailing', 0.019085571401830627), ('exceed', 0.0186866195201538), ('verification', 0.018541712888670903), ('submission', 0.018506100254483262), ('editor', 0.018175804972093982), ('filling', 0.017390095296818186), ('aspect', 0.017374854818066592), ('plus', 0.016928975129732435)]\n",
      "Topic 13: [('republican', 0.07027843361377409), ('house', 0.047259679664270055), ('mccarthy', 0.039795638637862396), ('committee', 0.03884035202270498), ('democrat', 0.03372280717107889), ('party', 0.025841830827766525), ('senate', 0.02390495852931208), ('speaker', 0.02212645245158488), ('biden', 0.019446918335605884), ('vote', 0.018615961553194532)]\n",
      "Topic 14: [('sanction', 0.02792228276410936), ('company', 0.02503539866508042), ('chinese', 0.020815248362063065), ('iran', 0.019526222978377444), ('list', 0.017991025219988743), ('iranian', 0.017273144870073722), ('export', 0.01723203797661122), ('sale', 0.01693494522075427), ('wto', 0.016910071676199182), ('trade', 0.016619338062922838)]\n",
      "Topic 15: [('boeing', 0.05001882373693968), ('aviation', 0.042989317599955175), ('airbus', 0.04080628744365546), ('airline', 0.033695813166071814), ('flight', 0.030623547601591927), ('max', 0.02705032388743626), ('passenger', 0.02705032388743626), ('aircraft', 0.025391516147763103), ('jet', 0.024913337185199707), ('comac', 0.023274187553787486)]\n",
      "Topic 16: [('tiktok', 0.08226288952053473), ('bill', 0.04531191282312373), ('ban', 0.04204990858543806), ('app', 0.03088399042220069), ('user', 0.030666753838092715), ('data', 0.02966484487433585), ('republican', 0.025419795471053466), ('government', 0.025234768463456143), ('house', 0.023184902619295508), ('device', 0.022735795615078)]\n",
      "Topic 17: [('company', 0.04521214865644762), ('capital', 0.023090584091208594), ('market', 0.02190309237383313), ('investor', 0.020282705714292335), ('according', 0.01959264537675438), ('chinese', 0.018596906040006494), ('investment', 0.01850443239187777), ('per', 0.01750034444824434), ('cent', 0.01686984508847889), ('berkshire', 0.016407182254711602)]\n",
      "Topic 18: [('law', 0.07385255939093363), ('city', 0.0408341821318515), ('national', 0.037456248211744765), ('security', 0.033862910577277014), ('report', 0.029926113552176073), ('religious', 0.025946072002758586), ('judge', 0.025285001901455936), ('freedom', 0.024119233311776234), ('government', 0.02405316543000562), ('case', 0.023499948118371434)]\n",
      "Topic 19: [('japan', 0.07150436223123884), ('defence', 0.036256909954649856), ('japanese', 0.031233443949999686), ('kishida', 0.030429085521737256), ('military', 0.025925406012678478), ('tokyo', 0.023118153324807808), ('nuclear', 0.019328893406404046), ('minister', 0.019172277429656714), ('washington', 0.019091954600126117), ('security', 0.018696103551655303)]\n",
      "Topic 20: [('saudi', 0.1071940526049623), ('arabia', 0.08283627879398801), ('middle', 0.040709587834595516), ('arab', 0.03739071953857109), ('east', 0.03686258546220303), ('iran', 0.03650080015310183), ('gulf', 0.03608272749594176), ('oil', 0.034756045667194396), ('riyadh', 0.03414582808525185), ('energy', 0.030043719447460343)]\n",
      "Topic 21: [('pacific', 0.06814278344276267), ('africa', 0.06344431618505775), ('island', 0.049923315730687395), ('african', 0.034006245948472805), ('washington', 0.026884424517430193), ('solomon', 0.0263064709554532), ('region', 0.02582141959489967), ('summit', 0.025067268762759828), ('nation', 0.024963808813717965), ('leader', 0.02295232495844975)]\n",
      "Topic 22: [('washington', 0.01598068354721491), ('region', 0.015928703309829092), ('economic', 0.014903038379944502), ('policy', 0.014401602063891445), ('military', 0.014381569237598655), ('conflict', 0.013725875405907273), ('country', 0.013536424514389817), ('climate', 0.013437608267711032), ('year', 0.013397230804866333), ('global', 0.013361258205049195)]\n",
      "Topic 23: [('huawei', 0.10548526406719234), ('meng', 0.04337597241417409), ('company', 0.04082091107984202), ('equipment', 0.034220013800232055), ('network', 0.0303143703151762), ('fcc', 0.02619964121301039), ('ren', 0.023941812083661907), ('report', 0.02291694023382168), ('chinese', 0.02100017242018791), ('capvision', 0.02072918390948768)]\n",
      "Topic 24: [('australia', 0.10011249708596391), ('submarine', 0.08180797802435931), ('aukus', 0.064996469980261), ('australian', 0.04302056520872635), ('nuclearpowered', 0.036432913659514496), ('britain', 0.026912421032472104), ('british', 0.020653153088912714), ('defence', 0.02056282466529161), ('marles', 0.020193859093056685), ('minister', 0.019312163194016088)]\n",
      "Topic 25: False\n"
     ]
    }
   ],
   "source": [
    "# obtain label and its topics. total 29 topics topics\n",
    "for topic_id in range(topic_model.get_topic_freq().shape[0]):\n",
    "    topic_labels = topic_model.get_topic(topic_id)\n",
    "    print(f\"Topic {topic_id}: {topic_labels}\")"
   ]
  },
  {
   "cell_type": "code",
   "execution_count": 120,
   "metadata": {
    "execution": {
     "iopub.execute_input": "2023-05-25T00:43:49.120510Z",
     "iopub.status.busy": "2023-05-25T00:43:49.120147Z",
     "iopub.status.idle": "2023-05-25T00:43:49.129862Z",
     "shell.execute_reply": "2023-05-25T00:43:49.128685Z",
     "shell.execute_reply.started": "2023-05-25T00:43:49.120478Z"
    }
   },
   "outputs": [],
   "source": [
    "# now, i want to assign these label back into the document"
   ]
  },
  {
   "cell_type": "code",
   "execution_count": 121,
   "metadata": {
    "collapsed": true,
    "execution": {
     "iopub.execute_input": "2023-05-25T00:43:49.132387Z",
     "iopub.status.busy": "2023-05-25T00:43:49.131913Z",
     "iopub.status.idle": "2023-05-25T00:43:49.203797Z",
     "shell.execute_reply": "2023-05-25T00:43:49.202172Z",
     "shell.execute_reply.started": "2023-05-25T00:43:49.132350Z"
    },
    "jupyter": {
     "outputs_hidden": true
    }
   },
   "outputs": [
    {
     "data": {
      "text/html": [
       "<div>\n",
       "<style scoped>\n",
       "    .dataframe tbody tr th:only-of-type {\n",
       "        vertical-align: middle;\n",
       "    }\n",
       "\n",
       "    .dataframe tbody tr th {\n",
       "        vertical-align: top;\n",
       "    }\n",
       "\n",
       "    .dataframe thead th {\n",
       "        text-align: right;\n",
       "    }\n",
       "</style>\n",
       "<table border=\"1\" class=\"dataframe\">\n",
       "  <thead>\n",
       "    <tr style=\"text-align: right;\">\n",
       "      <th></th>\n",
       "      <th>index</th>\n",
       "      <th>title</th>\n",
       "      <th>summary</th>\n",
       "      <th>url</th>\n",
       "      <th>source</th>\n",
       "      <th>clean_text</th>\n",
       "      <th>tokens</th>\n",
       "      <th>filtered_tokens</th>\n",
       "      <th>lem_tokens</th>\n",
       "      <th>topic</th>\n",
       "      <th>0</th>\n",
       "      <th>0</th>\n",
       "    </tr>\n",
       "  </thead>\n",
       "  <tbody>\n",
       "    <tr>\n",
       "      <th>0</th>\n",
       "      <td>Summit a âmajor diplomatic eventâ to boost Chinaâs ties with Central Asia</td>\n",
       "      <td>Leaders of Kazakhstan, Kyrgyzstan, Tajikistan, Turkmenistan and Uzbekistan invited to first China-Central Asia summit\\nPresence of ethnic Russians in the five countries has triggered fears Moscow could target their territory next, analyst says\\n</td>\n",
       "      <td>/news/china/diplomacy/article/3213710/summit-major-diplomatic-event-boost-chinas-ties-central-asian-nations-amid-ukraine-afghanistan</td>\n",
       "      <td>us_china_spider</td>\n",
       "      <td>China is expected to further boost ties with Central Asia when President Xi Jinping hosts his counterparts from the region amid uncertainties stemming from Russiaâs war in Ukraine and increasing hostility from the West. Beijing has hailed the two-day summit of nations in the vast and geo-strategically important neighbouring region on Thursday and Friday as the âfirst major diplomatic event...</td>\n",
       "      <td>china is expected to further boost ties with central asia when president xi jinping hosts his counterparts from the region amid uncertainties stemming from russia s war in ukraine and increasing hostility from the west beijing has hailed the twoday summit of nations in the vast and geostrategically important neighbouring region on thursday and friday as the first major diplomatic event that ch...</td>\n",
       "      <td>[china, is, expected, to, further, boost, ties, with, central, asia, when, president, xi, jinping, hosts, his, counterparts, from, the, region, amid, uncertainties, stemming, from, russia, s, war, in, ukraine, and, increasing, hostility, from, the, west, beijing, has, hailed, the, twoday, summit, of, nations, in, the, vast, and, geostrategically, important, neighbouring, region, on, thursday, ...</td>\n",
       "      <td>[expected, boost, ties, central, asia, president, xi, jinping, hosts, counterparts, region, amid, uncertainties, stemming, russia, war, ukraine, increasing, hostility, west, hailed, twoday, summit, nations, vast, geostrategically, important, neighbouring, region, thursday, friday, first, major, diplomatic, event, hosts, year, meeting, xian, northwestern, province, shaanxi, coincides, leaders, ...</td>\n",
       "      <td>[expected, boost, tie, central, asia, president, xi, jinping, host, counterpart, region, amid, uncertainty, stemming, russia, war, ukraine, increasing, hostility, west, hailed, twoday, summit, nation, vast, geostrategically, important, neighbouring, region, thursday, friday, first, major, diplomatic, event, host, year, meeting, xian, northwestern, province, shaanxi, coincides, leader, summit, ...</td>\n",
       "      <td>apac</td>\n",
       "      <td>0.000000</td>\n",
       "      <td>0.000000</td>\n",
       "    </tr>\n",
       "    <tr>\n",
       "      <th>1</th>\n",
       "      <td>US arrests man on charges of acting as unregistered foreign agent for Beijing</td>\n",
       "      <td>Litang Liang, 63, of Massachusetts is accused of reporting to consulate officials on protests in the Boston area against China government actions since 2018.\\n</td>\n",
       "      <td>/news/china/diplomacy/article/3220662/us-arrests-chinese-american-charges-acting-unregistered-foreign-agent-beijing</td>\n",
       "      <td>us_china_spider</td>\n",
       "      <td>A Chinese-American man was arrested last week for allegedly serving as an agent of the Chinese government without notifying the US government, the Department of Justice announced on Monday. Litang Liang, 63, of Brighton, Massachusetts, was accused of providing Chinese officials with information about Boston-area individuals and organisations; leading a counter-protest against anti-Beijing acti...</td>\n",
       "      <td>a chineseamerican man was arrested last week for allegedly serving as an agent of the chinese government without notifying the us government the department of justice announced on monday litang liang of brighton massachusetts was accused of providing chinese officials with information about bostonarea individuals and organisations leading a counterprotest against antibeijing activists and sugg...</td>\n",
       "      <td>[a, chineseamerican, man, was, arrested, last, week, for, allegedly, serving, as, an, agent, of, the, chinese, government, without, notifying, the, us, government, the, department, of, justice, announced, on, monday, litang, liang, of, brighton, massachusetts, was, accused, of, providing, chinese, officials, with, information, about, bostonarea, individuals, and, organisations, leading, a, cou...</td>\n",
       "      <td>[chineseamerican, man, arrested, last, week, allegedly, serving, agent, chinese, government, without, notifying, government, department, justice, announced, monday, litang, liang, brighton, massachusetts, accused, providing, chinese, officials, information, bostonarea, individuals, organisations, leading, counterprotest, antibeijing, activists, suggesting, potential, recruits, ministry, public...</td>\n",
       "      <td>[chineseamerican, man, arrested, last, week, allegedly, serving, agent, chinese, government, without, notifying, government, department, justice, announced, monday, litang, liang, brighton, massachusetts, accused, providing, chinese, official, information, bostonarea, individual, organisation, leading, counterprotest, antibeijing, activist, suggesting, potential, recruit, ministry, public, sec...</td>\n",
       "      <td>apac</td>\n",
       "      <td>1.000000</td>\n",
       "      <td>1.000000</td>\n",
       "    </tr>\n",
       "    <tr>\n",
       "      <th>2</th>\n",
       "      <td>US report says China jailed as many as 10,000 religious adherents</td>\n",
       "      <td>Beijing has broadened its efforts to bring all theological activity under Communist Party control, according to annual State Department publication.\\n</td>\n",
       "      <td>/news/china/article/3220659/us-religious-freedom-report-accuses-china-jailing-many-10000-people-repression-campaign</td>\n",
       "      <td>us_china_spider</td>\n",
       "      <td>The US government on Monday accused Beijing of jailing as many as 10,000 or more people in 2022 in a widening campaign of repression against religious belief meant to bring all theological activity under the Chinese Communist Party âs control. The estimate of those imprisoned in the country ranging âfrom the low thousands to over 10,000â is one of many accusations contained in the State ...</td>\n",
       "      <td>the us government on monday accused beijing of jailing as many as or more people in in a widening campaign of repression against religious belief meant to bring all theological activity under the chinese communist party s control the estimate of those imprisoned in the country ranging from the low thousands to over is one of many accusations contained in the state department s international re...</td>\n",
       "      <td>[the, us, government, on, monday, accused, beijing, of, jailing, as, many, as, or, more, people, in, in, a, widening, campaign, of, repression, against, religious, belief, meant, to, bring, all, theological, activity, under, the, chinese, communist, party, s, control, the, estimate, of, those, imprisoned, in, the, country, ranging, from, the, low, thousands, to, over, is, one, of, many, accusa...</td>\n",
       "      <td>[government, monday, accused, jailing, many, people, widening, campaign, repression, religious, belief, meant, bring, theological, activity, chinese, communist, party, control, estimate, imprisoned, country, ranging, low, thousands, one, many, accusations, contained, state, department, international, religious, freedom, report, published, annually, since, covers, nearly, countries, report, sec...</td>\n",
       "      <td>[government, monday, accused, jailing, many, people, widening, campaign, repression, religious, belief, meant, bring, theological, activity, chinese, communist, party, control, estimate, imprisoned, country, ranging, low, thousand, one, many, accusation, contained, state, department, international, religious, freedom, report, published, annually, since, cover, nearly, country, report, section,...</td>\n",
       "      <td>apac</td>\n",
       "      <td>0.779802</td>\n",
       "      <td>0.779802</td>\n",
       "    </tr>\n",
       "    <tr>\n",
       "      <th>3</th>\n",
       "      <td>US citizen with Hong Kong residency given life sentence for spying in China</td>\n",
       "      <td>John Shing-wan Leung, 78, was convicted and sentenced in Suzhou court on Monday for committing espionage activities in China.\\n</td>\n",
       "      <td>/news/china/politics/article/3220562/hong-kong-resident-american-passport-sentenced-life-china-after-being-convicted-spying-charges</td>\n",
       "      <td>us_china_spider</td>\n",
       "      <td>A US-based Hong Kong permanent resident â who is believed to have promoted business and cultural exchanges â was sentenced to life in prison on Monday after being convicted on spying charges in China. It comes as China is stepping up efforts targeting spies, especially those from the United States and its allies. But a lack of transparency around national security cases in China and âmut...</td>\n",
       "      <td>a usbased hong kong permanent resident who is believed to have promoted business and cultural exchanges was sentenced to life in prison on monday after being convicted on spying charges in china it comes as china is stepping up efforts targeting spies especially those from the united states and its allies but a lack of transparency around national security cases in china and mutual recriminati...</td>\n",
       "      <td>[a, usbased, hong, kong, permanent, resident, who, is, believed, to, have, promoted, business, and, cultural, exchanges, was, sentenced, to, life, in, prison, on, monday, after, being, convicted, on, spying, charges, in, china, it, comes, as, china, is, stepping, up, efforts, targeting, spies, especially, those, from, the, united, states, and, its, allies, but, a, lack, of, transparency, aroun...</td>\n",
       "      <td>[usbased, permanent, resident, believed, promoted, business, cultural, exchanges, sentenced, life, prison, monday, convicted, spying, charges, comes, stepping, efforts, targeting, spies, especially, united, states, allies, lack, transparency, around, national, security, cases, mutual, recriminations, perceived, espionage, activities, contradict, talk, encouraging, foreign, investment, country,...</td>\n",
       "      <td>[usbased, permanent, resident, believed, promoted, business, cultural, exchange, sentenced, life, prison, monday, convicted, spying, charge, come, stepping, effort, targeting, spy, especially, united, state, ally, lack, transparency, around, national, security, case, mutual, recrimination, perceived, espionage, activity, contradict, talk, encouraging, foreign, investment, country, legal, exper...</td>\n",
       "      <td>apac</td>\n",
       "      <td>0.875451</td>\n",
       "      <td>0.875451</td>\n",
       "    </tr>\n",
       "    <tr>\n",
       "      <th>4</th>\n",
       "      <td>ExplainerWhatâs Joe Biden up to on his 8-day trip to the Asia-Pacific?</td>\n",
       "      <td>The 80-year-old will visit a city that the US destroyed with a nuclear bomb and spend an awful lot of time with Indiaâs prime minister as he looks to demonstrate that he still has enough in the tank to handle the gruelling pace of the presidency.\\n</td>\n",
       "      <td>/news/asia/article/3220558/whats-joe-biden-his-eight-day-trip-asia-pacific</td>\n",
       "      <td>us_china_spider</td>\n",
       "      <td>US President Joe Biden has an ambitious agenda when he sets off this week on an eight-day trip to the Indo-Pacific . Heâs looking to tighten bonds with long-time allies, make history as the first sitting president of the United States to visit the tiny island state of Papua New Guinea and spotlight his administrationâs commitment to the Pacific. The three-country trip also presents the 80-...</td>\n",
       "      <td>us president joe biden has an ambitious agenda when he sets off this week on an eightday trip to the indopacific he s looking to tighten bonds with longtime allies make history as the first sitting president of the united states to visit the tiny island state of papua new guinea and spotlight his administration s commitment to the pacific the threecountry trip also presents the biden who recen...</td>\n",
       "      <td>[us, president, joe, biden, has, an, ambitious, agenda, when, he, sets, off, this, week, on, an, eightday, trip, to, the, indopacific, he, s, looking, to, tighten, bonds, with, longtime, allies, make, history, as, the, first, sitting, president, of, the, united, states, to, visit, the, tiny, island, state, of, papua, new, guinea, and, spotlight, his, administration, s, commitment, to, the, pac...</td>\n",
       "      <td>[president, joe, biden, ambitious, agenda, sets, week, eightday, trip, indopacific, looking, tighten, bonds, longtime, allies, make, history, first, sitting, president, united, states, visit, tiny, island, state, papua, new, guinea, spotlight, administration, commitment, pacific, threecountry, trip, presents, biden, recently, announced, running, reelection, opportunity, demonstrate, still, eno...</td>\n",
       "      <td>[president, joe, biden, ambitious, agenda, set, week, eightday, trip, indopacific, looking, tighten, bond, longtime, ally, make, history, first, sitting, president, united, state, visit, tiny, island, state, papua, new, guinea, spotlight, administration, commitment, pacific, threecountry, trip, present, biden, recently, announced, running, reelection, opportunity, demonstrate, still, enough, t...</td>\n",
       "      <td>apac</td>\n",
       "      <td>0.000000</td>\n",
       "      <td>0.000000</td>\n",
       "    </tr>\n",
       "    <tr>\n",
       "      <th>5</th>\n",
       "      <td>LettersCanada mustnât be sucked into the vortex of Americaâs China policy</td>\n",
       "      <td>Readers discuss deteriorating China-Canada relations, Cathay Pacificâs flagship carrier status, the replacement of liberal studies, and the rising number of Hong Kong students struggling with mental health.\\n</td>\n",
       "      <td>/comment/letters/article/3220382/canada-mustnt-be-sucked-vortex-americas-china-policy</td>\n",
       "      <td>us_china_spider</td>\n",
       "      <td>Feel strongly about these letters, or any other aspects of the news? Share your views by emailing us your Letter to the Editor at  letters@scmp.com  or filling in  this Google form . Submissions should not exceed 400 words, and must include your full name and address, plus a phone number for verification. Allegations of Chinese interference in Canadian politics are in the news again. This time...</td>\n",
       "      <td>feel strongly about these letters or any other aspects of the news share your views by emailing us your letter to the editor at lettersscmpcom or filling in this google form submissions should not exceed words and must include your full name and address plus a phone number for verification allegations of chinese interference in canadian politics are in the news again this time the allegation t...</td>\n",
       "      <td>[feel, strongly, about, these, letters, or, any, other, aspects, of, the, news, share, your, views, by, emailing, us, your, letter, to, the, editor, at, lettersscmpcom, or, filling, in, this, google, form, submissions, should, not, exceed, words, and, must, include, your, full, name, and, address, plus, a, phone, number, for, verification, allegations, of, chinese, interference, in, canadian, ...</td>\n",
       "      <td>[feel, strongly, letters, aspects, news, share, views, emailing, letter, editor, filling, google, form, submissions, exceed, words, must, include, full, name, address, plus, phone, number, verification, allegations, chinese, interference, canadian, politics, news, time, allegation, tried, influence, outcome, canada, federal, elections, intimidate, canadian, opposition, lawmaker, led, expulsion...</td>\n",
       "      <td>[feel, strongly, letter, aspect, news, share, view, emailing, letter, editor, filling, google, form, submission, exceed, word, must, include, full, name, address, plus, phone, number, verification, allegation, chinese, interference, canadian, politics, news, time, allegation, tried, influence, outcome, canada, federal, election, intimidate, canadian, opposition, lawmaker, led, expulsion, chine...</td>\n",
       "      <td>apac</td>\n",
       "      <td>0.253034</td>\n",
       "      <td>0.253034</td>\n",
       "    </tr>\n",
       "    <tr>\n",
       "      <th>6</th>\n",
       "      <td>Beijing vows support for Hong Kong judges after US report calls for sanctions</td>\n",
       "      <td>Chinaâs foreign ministry condemns US report calling for sanctions against 29 judicial officers handling national security cases.\\n</td>\n",
       "      <td>/news/hong-kong/politics/article/3220538/beijing-vows-support-hong-kong-judges-after-us-congressional-advisers-call-sanctions</td>\n",
       "      <td>us_china_spider</td>\n",
       "      <td>Beijing has reassured Hong Kong judges that they will receive unwavering support from the central government in executing their duties and that their legitimate rights will be protected amid threats of US sanctions. Chinaâs foreign ministry on Monday condemned a United States congressional report last week that called for sanctions against 29 judicial officers handling national security case...</td>\n",
       "      <td>beijing has reassured hong kong judges that they will receive unwavering support from the central government in executing their duties and that their legitimate rights will be protected amid threats of us sanctions china s foreign ministry on monday condemned a united states congressional report last week that called for sanctions against judicial officers handling national security cases the ...</td>\n",
       "      <td>[beijing, has, reassured, hong, kong, judges, that, they, will, receive, unwavering, support, from, the, central, government, in, executing, their, duties, and, that, their, legitimate, rights, will, be, protected, amid, threats, of, us, sanctions, china, s, foreign, ministry, on, monday, condemned, a, united, states, congressional, report, last, week, that, called, for, sanctions, against, ju...</td>\n",
       "      <td>[reassured, judges, receive, unwavering, support, central, government, executing, duties, legitimate, rights, protected, amid, threats, sanctions, foreign, ministry, monday, condemned, united, states, congressional, report, last, week, called, sanctions, judicial, officers, handling, national, security, cases, report, claimed, judges, role, weakened, rule, law, independent, judiciary, foreign,...</td>\n",
       "      <td>[reassured, judge, receive, unwavering, support, central, government, executing, duty, legitimate, right, protected, amid, threat, sanction, foreign, ministry, monday, condemned, united, state, congressional, report, last, week, called, sanction, judicial, officer, handling, national, security, case, report, claimed, judge, role, weakened, rule, law, independent, judiciary, foreign, ministry, ...</td>\n",
       "      <td>apac</td>\n",
       "      <td>1.000000</td>\n",
       "      <td>1.000000</td>\n",
       "    </tr>\n",
       "    <tr>\n",
       "      <th>7</th>\n",
       "      <td>Chinese Communist Party newspaper warns foreign firms after Capvision raids</td>\n",
       "      <td>An editorial in Peopleâs Daily says the country will take a âzero toleranceâ approach to efforts to hand over information on sensitive industries.\\n</td>\n",
       "      <td>/news/china/politics/article/3220515/chinese-communist-partys-mouthpiece-issues-national-security-warning-foreign-firms-after-capvision</td>\n",
       "      <td>us_china_spider</td>\n",
       "      <td>The Chinese Communist Partyâs flagship newspaper has warned foreign consulting companies to beware of the countryâs laws on spying and national security following the raid on the international consulting firm Capvision . In an editorial published after the raids, Peopleâs Daily said an investigation had found the US and Shanghai-based company took on projects from âa large number of co...</td>\n",
       "      <td>the chinese communist party s flagship newspaper has warned foreign consulting companies to beware of the country s laws on spying and national security following the raid on the international consulting firm capvision in an editorial published after the raids people s daily said an investigation had found the us and shanghaibased company took on projects from a large number of companies that ...</td>\n",
       "      <td>[the, chinese, communist, party, s, flagship, newspaper, has, warned, foreign, consulting, companies, to, beware, of, the, country, s, laws, on, spying, and, national, security, following, the, raid, on, the, international, consulting, firm, capvision, in, an, editorial, published, after, the, raids, people, s, daily, said, an, investigation, had, found, the, us, and, shanghaibased, company, t...</td>\n",
       "      <td>[chinese, communist, party, flagship, newspaper, warned, foreign, consulting, companies, beware, country, laws, spying, national, security, following, raid, international, consulting, firm, capvision, editorial, published, raids, people, daily, investigation, found, shanghaibased, company, took, projects, large, number, companies, related, sensitive, industries, article, described, national, s...</td>\n",
       "      <td>[chinese, communist, party, flagship, newspaper, warned, foreign, consulting, company, beware, country, law, spying, national, security, following, raid, international, consulting, firm, capvision, editorial, published, raid, people, daily, investigation, found, shanghaibased, company, took, project, large, number, company, related, sensitive, industry, article, described, national, security, ...</td>\n",
       "      <td>apac</td>\n",
       "      <td>0.000000</td>\n",
       "      <td>0.000000</td>\n",
       "    </tr>\n",
       "    <tr>\n",
       "      <th>8</th>\n",
       "      <td>US regional strategy is an ocean short compared with China, critics say</td>\n",
       "      <td>By Washington leaving the âIndoâ part of its policy to regional powers like India, it undermines direct engagement with smaller, neglected countries, expert says.\\n</td>\n",
       "      <td>/news/china/article/3220451/us-counter-china-indo-pacific-it-must-prioritise-indian-ocean-island-nations-analysts</td>\n",
       "      <td>us_china_spider</td>\n",
       "      <td>In 1967, after a months-long holiday in Mauritius, then 12-year-old Louis Humbert along with his mother and brothers sought to return to his native Chagos, a chain of 60 islands dotting the Indian Ocean. They learned the islands were âclosedâ. That was because the US began setting up a military base on the Chagossian island of Diego Garcia in 1966. Recognising its strategic value, the US g...</td>\n",
       "      <td>in after a monthslong holiday in mauritius then louis humbert along with his mother and brothers sought to return to his native chagos a chain of islands dotting the indian ocean they learned the islands were closed that was because the us began setting up a military base on the chagossian island of diego garcia in recognising its strategic value the us gradually removed the native population ...</td>\n",
       "      <td>[in, after, a, monthslong, holiday, in, mauritius, then, louis, humbert, along, with, his, mother, and, brothers, sought, to, return, to, his, native, chagos, a, chain, of, islands, dotting, the, indian, ocean, they, learned, the, islands, were, closed, that, was, because, the, us, began, setting, up, a, military, base, on, the, chagossian, island, of, diego, garcia, in, recognising, its, stra...</td>\n",
       "      <td>[monthslong, holiday, mauritius, louis, humbert, along, mother, brothers, sought, return, native, chagos, chain, islands, dotting, indian, ocean, learned, islands, closed, began, setting, military, base, chagossian, island, diego, garcia, recognising, strategic, value, gradually, removed, native, population, around, remote, atoll, reaching, secret, deal, britain, colonised, mauritius, diego, g...</td>\n",
       "      <td>[monthslong, holiday, mauritius, louis, humbert, along, mother, brother, sought, return, native, chagos, chain, island, dotting, indian, ocean, learned, island, closed, began, setting, military, base, chagossian, island, diego, garcia, recognising, strategic, value, gradually, removed, native, population, around, remote, atoll, reaching, secret, deal, britain, colonised, mauritius, diego, garc...</td>\n",
       "      <td>apac</td>\n",
       "      <td>0.138143</td>\n",
       "      <td>0.138143</td>\n",
       "    </tr>\n",
       "    <tr>\n",
       "      <th>9</th>\n",
       "      <td>ExclusiveBlinken hopes to visit China âin the near futureâ, adviser says</td>\n",
       "      <td>Trip to China would come as US looks for ways to âdepressuriseâ ties with China following the spy balloon row, aide says.\\n</td>\n",
       "      <td>/news/china/diplomacy/article/3220465/us-secretary-state-antony-blinken-hoping-visit-china-near-future-close-adviser-says</td>\n",
       "      <td>us_china_spider</td>\n",
       "      <td>US Secretary of State Antony Blinken is hoping to visit China âin the near futureâ, as Washington looks to âdepressuriseâ its relationship with Beijing , according to one of his top advisers. The superpower relationship has sunk to its lowest point in decades in recent months. Face-to-face diplomacy was frozen after Blinken cancelled a trip to China in February, following a row over an...</td>\n",
       "      <td>us secretary of state antony blinken is hoping to visit china in the near future as washington looks to depressurise its relationship with beijing according to one of his top advisers the superpower relationship has sunk to its lowest point in decades in recent months facetoface diplomacy was frozen after blinken cancelled a trip to china in february following a row over an alleged chinese spy...</td>\n",
       "      <td>[us, secretary, of, state, antony, blinken, is, hoping, to, visit, china, in, the, near, future, as, washington, looks, to, depressurise, its, relationship, with, beijing, according, to, one, of, his, top, advisers, the, superpower, relationship, has, sunk, to, its, lowest, point, in, decades, in, recent, months, facetoface, diplomacy, was, frozen, after, blinken, cancelled, a, trip, to, china...</td>\n",
       "      <td>[secretary, state, antony, blinken, hoping, visit, near, future, washington, looks, depressurise, relationship, according, one, top, advisers, superpower, relationship, sunk, lowest, point, decades, recent, months, facetoface, diplomacy, frozen, blinken, cancelled, trip, february, following, row, alleged, chinese, spy, balloon, flying, united, states, invited, eu, indopacific, policy, talks, l...</td>\n",
       "      <td>[secretary, state, antony, blinken, hoping, visit, near, future, washington, look, depressurise, relationship, according, one, top, adviser, superpower, relationship, sunk, lowest, point, decade, recent, month, facetoface, diplomacy, frozen, blinken, cancelled, trip, february, following, row, alleged, chinese, spy, balloon, flying, united, state, invited, eu, indopacific, policy, talk, loom, b...</td>\n",
       "      <td>apac</td>\n",
       "      <td>0.892637</td>\n",
       "      <td>0.892637</td>\n",
       "    </tr>\n",
       "  </tbody>\n",
       "</table>\n",
       "</div>"
      ],
      "text/plain": [
       "                                                                             index  \\\n",
       "0  Summit a âmajor diplomatic eventâ to boost Chinaâs ties with Central Asia   \n",
       "1    US arrests man on charges of acting as unregistered foreign agent for Beijing   \n",
       "2                US report says China jailed as many as 10,000 religious adherents   \n",
       "3      US citizen with Hong Kong residency given life sentence for spying in China   \n",
       "4         ExplainerWhatâs Joe Biden up to on his 8-day trip to the Asia-Pacific?   \n",
       "5    LettersCanada mustnât be sucked into the vortex of Americaâs China policy   \n",
       "6    Beijing vows support for Hong Kong judges after US report calls for sanctions   \n",
       "7      Chinese Communist Party newspaper warns foreign firms after Capvision raids   \n",
       "8          US regional strategy is an ocean short compared with China, critics say   \n",
       "9     ExclusiveBlinken hopes to visit China âin the near futureâ, adviser says   \n",
       "\n",
       "                                                                                                                                                                                                                                                        title  \\\n",
       "0       Leaders of Kazakhstan, Kyrgyzstan, Tajikistan, Turkmenistan and Uzbekistan invited to first China-Central Asia summit\\nPresence of ethnic Russians in the five countries has triggered fears Moscow could target their territory next, analyst says\\n   \n",
       "1                                                                                             Litang Liang, 63, of Massachusetts is accused of reporting to consulate officials on protests in the Boston area against China government actions since 2018.\\n   \n",
       "2                                                                                                      Beijing has broadened its efforts to bring all theological activity under Communist Party control, according to annual State Department publication.\\n   \n",
       "3                                                                                                                             John Shing-wan Leung, 78, was convicted and sentenced in Suzhou court on Monday for committing espionage activities in China.\\n   \n",
       "4  The 80-year-old will visit a city that the US destroyed with a nuclear bomb and spend an awful lot of time with Indiaâs prime minister as he looks to demonstrate that he still has enough in the tank to handle the gruelling pace of the presidency.\\n   \n",
       "5                                          Readers discuss deteriorating China-Canada relations, Cathay Pacificâs flagship carrier status, the replacement of liberal studies, and the rising number of Hong Kong students struggling with mental health.\\n   \n",
       "6                                                                                                                        Chinaâs foreign ministry condemns US report calling for sanctions against 29 judicial officers handling national security cases.\\n   \n",
       "7                                                                                                  An editorial in Peopleâs Daily says the country will take a âzero toleranceâ approach to efforts to hand over information on sensitive industries.\\n   \n",
       "8                                                                                    By Washington leaving the âIndoâ part of its policy to regional powers like India, it undermines direct engagement with smaller, neglected countries, expert says.\\n   \n",
       "9                                                                                                                             Trip to China would come as US looks for ways to âdepressuriseâ ties with China following the spy balloon row, aide says.\\n   \n",
       "\n",
       "                                                                                                                                   summary  \\\n",
       "0     /news/china/diplomacy/article/3213710/summit-major-diplomatic-event-boost-chinas-ties-central-asian-nations-amid-ukraine-afghanistan   \n",
       "1                      /news/china/diplomacy/article/3220662/us-arrests-chinese-american-charges-acting-unregistered-foreign-agent-beijing   \n",
       "2                      /news/china/article/3220659/us-religious-freedom-report-accuses-china-jailing-many-10000-people-repression-campaign   \n",
       "3      /news/china/politics/article/3220562/hong-kong-resident-american-passport-sentenced-life-china-after-being-convicted-spying-charges   \n",
       "4                                                               /news/asia/article/3220558/whats-joe-biden-his-eight-day-trip-asia-pacific   \n",
       "5                                                    /comment/letters/article/3220382/canada-mustnt-be-sucked-vortex-americas-china-policy   \n",
       "6            /news/hong-kong/politics/article/3220538/beijing-vows-support-hong-kong-judges-after-us-congressional-advisers-call-sanctions   \n",
       "7  /news/china/politics/article/3220515/chinese-communist-partys-mouthpiece-issues-national-security-warning-foreign-firms-after-capvision   \n",
       "8                        /news/china/article/3220451/us-counter-china-indo-pacific-it-must-prioritise-indian-ocean-island-nations-analysts   \n",
       "9                /news/china/diplomacy/article/3220465/us-secretary-state-antony-blinken-hoping-visit-china-near-future-close-adviser-says   \n",
       "\n",
       "               url  \\\n",
       "0  us_china_spider   \n",
       "1  us_china_spider   \n",
       "2  us_china_spider   \n",
       "3  us_china_spider   \n",
       "4  us_china_spider   \n",
       "5  us_china_spider   \n",
       "6  us_china_spider   \n",
       "7  us_china_spider   \n",
       "8  us_china_spider   \n",
       "9  us_china_spider   \n",
       "\n",
       "                                                                                                                                                                                                                                                                                                                                                                                                            source  \\\n",
       "0  China is expected to further boost ties with Central Asia when President Xi Jinping hosts his counterparts from the region amid uncertainties stemming from Russiaâs war in Ukraine and increasing hostility from the West. Beijing has hailed the two-day summit of nations in the vast and geo-strategically important neighbouring region on Thursday and Friday as the âfirst major diplomatic event...   \n",
       "1  A Chinese-American man was arrested last week for allegedly serving as an agent of the Chinese government without notifying the US government, the Department of Justice announced on Monday. Litang Liang, 63, of Brighton, Massachusetts, was accused of providing Chinese officials with information about Boston-area individuals and organisations; leading a counter-protest against anti-Beijing acti...   \n",
       "2  The US government on Monday accused Beijing of jailing as many as 10,000 or more people in 2022 in a widening campaign of repression against religious belief meant to bring all theological activity under the Chinese Communist Party âs control. The estimate of those imprisoned in the country ranging âfrom the low thousands to over 10,000â is one of many accusations contained in the State ...   \n",
       "3  A US-based Hong Kong permanent resident â who is believed to have promoted business and cultural exchanges â was sentenced to life in prison on Monday after being convicted on spying charges in China. It comes as China is stepping up efforts targeting spies, especially those from the United States and its allies. But a lack of transparency around national security cases in China and âmut...   \n",
       "4  US President Joe Biden has an ambitious agenda when he sets off this week on an eight-day trip to the Indo-Pacific . Heâs looking to tighten bonds with long-time allies, make history as the first sitting president of the United States to visit the tiny island state of Papua New Guinea and spotlight his administrationâs commitment to the Pacific. The three-country trip also presents the 80-...   \n",
       "5  Feel strongly about these letters, or any other aspects of the news? Share your views by emailing us your Letter to the Editor at  letters@scmp.com  or filling in  this Google form . Submissions should not exceed 400 words, and must include your full name and address, plus a phone number for verification. Allegations of Chinese interference in Canadian politics are in the news again. This time...   \n",
       "6  Beijing has reassured Hong Kong judges that they will receive unwavering support from the central government in executing their duties and that their legitimate rights will be protected amid threats of US sanctions. Chinaâs foreign ministry on Monday condemned a United States congressional report last week that called for sanctions against 29 judicial officers handling national security case...   \n",
       "7  The Chinese Communist Partyâs flagship newspaper has warned foreign consulting companies to beware of the countryâs laws on spying and national security following the raid on the international consulting firm Capvision . In an editorial published after the raids, Peopleâs Daily said an investigation had found the US and Shanghai-based company took on projects from âa large number of co...   \n",
       "8  In 1967, after a months-long holiday in Mauritius, then 12-year-old Louis Humbert along with his mother and brothers sought to return to his native Chagos, a chain of 60 islands dotting the Indian Ocean. They learned the islands were âclosedâ. That was because the US began setting up a military base on the Chagossian island of Diego Garcia in 1966. Recognising its strategic value, the US g...   \n",
       "9  US Secretary of State Antony Blinken is hoping to visit China âin the near futureâ, as Washington looks to âdepressuriseâ its relationship with Beijing , according to one of his top advisers. The superpower relationship has sunk to its lowest point in decades in recent months. Face-to-face diplomacy was frozen after Blinken cancelled a trip to China in February, following a row over an...   \n",
       "\n",
       "                                                                                                                                                                                                                                                                                                                                                                                                        clean_text  \\\n",
       "0  china is expected to further boost ties with central asia when president xi jinping hosts his counterparts from the region amid uncertainties stemming from russia s war in ukraine and increasing hostility from the west beijing has hailed the twoday summit of nations in the vast and geostrategically important neighbouring region on thursday and friday as the first major diplomatic event that ch...   \n",
       "1  a chineseamerican man was arrested last week for allegedly serving as an agent of the chinese government without notifying the us government the department of justice announced on monday litang liang of brighton massachusetts was accused of providing chinese officials with information about bostonarea individuals and organisations leading a counterprotest against antibeijing activists and sugg...   \n",
       "2  the us government on monday accused beijing of jailing as many as or more people in in a widening campaign of repression against religious belief meant to bring all theological activity under the chinese communist party s control the estimate of those imprisoned in the country ranging from the low thousands to over is one of many accusations contained in the state department s international re...   \n",
       "3  a usbased hong kong permanent resident who is believed to have promoted business and cultural exchanges was sentenced to life in prison on monday after being convicted on spying charges in china it comes as china is stepping up efforts targeting spies especially those from the united states and its allies but a lack of transparency around national security cases in china and mutual recriminati...   \n",
       "4  us president joe biden has an ambitious agenda when he sets off this week on an eightday trip to the indopacific he s looking to tighten bonds with longtime allies make history as the first sitting president of the united states to visit the tiny island state of papua new guinea and spotlight his administration s commitment to the pacific the threecountry trip also presents the biden who recen...   \n",
       "5  feel strongly about these letters or any other aspects of the news share your views by emailing us your letter to the editor at lettersscmpcom or filling in this google form submissions should not exceed words and must include your full name and address plus a phone number for verification allegations of chinese interference in canadian politics are in the news again this time the allegation t...   \n",
       "6  beijing has reassured hong kong judges that they will receive unwavering support from the central government in executing their duties and that their legitimate rights will be protected amid threats of us sanctions china s foreign ministry on monday condemned a united states congressional report last week that called for sanctions against judicial officers handling national security cases the ...   \n",
       "7  the chinese communist party s flagship newspaper has warned foreign consulting companies to beware of the country s laws on spying and national security following the raid on the international consulting firm capvision in an editorial published after the raids people s daily said an investigation had found the us and shanghaibased company took on projects from a large number of companies that ...   \n",
       "8  in after a monthslong holiday in mauritius then louis humbert along with his mother and brothers sought to return to his native chagos a chain of islands dotting the indian ocean they learned the islands were closed that was because the us began setting up a military base on the chagossian island of diego garcia in recognising its strategic value the us gradually removed the native population ...   \n",
       "9  us secretary of state antony blinken is hoping to visit china in the near future as washington looks to depressurise its relationship with beijing according to one of his top advisers the superpower relationship has sunk to its lowest point in decades in recent months facetoface diplomacy was frozen after blinken cancelled a trip to china in february following a row over an alleged chinese spy...   \n",
       "\n",
       "                                                                                                                                                                                                                                                                                                                                                                                                            tokens  \\\n",
       "0  [china, is, expected, to, further, boost, ties, with, central, asia, when, president, xi, jinping, hosts, his, counterparts, from, the, region, amid, uncertainties, stemming, from, russia, s, war, in, ukraine, and, increasing, hostility, from, the, west, beijing, has, hailed, the, twoday, summit, of, nations, in, the, vast, and, geostrategically, important, neighbouring, region, on, thursday, ...   \n",
       "1  [a, chineseamerican, man, was, arrested, last, week, for, allegedly, serving, as, an, agent, of, the, chinese, government, without, notifying, the, us, government, the, department, of, justice, announced, on, monday, litang, liang, of, brighton, massachusetts, was, accused, of, providing, chinese, officials, with, information, about, bostonarea, individuals, and, organisations, leading, a, cou...   \n",
       "2  [the, us, government, on, monday, accused, beijing, of, jailing, as, many, as, or, more, people, in, in, a, widening, campaign, of, repression, against, religious, belief, meant, to, bring, all, theological, activity, under, the, chinese, communist, party, s, control, the, estimate, of, those, imprisoned, in, the, country, ranging, from, the, low, thousands, to, over, is, one, of, many, accusa...   \n",
       "3  [a, usbased, hong, kong, permanent, resident, who, is, believed, to, have, promoted, business, and, cultural, exchanges, was, sentenced, to, life, in, prison, on, monday, after, being, convicted, on, spying, charges, in, china, it, comes, as, china, is, stepping, up, efforts, targeting, spies, especially, those, from, the, united, states, and, its, allies, but, a, lack, of, transparency, aroun...   \n",
       "4  [us, president, joe, biden, has, an, ambitious, agenda, when, he, sets, off, this, week, on, an, eightday, trip, to, the, indopacific, he, s, looking, to, tighten, bonds, with, longtime, allies, make, history, as, the, first, sitting, president, of, the, united, states, to, visit, the, tiny, island, state, of, papua, new, guinea, and, spotlight, his, administration, s, commitment, to, the, pac...   \n",
       "5  [feel, strongly, about, these, letters, or, any, other, aspects, of, the, news, share, your, views, by, emailing, us, your, letter, to, the, editor, at, lettersscmpcom, or, filling, in, this, google, form, submissions, should, not, exceed, words, and, must, include, your, full, name, and, address, plus, a, phone, number, for, verification, allegations, of, chinese, interference, in, canadian, ...   \n",
       "6  [beijing, has, reassured, hong, kong, judges, that, they, will, receive, unwavering, support, from, the, central, government, in, executing, their, duties, and, that, their, legitimate, rights, will, be, protected, amid, threats, of, us, sanctions, china, s, foreign, ministry, on, monday, condemned, a, united, states, congressional, report, last, week, that, called, for, sanctions, against, ju...   \n",
       "7  [the, chinese, communist, party, s, flagship, newspaper, has, warned, foreign, consulting, companies, to, beware, of, the, country, s, laws, on, spying, and, national, security, following, the, raid, on, the, international, consulting, firm, capvision, in, an, editorial, published, after, the, raids, people, s, daily, said, an, investigation, had, found, the, us, and, shanghaibased, company, t...   \n",
       "8  [in, after, a, monthslong, holiday, in, mauritius, then, louis, humbert, along, with, his, mother, and, brothers, sought, to, return, to, his, native, chagos, a, chain, of, islands, dotting, the, indian, ocean, they, learned, the, islands, were, closed, that, was, because, the, us, began, setting, up, a, military, base, on, the, chagossian, island, of, diego, garcia, in, recognising, its, stra...   \n",
       "9  [us, secretary, of, state, antony, blinken, is, hoping, to, visit, china, in, the, near, future, as, washington, looks, to, depressurise, its, relationship, with, beijing, according, to, one, of, his, top, advisers, the, superpower, relationship, has, sunk, to, its, lowest, point, in, decades, in, recent, months, facetoface, diplomacy, was, frozen, after, blinken, cancelled, a, trip, to, china...   \n",
       "\n",
       "                                                                                                                                                                                                                                                                                                                                                                                                   filtered_tokens  \\\n",
       "0  [expected, boost, ties, central, asia, president, xi, jinping, hosts, counterparts, region, amid, uncertainties, stemming, russia, war, ukraine, increasing, hostility, west, hailed, twoday, summit, nations, vast, geostrategically, important, neighbouring, region, thursday, friday, first, major, diplomatic, event, hosts, year, meeting, xian, northwestern, province, shaanxi, coincides, leaders, ...   \n",
       "1  [chineseamerican, man, arrested, last, week, allegedly, serving, agent, chinese, government, without, notifying, government, department, justice, announced, monday, litang, liang, brighton, massachusetts, accused, providing, chinese, officials, information, bostonarea, individuals, organisations, leading, counterprotest, antibeijing, activists, suggesting, potential, recruits, ministry, public...   \n",
       "2  [government, monday, accused, jailing, many, people, widening, campaign, repression, religious, belief, meant, bring, theological, activity, chinese, communist, party, control, estimate, imprisoned, country, ranging, low, thousands, one, many, accusations, contained, state, department, international, religious, freedom, report, published, annually, since, covers, nearly, countries, report, sec...   \n",
       "3  [usbased, permanent, resident, believed, promoted, business, cultural, exchanges, sentenced, life, prison, monday, convicted, spying, charges, comes, stepping, efforts, targeting, spies, especially, united, states, allies, lack, transparency, around, national, security, cases, mutual, recriminations, perceived, espionage, activities, contradict, talk, encouraging, foreign, investment, country,...   \n",
       "4  [president, joe, biden, ambitious, agenda, sets, week, eightday, trip, indopacific, looking, tighten, bonds, longtime, allies, make, history, first, sitting, president, united, states, visit, tiny, island, state, papua, new, guinea, spotlight, administration, commitment, pacific, threecountry, trip, presents, biden, recently, announced, running, reelection, opportunity, demonstrate, still, eno...   \n",
       "5  [feel, strongly, letters, aspects, news, share, views, emailing, letter, editor, filling, google, form, submissions, exceed, words, must, include, full, name, address, plus, phone, number, verification, allegations, chinese, interference, canadian, politics, news, time, allegation, tried, influence, outcome, canada, federal, elections, intimidate, canadian, opposition, lawmaker, led, expulsion...   \n",
       "6  [reassured, judges, receive, unwavering, support, central, government, executing, duties, legitimate, rights, protected, amid, threats, sanctions, foreign, ministry, monday, condemned, united, states, congressional, report, last, week, called, sanctions, judicial, officers, handling, national, security, cases, report, claimed, judges, role, weakened, rule, law, independent, judiciary, foreign,...   \n",
       "7  [chinese, communist, party, flagship, newspaper, warned, foreign, consulting, companies, beware, country, laws, spying, national, security, following, raid, international, consulting, firm, capvision, editorial, published, raids, people, daily, investigation, found, shanghaibased, company, took, projects, large, number, companies, related, sensitive, industries, article, described, national, s...   \n",
       "8  [monthslong, holiday, mauritius, louis, humbert, along, mother, brothers, sought, return, native, chagos, chain, islands, dotting, indian, ocean, learned, islands, closed, began, setting, military, base, chagossian, island, diego, garcia, recognising, strategic, value, gradually, removed, native, population, around, remote, atoll, reaching, secret, deal, britain, colonised, mauritius, diego, g...   \n",
       "9  [secretary, state, antony, blinken, hoping, visit, near, future, washington, looks, depressurise, relationship, according, one, top, advisers, superpower, relationship, sunk, lowest, point, decades, recent, months, facetoface, diplomacy, frozen, blinken, cancelled, trip, february, following, row, alleged, chinese, spy, balloon, flying, united, states, invited, eu, indopacific, policy, talks, l...   \n",
       "\n",
       "                                                                                                                                                                                                                                                                                                                                                                                                        lem_tokens  \\\n",
       "0  [expected, boost, tie, central, asia, president, xi, jinping, host, counterpart, region, amid, uncertainty, stemming, russia, war, ukraine, increasing, hostility, west, hailed, twoday, summit, nation, vast, geostrategically, important, neighbouring, region, thursday, friday, first, major, diplomatic, event, host, year, meeting, xian, northwestern, province, shaanxi, coincides, leader, summit, ...   \n",
       "1  [chineseamerican, man, arrested, last, week, allegedly, serving, agent, chinese, government, without, notifying, government, department, justice, announced, monday, litang, liang, brighton, massachusetts, accused, providing, chinese, official, information, bostonarea, individual, organisation, leading, counterprotest, antibeijing, activist, suggesting, potential, recruit, ministry, public, sec...   \n",
       "2  [government, monday, accused, jailing, many, people, widening, campaign, repression, religious, belief, meant, bring, theological, activity, chinese, communist, party, control, estimate, imprisoned, country, ranging, low, thousand, one, many, accusation, contained, state, department, international, religious, freedom, report, published, annually, since, cover, nearly, country, report, section,...   \n",
       "3  [usbased, permanent, resident, believed, promoted, business, cultural, exchange, sentenced, life, prison, monday, convicted, spying, charge, come, stepping, effort, targeting, spy, especially, united, state, ally, lack, transparency, around, national, security, case, mutual, recrimination, perceived, espionage, activity, contradict, talk, encouraging, foreign, investment, country, legal, exper...   \n",
       "4  [president, joe, biden, ambitious, agenda, set, week, eightday, trip, indopacific, looking, tighten, bond, longtime, ally, make, history, first, sitting, president, united, state, visit, tiny, island, state, papua, new, guinea, spotlight, administration, commitment, pacific, threecountry, trip, present, biden, recently, announced, running, reelection, opportunity, demonstrate, still, enough, t...   \n",
       "5  [feel, strongly, letter, aspect, news, share, view, emailing, letter, editor, filling, google, form, submission, exceed, word, must, include, full, name, address, plus, phone, number, verification, allegation, chinese, interference, canadian, politics, news, time, allegation, tried, influence, outcome, canada, federal, election, intimidate, canadian, opposition, lawmaker, led, expulsion, chine...   \n",
       "6  [reassured, judge, receive, unwavering, support, central, government, executing, duty, legitimate, right, protected, amid, threat, sanction, foreign, ministry, monday, condemned, united, state, congressional, report, last, week, called, sanction, judicial, officer, handling, national, security, case, report, claimed, judge, role, weakened, rule, law, independent, judiciary, foreign, ministry, ...   \n",
       "7  [chinese, communist, party, flagship, newspaper, warned, foreign, consulting, company, beware, country, law, spying, national, security, following, raid, international, consulting, firm, capvision, editorial, published, raid, people, daily, investigation, found, shanghaibased, company, took, project, large, number, company, related, sensitive, industry, article, described, national, security, ...   \n",
       "8  [monthslong, holiday, mauritius, louis, humbert, along, mother, brother, sought, return, native, chagos, chain, island, dotting, indian, ocean, learned, island, closed, began, setting, military, base, chagossian, island, diego, garcia, recognising, strategic, value, gradually, removed, native, population, around, remote, atoll, reaching, secret, deal, britain, colonised, mauritius, diego, garc...   \n",
       "9  [secretary, state, antony, blinken, hoping, visit, near, future, washington, look, depressurise, relationship, according, one, top, adviser, superpower, relationship, sunk, lowest, point, decade, recent, month, facetoface, diplomacy, frozen, blinken, cancelled, trip, february, following, row, alleged, chinese, spy, balloon, flying, united, state, invited, eu, indopacific, policy, talk, loom, b...   \n",
       "\n",
       "  topic         0         0  \n",
       "0  apac  0.000000  0.000000  \n",
       "1  apac  1.000000  1.000000  \n",
       "2  apac  0.779802  0.779802  \n",
       "3  apac  0.875451  0.875451  \n",
       "4  apac  0.000000  0.000000  \n",
       "5  apac  0.253034  0.253034  \n",
       "6  apac  1.000000  1.000000  \n",
       "7  apac  0.000000  0.000000  \n",
       "8  apac  0.138143  0.138143  \n",
       "9  apac  0.892637  0.892637  "
      ]
     },
     "execution_count": 121,
     "metadata": {},
     "output_type": "execute_result"
    }
   ],
   "source": [
    "scmp_df.head(10)"
   ]
  },
  {
   "cell_type": "code",
   "execution_count": 122,
   "metadata": {
    "execution": {
     "iopub.execute_input": "2023-05-25T00:43:49.206348Z",
     "iopub.status.busy": "2023-05-25T00:43:49.205818Z",
     "iopub.status.idle": "2023-05-25T00:46:10.141496Z",
     "shell.execute_reply": "2023-05-25T00:46:10.140253Z",
     "shell.execute_reply.started": "2023-05-25T00:43:49.206299Z"
    }
   },
   "outputs": [
    {
     "data": {
      "application/vnd.jupyter.widget-view+json": {
       "model_id": "9c49d18731794187ba1e3d52a766d7e8",
       "version_major": 2,
       "version_minor": 0
      },
      "text/plain": [
       "Batches:   0%|          | 0/40 [00:00<?, ?it/s]"
      ]
     },
     "metadata": {},
     "output_type": "display_data"
    }
   ],
   "source": [
    "topic_model.visualize_documents(docs).write_html(\"/projections.html\")"
   ]
  },
  {
   "cell_type": "code",
   "execution_count": 133,
   "metadata": {
    "execution": {
     "iopub.execute_input": "2023-05-25T00:47:38.530226Z",
     "iopub.status.busy": "2023-05-25T00:47:38.529308Z",
     "iopub.status.idle": "2023-05-25T00:47:38.538208Z",
     "shell.execute_reply": "2023-05-25T00:47:38.536974Z",
     "shell.execute_reply.started": "2023-05-25T00:47:38.530177Z"
    }
   },
   "outputs": [
    {
     "data": {
      "text/plain": [
       "(1278, 13)"
      ]
     },
     "execution_count": 133,
     "metadata": {},
     "output_type": "execute_result"
    }
   ],
   "source": [
    "scmp_df.shape"
   ]
  },
  {
   "cell_type": "code",
   "execution_count": 123,
   "metadata": {
    "execution": {
     "iopub.execute_input": "2023-05-25T00:46:10.143680Z",
     "iopub.status.busy": "2023-05-25T00:46:10.143311Z",
     "iopub.status.idle": "2023-05-25T00:46:10.393499Z",
     "shell.execute_reply": "2023-05-25T00:46:10.392239Z",
     "shell.execute_reply.started": "2023-05-25T00:46:10.143650Z"
    }
   },
   "outputs": [
    {
     "data": {
      "text/html": [
       "<div>                            <div id=\"b8d6e3cc-c606-49ab-9583-653235b85503\" class=\"plotly-graph-div\" style=\"height:1750px; width:1000px;\"></div>            <script type=\"text/javascript\">                require([\"plotly\"], function(Plotly) {                    window.PLOTLYENV=window.PLOTLYENV || {};                                    if (document.getElementById(\"b8d6e3cc-c606-49ab-9583-653235b85503\")) {                    Plotly.newPlot(                        \"b8d6e3cc-c606-49ab-9583-653235b85503\",                        [{\"marker\":{\"color\":\"#D55E00\"},\"orientation\":\"h\",\"x\":[0.013958389003072969,0.014016515855120058,0.015112712251611905,0.01569636495361132,0.021294085757474168],\"y\":[\"chinese  \",\"state  \",\"meeting  \",\"country  \",\"xi  \"],\"type\":\"bar\",\"xaxis\":\"x\",\"yaxis\":\"y\"},{\"marker\":{\"color\":\"#0072B2\"},\"orientation\":\"h\",\"x\":[0.019047265379052873,0.022392058609976402,0.022552643062345334,0.02669538165463662,0.027159068370429047],\"y\":[\"market  \",\"year  \",\"trade  \",\"cent  \",\"per  \"],\"type\":\"bar\",\"xaxis\":\"x2\",\"yaxis\":\"y2\"},{\"marker\":{\"color\":\"#CC79A7\"},\"orientation\":\"h\",\"x\":[0.021360955205302495,0.02157453952814363,0.02182811775615065,0.03172771498998406,0.03588477910815649],\"y\":[\"island  \",\"force  \",\"defence  \",\"pla  \",\"military  \"],\"type\":\"bar\",\"xaxis\":\"x3\",\"yaxis\":\"y3\"},{\"marker\":{\"color\":\"#E69F00\"},\"orientation\":\"h\",\"x\":[0.02886740583976427,0.02971295647633863,0.03268670070839719,0.0428711083499492,0.06043866618837817],\"y\":[\"export  \",\"company  \",\"technology  \",\"semiconductor  \",\"chip  \"],\"type\":\"bar\",\"xaxis\":\"x4\",\"yaxis\":\"y4\"},{\"marker\":{\"color\":\"#56B4E9\"},\"orientation\":\"h\",\"x\":[0.023954025352811464,0.023966661337774434,0.024871623291555886,0.041405066429094924,0.04912478908345243],\"y\":[\"russian  \",\"moscow  \",\"war  \",\"ukraine  \",\"russia  \"],\"type\":\"bar\",\"xaxis\":\"x5\",\"yaxis\":\"y5\"},{\"marker\":{\"color\":\"#009E73\"},\"orientation\":\"h\",\"x\":[0.00001,0.00001,0.00001,0.00001,6.089447918426759],\"y\":[\"  \",\"  \",\"  \",\"  \",\"nan  \"],\"type\":\"bar\",\"xaxis\":\"x6\",\"yaxis\":\"y6\"},{\"marker\":{\"color\":\"#F0E442\"},\"orientation\":\"h\",\"x\":[0.028049695783181342,0.028240678617596413,0.03013986178968778,0.033880894482719866,0.0536446383745646],\"y\":[\"mccarthy  \",\"taiwanese  \",\"taipei  \",\"island  \",\"tsai  \"],\"type\":\"bar\",\"xaxis\":\"x7\",\"yaxis\":\"y7\"},{\"marker\":{\"color\":\"#D55E00\"},\"orientation\":\"h\",\"x\":[0.024266698092488014,0.025770257761960604,0.03052378845395283,0.03124850971953652,0.10561481538883831],\"y\":[\"surveillance  \",\"shot  \",\"airspace  \",\"object  \",\"balloon  \"],\"type\":\"bar\",\"xaxis\":\"x8\",\"yaxis\":\"y8\"},{\"marker\":{\"color\":\"#0072B2\"},\"orientation\":\"h\",\"x\":[0.03236436787265302,0.03660546472004074,0.04446797517323216,0.05054591984941296,0.10906325364079826],\"y\":[\"base  \",\"manila  \",\"sea  \",\"marcos  \",\"philippine  \"],\"type\":\"bar\",\"xaxis\":\"x9\",\"yaxis\":\"y9\"},{\"marker\":{\"color\":\"#CC79A7\"},\"orientation\":\"h\",\"x\":[0.027031681467153047,0.028807776018624824,0.02999233473230582,0.03365427634081981,0.03547089099281418],\"y\":[\"chinese  \",\"trump  \",\"charge  \",\"case  \",\"guo  \"],\"type\":\"bar\",\"xaxis\":\"x10\",\"yaxis\":\"y10\"},{\"marker\":{\"color\":\"#E69F00\"},\"orientation\":\"h\",\"x\":[0.047338217584731355,0.05563595638277566,0.06139754590606323,0.07259566143014859,0.10823121727880637],\"y\":[\"yoon  \",\"korean  \",\"south  \",\"north  \",\"korea  \"],\"type\":\"bar\",\"xaxis\":\"x11\",\"yaxis\":\"y11\"},{\"marker\":{\"color\":\"#56B4E9\"},\"orientation\":\"h\",\"x\":[0.036232096310705376,0.038394767780723774,0.040163503522557834,0.04852925927045128,0.10488504014282708],\"y\":[\"user  \",\"ban  \",\"bytedance  \",\"app  \",\"tiktok  \"],\"type\":\"bar\",\"xaxis\":\"x12\",\"yaxis\":\"y12\"},{\"marker\":{\"color\":\"#009E73\"},\"orientation\":\"h\",\"x\":[0.018541712888670903,0.0186866195201538,0.019085571401830627,0.01995675331685291,0.03054374268936976],\"y\":[\"verification  \",\"exceed  \",\"emailing  \",\"must  \",\"letter  \"],\"type\":\"bar\",\"xaxis\":\"x13\",\"yaxis\":\"y13\"},{\"marker\":{\"color\":\"#F0E442\"},\"orientation\":\"h\",\"x\":[0.03372280717107889,0.03884035202270498,0.039795638637862396,0.047259679664270055,0.07027843361377409],\"y\":[\"democrat  \",\"committee  \",\"mccarthy  \",\"house  \",\"republican  \"],\"type\":\"bar\",\"xaxis\":\"x14\",\"yaxis\":\"y14\"},{\"marker\":{\"color\":\"#D55E00\"},\"orientation\":\"h\",\"x\":[0.017991025219988743,0.019526222978377444,0.020815248362063065,0.02503539866508042,0.02792228276410936],\"y\":[\"list  \",\"iran  \",\"chinese  \",\"company  \",\"sanction  \"],\"type\":\"bar\",\"xaxis\":\"x15\",\"yaxis\":\"y15\"},{\"marker\":{\"color\":\"#0072B2\"},\"orientation\":\"h\",\"x\":[0.030623547601591927,0.033695813166071814,0.04080628744365546,0.042989317599955175,0.05001882373693968],\"y\":[\"flight  \",\"airline  \",\"airbus  \",\"aviation  \",\"boeing  \"],\"type\":\"bar\",\"xaxis\":\"x16\",\"yaxis\":\"y16\"},{\"marker\":{\"color\":\"#CC79A7\"},\"orientation\":\"h\",\"x\":[0.030666753838092715,0.03088399042220069,0.04204990858543806,0.04531191282312373,0.08226288952053473],\"y\":[\"user  \",\"app  \",\"ban  \",\"bill  \",\"tiktok  \"],\"type\":\"bar\",\"xaxis\":\"x17\",\"yaxis\":\"y17\"},{\"marker\":{\"color\":\"#E69F00\"},\"orientation\":\"h\",\"x\":[0.01959264537675438,0.020282705714292335,0.02190309237383313,0.023090584091208594,0.04521214865644762],\"y\":[\"according  \",\"investor  \",\"market  \",\"capital  \",\"company  \"],\"type\":\"bar\",\"xaxis\":\"x18\",\"yaxis\":\"y18\"},{\"marker\":{\"color\":\"#56B4E9\"},\"orientation\":\"h\",\"x\":[0.029926113552176073,0.033862910577277014,0.037456248211744765,0.0408341821318515,0.07385255939093363],\"y\":[\"report  \",\"security  \",\"national  \",\"city  \",\"law  \"],\"type\":\"bar\",\"xaxis\":\"x19\",\"yaxis\":\"y19\"},{\"marker\":{\"color\":\"#009E73\"},\"orientation\":\"h\",\"x\":[0.025925406012678478,0.030429085521737256,0.031233443949999686,0.036256909954649856,0.07150436223123884],\"y\":[\"military  \",\"kishida  \",\"japanese  \",\"defence  \",\"japan  \"],\"type\":\"bar\",\"xaxis\":\"x20\",\"yaxis\":\"y20\"},{\"marker\":{\"color\":\"#F0E442\"},\"orientation\":\"h\",\"x\":[0.03686258546220303,0.03739071953857109,0.040709587834595516,0.08283627879398801,0.1071940526049623],\"y\":[\"east  \",\"arab  \",\"middle  \",\"arabia  \",\"saudi  \"],\"type\":\"bar\",\"xaxis\":\"x21\",\"yaxis\":\"y21\"},{\"marker\":{\"color\":\"#D55E00\"},\"orientation\":\"h\",\"x\":[0.026884424517430193,0.034006245948472805,0.049923315730687395,0.06344431618505775,0.06814278344276267],\"y\":[\"washington  \",\"african  \",\"island  \",\"africa  \",\"pacific  \"],\"type\":\"bar\",\"xaxis\":\"x22\",\"yaxis\":\"y22\"},{\"marker\":{\"color\":\"#0072B2\"},\"orientation\":\"h\",\"x\":[0.014381569237598655,0.014401602063891445,0.014903038379944502,0.015928703309829092,0.01598068354721491],\"y\":[\"military  \",\"policy  \",\"economic  \",\"region  \",\"washington  \"],\"type\":\"bar\",\"xaxis\":\"x23\",\"yaxis\":\"y23\"},{\"marker\":{\"color\":\"#CC79A7\"},\"orientation\":\"h\",\"x\":[0.0303143703151762,0.034220013800232055,0.04082091107984202,0.04337597241417409,0.10548526406719234],\"y\":[\"network  \",\"equipment  \",\"company  \",\"meng  \",\"huawei  \"],\"type\":\"bar\",\"xaxis\":\"x24\",\"yaxis\":\"y24\"},{\"marker\":{\"color\":\"#E69F00\"},\"orientation\":\"h\",\"x\":[0.036432913659514496,0.04302056520872635,0.064996469980261,0.08180797802435931,0.10011249708596391],\"y\":[\"nuclearpowered  \",\"australian  \",\"aukus  \",\"submarine  \",\"australia  \"],\"type\":\"bar\",\"xaxis\":\"x25\",\"yaxis\":\"y25\"}],                        {\"template\":{\"data\":{\"barpolar\":[{\"marker\":{\"line\":{\"color\":\"white\",\"width\":0.5},\"pattern\":{\"fillmode\":\"overlay\",\"size\":10,\"solidity\":0.2}},\"type\":\"barpolar\"}],\"bar\":[{\"error_x\":{\"color\":\"#2a3f5f\"},\"error_y\":{\"color\":\"#2a3f5f\"},\"marker\":{\"line\":{\"color\":\"white\",\"width\":0.5},\"pattern\":{\"fillmode\":\"overlay\",\"size\":10,\"solidity\":0.2}},\"type\":\"bar\"}],\"carpet\":[{\"aaxis\":{\"endlinecolor\":\"#2a3f5f\",\"gridcolor\":\"#C8D4E3\",\"linecolor\":\"#C8D4E3\",\"minorgridcolor\":\"#C8D4E3\",\"startlinecolor\":\"#2a3f5f\"},\"baxis\":{\"endlinecolor\":\"#2a3f5f\",\"gridcolor\":\"#C8D4E3\",\"linecolor\":\"#C8D4E3\",\"minorgridcolor\":\"#C8D4E3\",\"startlinecolor\":\"#2a3f5f\"},\"type\":\"carpet\"}],\"choropleth\":[{\"colorbar\":{\"outlinewidth\":0,\"ticks\":\"\"},\"type\":\"choropleth\"}],\"contourcarpet\":[{\"colorbar\":{\"outlinewidth\":0,\"ticks\":\"\"},\"type\":\"contourcarpet\"}],\"contour\":[{\"colorbar\":{\"outlinewidth\":0,\"ticks\":\"\"},\"colorscale\":[[0.0,\"#0d0887\"],[0.1111111111111111,\"#46039f\"],[0.2222222222222222,\"#7201a8\"],[0.3333333333333333,\"#9c179e\"],[0.4444444444444444,\"#bd3786\"],[0.5555555555555556,\"#d8576b\"],[0.6666666666666666,\"#ed7953\"],[0.7777777777777778,\"#fb9f3a\"],[0.8888888888888888,\"#fdca26\"],[1.0,\"#f0f921\"]],\"type\":\"contour\"}],\"heatmapgl\":[{\"colorbar\":{\"outlinewidth\":0,\"ticks\":\"\"},\"colorscale\":[[0.0,\"#0d0887\"],[0.1111111111111111,\"#46039f\"],[0.2222222222222222,\"#7201a8\"],[0.3333333333333333,\"#9c179e\"],[0.4444444444444444,\"#bd3786\"],[0.5555555555555556,\"#d8576b\"],[0.6666666666666666,\"#ed7953\"],[0.7777777777777778,\"#fb9f3a\"],[0.8888888888888888,\"#fdca26\"],[1.0,\"#f0f921\"]],\"type\":\"heatmapgl\"}],\"heatmap\":[{\"colorbar\":{\"outlinewidth\":0,\"ticks\":\"\"},\"colorscale\":[[0.0,\"#0d0887\"],[0.1111111111111111,\"#46039f\"],[0.2222222222222222,\"#7201a8\"],[0.3333333333333333,\"#9c179e\"],[0.4444444444444444,\"#bd3786\"],[0.5555555555555556,\"#d8576b\"],[0.6666666666666666,\"#ed7953\"],[0.7777777777777778,\"#fb9f3a\"],[0.8888888888888888,\"#fdca26\"],[1.0,\"#f0f921\"]],\"type\":\"heatmap\"}],\"histogram2dcontour\":[{\"colorbar\":{\"outlinewidth\":0,\"ticks\":\"\"},\"colorscale\":[[0.0,\"#0d0887\"],[0.1111111111111111,\"#46039f\"],[0.2222222222222222,\"#7201a8\"],[0.3333333333333333,\"#9c179e\"],[0.4444444444444444,\"#bd3786\"],[0.5555555555555556,\"#d8576b\"],[0.6666666666666666,\"#ed7953\"],[0.7777777777777778,\"#fb9f3a\"],[0.8888888888888888,\"#fdca26\"],[1.0,\"#f0f921\"]],\"type\":\"histogram2dcontour\"}],\"histogram2d\":[{\"colorbar\":{\"outlinewidth\":0,\"ticks\":\"\"},\"colorscale\":[[0.0,\"#0d0887\"],[0.1111111111111111,\"#46039f\"],[0.2222222222222222,\"#7201a8\"],[0.3333333333333333,\"#9c179e\"],[0.4444444444444444,\"#bd3786\"],[0.5555555555555556,\"#d8576b\"],[0.6666666666666666,\"#ed7953\"],[0.7777777777777778,\"#fb9f3a\"],[0.8888888888888888,\"#fdca26\"],[1.0,\"#f0f921\"]],\"type\":\"histogram2d\"}],\"histogram\":[{\"marker\":{\"pattern\":{\"fillmode\":\"overlay\",\"size\":10,\"solidity\":0.2}},\"type\":\"histogram\"}],\"mesh3d\":[{\"colorbar\":{\"outlinewidth\":0,\"ticks\":\"\"},\"type\":\"mesh3d\"}],\"parcoords\":[{\"line\":{\"colorbar\":{\"outlinewidth\":0,\"ticks\":\"\"}},\"type\":\"parcoords\"}],\"pie\":[{\"automargin\":true,\"type\":\"pie\"}],\"scatter3d\":[{\"line\":{\"colorbar\":{\"outlinewidth\":0,\"ticks\":\"\"}},\"marker\":{\"colorbar\":{\"outlinewidth\":0,\"ticks\":\"\"}},\"type\":\"scatter3d\"}],\"scattercarpet\":[{\"marker\":{\"colorbar\":{\"outlinewidth\":0,\"ticks\":\"\"}},\"type\":\"scattercarpet\"}],\"scattergeo\":[{\"marker\":{\"colorbar\":{\"outlinewidth\":0,\"ticks\":\"\"}},\"type\":\"scattergeo\"}],\"scattergl\":[{\"marker\":{\"colorbar\":{\"outlinewidth\":0,\"ticks\":\"\"}},\"type\":\"scattergl\"}],\"scattermapbox\":[{\"marker\":{\"colorbar\":{\"outlinewidth\":0,\"ticks\":\"\"}},\"type\":\"scattermapbox\"}],\"scatterpolargl\":[{\"marker\":{\"colorbar\":{\"outlinewidth\":0,\"ticks\":\"\"}},\"type\":\"scatterpolargl\"}],\"scatterpolar\":[{\"marker\":{\"colorbar\":{\"outlinewidth\":0,\"ticks\":\"\"}},\"type\":\"scatterpolar\"}],\"scatter\":[{\"fillpattern\":{\"fillmode\":\"overlay\",\"size\":10,\"solidity\":0.2},\"type\":\"scatter\"}],\"scatterternary\":[{\"marker\":{\"colorbar\":{\"outlinewidth\":0,\"ticks\":\"\"}},\"type\":\"scatterternary\"}],\"surface\":[{\"colorbar\":{\"outlinewidth\":0,\"ticks\":\"\"},\"colorscale\":[[0.0,\"#0d0887\"],[0.1111111111111111,\"#46039f\"],[0.2222222222222222,\"#7201a8\"],[0.3333333333333333,\"#9c179e\"],[0.4444444444444444,\"#bd3786\"],[0.5555555555555556,\"#d8576b\"],[0.6666666666666666,\"#ed7953\"],[0.7777777777777778,\"#fb9f3a\"],[0.8888888888888888,\"#fdca26\"],[1.0,\"#f0f921\"]],\"type\":\"surface\"}],\"table\":[{\"cells\":{\"fill\":{\"color\":\"#EBF0F8\"},\"line\":{\"color\":\"white\"}},\"header\":{\"fill\":{\"color\":\"#C8D4E3\"},\"line\":{\"color\":\"white\"}},\"type\":\"table\"}]},\"layout\":{\"annotationdefaults\":{\"arrowcolor\":\"#2a3f5f\",\"arrowhead\":0,\"arrowwidth\":1},\"autotypenumbers\":\"strict\",\"coloraxis\":{\"colorbar\":{\"outlinewidth\":0,\"ticks\":\"\"}},\"colorscale\":{\"diverging\":[[0,\"#8e0152\"],[0.1,\"#c51b7d\"],[0.2,\"#de77ae\"],[0.3,\"#f1b6da\"],[0.4,\"#fde0ef\"],[0.5,\"#f7f7f7\"],[0.6,\"#e6f5d0\"],[0.7,\"#b8e186\"],[0.8,\"#7fbc41\"],[0.9,\"#4d9221\"],[1,\"#276419\"]],\"sequential\":[[0.0,\"#0d0887\"],[0.1111111111111111,\"#46039f\"],[0.2222222222222222,\"#7201a8\"],[0.3333333333333333,\"#9c179e\"],[0.4444444444444444,\"#bd3786\"],[0.5555555555555556,\"#d8576b\"],[0.6666666666666666,\"#ed7953\"],[0.7777777777777778,\"#fb9f3a\"],[0.8888888888888888,\"#fdca26\"],[1.0,\"#f0f921\"]],\"sequentialminus\":[[0.0,\"#0d0887\"],[0.1111111111111111,\"#46039f\"],[0.2222222222222222,\"#7201a8\"],[0.3333333333333333,\"#9c179e\"],[0.4444444444444444,\"#bd3786\"],[0.5555555555555556,\"#d8576b\"],[0.6666666666666666,\"#ed7953\"],[0.7777777777777778,\"#fb9f3a\"],[0.8888888888888888,\"#fdca26\"],[1.0,\"#f0f921\"]]},\"colorway\":[\"#636efa\",\"#EF553B\",\"#00cc96\",\"#ab63fa\",\"#FFA15A\",\"#19d3f3\",\"#FF6692\",\"#B6E880\",\"#FF97FF\",\"#FECB52\"],\"font\":{\"color\":\"#2a3f5f\"},\"geo\":{\"bgcolor\":\"white\",\"lakecolor\":\"white\",\"landcolor\":\"white\",\"showlakes\":true,\"showland\":true,\"subunitcolor\":\"#C8D4E3\"},\"hoverlabel\":{\"align\":\"left\"},\"hovermode\":\"closest\",\"mapbox\":{\"style\":\"light\"},\"paper_bgcolor\":\"white\",\"plot_bgcolor\":\"white\",\"polar\":{\"angularaxis\":{\"gridcolor\":\"#EBF0F8\",\"linecolor\":\"#EBF0F8\",\"ticks\":\"\"},\"bgcolor\":\"white\",\"radialaxis\":{\"gridcolor\":\"#EBF0F8\",\"linecolor\":\"#EBF0F8\",\"ticks\":\"\"}},\"scene\":{\"xaxis\":{\"backgroundcolor\":\"white\",\"gridcolor\":\"#DFE8F3\",\"gridwidth\":2,\"linecolor\":\"#EBF0F8\",\"showbackground\":true,\"ticks\":\"\",\"zerolinecolor\":\"#EBF0F8\"},\"yaxis\":{\"backgroundcolor\":\"white\",\"gridcolor\":\"#DFE8F3\",\"gridwidth\":2,\"linecolor\":\"#EBF0F8\",\"showbackground\":true,\"ticks\":\"\",\"zerolinecolor\":\"#EBF0F8\"},\"zaxis\":{\"backgroundcolor\":\"white\",\"gridcolor\":\"#DFE8F3\",\"gridwidth\":2,\"linecolor\":\"#EBF0F8\",\"showbackground\":true,\"ticks\":\"\",\"zerolinecolor\":\"#EBF0F8\"}},\"shapedefaults\":{\"line\":{\"color\":\"#2a3f5f\"}},\"ternary\":{\"aaxis\":{\"gridcolor\":\"#DFE8F3\",\"linecolor\":\"#A2B1C6\",\"ticks\":\"\"},\"baxis\":{\"gridcolor\":\"#DFE8F3\",\"linecolor\":\"#A2B1C6\",\"ticks\":\"\"},\"bgcolor\":\"white\",\"caxis\":{\"gridcolor\":\"#DFE8F3\",\"linecolor\":\"#A2B1C6\",\"ticks\":\"\"}},\"title\":{\"x\":0.05},\"xaxis\":{\"automargin\":true,\"gridcolor\":\"#EBF0F8\",\"linecolor\":\"#EBF0F8\",\"ticks\":\"\",\"title\":{\"standoff\":15},\"zerolinecolor\":\"#EBF0F8\",\"zerolinewidth\":2},\"yaxis\":{\"automargin\":true,\"gridcolor\":\"#EBF0F8\",\"linecolor\":\"#EBF0F8\",\"ticks\":\"\",\"title\":{\"standoff\":15},\"zerolinecolor\":\"#EBF0F8\",\"zerolinewidth\":2}}},\"xaxis\":{\"anchor\":\"y\",\"domain\":[0.0,0.175],\"showgrid\":true},\"yaxis\":{\"anchor\":\"x\",\"domain\":[0.9061224489795918,1.0],\"showgrid\":true},\"xaxis2\":{\"anchor\":\"y2\",\"domain\":[0.275,0.45],\"showgrid\":true},\"yaxis2\":{\"anchor\":\"x2\",\"domain\":[0.9061224489795918,1.0],\"showgrid\":true},\"xaxis3\":{\"anchor\":\"y3\",\"domain\":[0.55,0.7250000000000001],\"showgrid\":true},\"yaxis3\":{\"anchor\":\"x3\",\"domain\":[0.9061224489795918,1.0],\"showgrid\":true},\"xaxis4\":{\"anchor\":\"y4\",\"domain\":[0.825,1.0],\"showgrid\":true},\"yaxis4\":{\"anchor\":\"x4\",\"domain\":[0.9061224489795918,1.0],\"showgrid\":true},\"xaxis5\":{\"anchor\":\"y5\",\"domain\":[0.0,0.175],\"showgrid\":true},\"yaxis5\":{\"anchor\":\"x5\",\"domain\":[0.7551020408163266,0.8489795918367348],\"showgrid\":true},\"xaxis6\":{\"anchor\":\"y6\",\"domain\":[0.275,0.45],\"showgrid\":true},\"yaxis6\":{\"anchor\":\"x6\",\"domain\":[0.7551020408163266,0.8489795918367348],\"showgrid\":true},\"xaxis7\":{\"anchor\":\"y7\",\"domain\":[0.55,0.7250000000000001],\"showgrid\":true},\"yaxis7\":{\"anchor\":\"x7\",\"domain\":[0.7551020408163266,0.8489795918367348],\"showgrid\":true},\"xaxis8\":{\"anchor\":\"y8\",\"domain\":[0.825,1.0],\"showgrid\":true},\"yaxis8\":{\"anchor\":\"x8\",\"domain\":[0.7551020408163266,0.8489795918367348],\"showgrid\":true},\"xaxis9\":{\"anchor\":\"y9\",\"domain\":[0.0,0.175],\"showgrid\":true},\"yaxis9\":{\"anchor\":\"x9\",\"domain\":[0.6040816326530613,0.6979591836734694],\"showgrid\":true},\"xaxis10\":{\"anchor\":\"y10\",\"domain\":[0.275,0.45],\"showgrid\":true},\"yaxis10\":{\"anchor\":\"x10\",\"domain\":[0.6040816326530613,0.6979591836734694],\"showgrid\":true},\"xaxis11\":{\"anchor\":\"y11\",\"domain\":[0.55,0.7250000000000001],\"showgrid\":true},\"yaxis11\":{\"anchor\":\"x11\",\"domain\":[0.6040816326530613,0.6979591836734694],\"showgrid\":true},\"xaxis12\":{\"anchor\":\"y12\",\"domain\":[0.825,1.0],\"showgrid\":true},\"yaxis12\":{\"anchor\":\"x12\",\"domain\":[0.6040816326530613,0.6979591836734694],\"showgrid\":true},\"xaxis13\":{\"anchor\":\"y13\",\"domain\":[0.0,0.175],\"showgrid\":true},\"yaxis13\":{\"anchor\":\"x13\",\"domain\":[0.4530612244897959,0.5469387755102041],\"showgrid\":true},\"xaxis14\":{\"anchor\":\"y14\",\"domain\":[0.275,0.45],\"showgrid\":true},\"yaxis14\":{\"anchor\":\"x14\",\"domain\":[0.4530612244897959,0.5469387755102041],\"showgrid\":true},\"xaxis15\":{\"anchor\":\"y15\",\"domain\":[0.55,0.7250000000000001],\"showgrid\":true},\"yaxis15\":{\"anchor\":\"x15\",\"domain\":[0.4530612244897959,0.5469387755102041],\"showgrid\":true},\"xaxis16\":{\"anchor\":\"y16\",\"domain\":[0.825,1.0],\"showgrid\":true},\"yaxis16\":{\"anchor\":\"x16\",\"domain\":[0.4530612244897959,0.5469387755102041],\"showgrid\":true},\"xaxis17\":{\"anchor\":\"y17\",\"domain\":[0.0,0.175],\"showgrid\":true},\"yaxis17\":{\"anchor\":\"x17\",\"domain\":[0.3020408163265306,0.3959183673469388],\"showgrid\":true},\"xaxis18\":{\"anchor\":\"y18\",\"domain\":[0.275,0.45],\"showgrid\":true},\"yaxis18\":{\"anchor\":\"x18\",\"domain\":[0.3020408163265306,0.3959183673469388],\"showgrid\":true},\"xaxis19\":{\"anchor\":\"y19\",\"domain\":[0.55,0.7250000000000001],\"showgrid\":true},\"yaxis19\":{\"anchor\":\"x19\",\"domain\":[0.3020408163265306,0.3959183673469388],\"showgrid\":true},\"xaxis20\":{\"anchor\":\"y20\",\"domain\":[0.825,1.0],\"showgrid\":true},\"yaxis20\":{\"anchor\":\"x20\",\"domain\":[0.3020408163265306,0.3959183673469388],\"showgrid\":true},\"xaxis21\":{\"anchor\":\"y21\",\"domain\":[0.0,0.175],\"showgrid\":true},\"yaxis21\":{\"anchor\":\"x21\",\"domain\":[0.1510204081632653,0.24489795918367346],\"showgrid\":true},\"xaxis22\":{\"anchor\":\"y22\",\"domain\":[0.275,0.45],\"showgrid\":true},\"yaxis22\":{\"anchor\":\"x22\",\"domain\":[0.1510204081632653,0.24489795918367346],\"showgrid\":true},\"xaxis23\":{\"anchor\":\"y23\",\"domain\":[0.55,0.7250000000000001],\"showgrid\":true},\"yaxis23\":{\"anchor\":\"x23\",\"domain\":[0.1510204081632653,0.24489795918367346],\"showgrid\":true},\"xaxis24\":{\"anchor\":\"y24\",\"domain\":[0.825,1.0],\"showgrid\":true},\"yaxis24\":{\"anchor\":\"x24\",\"domain\":[0.1510204081632653,0.24489795918367346],\"showgrid\":true},\"xaxis25\":{\"anchor\":\"y25\",\"domain\":[0.0,0.175],\"showgrid\":true},\"yaxis25\":{\"anchor\":\"x25\",\"domain\":[0.0,0.09387755102040816],\"showgrid\":true},\"xaxis26\":{\"anchor\":\"y26\",\"domain\":[0.275,0.45],\"showgrid\":true},\"yaxis26\":{\"anchor\":\"x26\",\"domain\":[0.0,0.09387755102040816],\"showgrid\":true},\"xaxis27\":{\"anchor\":\"y27\",\"domain\":[0.55,0.7250000000000001],\"showgrid\":true},\"yaxis27\":{\"anchor\":\"x27\",\"domain\":[0.0,0.09387755102040816],\"showgrid\":true},\"xaxis28\":{\"anchor\":\"y28\",\"domain\":[0.825,1.0],\"showgrid\":true},\"yaxis28\":{\"anchor\":\"x28\",\"domain\":[0.0,0.09387755102040816],\"showgrid\":true},\"annotations\":[{\"font\":{\"size\":16},\"showarrow\":false,\"text\":\"Topic 0\",\"x\":0.0875,\"xanchor\":\"center\",\"xref\":\"paper\",\"y\":1.0,\"yanchor\":\"bottom\",\"yref\":\"paper\"},{\"font\":{\"size\":16},\"showarrow\":false,\"text\":\"Topic 1\",\"x\":0.36250000000000004,\"xanchor\":\"center\",\"xref\":\"paper\",\"y\":1.0,\"yanchor\":\"bottom\",\"yref\":\"paper\"},{\"font\":{\"size\":16},\"showarrow\":false,\"text\":\"Topic 2\",\"x\":0.6375000000000001,\"xanchor\":\"center\",\"xref\":\"paper\",\"y\":1.0,\"yanchor\":\"bottom\",\"yref\":\"paper\"},{\"font\":{\"size\":16},\"showarrow\":false,\"text\":\"Topic 3\",\"x\":0.9125,\"xanchor\":\"center\",\"xref\":\"paper\",\"y\":1.0,\"yanchor\":\"bottom\",\"yref\":\"paper\"},{\"font\":{\"size\":16},\"showarrow\":false,\"text\":\"Topic 4\",\"x\":0.0875,\"xanchor\":\"center\",\"xref\":\"paper\",\"y\":0.8489795918367348,\"yanchor\":\"bottom\",\"yref\":\"paper\"},{\"font\":{\"size\":16},\"showarrow\":false,\"text\":\"Topic 5\",\"x\":0.36250000000000004,\"xanchor\":\"center\",\"xref\":\"paper\",\"y\":0.8489795918367348,\"yanchor\":\"bottom\",\"yref\":\"paper\"},{\"font\":{\"size\":16},\"showarrow\":false,\"text\":\"Topic 6\",\"x\":0.6375000000000001,\"xanchor\":\"center\",\"xref\":\"paper\",\"y\":0.8489795918367348,\"yanchor\":\"bottom\",\"yref\":\"paper\"},{\"font\":{\"size\":16},\"showarrow\":false,\"text\":\"Topic 7\",\"x\":0.9125,\"xanchor\":\"center\",\"xref\":\"paper\",\"y\":0.8489795918367348,\"yanchor\":\"bottom\",\"yref\":\"paper\"},{\"font\":{\"size\":16},\"showarrow\":false,\"text\":\"Topic 8\",\"x\":0.0875,\"xanchor\":\"center\",\"xref\":\"paper\",\"y\":0.6979591836734694,\"yanchor\":\"bottom\",\"yref\":\"paper\"},{\"font\":{\"size\":16},\"showarrow\":false,\"text\":\"Topic 9\",\"x\":0.36250000000000004,\"xanchor\":\"center\",\"xref\":\"paper\",\"y\":0.6979591836734694,\"yanchor\":\"bottom\",\"yref\":\"paper\"},{\"font\":{\"size\":16},\"showarrow\":false,\"text\":\"Topic 10\",\"x\":0.6375000000000001,\"xanchor\":\"center\",\"xref\":\"paper\",\"y\":0.6979591836734694,\"yanchor\":\"bottom\",\"yref\":\"paper\"},{\"font\":{\"size\":16},\"showarrow\":false,\"text\":\"Topic 11\",\"x\":0.9125,\"xanchor\":\"center\",\"xref\":\"paper\",\"y\":0.6979591836734694,\"yanchor\":\"bottom\",\"yref\":\"paper\"},{\"font\":{\"size\":16},\"showarrow\":false,\"text\":\"Topic 12\",\"x\":0.0875,\"xanchor\":\"center\",\"xref\":\"paper\",\"y\":0.5469387755102041,\"yanchor\":\"bottom\",\"yref\":\"paper\"},{\"font\":{\"size\":16},\"showarrow\":false,\"text\":\"Topic 13\",\"x\":0.36250000000000004,\"xanchor\":\"center\",\"xref\":\"paper\",\"y\":0.5469387755102041,\"yanchor\":\"bottom\",\"yref\":\"paper\"},{\"font\":{\"size\":16},\"showarrow\":false,\"text\":\"Topic 14\",\"x\":0.6375000000000001,\"xanchor\":\"center\",\"xref\":\"paper\",\"y\":0.5469387755102041,\"yanchor\":\"bottom\",\"yref\":\"paper\"},{\"font\":{\"size\":16},\"showarrow\":false,\"text\":\"Topic 15\",\"x\":0.9125,\"xanchor\":\"center\",\"xref\":\"paper\",\"y\":0.5469387755102041,\"yanchor\":\"bottom\",\"yref\":\"paper\"},{\"font\":{\"size\":16},\"showarrow\":false,\"text\":\"Topic 16\",\"x\":0.0875,\"xanchor\":\"center\",\"xref\":\"paper\",\"y\":0.3959183673469388,\"yanchor\":\"bottom\",\"yref\":\"paper\"},{\"font\":{\"size\":16},\"showarrow\":false,\"text\":\"Topic 17\",\"x\":0.36250000000000004,\"xanchor\":\"center\",\"xref\":\"paper\",\"y\":0.3959183673469388,\"yanchor\":\"bottom\",\"yref\":\"paper\"},{\"font\":{\"size\":16},\"showarrow\":false,\"text\":\"Topic 18\",\"x\":0.6375000000000001,\"xanchor\":\"center\",\"xref\":\"paper\",\"y\":0.3959183673469388,\"yanchor\":\"bottom\",\"yref\":\"paper\"},{\"font\":{\"size\":16},\"showarrow\":false,\"text\":\"Topic 19\",\"x\":0.9125,\"xanchor\":\"center\",\"xref\":\"paper\",\"y\":0.3959183673469388,\"yanchor\":\"bottom\",\"yref\":\"paper\"},{\"font\":{\"size\":16},\"showarrow\":false,\"text\":\"Topic 20\",\"x\":0.0875,\"xanchor\":\"center\",\"xref\":\"paper\",\"y\":0.24489795918367346,\"yanchor\":\"bottom\",\"yref\":\"paper\"},{\"font\":{\"size\":16},\"showarrow\":false,\"text\":\"Topic 21\",\"x\":0.36250000000000004,\"xanchor\":\"center\",\"xref\":\"paper\",\"y\":0.24489795918367346,\"yanchor\":\"bottom\",\"yref\":\"paper\"},{\"font\":{\"size\":16},\"showarrow\":false,\"text\":\"Topic 22\",\"x\":0.6375000000000001,\"xanchor\":\"center\",\"xref\":\"paper\",\"y\":0.24489795918367346,\"yanchor\":\"bottom\",\"yref\":\"paper\"},{\"font\":{\"size\":16},\"showarrow\":false,\"text\":\"Topic 23\",\"x\":0.9125,\"xanchor\":\"center\",\"xref\":\"paper\",\"y\":0.24489795918367346,\"yanchor\":\"bottom\",\"yref\":\"paper\"},{\"font\":{\"size\":16},\"showarrow\":false,\"text\":\"Topic 24\",\"x\":0.0875,\"xanchor\":\"center\",\"xref\":\"paper\",\"y\":0.09387755102040816,\"yanchor\":\"bottom\",\"yref\":\"paper\"}],\"title\":{\"font\":{\"size\":22,\"color\":\"Black\"},\"text\":\"Topic Word Scores\",\"x\":0.5,\"xanchor\":\"center\",\"yanchor\":\"top\"},\"hoverlabel\":{\"font\":{\"size\":16,\"family\":\"Rockwell\"},\"bgcolor\":\"white\"},\"showlegend\":false,\"width\":1000,\"height\":1750},                        {\"responsive\": true}                    ).then(function(){\n",
       "                            \n",
       "var gd = document.getElementById('b8d6e3cc-c606-49ab-9583-653235b85503');\n",
       "var x = new MutationObserver(function (mutations, observer) {{\n",
       "        var display = window.getComputedStyle(gd).display;\n",
       "        if (!display || display === 'none') {{\n",
       "            console.log([gd, 'removed!']);\n",
       "            Plotly.purge(gd);\n",
       "            observer.disconnect();\n",
       "        }}\n",
       "}});\n",
       "\n",
       "// Listen for the removal of the full notebook cells\n",
       "var notebookContainer = gd.closest('#notebook-container');\n",
       "if (notebookContainer) {{\n",
       "    x.observe(notebookContainer, {childList: true});\n",
       "}}\n",
       "\n",
       "// Listen for the clearing of the current output cell\n",
       "var outputEl = gd.closest('.output');\n",
       "if (outputEl) {{\n",
       "    x.observe(outputEl, {childList: true});\n",
       "}}\n",
       "\n",
       "                        })                };                });            </script>        </div>"
      ]
     },
     "metadata": {},
     "output_type": "display_data"
    }
   ],
   "source": [
    "topic_model.visualize_barchart(top_n_topics=34)\n",
    "\n",
    "# there is a total of 34 topics this run"
   ]
  },
  {
   "cell_type": "code",
   "execution_count": 124,
   "metadata": {
    "execution": {
     "iopub.execute_input": "2023-05-25T00:46:10.397749Z",
     "iopub.status.busy": "2023-05-25T00:46:10.397389Z",
     "iopub.status.idle": "2023-05-25T00:46:10.406461Z",
     "shell.execute_reply": "2023-05-25T00:46:10.405018Z",
     "shell.execute_reply.started": "2023-05-25T00:46:10.397713Z"
    }
   },
   "outputs": [
    {
     "name": "stdout",
     "output_type": "stream",
     "text": [
      "Topic: 0\n",
      "[('xi', 0.021294085757474168), ('country', 0.01569636495361132), ('meeting', 0.015112712251611905), ('state', 0.014016515855120058), ('chinese', 0.013958389003072969), ('biden', 0.012860494016821293), ('two', 0.012402847866961228), ('relation', 0.01227443877779661), ('foreign', 0.01185700789661914), ('side', 0.011744225518942716)]\n",
      "\n",
      "Topic: 1\n",
      "[('per', 0.027159068370429047), ('cent', 0.02669538165463662), ('trade', 0.022552643062345334), ('year', 0.022392058609976402), ('market', 0.019047265379052873), ('economic', 0.017143154654836644), ('economy', 0.015732922294106853), ('yuan', 0.014935072768426174), ('chinese', 0.014462702863270732), ('country', 0.014292451131194516)]\n",
      "\n",
      "Topic: 2\n",
      "[('military', 0.03588477910815649), ('pla', 0.03172771498998406), ('defence', 0.02182811775615065), ('force', 0.02157453952814363), ('island', 0.021360955205302495), ('nuclear', 0.018983488312849822), ('sea', 0.017248959477621003), ('aircraft', 0.016475049652950314), ('navy', 0.01573571330489915), ('chinese', 0.01451362187232355)]\n",
      "\n",
      "Topic: 3\n",
      "[('chip', 0.06043866618837817), ('semiconductor', 0.0428711083499492), ('technology', 0.03268670070839719), ('company', 0.02971295647633863), ('export', 0.02886740583976427), ('industry', 0.02744687893805835), ('advanced', 0.02644919874326437), ('memory', 0.022275249246967225), ('restriction', 0.019126769840224506), ('list', 0.01854699956883571)]\n",
      "\n",
      "Topic: 4\n",
      "[('russia', 0.04912478908345243), ('ukraine', 0.041405066429094924), ('war', 0.024871623291555886), ('moscow', 0.023966661337774434), ('russian', 0.023954025352811464), ('country', 0.01886278063298305), ('putin', 0.018074938511644354), ('blinken', 0.017807840595233097), ('sanction', 0.015323448605258366), ('peace', 0.015080146991449498)]\n",
      "\n",
      "Topic: 5\n",
      "[('nan', 6.089447918426759), ('', 1e-05), ('', 1e-05), ('', 1e-05), ('', 1e-05), ('', 1e-05), ('', 1e-05), ('', 1e-05), ('', 1e-05), ('', 1e-05)]\n",
      "\n",
      "Topic: 6\n",
      "[('tsai', 0.0536446383745646), ('island', 0.033880894482719866), ('taipei', 0.03013986178968778), ('taiwanese', 0.028240678617596413), ('mccarthy', 0.028049695783181342), ('visit', 0.026225435140753473), ('mainland', 0.020062922951729747), ('official', 0.01717188280644657), ('speaker', 0.01558623345789738), ('meeting', 0.015531343289558065)]\n",
      "\n",
      "Topic: 7\n",
      "[('balloon', 0.10561481538883831), ('object', 0.03124850971953652), ('airspace', 0.03052378845395283), ('shot', 0.025770257761960604), ('surveillance', 0.024266698092488014), ('chinese', 0.023200851504559507), ('spy', 0.021193496303826994), ('pentagon', 0.01813014322701941), ('military', 0.0175640464453225), ('incident', 0.01646560198123261)]\n",
      "\n",
      "Topic: 8\n",
      "[('philippine', 0.10906325364079826), ('marcos', 0.05054591984941296), ('sea', 0.04446797517323216), ('manila', 0.03660546472004074), ('base', 0.03236436787265302), ('south', 0.031274814740889785), ('military', 0.030141542035916864), ('jnr', 0.024347598759534135), ('defence', 0.023243126652016766), ('edca', 0.01974214640677221)]\n",
      "\n",
      "Topic: 9\n",
      "[('guo', 0.03547089099281418), ('case', 0.03365427634081981), ('charge', 0.02999233473230582), ('trump', 0.028807776018624824), ('chinese', 0.027031681467153047), ('court', 0.02648423619839236), ('justice', 0.025841358973871888), ('indictment', 0.023790997133533703), ('york', 0.02143719668338203), ('department', 0.021165695446330086)]\n",
      "\n",
      "Topic: 10\n",
      "[('korea', 0.10823121727880637), ('north', 0.07259566143014859), ('south', 0.06139754590606323), ('korean', 0.05563595638277566), ('yoon', 0.047338217584731355), ('seoul', 0.03727476783829119), ('nuclear', 0.03312310477789027), ('japan', 0.03246627155229479), ('missile', 0.02452480644444933), ('pyongyang', 0.023860569194259527)]\n",
      "\n",
      "Topic: 11\n",
      "[('tiktok', 0.10488504014282708), ('app', 0.04852925927045128), ('bytedance', 0.040163503522557834), ('ban', 0.038394767780723774), ('user', 0.036232096310705376), ('data', 0.033283793499268195), ('government', 0.024574372126721238), ('company', 0.023225182438080257), ('device', 0.021269112693557298), ('chinese', 0.01975364361802648)]\n",
      "\n",
      "Topic: 12\n",
      "[('letter', 0.03054374268936976), ('must', 0.01995675331685291), ('emailing', 0.019085571401830627), ('exceed', 0.0186866195201538), ('verification', 0.018541712888670903), ('submission', 0.018506100254483262), ('editor', 0.018175804972093982), ('filling', 0.017390095296818186), ('aspect', 0.017374854818066592), ('plus', 0.016928975129732435)]\n",
      "\n",
      "Topic: 13\n",
      "[('republican', 0.07027843361377409), ('house', 0.047259679664270055), ('mccarthy', 0.039795638637862396), ('committee', 0.03884035202270498), ('democrat', 0.03372280717107889), ('party', 0.025841830827766525), ('senate', 0.02390495852931208), ('speaker', 0.02212645245158488), ('biden', 0.019446918335605884), ('vote', 0.018615961553194532)]\n",
      "\n",
      "Topic: 14\n",
      "[('sanction', 0.02792228276410936), ('company', 0.02503539866508042), ('chinese', 0.020815248362063065), ('iran', 0.019526222978377444), ('list', 0.017991025219988743), ('iranian', 0.017273144870073722), ('export', 0.01723203797661122), ('sale', 0.01693494522075427), ('wto', 0.016910071676199182), ('trade', 0.016619338062922838)]\n",
      "\n",
      "Topic: 15\n",
      "[('boeing', 0.05001882373693968), ('aviation', 0.042989317599955175), ('airbus', 0.04080628744365546), ('airline', 0.033695813166071814), ('flight', 0.030623547601591927), ('max', 0.02705032388743626), ('passenger', 0.02705032388743626), ('aircraft', 0.025391516147763103), ('jet', 0.024913337185199707), ('comac', 0.023274187553787486)]\n",
      "\n",
      "Topic: 16\n",
      "[('tiktok', 0.08226288952053473), ('bill', 0.04531191282312373), ('ban', 0.04204990858543806), ('app', 0.03088399042220069), ('user', 0.030666753838092715), ('data', 0.02966484487433585), ('republican', 0.025419795471053466), ('government', 0.025234768463456143), ('house', 0.023184902619295508), ('device', 0.022735795615078)]\n",
      "\n",
      "Topic: 17\n",
      "[('company', 0.04521214865644762), ('capital', 0.023090584091208594), ('market', 0.02190309237383313), ('investor', 0.020282705714292335), ('according', 0.01959264537675438), ('chinese', 0.018596906040006494), ('investment', 0.01850443239187777), ('per', 0.01750034444824434), ('cent', 0.01686984508847889), ('berkshire', 0.016407182254711602)]\n",
      "\n",
      "Topic: 18\n",
      "[('law', 0.07385255939093363), ('city', 0.0408341821318515), ('national', 0.037456248211744765), ('security', 0.033862910577277014), ('report', 0.029926113552176073), ('religious', 0.025946072002758586), ('judge', 0.025285001901455936), ('freedom', 0.024119233311776234), ('government', 0.02405316543000562), ('case', 0.023499948118371434)]\n",
      "\n",
      "Topic: 19\n",
      "[('japan', 0.07150436223123884), ('defence', 0.036256909954649856), ('japanese', 0.031233443949999686), ('kishida', 0.030429085521737256), ('military', 0.025925406012678478), ('tokyo', 0.023118153324807808), ('nuclear', 0.019328893406404046), ('minister', 0.019172277429656714), ('washington', 0.019091954600126117), ('security', 0.018696103551655303)]\n",
      "\n",
      "Topic: 20\n",
      "[('saudi', 0.1071940526049623), ('arabia', 0.08283627879398801), ('middle', 0.040709587834595516), ('arab', 0.03739071953857109), ('east', 0.03686258546220303), ('iran', 0.03650080015310183), ('gulf', 0.03608272749594176), ('oil', 0.034756045667194396), ('riyadh', 0.03414582808525185), ('energy', 0.030043719447460343)]\n",
      "\n",
      "Topic: 21\n",
      "[('pacific', 0.06814278344276267), ('africa', 0.06344431618505775), ('island', 0.049923315730687395), ('african', 0.034006245948472805), ('washington', 0.026884424517430193), ('solomon', 0.0263064709554532), ('region', 0.02582141959489967), ('summit', 0.025067268762759828), ('nation', 0.024963808813717965), ('leader', 0.02295232495844975)]\n",
      "\n",
      "Topic: 22\n",
      "[('washington', 0.01598068354721491), ('region', 0.015928703309829092), ('economic', 0.014903038379944502), ('policy', 0.014401602063891445), ('military', 0.014381569237598655), ('conflict', 0.013725875405907273), ('country', 0.013536424514389817), ('climate', 0.013437608267711032), ('year', 0.013397230804866333), ('global', 0.013361258205049195)]\n",
      "\n",
      "Topic: 23\n",
      "[('huawei', 0.10548526406719234), ('meng', 0.04337597241417409), ('company', 0.04082091107984202), ('equipment', 0.034220013800232055), ('network', 0.0303143703151762), ('fcc', 0.02619964121301039), ('ren', 0.023941812083661907), ('report', 0.02291694023382168), ('chinese', 0.02100017242018791), ('capvision', 0.02072918390948768)]\n",
      "\n",
      "Topic: 24\n",
      "[('australia', 0.10011249708596391), ('submarine', 0.08180797802435931), ('aukus', 0.064996469980261), ('australian', 0.04302056520872635), ('nuclearpowered', 0.036432913659514496), ('britain', 0.026912421032472104), ('british', 0.020653153088912714), ('defence', 0.02056282466529161), ('marles', 0.020193859093056685), ('minister', 0.019312163194016088)]\n",
      "\n",
      "Topic: 25\n",
      "False\n",
      "\n",
      "Topic: 26\n",
      "False\n",
      "\n",
      "Topic: 27\n",
      "False\n",
      "\n",
      "Topic: 28\n",
      "False\n",
      "\n",
      "Topic: 29\n",
      "False\n",
      "\n",
      "Topic: 30\n",
      "False\n",
      "\n",
      "Topic: 31\n",
      "False\n",
      "\n",
      "Topic: 32\n",
      "False\n",
      "\n",
      "Topic: 33\n",
      "False\n",
      "\n",
      "Topic: 34\n",
      "False\n",
      "\n",
      "Topic: 35\n",
      "False\n",
      "\n",
      "Topic: 36\n",
      "False\n",
      "\n",
      "Topic: 37\n",
      "False\n",
      "\n",
      "Topic: 38\n",
      "False\n",
      "\n",
      "Topic: 39\n",
      "False\n",
      "\n"
     ]
    }
   ],
   "source": [
    "# Print the keywords for each topic\n",
    "for i in range(40):\n",
    "    print(f\"Topic: {i}\")\n",
    "    print(topic_model.get_topic(i))\n",
    "    print()"
   ]
  },
  {
   "cell_type": "code",
   "execution_count": 125,
   "metadata": {
    "execution": {
     "iopub.execute_input": "2023-05-25T00:46:10.408287Z",
     "iopub.status.busy": "2023-05-25T00:46:10.407962Z",
     "iopub.status.idle": "2023-05-25T00:46:10.419511Z",
     "shell.execute_reply": "2023-05-25T00:46:10.418195Z",
     "shell.execute_reply.started": "2023-05-25T00:46:10.408259Z"
    }
   },
   "outputs": [],
   "source": [
    "# Update the topics and probabilities \n",
    "topics_final = topic_model.topics_\n",
    "probabilities_final = pd.DataFrame(topic_model.probabilities_)"
   ]
  },
  {
   "cell_type": "code",
   "execution_count": 126,
   "metadata": {
    "execution": {
     "iopub.execute_input": "2023-05-25T00:46:10.423930Z",
     "iopub.status.busy": "2023-05-25T00:46:10.423529Z",
     "iopub.status.idle": "2023-05-25T00:46:18.284599Z",
     "shell.execute_reply": "2023-05-25T00:46:18.283264Z",
     "shell.execute_reply.started": "2023-05-25T00:46:10.423899Z"
    }
   },
   "outputs": [],
   "source": [
    "topic_distr, _ = topic_model.approximate_distribution(docs)"
   ]
  },
  {
   "cell_type": "code",
   "execution_count": 127,
   "metadata": {
    "execution": {
     "iopub.execute_input": "2023-05-25T00:46:18.288061Z",
     "iopub.status.busy": "2023-05-25T00:46:18.286964Z",
     "iopub.status.idle": "2023-05-25T00:46:18.342010Z",
     "shell.execute_reply": "2023-05-25T00:46:18.340901Z",
     "shell.execute_reply.started": "2023-05-25T00:46:18.288015Z"
    }
   },
   "outputs": [
    {
     "data": {
      "text/html": [
       "<div>                            <div id=\"fbfd1561-93ac-41bd-864a-488841b7181b\" class=\"plotly-graph-div\" style=\"height:600px; width:800px;\"></div>            <script type=\"text/javascript\">                require([\"plotly\"], function(Plotly) {                    window.PLOTLYENV=window.PLOTLYENV || {};                                    if (document.getElementById(\"fbfd1561-93ac-41bd-864a-488841b7181b\")) {                    Plotly.newPlot(                        \"fbfd1561-93ac-41bd-864a-488841b7181b\",                        [{\"marker\":{\"color\":\"#C8D2D7\",\"line\":{\"color\":\"#6E8484\",\"width\":1}},\"orientation\":\"h\",\"x\":[0.07094784355564036,0.052612239547664724,0.017565405042639516,0.032421566233980355,0.035070254087831584,0.4937659896052679,0.019450364668109045,0.04563692561967601,0.025489649503056926,0.03065464022304769,0.11594823485397077,0.01806639956196831],\"y\":[\"<b>Topic 0</b>: xi_country_meeting_state...\",\"<b>Topic 1</b>: per_cent_trade_year_mark...\",\"<b>Topic 3</b>: chip_semiconductor_techn...\",\"<b>Topic 6</b>: tsai_island_taipei_taiwa...\",\"<b>Topic 7</b>: balloon_object_airspace_...\",\"<b>Topic 9</b>: guo_case_charge_trump_ch...\",\"<b>Topic 11</b>: tiktok_app_bytedance_ba...\",\"<b>Topic 14</b>: sanction_company_chines...\",\"<b>Topic 16</b>: tiktok_bill_ban_app_use...\",\"<b>Topic 17</b>: company_capital_market_...\",\"<b>Topic 18</b>: law_city_national_secur...\",\"<b>Topic 22</b>: washington_region_econo...\"],\"type\":\"bar\"}],                        {\"template\":{\"data\":{\"barpolar\":[{\"marker\":{\"line\":{\"color\":\"white\",\"width\":0.5},\"pattern\":{\"fillmode\":\"overlay\",\"size\":10,\"solidity\":0.2}},\"type\":\"barpolar\"}],\"bar\":[{\"error_x\":{\"color\":\"rgb(36,36,36)\"},\"error_y\":{\"color\":\"rgb(36,36,36)\"},\"marker\":{\"line\":{\"color\":\"white\",\"width\":0.5},\"pattern\":{\"fillmode\":\"overlay\",\"size\":10,\"solidity\":0.2}},\"type\":\"bar\"}],\"carpet\":[{\"aaxis\":{\"endlinecolor\":\"rgb(36,36,36)\",\"gridcolor\":\"white\",\"linecolor\":\"white\",\"minorgridcolor\":\"white\",\"startlinecolor\":\"rgb(36,36,36)\"},\"baxis\":{\"endlinecolor\":\"rgb(36,36,36)\",\"gridcolor\":\"white\",\"linecolor\":\"white\",\"minorgridcolor\":\"white\",\"startlinecolor\":\"rgb(36,36,36)\"},\"type\":\"carpet\"}],\"choropleth\":[{\"colorbar\":{\"outlinewidth\":1,\"tickcolor\":\"rgb(36,36,36)\",\"ticks\":\"outside\"},\"type\":\"choropleth\"}],\"contourcarpet\":[{\"colorbar\":{\"outlinewidth\":1,\"tickcolor\":\"rgb(36,36,36)\",\"ticks\":\"outside\"},\"type\":\"contourcarpet\"}],\"contour\":[{\"colorbar\":{\"outlinewidth\":1,\"tickcolor\":\"rgb(36,36,36)\",\"ticks\":\"outside\"},\"colorscale\":[[0.0,\"#440154\"],[0.1111111111111111,\"#482878\"],[0.2222222222222222,\"#3e4989\"],[0.3333333333333333,\"#31688e\"],[0.4444444444444444,\"#26828e\"],[0.5555555555555556,\"#1f9e89\"],[0.6666666666666666,\"#35b779\"],[0.7777777777777778,\"#6ece58\"],[0.8888888888888888,\"#b5de2b\"],[1.0,\"#fde725\"]],\"type\":\"contour\"}],\"heatmapgl\":[{\"colorbar\":{\"outlinewidth\":1,\"tickcolor\":\"rgb(36,36,36)\",\"ticks\":\"outside\"},\"colorscale\":[[0.0,\"#440154\"],[0.1111111111111111,\"#482878\"],[0.2222222222222222,\"#3e4989\"],[0.3333333333333333,\"#31688e\"],[0.4444444444444444,\"#26828e\"],[0.5555555555555556,\"#1f9e89\"],[0.6666666666666666,\"#35b779\"],[0.7777777777777778,\"#6ece58\"],[0.8888888888888888,\"#b5de2b\"],[1.0,\"#fde725\"]],\"type\":\"heatmapgl\"}],\"heatmap\":[{\"colorbar\":{\"outlinewidth\":1,\"tickcolor\":\"rgb(36,36,36)\",\"ticks\":\"outside\"},\"colorscale\":[[0.0,\"#440154\"],[0.1111111111111111,\"#482878\"],[0.2222222222222222,\"#3e4989\"],[0.3333333333333333,\"#31688e\"],[0.4444444444444444,\"#26828e\"],[0.5555555555555556,\"#1f9e89\"],[0.6666666666666666,\"#35b779\"],[0.7777777777777778,\"#6ece58\"],[0.8888888888888888,\"#b5de2b\"],[1.0,\"#fde725\"]],\"type\":\"heatmap\"}],\"histogram2dcontour\":[{\"colorbar\":{\"outlinewidth\":1,\"tickcolor\":\"rgb(36,36,36)\",\"ticks\":\"outside\"},\"colorscale\":[[0.0,\"#440154\"],[0.1111111111111111,\"#482878\"],[0.2222222222222222,\"#3e4989\"],[0.3333333333333333,\"#31688e\"],[0.4444444444444444,\"#26828e\"],[0.5555555555555556,\"#1f9e89\"],[0.6666666666666666,\"#35b779\"],[0.7777777777777778,\"#6ece58\"],[0.8888888888888888,\"#b5de2b\"],[1.0,\"#fde725\"]],\"type\":\"histogram2dcontour\"}],\"histogram2d\":[{\"colorbar\":{\"outlinewidth\":1,\"tickcolor\":\"rgb(36,36,36)\",\"ticks\":\"outside\"},\"colorscale\":[[0.0,\"#440154\"],[0.1111111111111111,\"#482878\"],[0.2222222222222222,\"#3e4989\"],[0.3333333333333333,\"#31688e\"],[0.4444444444444444,\"#26828e\"],[0.5555555555555556,\"#1f9e89\"],[0.6666666666666666,\"#35b779\"],[0.7777777777777778,\"#6ece58\"],[0.8888888888888888,\"#b5de2b\"],[1.0,\"#fde725\"]],\"type\":\"histogram2d\"}],\"histogram\":[{\"marker\":{\"line\":{\"color\":\"white\",\"width\":0.6}},\"type\":\"histogram\"}],\"mesh3d\":[{\"colorbar\":{\"outlinewidth\":1,\"tickcolor\":\"rgb(36,36,36)\",\"ticks\":\"outside\"},\"type\":\"mesh3d\"}],\"parcoords\":[{\"line\":{\"colorbar\":{\"outlinewidth\":1,\"tickcolor\":\"rgb(36,36,36)\",\"ticks\":\"outside\"}},\"type\":\"parcoords\"}],\"pie\":[{\"automargin\":true,\"type\":\"pie\"}],\"scatter3d\":[{\"line\":{\"colorbar\":{\"outlinewidth\":1,\"tickcolor\":\"rgb(36,36,36)\",\"ticks\":\"outside\"}},\"marker\":{\"colorbar\":{\"outlinewidth\":1,\"tickcolor\":\"rgb(36,36,36)\",\"ticks\":\"outside\"}},\"type\":\"scatter3d\"}],\"scattercarpet\":[{\"marker\":{\"colorbar\":{\"outlinewidth\":1,\"tickcolor\":\"rgb(36,36,36)\",\"ticks\":\"outside\"}},\"type\":\"scattercarpet\"}],\"scattergeo\":[{\"marker\":{\"colorbar\":{\"outlinewidth\":1,\"tickcolor\":\"rgb(36,36,36)\",\"ticks\":\"outside\"}},\"type\":\"scattergeo\"}],\"scattergl\":[{\"marker\":{\"colorbar\":{\"outlinewidth\":1,\"tickcolor\":\"rgb(36,36,36)\",\"ticks\":\"outside\"}},\"type\":\"scattergl\"}],\"scattermapbox\":[{\"marker\":{\"colorbar\":{\"outlinewidth\":1,\"tickcolor\":\"rgb(36,36,36)\",\"ticks\":\"outside\"}},\"type\":\"scattermapbox\"}],\"scatterpolargl\":[{\"marker\":{\"colorbar\":{\"outlinewidth\":1,\"tickcolor\":\"rgb(36,36,36)\",\"ticks\":\"outside\"}},\"type\":\"scatterpolargl\"}],\"scatterpolar\":[{\"marker\":{\"colorbar\":{\"outlinewidth\":1,\"tickcolor\":\"rgb(36,36,36)\",\"ticks\":\"outside\"}},\"type\":\"scatterpolar\"}],\"scatter\":[{\"fillpattern\":{\"fillmode\":\"overlay\",\"size\":10,\"solidity\":0.2},\"type\":\"scatter\"}],\"scatterternary\":[{\"marker\":{\"colorbar\":{\"outlinewidth\":1,\"tickcolor\":\"rgb(36,36,36)\",\"ticks\":\"outside\"}},\"type\":\"scatterternary\"}],\"surface\":[{\"colorbar\":{\"outlinewidth\":1,\"tickcolor\":\"rgb(36,36,36)\",\"ticks\":\"outside\"},\"colorscale\":[[0.0,\"#440154\"],[0.1111111111111111,\"#482878\"],[0.2222222222222222,\"#3e4989\"],[0.3333333333333333,\"#31688e\"],[0.4444444444444444,\"#26828e\"],[0.5555555555555556,\"#1f9e89\"],[0.6666666666666666,\"#35b779\"],[0.7777777777777778,\"#6ece58\"],[0.8888888888888888,\"#b5de2b\"],[1.0,\"#fde725\"]],\"type\":\"surface\"}],\"table\":[{\"cells\":{\"fill\":{\"color\":\"rgb(237,237,237)\"},\"line\":{\"color\":\"white\"}},\"header\":{\"fill\":{\"color\":\"rgb(217,217,217)\"},\"line\":{\"color\":\"white\"}},\"type\":\"table\"}]},\"layout\":{\"annotationdefaults\":{\"arrowhead\":0,\"arrowwidth\":1},\"autotypenumbers\":\"strict\",\"coloraxis\":{\"colorbar\":{\"outlinewidth\":1,\"tickcolor\":\"rgb(36,36,36)\",\"ticks\":\"outside\"}},\"colorscale\":{\"diverging\":[[0.0,\"rgb(103,0,31)\"],[0.1,\"rgb(178,24,43)\"],[0.2,\"rgb(214,96,77)\"],[0.3,\"rgb(244,165,130)\"],[0.4,\"rgb(253,219,199)\"],[0.5,\"rgb(247,247,247)\"],[0.6,\"rgb(209,229,240)\"],[0.7,\"rgb(146,197,222)\"],[0.8,\"rgb(67,147,195)\"],[0.9,\"rgb(33,102,172)\"],[1.0,\"rgb(5,48,97)\"]],\"sequential\":[[0.0,\"#440154\"],[0.1111111111111111,\"#482878\"],[0.2222222222222222,\"#3e4989\"],[0.3333333333333333,\"#31688e\"],[0.4444444444444444,\"#26828e\"],[0.5555555555555556,\"#1f9e89\"],[0.6666666666666666,\"#35b779\"],[0.7777777777777778,\"#6ece58\"],[0.8888888888888888,\"#b5de2b\"],[1.0,\"#fde725\"]],\"sequentialminus\":[[0.0,\"#440154\"],[0.1111111111111111,\"#482878\"],[0.2222222222222222,\"#3e4989\"],[0.3333333333333333,\"#31688e\"],[0.4444444444444444,\"#26828e\"],[0.5555555555555556,\"#1f9e89\"],[0.6666666666666666,\"#35b779\"],[0.7777777777777778,\"#6ece58\"],[0.8888888888888888,\"#b5de2b\"],[1.0,\"#fde725\"]]},\"colorway\":[\"#1F77B4\",\"#FF7F0E\",\"#2CA02C\",\"#D62728\",\"#9467BD\",\"#8C564B\",\"#E377C2\",\"#7F7F7F\",\"#BCBD22\",\"#17BECF\"],\"font\":{\"color\":\"rgb(36,36,36)\"},\"geo\":{\"bgcolor\":\"white\",\"lakecolor\":\"white\",\"landcolor\":\"white\",\"showlakes\":true,\"showland\":true,\"subunitcolor\":\"white\"},\"hoverlabel\":{\"align\":\"left\"},\"hovermode\":\"closest\",\"mapbox\":{\"style\":\"light\"},\"paper_bgcolor\":\"white\",\"plot_bgcolor\":\"white\",\"polar\":{\"angularaxis\":{\"gridcolor\":\"rgb(232,232,232)\",\"linecolor\":\"rgb(36,36,36)\",\"showgrid\":false,\"showline\":true,\"ticks\":\"outside\"},\"bgcolor\":\"white\",\"radialaxis\":{\"gridcolor\":\"rgb(232,232,232)\",\"linecolor\":\"rgb(36,36,36)\",\"showgrid\":false,\"showline\":true,\"ticks\":\"outside\"}},\"scene\":{\"xaxis\":{\"backgroundcolor\":\"white\",\"gridcolor\":\"rgb(232,232,232)\",\"gridwidth\":2,\"linecolor\":\"rgb(36,36,36)\",\"showbackground\":true,\"showgrid\":false,\"showline\":true,\"ticks\":\"outside\",\"zeroline\":false,\"zerolinecolor\":\"rgb(36,36,36)\"},\"yaxis\":{\"backgroundcolor\":\"white\",\"gridcolor\":\"rgb(232,232,232)\",\"gridwidth\":2,\"linecolor\":\"rgb(36,36,36)\",\"showbackground\":true,\"showgrid\":false,\"showline\":true,\"ticks\":\"outside\",\"zeroline\":false,\"zerolinecolor\":\"rgb(36,36,36)\"},\"zaxis\":{\"backgroundcolor\":\"white\",\"gridcolor\":\"rgb(232,232,232)\",\"gridwidth\":2,\"linecolor\":\"rgb(36,36,36)\",\"showbackground\":true,\"showgrid\":false,\"showline\":true,\"ticks\":\"outside\",\"zeroline\":false,\"zerolinecolor\":\"rgb(36,36,36)\"}},\"shapedefaults\":{\"fillcolor\":\"black\",\"line\":{\"width\":0},\"opacity\":0.3},\"ternary\":{\"aaxis\":{\"gridcolor\":\"rgb(232,232,232)\",\"linecolor\":\"rgb(36,36,36)\",\"showgrid\":false,\"showline\":true,\"ticks\":\"outside\"},\"baxis\":{\"gridcolor\":\"rgb(232,232,232)\",\"linecolor\":\"rgb(36,36,36)\",\"showgrid\":false,\"showline\":true,\"ticks\":\"outside\"},\"bgcolor\":\"white\",\"caxis\":{\"gridcolor\":\"rgb(232,232,232)\",\"linecolor\":\"rgb(36,36,36)\",\"showgrid\":false,\"showline\":true,\"ticks\":\"outside\"}},\"title\":{\"x\":0.05},\"xaxis\":{\"automargin\":true,\"gridcolor\":\"rgb(232,232,232)\",\"linecolor\":\"rgb(36,36,36)\",\"showgrid\":false,\"showline\":true,\"ticks\":\"outside\",\"title\":{\"standoff\":15},\"zeroline\":false,\"zerolinecolor\":\"rgb(36,36,36)\"},\"yaxis\":{\"automargin\":true,\"gridcolor\":\"rgb(232,232,232)\",\"linecolor\":\"rgb(36,36,36)\",\"showgrid\":false,\"showline\":true,\"ticks\":\"outside\",\"title\":{\"standoff\":15},\"zeroline\":false,\"zerolinecolor\":\"rgb(36,36,36)\"}}},\"title\":{\"font\":{\"size\":22,\"color\":\"Black\"},\"text\":\"<b>Topic Probability Distribution</b>\",\"y\":0.95,\"x\":0.5,\"xanchor\":\"center\",\"yanchor\":\"top\"},\"hoverlabel\":{\"font\":{\"size\":16,\"family\":\"Rockwell\"},\"bgcolor\":\"white\"},\"xaxis\":{\"title\":{\"text\":\"Probability\"}},\"width\":800,\"height\":600},                        {\"responsive\": true}                    ).then(function(){\n",
       "                            \n",
       "var gd = document.getElementById('fbfd1561-93ac-41bd-864a-488841b7181b');\n",
       "var x = new MutationObserver(function (mutations, observer) {{\n",
       "        var display = window.getComputedStyle(gd).display;\n",
       "        if (!display || display === 'none') {{\n",
       "            console.log([gd, 'removed!']);\n",
       "            Plotly.purge(gd);\n",
       "            observer.disconnect();\n",
       "        }}\n",
       "}});\n",
       "\n",
       "// Listen for the removal of the full notebook cells\n",
       "var notebookContainer = gd.closest('#notebook-container');\n",
       "if (notebookContainer) {{\n",
       "    x.observe(notebookContainer, {childList: true});\n",
       "}}\n",
       "\n",
       "// Listen for the clearing of the current output cell\n",
       "var outputEl = gd.closest('.output');\n",
       "if (outputEl) {{\n",
       "    x.observe(outputEl, {childList: true});\n",
       "}}\n",
       "\n",
       "                        })                };                });            </script>        </div>"
      ]
     },
     "metadata": {},
     "output_type": "display_data"
    }
   ],
   "source": [
    "topic_model.visualize_distribution(topic_distr[1])\n",
    "\n",
    "# this looks like an uneven distributions; will try to "
   ]
  },
  {
   "cell_type": "code",
   "execution_count": 128,
   "metadata": {
    "execution": {
     "iopub.execute_input": "2023-05-25T00:46:18.344052Z",
     "iopub.status.busy": "2023-05-25T00:46:18.343676Z",
     "iopub.status.idle": "2023-05-25T00:46:18.356181Z",
     "shell.execute_reply": "2023-05-25T00:46:18.355043Z",
     "shell.execute_reply.started": "2023-05-25T00:46:18.344021Z"
    }
   },
   "outputs": [
    {
     "data": {
      "text/html": [
       "<div>\n",
       "<style scoped>\n",
       "    .dataframe tbody tr th:only-of-type {\n",
       "        vertical-align: middle;\n",
       "    }\n",
       "\n",
       "    .dataframe tbody tr th {\n",
       "        vertical-align: top;\n",
       "    }\n",
       "\n",
       "    .dataframe thead th {\n",
       "        text-align: right;\n",
       "    }\n",
       "</style>\n",
       "<table border=\"1\" class=\"dataframe\">\n",
       "  <thead>\n",
       "    <tr style=\"text-align: right;\">\n",
       "      <th></th>\n",
       "      <th>0</th>\n",
       "    </tr>\n",
       "  </thead>\n",
       "  <tbody>\n",
       "    <tr>\n",
       "      <th>0</th>\n",
       "      <td>0.795091</td>\n",
       "    </tr>\n",
       "    <tr>\n",
       "      <th>1</th>\n",
       "      <td>1.000000</td>\n",
       "    </tr>\n",
       "    <tr>\n",
       "      <th>2</th>\n",
       "      <td>0.839244</td>\n",
       "    </tr>\n",
       "    <tr>\n",
       "      <th>3</th>\n",
       "      <td>0.845093</td>\n",
       "    </tr>\n",
       "    <tr>\n",
       "      <th>4</th>\n",
       "      <td>0.000000</td>\n",
       "    </tr>\n",
       "    <tr>\n",
       "      <th>...</th>\n",
       "      <td>...</td>\n",
       "    </tr>\n",
       "    <tr>\n",
       "      <th>1272</th>\n",
       "      <td>1.000000</td>\n",
       "    </tr>\n",
       "    <tr>\n",
       "      <th>1273</th>\n",
       "      <td>0.980100</td>\n",
       "    </tr>\n",
       "    <tr>\n",
       "      <th>1274</th>\n",
       "      <td>0.517179</td>\n",
       "    </tr>\n",
       "    <tr>\n",
       "      <th>1275</th>\n",
       "      <td>0.644713</td>\n",
       "    </tr>\n",
       "    <tr>\n",
       "      <th>1276</th>\n",
       "      <td>1.000000</td>\n",
       "    </tr>\n",
       "  </tbody>\n",
       "</table>\n",
       "<p>1277 rows × 1 columns</p>\n",
       "</div>"
      ],
      "text/plain": [
       "             0\n",
       "0     0.795091\n",
       "1     1.000000\n",
       "2     0.839244\n",
       "3     0.845093\n",
       "4     0.000000\n",
       "...        ...\n",
       "1272  1.000000\n",
       "1273  0.980100\n",
       "1274  0.517179\n",
       "1275  0.644713\n",
       "1276  1.000000\n",
       "\n",
       "[1277 rows x 1 columns]"
      ]
     },
     "execution_count": 128,
     "metadata": {},
     "output_type": "execute_result"
    }
   ],
   "source": [
    "probabilities_final"
   ]
  },
  {
   "cell_type": "code",
   "execution_count": 129,
   "metadata": {
    "execution": {
     "iopub.execute_input": "2023-05-25T00:46:18.358672Z",
     "iopub.status.busy": "2023-05-25T00:46:18.357988Z",
     "iopub.status.idle": "2023-05-25T00:46:18.366848Z",
     "shell.execute_reply": "2023-05-25T00:46:18.365786Z",
     "shell.execute_reply.started": "2023-05-25T00:46:18.358628Z"
    }
   },
   "outputs": [],
   "source": [
    "#topic_model.update_topics(docs, topics=new_topics) # stopped here, rerun the code again"
   ]
  },
  {
   "cell_type": "code",
   "execution_count": 130,
   "metadata": {
    "execution": {
     "iopub.execute_input": "2023-05-25T00:46:18.368853Z",
     "iopub.status.busy": "2023-05-25T00:46:18.368208Z",
     "iopub.status.idle": "2023-05-25T00:46:18.389418Z",
     "shell.execute_reply": "2023-05-25T00:46:18.388132Z",
     "shell.execute_reply.started": "2023-05-25T00:46:18.368821Z"
    }
   },
   "outputs": [],
   "source": [
    "# Include the topics into the scmp_df dataframe\n",
    "scmp_df['topic'] = topics_final\n",
    "probabilities_final = pd.DataFrame(probabilities_final)\n",
    "\n",
    "# Concat the journals dataframe with the probabilities dataframe\n",
    "scmp_df = pd.concat([scmp_df, probabilities_final], axis=1)"
   ]
  },
  {
   "cell_type": "code",
   "execution_count": 131,
   "metadata": {
    "execution": {
     "iopub.execute_input": "2023-05-25T00:46:18.391957Z",
     "iopub.status.busy": "2023-05-25T00:46:18.391448Z",
     "iopub.status.idle": "2023-05-25T00:46:18.457072Z",
     "shell.execute_reply": "2023-05-25T00:46:18.455717Z",
     "shell.execute_reply.started": "2023-05-25T00:46:18.391915Z"
    }
   },
   "outputs": [
    {
     "data": {
      "text/html": [
       "<div>\n",
       "<style scoped>\n",
       "    .dataframe tbody tr th:only-of-type {\n",
       "        vertical-align: middle;\n",
       "    }\n",
       "\n",
       "    .dataframe tbody tr th {\n",
       "        vertical-align: top;\n",
       "    }\n",
       "\n",
       "    .dataframe thead th {\n",
       "        text-align: right;\n",
       "    }\n",
       "</style>\n",
       "<table border=\"1\" class=\"dataframe\">\n",
       "  <thead>\n",
       "    <tr style=\"text-align: right;\">\n",
       "      <th></th>\n",
       "      <th>index</th>\n",
       "      <th>title</th>\n",
       "      <th>summary</th>\n",
       "      <th>url</th>\n",
       "      <th>source</th>\n",
       "      <th>clean_text</th>\n",
       "      <th>tokens</th>\n",
       "      <th>filtered_tokens</th>\n",
       "      <th>lem_tokens</th>\n",
       "      <th>topic</th>\n",
       "      <th>0</th>\n",
       "      <th>0</th>\n",
       "      <th>0</th>\n",
       "    </tr>\n",
       "  </thead>\n",
       "  <tbody>\n",
       "    <tr>\n",
       "      <th>0</th>\n",
       "      <td>Summit a âmajor diplomatic eventâ to boost Chinaâs ties with Central Asia</td>\n",
       "      <td>Leaders of Kazakhstan, Kyrgyzstan, Tajikistan, Turkmenistan and Uzbekistan invited to first China-Central Asia summit\\nPresence of ethnic Russians in the five countries has triggered fears Moscow could target their territory next, analyst says\\n</td>\n",
       "      <td>/news/china/diplomacy/article/3213710/summit-major-diplomatic-event-boost-chinas-ties-central-asian-nations-amid-ukraine-afghanistan</td>\n",
       "      <td>us_china_spider</td>\n",
       "      <td>China is expected to further boost ties with Central Asia when President Xi Jinping hosts his counterparts from the region amid uncertainties stemming from Russiaâs war in Ukraine and increasing hostility from the West. Beijing has hailed the two-day summit of nations in the vast and geo-strategically important neighbouring region on Thursday and Friday as the âfirst major diplomatic event...</td>\n",
       "      <td>china is expected to further boost ties with central asia when president xi jinping hosts his counterparts from the region amid uncertainties stemming from russia s war in ukraine and increasing hostility from the west beijing has hailed the twoday summit of nations in the vast and geostrategically important neighbouring region on thursday and friday as the first major diplomatic event that ch...</td>\n",
       "      <td>[china, is, expected, to, further, boost, ties, with, central, asia, when, president, xi, jinping, hosts, his, counterparts, from, the, region, amid, uncertainties, stemming, from, russia, s, war, in, ukraine, and, increasing, hostility, from, the, west, beijing, has, hailed, the, twoday, summit, of, nations, in, the, vast, and, geostrategically, important, neighbouring, region, on, thursday, ...</td>\n",
       "      <td>[expected, boost, ties, central, asia, president, xi, jinping, hosts, counterparts, region, amid, uncertainties, stemming, russia, war, ukraine, increasing, hostility, west, hailed, twoday, summit, nations, vast, geostrategically, important, neighbouring, region, thursday, friday, first, major, diplomatic, event, hosts, year, meeting, xian, northwestern, province, shaanxi, coincides, leaders, ...</td>\n",
       "      <td>[expected, boost, tie, central, asia, president, xi, jinping, host, counterpart, region, amid, uncertainty, stemming, russia, war, ukraine, increasing, hostility, west, hailed, twoday, summit, nation, vast, geostrategically, important, neighbouring, region, thursday, friday, first, major, diplomatic, event, host, year, meeting, xian, northwestern, province, shaanxi, coincides, leader, summit, ...</td>\n",
       "      <td>0.0</td>\n",
       "      <td>0.000000</td>\n",
       "      <td>0.000000</td>\n",
       "      <td>0.795091</td>\n",
       "    </tr>\n",
       "    <tr>\n",
       "      <th>1</th>\n",
       "      <td>US arrests man on charges of acting as unregistered foreign agent for Beijing</td>\n",
       "      <td>Litang Liang, 63, of Massachusetts is accused of reporting to consulate officials on protests in the Boston area against China government actions since 2018.\\n</td>\n",
       "      <td>/news/china/diplomacy/article/3220662/us-arrests-chinese-american-charges-acting-unregistered-foreign-agent-beijing</td>\n",
       "      <td>us_china_spider</td>\n",
       "      <td>A Chinese-American man was arrested last week for allegedly serving as an agent of the Chinese government without notifying the US government, the Department of Justice announced on Monday. Litang Liang, 63, of Brighton, Massachusetts, was accused of providing Chinese officials with information about Boston-area individuals and organisations; leading a counter-protest against anti-Beijing acti...</td>\n",
       "      <td>a chineseamerican man was arrested last week for allegedly serving as an agent of the chinese government without notifying the us government the department of justice announced on monday litang liang of brighton massachusetts was accused of providing chinese officials with information about bostonarea individuals and organisations leading a counterprotest against antibeijing activists and sugg...</td>\n",
       "      <td>[a, chineseamerican, man, was, arrested, last, week, for, allegedly, serving, as, an, agent, of, the, chinese, government, without, notifying, the, us, government, the, department, of, justice, announced, on, monday, litang, liang, of, brighton, massachusetts, was, accused, of, providing, chinese, officials, with, information, about, bostonarea, individuals, and, organisations, leading, a, cou...</td>\n",
       "      <td>[chineseamerican, man, arrested, last, week, allegedly, serving, agent, chinese, government, without, notifying, government, department, justice, announced, monday, litang, liang, brighton, massachusetts, accused, providing, chinese, officials, information, bostonarea, individuals, organisations, leading, counterprotest, antibeijing, activists, suggesting, potential, recruits, ministry, public...</td>\n",
       "      <td>[chineseamerican, man, arrested, last, week, allegedly, serving, agent, chinese, government, without, notifying, government, department, justice, announced, monday, litang, liang, brighton, massachusetts, accused, providing, chinese, official, information, bostonarea, individual, organisation, leading, counterprotest, antibeijing, activist, suggesting, potential, recruit, ministry, public, sec...</td>\n",
       "      <td>9.0</td>\n",
       "      <td>1.000000</td>\n",
       "      <td>1.000000</td>\n",
       "      <td>1.000000</td>\n",
       "    </tr>\n",
       "    <tr>\n",
       "      <th>2</th>\n",
       "      <td>US report says China jailed as many as 10,000 religious adherents</td>\n",
       "      <td>Beijing has broadened its efforts to bring all theological activity under Communist Party control, according to annual State Department publication.\\n</td>\n",
       "      <td>/news/china/article/3220659/us-religious-freedom-report-accuses-china-jailing-many-10000-people-repression-campaign</td>\n",
       "      <td>us_china_spider</td>\n",
       "      <td>The US government on Monday accused Beijing of jailing as many as 10,000 or more people in 2022 in a widening campaign of repression against religious belief meant to bring all theological activity under the Chinese Communist Party âs control. The estimate of those imprisoned in the country ranging âfrom the low thousands to over 10,000â is one of many accusations contained in the State ...</td>\n",
       "      <td>the us government on monday accused beijing of jailing as many as or more people in in a widening campaign of repression against religious belief meant to bring all theological activity under the chinese communist party s control the estimate of those imprisoned in the country ranging from the low thousands to over is one of many accusations contained in the state department s international re...</td>\n",
       "      <td>[the, us, government, on, monday, accused, beijing, of, jailing, as, many, as, or, more, people, in, in, a, widening, campaign, of, repression, against, religious, belief, meant, to, bring, all, theological, activity, under, the, chinese, communist, party, s, control, the, estimate, of, those, imprisoned, in, the, country, ranging, from, the, low, thousands, to, over, is, one, of, many, accusa...</td>\n",
       "      <td>[government, monday, accused, jailing, many, people, widening, campaign, repression, religious, belief, meant, bring, theological, activity, chinese, communist, party, control, estimate, imprisoned, country, ranging, low, thousands, one, many, accusations, contained, state, department, international, religious, freedom, report, published, annually, since, covers, nearly, countries, report, sec...</td>\n",
       "      <td>[government, monday, accused, jailing, many, people, widening, campaign, repression, religious, belief, meant, bring, theological, activity, chinese, communist, party, control, estimate, imprisoned, country, ranging, low, thousand, one, many, accusation, contained, state, department, international, religious, freedom, report, published, annually, since, cover, nearly, country, report, section,...</td>\n",
       "      <td>18.0</td>\n",
       "      <td>0.779802</td>\n",
       "      <td>0.779802</td>\n",
       "      <td>0.839244</td>\n",
       "    </tr>\n",
       "    <tr>\n",
       "      <th>3</th>\n",
       "      <td>US citizen with Hong Kong residency given life sentence for spying in China</td>\n",
       "      <td>John Shing-wan Leung, 78, was convicted and sentenced in Suzhou court on Monday for committing espionage activities in China.\\n</td>\n",
       "      <td>/news/china/politics/article/3220562/hong-kong-resident-american-passport-sentenced-life-china-after-being-convicted-spying-charges</td>\n",
       "      <td>us_china_spider</td>\n",
       "      <td>A US-based Hong Kong permanent resident â who is believed to have promoted business and cultural exchanges â was sentenced to life in prison on Monday after being convicted on spying charges in China. It comes as China is stepping up efforts targeting spies, especially those from the United States and its allies. But a lack of transparency around national security cases in China and âmut...</td>\n",
       "      <td>a usbased hong kong permanent resident who is believed to have promoted business and cultural exchanges was sentenced to life in prison on monday after being convicted on spying charges in china it comes as china is stepping up efforts targeting spies especially those from the united states and its allies but a lack of transparency around national security cases in china and mutual recriminati...</td>\n",
       "      <td>[a, usbased, hong, kong, permanent, resident, who, is, believed, to, have, promoted, business, and, cultural, exchanges, was, sentenced, to, life, in, prison, on, monday, after, being, convicted, on, spying, charges, in, china, it, comes, as, china, is, stepping, up, efforts, targeting, spies, especially, those, from, the, united, states, and, its, allies, but, a, lack, of, transparency, aroun...</td>\n",
       "      <td>[usbased, permanent, resident, believed, promoted, business, cultural, exchanges, sentenced, life, prison, monday, convicted, spying, charges, comes, stepping, efforts, targeting, spies, especially, united, states, allies, lack, transparency, around, national, security, cases, mutual, recriminations, perceived, espionage, activities, contradict, talk, encouraging, foreign, investment, country,...</td>\n",
       "      <td>[usbased, permanent, resident, believed, promoted, business, cultural, exchange, sentenced, life, prison, monday, convicted, spying, charge, come, stepping, effort, targeting, spy, especially, united, state, ally, lack, transparency, around, national, security, case, mutual, recrimination, perceived, espionage, activity, contradict, talk, encouraging, foreign, investment, country, legal, exper...</td>\n",
       "      <td>9.0</td>\n",
       "      <td>0.875451</td>\n",
       "      <td>0.875451</td>\n",
       "      <td>0.845093</td>\n",
       "    </tr>\n",
       "    <tr>\n",
       "      <th>4</th>\n",
       "      <td>ExplainerWhatâs Joe Biden up to on his 8-day trip to the Asia-Pacific?</td>\n",
       "      <td>The 80-year-old will visit a city that the US destroyed with a nuclear bomb and spend an awful lot of time with Indiaâs prime minister as he looks to demonstrate that he still has enough in the tank to handle the gruelling pace of the presidency.\\n</td>\n",
       "      <td>/news/asia/article/3220558/whats-joe-biden-his-eight-day-trip-asia-pacific</td>\n",
       "      <td>us_china_spider</td>\n",
       "      <td>US President Joe Biden has an ambitious agenda when he sets off this week on an eight-day trip to the Indo-Pacific . Heâs looking to tighten bonds with long-time allies, make history as the first sitting president of the United States to visit the tiny island state of Papua New Guinea and spotlight his administrationâs commitment to the Pacific. The three-country trip also presents the 80-...</td>\n",
       "      <td>us president joe biden has an ambitious agenda when he sets off this week on an eightday trip to the indopacific he s looking to tighten bonds with longtime allies make history as the first sitting president of the united states to visit the tiny island state of papua new guinea and spotlight his administration s commitment to the pacific the threecountry trip also presents the biden who recen...</td>\n",
       "      <td>[us, president, joe, biden, has, an, ambitious, agenda, when, he, sets, off, this, week, on, an, eightday, trip, to, the, indopacific, he, s, looking, to, tighten, bonds, with, longtime, allies, make, history, as, the, first, sitting, president, of, the, united, states, to, visit, the, tiny, island, state, of, papua, new, guinea, and, spotlight, his, administration, s, commitment, to, the, pac...</td>\n",
       "      <td>[president, joe, biden, ambitious, agenda, sets, week, eightday, trip, indopacific, looking, tighten, bonds, longtime, allies, make, history, first, sitting, president, united, states, visit, tiny, island, state, papua, new, guinea, spotlight, administration, commitment, pacific, threecountry, trip, presents, biden, recently, announced, running, reelection, opportunity, demonstrate, still, eno...</td>\n",
       "      <td>[president, joe, biden, ambitious, agenda, set, week, eightday, trip, indopacific, looking, tighten, bond, longtime, ally, make, history, first, sitting, president, united, state, visit, tiny, island, state, papua, new, guinea, spotlight, administration, commitment, pacific, threecountry, trip, present, biden, recently, announced, running, reelection, opportunity, demonstrate, still, enough, t...</td>\n",
       "      <td>-1.0</td>\n",
       "      <td>0.000000</td>\n",
       "      <td>0.000000</td>\n",
       "      <td>0.000000</td>\n",
       "    </tr>\n",
       "    <tr>\n",
       "      <th>5</th>\n",
       "      <td>LettersCanada mustnât be sucked into the vortex of Americaâs China policy</td>\n",
       "      <td>Readers discuss deteriorating China-Canada relations, Cathay Pacificâs flagship carrier status, the replacement of liberal studies, and the rising number of Hong Kong students struggling with mental health.\\n</td>\n",
       "      <td>/comment/letters/article/3220382/canada-mustnt-be-sucked-vortex-americas-china-policy</td>\n",
       "      <td>us_china_spider</td>\n",
       "      <td>Feel strongly about these letters, or any other aspects of the news? Share your views by emailing us your Letter to the Editor at  letters@scmp.com  or filling in  this Google form . Submissions should not exceed 400 words, and must include your full name and address, plus a phone number for verification. Allegations of Chinese interference in Canadian politics are in the news again. This time...</td>\n",
       "      <td>feel strongly about these letters or any other aspects of the news share your views by emailing us your letter to the editor at lettersscmpcom or filling in this google form submissions should not exceed words and must include your full name and address plus a phone number for verification allegations of chinese interference in canadian politics are in the news again this time the allegation t...</td>\n",
       "      <td>[feel, strongly, about, these, letters, or, any, other, aspects, of, the, news, share, your, views, by, emailing, us, your, letter, to, the, editor, at, lettersscmpcom, or, filling, in, this, google, form, submissions, should, not, exceed, words, and, must, include, your, full, name, and, address, plus, a, phone, number, for, verification, allegations, of, chinese, interference, in, canadian, ...</td>\n",
       "      <td>[feel, strongly, letters, aspects, news, share, views, emailing, letter, editor, filling, google, form, submissions, exceed, words, must, include, full, name, address, plus, phone, number, verification, allegations, chinese, interference, canadian, politics, news, time, allegation, tried, influence, outcome, canada, federal, elections, intimidate, canadian, opposition, lawmaker, led, expulsion...</td>\n",
       "      <td>[feel, strongly, letter, aspect, news, share, view, emailing, letter, editor, filling, google, form, submission, exceed, word, must, include, full, name, address, plus, phone, number, verification, allegation, chinese, interference, canadian, politics, news, time, allegation, tried, influence, outcome, canada, federal, election, intimidate, canadian, opposition, lawmaker, led, expulsion, chine...</td>\n",
       "      <td>12.0</td>\n",
       "      <td>0.253034</td>\n",
       "      <td>0.253034</td>\n",
       "      <td>0.950910</td>\n",
       "    </tr>\n",
       "    <tr>\n",
       "      <th>6</th>\n",
       "      <td>Beijing vows support for Hong Kong judges after US report calls for sanctions</td>\n",
       "      <td>Chinaâs foreign ministry condemns US report calling for sanctions against 29 judicial officers handling national security cases.\\n</td>\n",
       "      <td>/news/hong-kong/politics/article/3220538/beijing-vows-support-hong-kong-judges-after-us-congressional-advisers-call-sanctions</td>\n",
       "      <td>us_china_spider</td>\n",
       "      <td>Beijing has reassured Hong Kong judges that they will receive unwavering support from the central government in executing their duties and that their legitimate rights will be protected amid threats of US sanctions. Chinaâs foreign ministry on Monday condemned a United States congressional report last week that called for sanctions against 29 judicial officers handling national security case...</td>\n",
       "      <td>beijing has reassured hong kong judges that they will receive unwavering support from the central government in executing their duties and that their legitimate rights will be protected amid threats of us sanctions china s foreign ministry on monday condemned a united states congressional report last week that called for sanctions against judicial officers handling national security cases the ...</td>\n",
       "      <td>[beijing, has, reassured, hong, kong, judges, that, they, will, receive, unwavering, support, from, the, central, government, in, executing, their, duties, and, that, their, legitimate, rights, will, be, protected, amid, threats, of, us, sanctions, china, s, foreign, ministry, on, monday, condemned, a, united, states, congressional, report, last, week, that, called, for, sanctions, against, ju...</td>\n",
       "      <td>[reassured, judges, receive, unwavering, support, central, government, executing, duties, legitimate, rights, protected, amid, threats, sanctions, foreign, ministry, monday, condemned, united, states, congressional, report, last, week, called, sanctions, judicial, officers, handling, national, security, cases, report, claimed, judges, role, weakened, rule, law, independent, judiciary, foreign,...</td>\n",
       "      <td>[reassured, judge, receive, unwavering, support, central, government, executing, duty, legitimate, right, protected, amid, threat, sanction, foreign, ministry, monday, condemned, united, state, congressional, report, last, week, called, sanction, judicial, officer, handling, national, security, case, report, claimed, judge, role, weakened, rule, law, independent, judiciary, foreign, ministry, ...</td>\n",
       "      <td>18.0</td>\n",
       "      <td>1.000000</td>\n",
       "      <td>1.000000</td>\n",
       "      <td>1.000000</td>\n",
       "    </tr>\n",
       "    <tr>\n",
       "      <th>7</th>\n",
       "      <td>Chinese Communist Party newspaper warns foreign firms after Capvision raids</td>\n",
       "      <td>An editorial in Peopleâs Daily says the country will take a âzero toleranceâ approach to efforts to hand over information on sensitive industries.\\n</td>\n",
       "      <td>/news/china/politics/article/3220515/chinese-communist-partys-mouthpiece-issues-national-security-warning-foreign-firms-after-capvision</td>\n",
       "      <td>us_china_spider</td>\n",
       "      <td>The Chinese Communist Partyâs flagship newspaper has warned foreign consulting companies to beware of the countryâs laws on spying and national security following the raid on the international consulting firm Capvision . In an editorial published after the raids, Peopleâs Daily said an investigation had found the US and Shanghai-based company took on projects from âa large number of co...</td>\n",
       "      <td>the chinese communist party s flagship newspaper has warned foreign consulting companies to beware of the country s laws on spying and national security following the raid on the international consulting firm capvision in an editorial published after the raids people s daily said an investigation had found the us and shanghaibased company took on projects from a large number of companies that ...</td>\n",
       "      <td>[the, chinese, communist, party, s, flagship, newspaper, has, warned, foreign, consulting, companies, to, beware, of, the, country, s, laws, on, spying, and, national, security, following, the, raid, on, the, international, consulting, firm, capvision, in, an, editorial, published, after, the, raids, people, s, daily, said, an, investigation, had, found, the, us, and, shanghaibased, company, t...</td>\n",
       "      <td>[chinese, communist, party, flagship, newspaper, warned, foreign, consulting, companies, beware, country, laws, spying, national, security, following, raid, international, consulting, firm, capvision, editorial, published, raids, people, daily, investigation, found, shanghaibased, company, took, projects, large, number, companies, related, sensitive, industries, article, described, national, s...</td>\n",
       "      <td>[chinese, communist, party, flagship, newspaper, warned, foreign, consulting, company, beware, country, law, spying, national, security, following, raid, international, consulting, firm, capvision, editorial, published, raid, people, daily, investigation, found, shanghaibased, company, took, project, large, number, company, related, sensitive, industry, article, described, national, security, ...</td>\n",
       "      <td>-1.0</td>\n",
       "      <td>0.000000</td>\n",
       "      <td>0.000000</td>\n",
       "      <td>0.000000</td>\n",
       "    </tr>\n",
       "    <tr>\n",
       "      <th>8</th>\n",
       "      <td>US regional strategy is an ocean short compared with China, critics say</td>\n",
       "      <td>By Washington leaving the âIndoâ part of its policy to regional powers like India, it undermines direct engagement with smaller, neglected countries, expert says.\\n</td>\n",
       "      <td>/news/china/article/3220451/us-counter-china-indo-pacific-it-must-prioritise-indian-ocean-island-nations-analysts</td>\n",
       "      <td>us_china_spider</td>\n",
       "      <td>In 1967, after a months-long holiday in Mauritius, then 12-year-old Louis Humbert along with his mother and brothers sought to return to his native Chagos, a chain of 60 islands dotting the Indian Ocean. They learned the islands were âclosedâ. That was because the US began setting up a military base on the Chagossian island of Diego Garcia in 1966. Recognising its strategic value, the US g...</td>\n",
       "      <td>in after a monthslong holiday in mauritius then louis humbert along with his mother and brothers sought to return to his native chagos a chain of islands dotting the indian ocean they learned the islands were closed that was because the us began setting up a military base on the chagossian island of diego garcia in recognising its strategic value the us gradually removed the native population ...</td>\n",
       "      <td>[in, after, a, monthslong, holiday, in, mauritius, then, louis, humbert, along, with, his, mother, and, brothers, sought, to, return, to, his, native, chagos, a, chain, of, islands, dotting, the, indian, ocean, they, learned, the, islands, were, closed, that, was, because, the, us, began, setting, up, a, military, base, on, the, chagossian, island, of, diego, garcia, in, recognising, its, stra...</td>\n",
       "      <td>[monthslong, holiday, mauritius, louis, humbert, along, mother, brothers, sought, return, native, chagos, chain, islands, dotting, indian, ocean, learned, islands, closed, began, setting, military, base, chagossian, island, diego, garcia, recognising, strategic, value, gradually, removed, native, population, around, remote, atoll, reaching, secret, deal, britain, colonised, mauritius, diego, g...</td>\n",
       "      <td>[monthslong, holiday, mauritius, louis, humbert, along, mother, brother, sought, return, native, chagos, chain, island, dotting, indian, ocean, learned, island, closed, began, setting, military, base, chagossian, island, diego, garcia, recognising, strategic, value, gradually, removed, native, population, around, remote, atoll, reaching, secret, deal, britain, colonised, mauritius, diego, garc...</td>\n",
       "      <td>8.0</td>\n",
       "      <td>0.138143</td>\n",
       "      <td>0.138143</td>\n",
       "      <td>0.135389</td>\n",
       "    </tr>\n",
       "    <tr>\n",
       "      <th>9</th>\n",
       "      <td>ExclusiveBlinken hopes to visit China âin the near futureâ, adviser says</td>\n",
       "      <td>Trip to China would come as US looks for ways to âdepressuriseâ ties with China following the spy balloon row, aide says.\\n</td>\n",
       "      <td>/news/china/diplomacy/article/3220465/us-secretary-state-antony-blinken-hoping-visit-china-near-future-close-adviser-says</td>\n",
       "      <td>us_china_spider</td>\n",
       "      <td>US Secretary of State Antony Blinken is hoping to visit China âin the near futureâ, as Washington looks to âdepressuriseâ its relationship with Beijing , according to one of his top advisers. The superpower relationship has sunk to its lowest point in decades in recent months. Face-to-face diplomacy was frozen after Blinken cancelled a trip to China in February, following a row over an...</td>\n",
       "      <td>us secretary of state antony blinken is hoping to visit china in the near future as washington looks to depressurise its relationship with beijing according to one of his top advisers the superpower relationship has sunk to its lowest point in decades in recent months facetoface diplomacy was frozen after blinken cancelled a trip to china in february following a row over an alleged chinese spy...</td>\n",
       "      <td>[us, secretary, of, state, antony, blinken, is, hoping, to, visit, china, in, the, near, future, as, washington, looks, to, depressurise, its, relationship, with, beijing, according, to, one, of, his, top, advisers, the, superpower, relationship, has, sunk, to, its, lowest, point, in, decades, in, recent, months, facetoface, diplomacy, was, frozen, after, blinken, cancelled, a, trip, to, china...</td>\n",
       "      <td>[secretary, state, antony, blinken, hoping, visit, near, future, washington, looks, depressurise, relationship, according, one, top, advisers, superpower, relationship, sunk, lowest, point, decades, recent, months, facetoface, diplomacy, frozen, blinken, cancelled, trip, february, following, row, alleged, chinese, spy, balloon, flying, united, states, invited, eu, indopacific, policy, talks, l...</td>\n",
       "      <td>[secretary, state, antony, blinken, hoping, visit, near, future, washington, look, depressurise, relationship, according, one, top, adviser, superpower, relationship, sunk, lowest, point, decade, recent, month, facetoface, diplomacy, frozen, blinken, cancelled, trip, february, following, row, alleged, chinese, spy, balloon, flying, united, state, invited, eu, indopacific, policy, talk, loom, b...</td>\n",
       "      <td>0.0</td>\n",
       "      <td>0.892637</td>\n",
       "      <td>0.892637</td>\n",
       "      <td>0.877397</td>\n",
       "    </tr>\n",
       "  </tbody>\n",
       "</table>\n",
       "</div>"
      ],
      "text/plain": [
       "                                                                             index  \\\n",
       "0  Summit a âmajor diplomatic eventâ to boost Chinaâs ties with Central Asia   \n",
       "1    US arrests man on charges of acting as unregistered foreign agent for Beijing   \n",
       "2                US report says China jailed as many as 10,000 religious adherents   \n",
       "3      US citizen with Hong Kong residency given life sentence for spying in China   \n",
       "4         ExplainerWhatâs Joe Biden up to on his 8-day trip to the Asia-Pacific?   \n",
       "5    LettersCanada mustnât be sucked into the vortex of Americaâs China policy   \n",
       "6    Beijing vows support for Hong Kong judges after US report calls for sanctions   \n",
       "7      Chinese Communist Party newspaper warns foreign firms after Capvision raids   \n",
       "8          US regional strategy is an ocean short compared with China, critics say   \n",
       "9     ExclusiveBlinken hopes to visit China âin the near futureâ, adviser says   \n",
       "\n",
       "                                                                                                                                                                                                                                                        title  \\\n",
       "0       Leaders of Kazakhstan, Kyrgyzstan, Tajikistan, Turkmenistan and Uzbekistan invited to first China-Central Asia summit\\nPresence of ethnic Russians in the five countries has triggered fears Moscow could target their territory next, analyst says\\n   \n",
       "1                                                                                             Litang Liang, 63, of Massachusetts is accused of reporting to consulate officials on protests in the Boston area against China government actions since 2018.\\n   \n",
       "2                                                                                                      Beijing has broadened its efforts to bring all theological activity under Communist Party control, according to annual State Department publication.\\n   \n",
       "3                                                                                                                             John Shing-wan Leung, 78, was convicted and sentenced in Suzhou court on Monday for committing espionage activities in China.\\n   \n",
       "4  The 80-year-old will visit a city that the US destroyed with a nuclear bomb and spend an awful lot of time with Indiaâs prime minister as he looks to demonstrate that he still has enough in the tank to handle the gruelling pace of the presidency.\\n   \n",
       "5                                          Readers discuss deteriorating China-Canada relations, Cathay Pacificâs flagship carrier status, the replacement of liberal studies, and the rising number of Hong Kong students struggling with mental health.\\n   \n",
       "6                                                                                                                        Chinaâs foreign ministry condemns US report calling for sanctions against 29 judicial officers handling national security cases.\\n   \n",
       "7                                                                                                  An editorial in Peopleâs Daily says the country will take a âzero toleranceâ approach to efforts to hand over information on sensitive industries.\\n   \n",
       "8                                                                                    By Washington leaving the âIndoâ part of its policy to regional powers like India, it undermines direct engagement with smaller, neglected countries, expert says.\\n   \n",
       "9                                                                                                                             Trip to China would come as US looks for ways to âdepressuriseâ ties with China following the spy balloon row, aide says.\\n   \n",
       "\n",
       "                                                                                                                                   summary  \\\n",
       "0     /news/china/diplomacy/article/3213710/summit-major-diplomatic-event-boost-chinas-ties-central-asian-nations-amid-ukraine-afghanistan   \n",
       "1                      /news/china/diplomacy/article/3220662/us-arrests-chinese-american-charges-acting-unregistered-foreign-agent-beijing   \n",
       "2                      /news/china/article/3220659/us-religious-freedom-report-accuses-china-jailing-many-10000-people-repression-campaign   \n",
       "3      /news/china/politics/article/3220562/hong-kong-resident-american-passport-sentenced-life-china-after-being-convicted-spying-charges   \n",
       "4                                                               /news/asia/article/3220558/whats-joe-biden-his-eight-day-trip-asia-pacific   \n",
       "5                                                    /comment/letters/article/3220382/canada-mustnt-be-sucked-vortex-americas-china-policy   \n",
       "6            /news/hong-kong/politics/article/3220538/beijing-vows-support-hong-kong-judges-after-us-congressional-advisers-call-sanctions   \n",
       "7  /news/china/politics/article/3220515/chinese-communist-partys-mouthpiece-issues-national-security-warning-foreign-firms-after-capvision   \n",
       "8                        /news/china/article/3220451/us-counter-china-indo-pacific-it-must-prioritise-indian-ocean-island-nations-analysts   \n",
       "9                /news/china/diplomacy/article/3220465/us-secretary-state-antony-blinken-hoping-visit-china-near-future-close-adviser-says   \n",
       "\n",
       "               url  \\\n",
       "0  us_china_spider   \n",
       "1  us_china_spider   \n",
       "2  us_china_spider   \n",
       "3  us_china_spider   \n",
       "4  us_china_spider   \n",
       "5  us_china_spider   \n",
       "6  us_china_spider   \n",
       "7  us_china_spider   \n",
       "8  us_china_spider   \n",
       "9  us_china_spider   \n",
       "\n",
       "                                                                                                                                                                                                                                                                                                                                                                                                            source  \\\n",
       "0  China is expected to further boost ties with Central Asia when President Xi Jinping hosts his counterparts from the region amid uncertainties stemming from Russiaâs war in Ukraine and increasing hostility from the West. Beijing has hailed the two-day summit of nations in the vast and geo-strategically important neighbouring region on Thursday and Friday as the âfirst major diplomatic event...   \n",
       "1  A Chinese-American man was arrested last week for allegedly serving as an agent of the Chinese government without notifying the US government, the Department of Justice announced on Monday. Litang Liang, 63, of Brighton, Massachusetts, was accused of providing Chinese officials with information about Boston-area individuals and organisations; leading a counter-protest against anti-Beijing acti...   \n",
       "2  The US government on Monday accused Beijing of jailing as many as 10,000 or more people in 2022 in a widening campaign of repression against religious belief meant to bring all theological activity under the Chinese Communist Party âs control. The estimate of those imprisoned in the country ranging âfrom the low thousands to over 10,000â is one of many accusations contained in the State ...   \n",
       "3  A US-based Hong Kong permanent resident â who is believed to have promoted business and cultural exchanges â was sentenced to life in prison on Monday after being convicted on spying charges in China. It comes as China is stepping up efforts targeting spies, especially those from the United States and its allies. But a lack of transparency around national security cases in China and âmut...   \n",
       "4  US President Joe Biden has an ambitious agenda when he sets off this week on an eight-day trip to the Indo-Pacific . Heâs looking to tighten bonds with long-time allies, make history as the first sitting president of the United States to visit the tiny island state of Papua New Guinea and spotlight his administrationâs commitment to the Pacific. The three-country trip also presents the 80-...   \n",
       "5  Feel strongly about these letters, or any other aspects of the news? Share your views by emailing us your Letter to the Editor at  letters@scmp.com  or filling in  this Google form . Submissions should not exceed 400 words, and must include your full name and address, plus a phone number for verification. Allegations of Chinese interference in Canadian politics are in the news again. This time...   \n",
       "6  Beijing has reassured Hong Kong judges that they will receive unwavering support from the central government in executing their duties and that their legitimate rights will be protected amid threats of US sanctions. Chinaâs foreign ministry on Monday condemned a United States congressional report last week that called for sanctions against 29 judicial officers handling national security case...   \n",
       "7  The Chinese Communist Partyâs flagship newspaper has warned foreign consulting companies to beware of the countryâs laws on spying and national security following the raid on the international consulting firm Capvision . In an editorial published after the raids, Peopleâs Daily said an investigation had found the US and Shanghai-based company took on projects from âa large number of co...   \n",
       "8  In 1967, after a months-long holiday in Mauritius, then 12-year-old Louis Humbert along with his mother and brothers sought to return to his native Chagos, a chain of 60 islands dotting the Indian Ocean. They learned the islands were âclosedâ. That was because the US began setting up a military base on the Chagossian island of Diego Garcia in 1966. Recognising its strategic value, the US g...   \n",
       "9  US Secretary of State Antony Blinken is hoping to visit China âin the near futureâ, as Washington looks to âdepressuriseâ its relationship with Beijing , according to one of his top advisers. The superpower relationship has sunk to its lowest point in decades in recent months. Face-to-face diplomacy was frozen after Blinken cancelled a trip to China in February, following a row over an...   \n",
       "\n",
       "                                                                                                                                                                                                                                                                                                                                                                                                        clean_text  \\\n",
       "0  china is expected to further boost ties with central asia when president xi jinping hosts his counterparts from the region amid uncertainties stemming from russia s war in ukraine and increasing hostility from the west beijing has hailed the twoday summit of nations in the vast and geostrategically important neighbouring region on thursday and friday as the first major diplomatic event that ch...   \n",
       "1  a chineseamerican man was arrested last week for allegedly serving as an agent of the chinese government without notifying the us government the department of justice announced on monday litang liang of brighton massachusetts was accused of providing chinese officials with information about bostonarea individuals and organisations leading a counterprotest against antibeijing activists and sugg...   \n",
       "2  the us government on monday accused beijing of jailing as many as or more people in in a widening campaign of repression against religious belief meant to bring all theological activity under the chinese communist party s control the estimate of those imprisoned in the country ranging from the low thousands to over is one of many accusations contained in the state department s international re...   \n",
       "3  a usbased hong kong permanent resident who is believed to have promoted business and cultural exchanges was sentenced to life in prison on monday after being convicted on spying charges in china it comes as china is stepping up efforts targeting spies especially those from the united states and its allies but a lack of transparency around national security cases in china and mutual recriminati...   \n",
       "4  us president joe biden has an ambitious agenda when he sets off this week on an eightday trip to the indopacific he s looking to tighten bonds with longtime allies make history as the first sitting president of the united states to visit the tiny island state of papua new guinea and spotlight his administration s commitment to the pacific the threecountry trip also presents the biden who recen...   \n",
       "5  feel strongly about these letters or any other aspects of the news share your views by emailing us your letter to the editor at lettersscmpcom or filling in this google form submissions should not exceed words and must include your full name and address plus a phone number for verification allegations of chinese interference in canadian politics are in the news again this time the allegation t...   \n",
       "6  beijing has reassured hong kong judges that they will receive unwavering support from the central government in executing their duties and that their legitimate rights will be protected amid threats of us sanctions china s foreign ministry on monday condemned a united states congressional report last week that called for sanctions against judicial officers handling national security cases the ...   \n",
       "7  the chinese communist party s flagship newspaper has warned foreign consulting companies to beware of the country s laws on spying and national security following the raid on the international consulting firm capvision in an editorial published after the raids people s daily said an investigation had found the us and shanghaibased company took on projects from a large number of companies that ...   \n",
       "8  in after a monthslong holiday in mauritius then louis humbert along with his mother and brothers sought to return to his native chagos a chain of islands dotting the indian ocean they learned the islands were closed that was because the us began setting up a military base on the chagossian island of diego garcia in recognising its strategic value the us gradually removed the native population ...   \n",
       "9  us secretary of state antony blinken is hoping to visit china in the near future as washington looks to depressurise its relationship with beijing according to one of his top advisers the superpower relationship has sunk to its lowest point in decades in recent months facetoface diplomacy was frozen after blinken cancelled a trip to china in february following a row over an alleged chinese spy...   \n",
       "\n",
       "                                                                                                                                                                                                                                                                                                                                                                                                            tokens  \\\n",
       "0  [china, is, expected, to, further, boost, ties, with, central, asia, when, president, xi, jinping, hosts, his, counterparts, from, the, region, amid, uncertainties, stemming, from, russia, s, war, in, ukraine, and, increasing, hostility, from, the, west, beijing, has, hailed, the, twoday, summit, of, nations, in, the, vast, and, geostrategically, important, neighbouring, region, on, thursday, ...   \n",
       "1  [a, chineseamerican, man, was, arrested, last, week, for, allegedly, serving, as, an, agent, of, the, chinese, government, without, notifying, the, us, government, the, department, of, justice, announced, on, monday, litang, liang, of, brighton, massachusetts, was, accused, of, providing, chinese, officials, with, information, about, bostonarea, individuals, and, organisations, leading, a, cou...   \n",
       "2  [the, us, government, on, monday, accused, beijing, of, jailing, as, many, as, or, more, people, in, in, a, widening, campaign, of, repression, against, religious, belief, meant, to, bring, all, theological, activity, under, the, chinese, communist, party, s, control, the, estimate, of, those, imprisoned, in, the, country, ranging, from, the, low, thousands, to, over, is, one, of, many, accusa...   \n",
       "3  [a, usbased, hong, kong, permanent, resident, who, is, believed, to, have, promoted, business, and, cultural, exchanges, was, sentenced, to, life, in, prison, on, monday, after, being, convicted, on, spying, charges, in, china, it, comes, as, china, is, stepping, up, efforts, targeting, spies, especially, those, from, the, united, states, and, its, allies, but, a, lack, of, transparency, aroun...   \n",
       "4  [us, president, joe, biden, has, an, ambitious, agenda, when, he, sets, off, this, week, on, an, eightday, trip, to, the, indopacific, he, s, looking, to, tighten, bonds, with, longtime, allies, make, history, as, the, first, sitting, president, of, the, united, states, to, visit, the, tiny, island, state, of, papua, new, guinea, and, spotlight, his, administration, s, commitment, to, the, pac...   \n",
       "5  [feel, strongly, about, these, letters, or, any, other, aspects, of, the, news, share, your, views, by, emailing, us, your, letter, to, the, editor, at, lettersscmpcom, or, filling, in, this, google, form, submissions, should, not, exceed, words, and, must, include, your, full, name, and, address, plus, a, phone, number, for, verification, allegations, of, chinese, interference, in, canadian, ...   \n",
       "6  [beijing, has, reassured, hong, kong, judges, that, they, will, receive, unwavering, support, from, the, central, government, in, executing, their, duties, and, that, their, legitimate, rights, will, be, protected, amid, threats, of, us, sanctions, china, s, foreign, ministry, on, monday, condemned, a, united, states, congressional, report, last, week, that, called, for, sanctions, against, ju...   \n",
       "7  [the, chinese, communist, party, s, flagship, newspaper, has, warned, foreign, consulting, companies, to, beware, of, the, country, s, laws, on, spying, and, national, security, following, the, raid, on, the, international, consulting, firm, capvision, in, an, editorial, published, after, the, raids, people, s, daily, said, an, investigation, had, found, the, us, and, shanghaibased, company, t...   \n",
       "8  [in, after, a, monthslong, holiday, in, mauritius, then, louis, humbert, along, with, his, mother, and, brothers, sought, to, return, to, his, native, chagos, a, chain, of, islands, dotting, the, indian, ocean, they, learned, the, islands, were, closed, that, was, because, the, us, began, setting, up, a, military, base, on, the, chagossian, island, of, diego, garcia, in, recognising, its, stra...   \n",
       "9  [us, secretary, of, state, antony, blinken, is, hoping, to, visit, china, in, the, near, future, as, washington, looks, to, depressurise, its, relationship, with, beijing, according, to, one, of, his, top, advisers, the, superpower, relationship, has, sunk, to, its, lowest, point, in, decades, in, recent, months, facetoface, diplomacy, was, frozen, after, blinken, cancelled, a, trip, to, china...   \n",
       "\n",
       "                                                                                                                                                                                                                                                                                                                                                                                                   filtered_tokens  \\\n",
       "0  [expected, boost, ties, central, asia, president, xi, jinping, hosts, counterparts, region, amid, uncertainties, stemming, russia, war, ukraine, increasing, hostility, west, hailed, twoday, summit, nations, vast, geostrategically, important, neighbouring, region, thursday, friday, first, major, diplomatic, event, hosts, year, meeting, xian, northwestern, province, shaanxi, coincides, leaders, ...   \n",
       "1  [chineseamerican, man, arrested, last, week, allegedly, serving, agent, chinese, government, without, notifying, government, department, justice, announced, monday, litang, liang, brighton, massachusetts, accused, providing, chinese, officials, information, bostonarea, individuals, organisations, leading, counterprotest, antibeijing, activists, suggesting, potential, recruits, ministry, public...   \n",
       "2  [government, monday, accused, jailing, many, people, widening, campaign, repression, religious, belief, meant, bring, theological, activity, chinese, communist, party, control, estimate, imprisoned, country, ranging, low, thousands, one, many, accusations, contained, state, department, international, religious, freedom, report, published, annually, since, covers, nearly, countries, report, sec...   \n",
       "3  [usbased, permanent, resident, believed, promoted, business, cultural, exchanges, sentenced, life, prison, monday, convicted, spying, charges, comes, stepping, efforts, targeting, spies, especially, united, states, allies, lack, transparency, around, national, security, cases, mutual, recriminations, perceived, espionage, activities, contradict, talk, encouraging, foreign, investment, country,...   \n",
       "4  [president, joe, biden, ambitious, agenda, sets, week, eightday, trip, indopacific, looking, tighten, bonds, longtime, allies, make, history, first, sitting, president, united, states, visit, tiny, island, state, papua, new, guinea, spotlight, administration, commitment, pacific, threecountry, trip, presents, biden, recently, announced, running, reelection, opportunity, demonstrate, still, eno...   \n",
       "5  [feel, strongly, letters, aspects, news, share, views, emailing, letter, editor, filling, google, form, submissions, exceed, words, must, include, full, name, address, plus, phone, number, verification, allegations, chinese, interference, canadian, politics, news, time, allegation, tried, influence, outcome, canada, federal, elections, intimidate, canadian, opposition, lawmaker, led, expulsion...   \n",
       "6  [reassured, judges, receive, unwavering, support, central, government, executing, duties, legitimate, rights, protected, amid, threats, sanctions, foreign, ministry, monday, condemned, united, states, congressional, report, last, week, called, sanctions, judicial, officers, handling, national, security, cases, report, claimed, judges, role, weakened, rule, law, independent, judiciary, foreign,...   \n",
       "7  [chinese, communist, party, flagship, newspaper, warned, foreign, consulting, companies, beware, country, laws, spying, national, security, following, raid, international, consulting, firm, capvision, editorial, published, raids, people, daily, investigation, found, shanghaibased, company, took, projects, large, number, companies, related, sensitive, industries, article, described, national, s...   \n",
       "8  [monthslong, holiday, mauritius, louis, humbert, along, mother, brothers, sought, return, native, chagos, chain, islands, dotting, indian, ocean, learned, islands, closed, began, setting, military, base, chagossian, island, diego, garcia, recognising, strategic, value, gradually, removed, native, population, around, remote, atoll, reaching, secret, deal, britain, colonised, mauritius, diego, g...   \n",
       "9  [secretary, state, antony, blinken, hoping, visit, near, future, washington, looks, depressurise, relationship, according, one, top, advisers, superpower, relationship, sunk, lowest, point, decades, recent, months, facetoface, diplomacy, frozen, blinken, cancelled, trip, february, following, row, alleged, chinese, spy, balloon, flying, united, states, invited, eu, indopacific, policy, talks, l...   \n",
       "\n",
       "                                                                                                                                                                                                                                                                                                                                                                                                        lem_tokens  \\\n",
       "0  [expected, boost, tie, central, asia, president, xi, jinping, host, counterpart, region, amid, uncertainty, stemming, russia, war, ukraine, increasing, hostility, west, hailed, twoday, summit, nation, vast, geostrategically, important, neighbouring, region, thursday, friday, first, major, diplomatic, event, host, year, meeting, xian, northwestern, province, shaanxi, coincides, leader, summit, ...   \n",
       "1  [chineseamerican, man, arrested, last, week, allegedly, serving, agent, chinese, government, without, notifying, government, department, justice, announced, monday, litang, liang, brighton, massachusetts, accused, providing, chinese, official, information, bostonarea, individual, organisation, leading, counterprotest, antibeijing, activist, suggesting, potential, recruit, ministry, public, sec...   \n",
       "2  [government, monday, accused, jailing, many, people, widening, campaign, repression, religious, belief, meant, bring, theological, activity, chinese, communist, party, control, estimate, imprisoned, country, ranging, low, thousand, one, many, accusation, contained, state, department, international, religious, freedom, report, published, annually, since, cover, nearly, country, report, section,...   \n",
       "3  [usbased, permanent, resident, believed, promoted, business, cultural, exchange, sentenced, life, prison, monday, convicted, spying, charge, come, stepping, effort, targeting, spy, especially, united, state, ally, lack, transparency, around, national, security, case, mutual, recrimination, perceived, espionage, activity, contradict, talk, encouraging, foreign, investment, country, legal, exper...   \n",
       "4  [president, joe, biden, ambitious, agenda, set, week, eightday, trip, indopacific, looking, tighten, bond, longtime, ally, make, history, first, sitting, president, united, state, visit, tiny, island, state, papua, new, guinea, spotlight, administration, commitment, pacific, threecountry, trip, present, biden, recently, announced, running, reelection, opportunity, demonstrate, still, enough, t...   \n",
       "5  [feel, strongly, letter, aspect, news, share, view, emailing, letter, editor, filling, google, form, submission, exceed, word, must, include, full, name, address, plus, phone, number, verification, allegation, chinese, interference, canadian, politics, news, time, allegation, tried, influence, outcome, canada, federal, election, intimidate, canadian, opposition, lawmaker, led, expulsion, chine...   \n",
       "6  [reassured, judge, receive, unwavering, support, central, government, executing, duty, legitimate, right, protected, amid, threat, sanction, foreign, ministry, monday, condemned, united, state, congressional, report, last, week, called, sanction, judicial, officer, handling, national, security, case, report, claimed, judge, role, weakened, rule, law, independent, judiciary, foreign, ministry, ...   \n",
       "7  [chinese, communist, party, flagship, newspaper, warned, foreign, consulting, company, beware, country, law, spying, national, security, following, raid, international, consulting, firm, capvision, editorial, published, raid, people, daily, investigation, found, shanghaibased, company, took, project, large, number, company, related, sensitive, industry, article, described, national, security, ...   \n",
       "8  [monthslong, holiday, mauritius, louis, humbert, along, mother, brother, sought, return, native, chagos, chain, island, dotting, indian, ocean, learned, island, closed, began, setting, military, base, chagossian, island, diego, garcia, recognising, strategic, value, gradually, removed, native, population, around, remote, atoll, reaching, secret, deal, britain, colonised, mauritius, diego, garc...   \n",
       "9  [secretary, state, antony, blinken, hoping, visit, near, future, washington, look, depressurise, relationship, according, one, top, adviser, superpower, relationship, sunk, lowest, point, decade, recent, month, facetoface, diplomacy, frozen, blinken, cancelled, trip, february, following, row, alleged, chinese, spy, balloon, flying, united, state, invited, eu, indopacific, policy, talk, loom, b...   \n",
       "\n",
       "   topic         0         0         0  \n",
       "0    0.0  0.000000  0.000000  0.795091  \n",
       "1    9.0  1.000000  1.000000  1.000000  \n",
       "2   18.0  0.779802  0.779802  0.839244  \n",
       "3    9.0  0.875451  0.875451  0.845093  \n",
       "4   -1.0  0.000000  0.000000  0.000000  \n",
       "5   12.0  0.253034  0.253034  0.950910  \n",
       "6   18.0  1.000000  1.000000  1.000000  \n",
       "7   -1.0  0.000000  0.000000  0.000000  \n",
       "8    8.0  0.138143  0.138143  0.135389  \n",
       "9    0.0  0.892637  0.892637  0.877397  "
      ]
     },
     "execution_count": 131,
     "metadata": {},
     "output_type": "execute_result"
    }
   ],
   "source": [
    "scmp_df.head(10)"
   ]
  },
  {
   "cell_type": "code",
   "execution_count": 132,
   "metadata": {
    "execution": {
     "iopub.execute_input": "2023-05-25T00:46:18.459328Z",
     "iopub.status.busy": "2023-05-25T00:46:18.458807Z",
     "iopub.status.idle": "2023-05-25T00:46:20.138255Z",
     "shell.execute_reply": "2023-05-25T00:46:20.136575Z",
     "shell.execute_reply.started": "2023-05-25T00:46:18.459286Z"
    }
   },
   "outputs": [],
   "source": [
    "# Export the journals dataframe as a csv file\n",
    "scmp_df.to_csv('/kaggle/working/scmp_topics.csv', index=False)"
   ]
  },
  {
   "cell_type": "code",
   "execution_count": null,
   "metadata": {
    "execution": {
     "iopub.status.busy": "2023-05-25T00:41:21.296300Z",
     "iopub.status.idle": "2023-05-25T00:41:21.296701Z",
     "shell.execute_reply": "2023-05-25T00:41:21.296532Z",
     "shell.execute_reply.started": "2023-05-25T00:41:21.296513Z"
    }
   },
   "outputs": [],
   "source": [
    "from sentence_transformers import SentenceTransformer"
   ]
  },
  {
   "cell_type": "code",
   "execution_count": null,
   "metadata": {
    "execution": {
     "iopub.status.busy": "2023-05-25T00:41:21.298519Z",
     "iopub.status.idle": "2023-05-25T00:41:21.299106Z",
     "shell.execute_reply": "2023-05-25T00:41:21.298845Z",
     "shell.execute_reply.started": "2023-05-25T00:41:21.298807Z"
    }
   },
   "outputs": [],
   "source": [
    "docs = scmp_df['lem_tokens']\n",
    "umap_model = UMAP(n_neighbors=15, n_components=5, min_dist=0.0, metric='cosine', random_state=42)\n",
    "vectorizer_model = CountVectorizer(stop_words=\"english\")\n",
    "sentence_model = SentenceTransformer(\"all-MiniLM-L6-v2\")\n",
    "\n",
    "docs = docs.dropna()\n",
    "\n",
    "embeddings = sentence_model.encode(docs.tolist(), show_progress_bar=True)"
   ]
  },
  {
   "cell_type": "code",
   "execution_count": null,
   "metadata": {
    "execution": {
     "iopub.status.busy": "2023-05-25T00:41:21.300581Z",
     "iopub.status.idle": "2023-05-25T00:41:21.301157Z",
     "shell.execute_reply": "2023-05-25T00:41:21.300901Z",
     "shell.execute_reply.started": "2023-05-25T00:41:21.300874Z"
    }
   },
   "outputs": [],
   "source": [
    "# force some of the outliers to existing topics.\n",
    "# won't be reducing the topics; just reduce '-1'\n",
    "docs = [str(doc) for doc in docs]\n",
    "\n",
    "reduced_embeddings = UMAP(n_neighbors=10, n_components=2, \n",
    "                          min_dist=0.0, metric='cosine').fit_transform(embeddings)\n",
    "\n",
    "# Train our topic model\n",
    "topic_model = BERTopic(embedding_model=sentence_model, umap_model=umap_model, \n",
    "                       vectorizer_model=vectorizer_model, calculate_probabilities=True, nr_topics=40)\n",
    "topics, probs = topic_model.fit_transform(docs, embeddings)"
   ]
  },
  {
   "cell_type": "code",
   "execution_count": null,
   "metadata": {
    "execution": {
     "iopub.status.busy": "2023-05-25T00:41:21.305058Z",
     "iopub.status.idle": "2023-05-25T00:41:21.305671Z",
     "shell.execute_reply": "2023-05-25T00:41:21.305407Z",
     "shell.execute_reply.started": "2023-05-25T00:41:21.305378Z"
    }
   },
   "outputs": [],
   "source": [
    "topic_model.visualize_documents(docs, reduced_embeddings=reduced_embeddings, \n",
    "                                hide_document_hover=True, hide_annotations=True)"
   ]
  },
  {
   "cell_type": "code",
   "execution_count": null,
   "metadata": {
    "execution": {
     "iopub.status.busy": "2023-05-25T00:41:21.307623Z",
     "iopub.status.idle": "2023-05-25T00:41:21.308878Z",
     "shell.execute_reply": "2023-05-25T00:41:21.308616Z",
     "shell.execute_reply.started": "2023-05-25T00:41:21.308591Z"
    }
   },
   "outputs": [],
   "source": [
    "# Using the embeddings of each outlier documents\n",
    "# find the best matching topic embedding using cosine similarity.\n",
    "\n",
    "# see if this still throw errors with the strategy\n",
    "new_topics = topic_model.reduce_outliers(docs, topics, probabilities=probs, strategy='probabilities')"
   ]
  },
  {
   "cell_type": "code",
   "execution_count": null,
   "metadata": {
    "execution": {
     "iopub.status.busy": "2023-05-25T00:41:21.310334Z",
     "iopub.status.idle": "2023-05-25T00:41:21.310743Z",
     "shell.execute_reply": "2023-05-25T00:41:21.310568Z",
     "shell.execute_reply.started": "2023-05-25T00:41:21.310549Z"
    }
   },
   "outputs": [],
   "source": [
    "# assign topics to the df\n",
    "scmp_df = pd.concat([scmp_df, probabilities_final], axis=1)"
   ]
  },
  {
   "cell_type": "code",
   "execution_count": null,
   "metadata": {
    "execution": {
     "iopub.status.busy": "2023-05-25T00:41:21.312144Z",
     "iopub.status.idle": "2023-05-25T00:41:21.312543Z",
     "shell.execute_reply": "2023-05-25T00:41:21.312372Z",
     "shell.execute_reply.started": "2023-05-25T00:41:21.312353Z"
    }
   },
   "outputs": [],
   "source": [
    "scmp_df.head()"
   ]
  },
  {
   "cell_type": "code",
   "execution_count": null,
   "metadata": {
    "execution": {
     "iopub.status.busy": "2023-05-25T00:41:21.314338Z",
     "iopub.status.idle": "2023-05-25T00:41:21.314749Z",
     "shell.execute_reply": "2023-05-25T00:41:21.314577Z",
     "shell.execute_reply.started": "2023-05-25T00:41:21.314558Z"
    }
   },
   "outputs": [],
   "source": [
    "# find out the proportion of ech topic\n",
    "scmp_df.groupby('topic').sum()\n",
    "\n",
    "# so many outliers, and some topics doesn't have enough data\n",
    "# maybi i neeed to remove 'beijing?'"
   ]
  },
  {
   "cell_type": "code",
   "execution_count": null,
   "metadata": {
    "execution": {
     "iopub.status.busy": "2023-05-25T00:41:21.316051Z",
     "iopub.status.idle": "2023-05-25T00:41:21.316815Z",
     "shell.execute_reply": "2023-05-25T00:41:21.316616Z",
     "shell.execute_reply.started": "2023-05-25T00:41:21.316595Z"
    }
   },
   "outputs": [],
   "source": [
    "scmp_df.to_csv('topic_scores.csv')"
   ]
  },
  {
   "cell_type": "code",
   "execution_count": null,
   "metadata": {},
   "outputs": [],
   "source": []
  },
  {
   "cell_type": "code",
   "execution_count": null,
   "metadata": {
    "execution": {
     "iopub.status.busy": "2023-05-25T00:41:21.317719Z",
     "iopub.status.idle": "2023-05-25T00:41:21.318137Z",
     "shell.execute_reply": "2023-05-25T00:41:21.317967Z",
     "shell.execute_reply.started": "2023-05-25T00:41:21.317947Z"
    }
   },
   "outputs": [],
   "source": [
    "topic_model.get_topic_info()"
   ]
  },
  {
   "cell_type": "code",
   "execution_count": null,
   "metadata": {
    "execution": {
     "iopub.status.busy": "2023-05-25T00:41:21.319451Z",
     "iopub.status.idle": "2023-05-25T00:41:21.320038Z",
     "shell.execute_reply": "2023-05-25T00:41:21.319743Z",
     "shell.execute_reply.started": "2023-05-25T00:41:21.319715Z"
    }
   },
   "outputs": [],
   "source": [
    "scmp_df['lem_tokens'].shape"
   ]
  },
  {
   "cell_type": "code",
   "execution_count": null,
   "metadata": {
    "execution": {
     "iopub.status.busy": "2023-05-25T00:41:21.324093Z",
     "iopub.status.idle": "2023-05-25T00:41:21.324520Z",
     "shell.execute_reply": "2023-05-25T00:41:21.324343Z",
     "shell.execute_reply.started": "2023-05-25T00:41:21.324323Z"
    }
   },
   "outputs": [],
   "source": [
    "topics_reduced = topic_model.merge_topics(scmp_df['lem_tokens'], topics_to_merge)"
   ]
  },
  {
   "cell_type": "code",
   "execution_count": 134,
   "metadata": {
    "execution": {
     "iopub.execute_input": "2023-05-25T00:48:32.271905Z",
     "iopub.status.busy": "2023-05-25T00:48:32.271235Z",
     "iopub.status.idle": "2023-05-25T00:48:32.287215Z",
     "shell.execute_reply": "2023-05-25T00:48:32.286043Z",
     "shell.execute_reply.started": "2023-05-25T00:48:32.271868Z"
    }
   },
   "outputs": [
    {
     "data": {
      "text/html": [
       "<div>\n",
       "<style scoped>\n",
       "    .dataframe tbody tr th:only-of-type {\n",
       "        vertical-align: middle;\n",
       "    }\n",
       "\n",
       "    .dataframe tbody tr th {\n",
       "        vertical-align: top;\n",
       "    }\n",
       "\n",
       "    .dataframe thead th {\n",
       "        text-align: right;\n",
       "    }\n",
       "</style>\n",
       "<table border=\"1\" class=\"dataframe\">\n",
       "  <thead>\n",
       "    <tr style=\"text-align: right;\">\n",
       "      <th></th>\n",
       "      <th>Topic</th>\n",
       "      <th>Count</th>\n",
       "      <th>Name</th>\n",
       "    </tr>\n",
       "  </thead>\n",
       "  <tbody>\n",
       "    <tr>\n",
       "      <th>0</th>\n",
       "      <td>-1</td>\n",
       "      <td>326</td>\n",
       "      <td>-1_chinese_year_country_state</td>\n",
       "    </tr>\n",
       "    <tr>\n",
       "      <th>1</th>\n",
       "      <td>0</td>\n",
       "      <td>172</td>\n",
       "      <td>0_xi_country_meeting_state</td>\n",
       "    </tr>\n",
       "    <tr>\n",
       "      <th>2</th>\n",
       "      <td>1</td>\n",
       "      <td>99</td>\n",
       "      <td>1_per_cent_trade_year</td>\n",
       "    </tr>\n",
       "    <tr>\n",
       "      <th>3</th>\n",
       "      <td>2</td>\n",
       "      <td>87</td>\n",
       "      <td>2_military_pla_defence_force</td>\n",
       "    </tr>\n",
       "    <tr>\n",
       "      <th>4</th>\n",
       "      <td>3</td>\n",
       "      <td>61</td>\n",
       "      <td>3_chip_semiconductor_technology_company</td>\n",
       "    </tr>\n",
       "    <tr>\n",
       "      <th>5</th>\n",
       "      <td>4</td>\n",
       "      <td>45</td>\n",
       "      <td>4_russia_ukraine_war_moscow</td>\n",
       "    </tr>\n",
       "    <tr>\n",
       "      <th>6</th>\n",
       "      <td>5</td>\n",
       "      <td>44</td>\n",
       "      <td>5_nan___</td>\n",
       "    </tr>\n",
       "    <tr>\n",
       "      <th>7</th>\n",
       "      <td>6</td>\n",
       "      <td>42</td>\n",
       "      <td>6_tsai_island_taipei_taiwanese</td>\n",
       "    </tr>\n",
       "    <tr>\n",
       "      <th>8</th>\n",
       "      <td>7</td>\n",
       "      <td>42</td>\n",
       "      <td>7_balloon_object_airspace_shot</td>\n",
       "    </tr>\n",
       "    <tr>\n",
       "      <th>9</th>\n",
       "      <td>8</td>\n",
       "      <td>37</td>\n",
       "      <td>8_philippine_marcos_sea_manila</td>\n",
       "    </tr>\n",
       "    <tr>\n",
       "      <th>10</th>\n",
       "      <td>9</td>\n",
       "      <td>32</td>\n",
       "      <td>9_guo_case_charge_trump</td>\n",
       "    </tr>\n",
       "    <tr>\n",
       "      <th>11</th>\n",
       "      <td>10</td>\n",
       "      <td>32</td>\n",
       "      <td>10_korea_north_south_korean</td>\n",
       "    </tr>\n",
       "    <tr>\n",
       "      <th>12</th>\n",
       "      <td>11</td>\n",
       "      <td>30</td>\n",
       "      <td>11_tiktok_app_bytedance_ban</td>\n",
       "    </tr>\n",
       "    <tr>\n",
       "      <th>13</th>\n",
       "      <td>12</td>\n",
       "      <td>27</td>\n",
       "      <td>12_letter_must_emailing_exceed</td>\n",
       "    </tr>\n",
       "    <tr>\n",
       "      <th>14</th>\n",
       "      <td>13</td>\n",
       "      <td>25</td>\n",
       "      <td>13_republican_house_mccarthy_committee</td>\n",
       "    </tr>\n",
       "    <tr>\n",
       "      <th>15</th>\n",
       "      <td>14</td>\n",
       "      <td>24</td>\n",
       "      <td>14_sanction_company_chinese_iran</td>\n",
       "    </tr>\n",
       "    <tr>\n",
       "      <th>16</th>\n",
       "      <td>15</td>\n",
       "      <td>22</td>\n",
       "      <td>15_boeing_aviation_airbus_airline</td>\n",
       "    </tr>\n",
       "    <tr>\n",
       "      <th>17</th>\n",
       "      <td>16</td>\n",
       "      <td>21</td>\n",
       "      <td>16_tiktok_bill_ban_app</td>\n",
       "    </tr>\n",
       "    <tr>\n",
       "      <th>18</th>\n",
       "      <td>17</td>\n",
       "      <td>17</td>\n",
       "      <td>17_company_capital_market_investor</td>\n",
       "    </tr>\n",
       "    <tr>\n",
       "      <th>19</th>\n",
       "      <td>18</td>\n",
       "      <td>15</td>\n",
       "      <td>18_law_city_national_security</td>\n",
       "    </tr>\n",
       "    <tr>\n",
       "      <th>20</th>\n",
       "      <td>19</td>\n",
       "      <td>14</td>\n",
       "      <td>19_japan_defence_japanese_kishida</td>\n",
       "    </tr>\n",
       "    <tr>\n",
       "      <th>21</th>\n",
       "      <td>20</td>\n",
       "      <td>14</td>\n",
       "      <td>20_saudi_arabia_middle_arab</td>\n",
       "    </tr>\n",
       "    <tr>\n",
       "      <th>22</th>\n",
       "      <td>21</td>\n",
       "      <td>13</td>\n",
       "      <td>21_pacific_africa_island_african</td>\n",
       "    </tr>\n",
       "    <tr>\n",
       "      <th>23</th>\n",
       "      <td>22</td>\n",
       "      <td>13</td>\n",
       "      <td>22_washington_region_economic_policy</td>\n",
       "    </tr>\n",
       "    <tr>\n",
       "      <th>24</th>\n",
       "      <td>23</td>\n",
       "      <td>12</td>\n",
       "      <td>23_huawei_meng_company_equipment</td>\n",
       "    </tr>\n",
       "    <tr>\n",
       "      <th>25</th>\n",
       "      <td>24</td>\n",
       "      <td>11</td>\n",
       "      <td>24_australia_submarine_aukus_australian</td>\n",
       "    </tr>\n",
       "  </tbody>\n",
       "</table>\n",
       "</div>"
      ],
      "text/plain": [
       "    Topic  Count                                     Name\n",
       "0      -1    326            -1_chinese_year_country_state\n",
       "1       0    172               0_xi_country_meeting_state\n",
       "2       1     99                    1_per_cent_trade_year\n",
       "3       2     87             2_military_pla_defence_force\n",
       "4       3     61  3_chip_semiconductor_technology_company\n",
       "5       4     45              4_russia_ukraine_war_moscow\n",
       "6       5     44                                 5_nan___\n",
       "7       6     42           6_tsai_island_taipei_taiwanese\n",
       "8       7     42           7_balloon_object_airspace_shot\n",
       "9       8     37           8_philippine_marcos_sea_manila\n",
       "10      9     32                  9_guo_case_charge_trump\n",
       "11     10     32              10_korea_north_south_korean\n",
       "12     11     30              11_tiktok_app_bytedance_ban\n",
       "13     12     27           12_letter_must_emailing_exceed\n",
       "14     13     25   13_republican_house_mccarthy_committee\n",
       "15     14     24         14_sanction_company_chinese_iran\n",
       "16     15     22        15_boeing_aviation_airbus_airline\n",
       "17     16     21                   16_tiktok_bill_ban_app\n",
       "18     17     17       17_company_capital_market_investor\n",
       "19     18     15            18_law_city_national_security\n",
       "20     19     14        19_japan_defence_japanese_kishida\n",
       "21     20     14              20_saudi_arabia_middle_arab\n",
       "22     21     13         21_pacific_africa_island_african\n",
       "23     22     13     22_washington_region_economic_policy\n",
       "24     23     12         23_huawei_meng_company_equipment\n",
       "25     24     11  24_australia_submarine_aukus_australian"
      ]
     },
     "execution_count": 134,
     "metadata": {},
     "output_type": "execute_result"
    }
   ],
   "source": [
    "topic_model.get_topic_info()"
   ]
  },
  {
   "cell_type": "code",
   "execution_count": null,
   "metadata": {
    "execution": {
     "iopub.status.busy": "2023-05-25T00:41:21.327367Z",
     "iopub.status.idle": "2023-05-25T00:41:21.327779Z",
     "shell.execute_reply": "2023-05-25T00:41:21.327579Z",
     "shell.execute_reply.started": "2023-05-25T00:41:21.327560Z"
    }
   },
   "outputs": [],
   "source": [
    "# change this to the code i did for weather data/label with topics\n",
    "topics_to_merge = [[0, 1, 4, 20, 25, 36],\n",
    "                  [2,3,5,8,9,18,19,22],\n",
    "                  [6,33],\n",
    "                  [12,13,15],\n",
    "                  [28,29,32,35],\n",
    "                  [11,14,15,17,23,24,30,34],\n",
    "                  [7,21,26,27]\n",
    "                  [-1]]\n",
    "\n",
    "topics_reduced = topic_model.merge_topics(scmp_df['lem_tokens'], topics_to_merge)"
   ]
  },
  {
   "cell_type": "markdown",
   "metadata": {},
   "source": [
    "force feed topics into smaller groups (change this to new topics)\n",
    "1. Military: 1,4,20,25,36\n",
    "2. US: 2,3,5,8,9,18,19,22\n",
    "3. Taiwan: 6,33\n",
    "4. Tech: 12,13,15\n",
    "5. Market/Economy: 28,28,32,35\n",
    "6. APAC: 11,14,15,17,23,24,30,34\n",
    "7. Rest of the word: 7,21,26,27\n"
   ]
  },
  {
   "cell_type": "code",
   "execution_count": null,
   "metadata": {
    "execution": {
     "iopub.status.busy": "2023-05-25T00:41:21.329596Z",
     "iopub.status.idle": "2023-05-25T00:41:21.330232Z",
     "shell.execute_reply": "2023-05-25T00:41:21.330021Z",
     "shell.execute_reply.started": "2023-05-25T00:41:21.329995Z"
    }
   },
   "outputs": [],
   "source": [
    "# group topics into its own topics\n",
    "\n",
    "def topics_assigned(scmp_df):\n",
    "    if scmp_df['topic'] == 0 or scmp_df['topic'] == 1 or scmp_df['topic'] == 4 or scmp_df['topic'] == 20 or scmp_df['topic'] == 25 or scmp_df['topic'] == 36:\n",
    "        return 'military'\n",
    "    elif scmp_df['topic'] == 2 or scmp_df['topic'] == 3 or scmp_df['topic'] == 5 or scmp_df['topic'] == 8 or scmp_df['topic'] == 9 or scmp_df['topic'] == 18 or scmp_df['topic'] == 19 or scmp_df['topic'] == 22:\n",
    "        return 'united states'\n",
    "    elif scmp_df['topic'] == 6 or scmp_df['topic'] == 33:\n",
    "        return 'taiwan'\n",
    "    elif scmp_df['topic'] == 12 or scmp_df['topic'] == 13 or scmp_df['topic'] == 15:\n",
    "        return 'tech'\n",
    "    elif scmp_df['topic'] == 28 or scmp_df['topic'] == 29 or scmp_df['topic'] == 32 or scmp_df['topic'] == 35:\n",
    "        return 'market'\n",
    "    elif scmp_df['topic'] == -1:\n",
    "        return 'others'\n",
    "    elif scmp_df['topic'] == 7 or scmp_df['topic'] == 21 or scmp_df['topic'] == 26 or scmp_df['topic'] == 27:\n",
    "        return 'rest of the world'\n",
    "    else:\n",
    "        return 'apac'\n",
    "\n",
    "scmp_df['topic'] = scmp_df.apply(topics_assigned, axis = 1)"
   ]
  },
  {
   "cell_type": "code",
   "execution_count": null,
   "metadata": {
    "execution": {
     "iopub.status.busy": "2023-05-25T00:41:21.331684Z",
     "iopub.status.idle": "2023-05-25T00:41:21.332093Z",
     "shell.execute_reply": "2023-05-25T00:41:21.331924Z",
     "shell.execute_reply.started": "2023-05-25T00:41:21.331905Z"
    }
   },
   "outputs": [],
   "source": [
    "# Export the journals dataframe as a csv file\n",
    "scmp_df.to_csv('/kaggle/working/scmp_topics_labelled.csv', index=False)"
   ]
  },
  {
   "cell_type": "markdown",
   "metadata": {},
   "source": [
    "# Data Modelling: Multi-class Classification Problem\n",
    "1. use a few models (NB, LogReg, Random Forest, SVM)\n",
    "2. use accuracy, precision, recall, F1 score as evaluation metrics\n",
    "3. then, productionize that model (by passing through unseen data) --> how?\n",
    "        - if the scores are not good, will proceed to use GPT as the final product"
   ]
  },
  {
   "cell_type": "code",
   "execution_count": null,
   "metadata": {
    "execution": {
     "iopub.status.busy": "2023-05-25T00:41:21.333422Z",
     "iopub.status.idle": "2023-05-25T00:41:21.333858Z",
     "shell.execute_reply": "2023-05-25T00:41:21.333629Z",
     "shell.execute_reply.started": "2023-05-25T00:41:21.333611Z"
    }
   },
   "outputs": [],
   "source": [
    "from sklearn.ensemble import RandomForestClassifier\n",
    "from sklearn.model_selection import train_test_split\n",
    "from sklearn.metrics import classification_report, accuracy_score"
   ]
  },
  {
   "cell_type": "code",
   "execution_count": null,
   "metadata": {
    "execution": {
     "iopub.status.busy": "2023-05-25T00:41:21.334878Z",
     "iopub.status.idle": "2023-05-25T00:41:21.335253Z",
     "shell.execute_reply": "2023-05-25T00:41:21.335088Z",
     "shell.execute_reply.started": "2023-05-25T00:41:21.335063Z"
    }
   },
   "outputs": [],
   "source": [
    "scmp_df.head()"
   ]
  },
  {
   "cell_type": "code",
   "execution_count": null,
   "metadata": {
    "execution": {
     "iopub.status.busy": "2023-05-25T00:41:21.336396Z",
     "iopub.status.idle": "2023-05-25T00:41:21.336794Z",
     "shell.execute_reply": "2023-05-25T00:41:21.336613Z",
     "shell.execute_reply.started": "2023-05-25T00:41:21.336595Z"
    }
   },
   "outputs": [],
   "source": [
    "scmp_df.shape"
   ]
  },
  {
   "cell_type": "code",
   "execution_count": null,
   "metadata": {
    "execution": {
     "iopub.status.busy": "2023-05-25T00:41:21.337734Z",
     "iopub.status.idle": "2023-05-25T00:41:21.338145Z",
     "shell.execute_reply": "2023-05-25T00:41:21.337979Z",
     "shell.execute_reply.started": "2023-05-25T00:41:21.337960Z"
    }
   },
   "outputs": [],
   "source": [
    "X = scmp_df[\"lem_tokens\"]\n",
    "y = scmp_df['topic']"
   ]
  },
  {
   "cell_type": "code",
   "execution_count": null,
   "metadata": {
    "execution": {
     "iopub.status.busy": "2023-05-25T00:41:21.339327Z",
     "iopub.status.idle": "2023-05-25T00:41:21.339687Z",
     "shell.execute_reply": "2023-05-25T00:41:21.339525Z",
     "shell.execute_reply.started": "2023-05-25T00:41:21.339507Z"
    }
   },
   "outputs": [],
   "source": [
    "# check the distribution of y\n",
    "y.value_counts(normalize = True)"
   ]
  },
  {
   "cell_type": "code",
   "execution_count": null,
   "metadata": {
    "execution": {
     "iopub.status.busy": "2023-05-25T00:41:21.340721Z",
     "iopub.status.idle": "2023-05-25T00:41:21.341108Z",
     "shell.execute_reply": "2023-05-25T00:41:21.340944Z",
     "shell.execute_reply.started": "2023-05-25T00:41:21.340926Z"
    }
   },
   "outputs": [],
   "source": [
    "X_train, X_test, y_train, y_test = train_test_split(X,\n",
    "                                                    y,\n",
    "                                                    test_size=0.3,\n",
    "                                                    stratify=y,\n",
    "                                                    random_state=42)"
   ]
  },
  {
   "cell_type": "code",
   "execution_count": null,
   "metadata": {
    "execution": {
     "iopub.status.busy": "2023-05-25T00:41:21.342347Z",
     "iopub.status.idle": "2023-05-25T00:41:21.342713Z",
     "shell.execute_reply": "2023-05-25T00:41:21.342548Z",
     "shell.execute_reply.started": "2023-05-25T00:41:21.342530Z"
    }
   },
   "outputs": [],
   "source": [
    "# baseline accuracy for all classes\n",
    "y_test.value_counts(normalize=True)"
   ]
  },
  {
   "cell_type": "markdown",
   "metadata": {},
   "source": [
    "# models\n",
    "1. Naive Bayes\n",
    "2. Random Forest\n",
    "3. LogReg\n",
    "4. SVM\n",
    "----\n",
    "5. Text CNN\n",
    "6. LSTM/BiDirectional RNN"
   ]
  },
  {
   "cell_type": "code",
   "execution_count": null,
   "metadata": {
    "execution": {
     "iopub.status.busy": "2023-05-25T00:41:21.343712Z",
     "iopub.status.idle": "2023-05-25T00:41:21.344130Z",
     "shell.execute_reply": "2023-05-25T00:41:21.343958Z",
     "shell.execute_reply.started": "2023-05-25T00:41:21.343939Z"
    }
   },
   "outputs": [],
   "source": [
    "# Import CountVectorizer and TFIDFVectorizer from feature_extraction.text.\n",
    "from sklearn.feature_extraction.text import CountVectorizer, TfidfVectorizer\n",
    "\n",
    "# building the pipeline\n",
    "from sklearn.pipeline import Pipeline\n",
    "from sklearn.model_selection import train_test_split, GridSearchCV\n",
    "\n",
    "from sklearn.linear_model import LogisticRegression\n",
    "from sklearn.naive_bayes import MultinomialNB\n",
    "from sklearn.neighbors import KNeighborsClassifier\n",
    "from sklearn.ensemble import BaggingClassifier, RandomForestClassifier, AdaBoostClassifier\n",
    "from sklearn.tree import DecisionTreeClassifier\n",
    "from sklearn.svm import SVC\n",
    "\n",
    "# metrics\n",
    "#from sklearn.metrics import confusion_matrix, plot_confusion_matrix, accuracy_score, precision_score, recall_score, f1_score, roc_auc_score\n",
    "# display full columns and rows\n",
    "pd.options.display.max_colwidth = 400"
   ]
  },
  {
   "cell_type": "code",
   "execution_count": null,
   "metadata": {
    "execution": {
     "iopub.status.busy": "2023-05-25T00:41:21.345272Z",
     "iopub.status.idle": "2023-05-25T00:41:21.345631Z",
     "shell.execute_reply": "2023-05-25T00:41:21.345469Z",
     "shell.execute_reply.started": "2023-05-25T00:41:21.345451Z"
    }
   },
   "outputs": [],
   "source": [
    "# naive bayes\n",
    "tvec = TfidfVectorizer()"
   ]
  },
  {
   "cell_type": "code",
   "execution_count": null,
   "metadata": {
    "execution": {
     "iopub.status.busy": "2023-05-25T00:41:21.346736Z",
     "iopub.status.idle": "2023-05-25T00:41:21.347133Z",
     "shell.execute_reply": "2023-05-25T00:41:21.346969Z",
     "shell.execute_reply.started": "2023-05-25T00:41:21.346950Z"
    }
   },
   "outputs": [],
   "source": [
    "pipe_nb = Pipeline([\n",
    "    ('tvec', TfidfVectorizer()),\n",
    "    ('nb', MultinomialNB())\n",
    "])"
   ]
  },
  {
   "cell_type": "code",
   "execution_count": null,
   "metadata": {
    "execution": {
     "iopub.status.busy": "2023-05-25T00:41:21.348038Z",
     "iopub.status.idle": "2023-05-25T00:41:21.348396Z",
     "shell.execute_reply": "2023-05-25T00:41:21.348233Z",
     "shell.execute_reply.started": "2023-05-25T00:41:21.348216Z"
    }
   },
   "outputs": [],
   "source": [
    "pipe_nb_params = {\n",
    "    'tvec__max_features': [2000, 3000, 4000, 5000],\n",
    "    'tvec__stop_words': ['english'],\n",
    "    'tvec__ngram_range': [(1,1), (1,2)]\n",
    "}"
   ]
  },
  {
   "cell_type": "code",
   "execution_count": null,
   "metadata": {
    "execution": {
     "iopub.status.busy": "2023-05-25T00:41:21.349586Z",
     "iopub.status.idle": "2023-05-25T00:41:21.350036Z",
     "shell.execute_reply": "2023-05-25T00:41:21.349790Z",
     "shell.execute_reply.started": "2023-05-25T00:41:21.349772Z"
    }
   },
   "outputs": [],
   "source": [
    "gs_nb = GridSearchCV(pipe_nb, \n",
    "                  param_grid=pipe_nb_params, \n",
    "                  cv=5)\n",
    "\n",
    "gs_nb.fit(X_train, y_train) "
   ]
  },
  {
   "cell_type": "code",
   "execution_count": null,
   "metadata": {
    "execution": {
     "iopub.status.busy": "2023-05-25T00:41:21.351115Z",
     "iopub.status.idle": "2023-05-25T00:41:21.351508Z",
     "shell.execute_reply": "2023-05-25T00:41:21.351317Z",
     "shell.execute_reply.started": "2023-05-25T00:41:21.351300Z"
    }
   },
   "outputs": [],
   "source": [
    "X_train_tvec = pd.DataFrame(gs_nb.best_estimator_[\"tvec\"].transform(X_train).todense(),\n",
    "                          columns = gs_nb.best_estimator_[\"tvec\"].get_feature_names())"
   ]
  },
  {
   "cell_type": "code",
   "execution_count": null,
   "metadata": {
    "execution": {
     "iopub.status.busy": "2023-05-25T00:41:21.352945Z",
     "iopub.status.idle": "2023-05-25T00:41:21.353304Z",
     "shell.execute_reply": "2023-05-25T00:41:21.353142Z",
     "shell.execute_reply.started": "2023-05-25T00:41:21.353126Z"
    }
   },
   "outputs": [],
   "source": [
    "X_test_tvec = pd.DataFrame(gs_nb.best_estimator_[\"tvec\"].transform(X_test).todense(),\n",
    "                          columns = gs_nb.best_estimator_[\"tvec\"].get_feature_names())"
   ]
  },
  {
   "cell_type": "code",
   "execution_count": null,
   "metadata": {
    "execution": {
     "iopub.status.busy": "2023-05-25T00:41:21.354445Z",
     "iopub.status.idle": "2023-05-25T00:41:21.354825Z",
     "shell.execute_reply": "2023-05-25T00:41:21.354640Z",
     "shell.execute_reply.started": "2023-05-25T00:41:21.354623Z"
    }
   },
   "outputs": [],
   "source": [
    "print(gs_nb.best_score_)"
   ]
  },
  {
   "cell_type": "code",
   "execution_count": null,
   "metadata": {
    "execution": {
     "iopub.status.busy": "2023-05-25T00:41:21.356404Z",
     "iopub.status.idle": "2023-05-25T00:41:21.356777Z",
     "shell.execute_reply": "2023-05-25T00:41:21.356602Z",
     "shell.execute_reply.started": "2023-05-25T00:41:21.356585Z"
    }
   },
   "outputs": [],
   "source": [
    "gs_nb.score(X_train, y_train)"
   ]
  },
  {
   "cell_type": "code",
   "execution_count": null,
   "metadata": {
    "execution": {
     "iopub.status.busy": "2023-05-25T00:41:21.358134Z",
     "iopub.status.idle": "2023-05-25T00:41:21.358494Z",
     "shell.execute_reply": "2023-05-25T00:41:21.358333Z",
     "shell.execute_reply.started": "2023-05-25T00:41:21.358316Z"
    }
   },
   "outputs": [],
   "source": [
    "gs_nb.score(X_test, y_test)"
   ]
  },
  {
   "cell_type": "code",
   "execution_count": null,
   "metadata": {
    "execution": {
     "iopub.status.busy": "2023-05-25T00:41:21.359615Z",
     "iopub.status.idle": "2023-05-25T00:41:21.360017Z",
     "shell.execute_reply": "2023-05-25T00:41:21.359846Z",
     "shell.execute_reply.started": "2023-05-25T00:41:21.359826Z"
    }
   },
   "outputs": [],
   "source": [
    "# Get predictions\n",
    "preds = gs_nb.predict(X_test)\n",
    "\n",
    "# Save confusion matrix values\n",
    "tn, fp, fn, tp = confusion_matrix(y_test, preds).ravel()"
   ]
  },
  {
   "cell_type": "code",
   "execution_count": null,
   "metadata": {
    "execution": {
     "iopub.status.busy": "2023-05-25T00:41:21.361174Z",
     "iopub.status.idle": "2023-05-25T00:41:21.361532Z",
     "shell.execute_reply": "2023-05-25T00:41:21.361369Z",
     "shell.execute_reply.started": "2023-05-25T00:41:21.361352Z"
    }
   },
   "outputs": [],
   "source": [
    "# View confusion matrix\n",
    "plot_confusion_matrix(gs_nb, X_test, y_test, cmap='Blues', values_format='d');"
   ]
  },
  {
   "cell_type": "code",
   "execution_count": null,
   "metadata": {
    "execution": {
     "iopub.status.busy": "2023-05-25T00:41:21.362601Z",
     "iopub.status.idle": "2023-05-25T00:41:21.362984Z",
     "shell.execute_reply": "2023-05-25T00:41:21.362819Z",
     "shell.execute_reply.started": "2023-05-25T00:41:21.362794Z"
    }
   },
   "outputs": [],
   "source": [
    "# multiclass confusion matrix\n",
    "import scikitplot as skplt\n",
    "y_true = [le.classes_[x] for x **in** test_y]\n",
    "y_pred = [le.classes_[x] for x **in** val_preds.argmax(axis=1)]\n",
    "skplt.metrics.plot_confusion_matrix(\n",
    "    y_true,\n",
    "    y_pred,\n",
    "    figsize=(12,12),x_tick_rotation=90)"
   ]
  },
  {
   "cell_type": "code",
   "execution_count": null,
   "metadata": {},
   "outputs": [],
   "source": []
  },
  {
   "cell_type": "code",
   "execution_count": null,
   "metadata": {},
   "outputs": [],
   "source": []
  },
  {
   "cell_type": "code",
   "execution_count": null,
   "metadata": {},
   "outputs": [],
   "source": [
    "# Neutral network expects us to label encode the \n",
    "from sklearn.preprocessing import LabelEncoder\n",
    "le = LabelEncoder()\n",
    "train_y = le.fit_transform(train_y.values)\n",
    "test_y = le.transform(test_y.values)"
   ]
  },
  {
   "cell_type": "code",
   "execution_count": null,
   "metadata": {
    "execution": {
     "iopub.status.busy": "2023-05-25T00:41:21.364667Z",
     "iopub.status.idle": "2023-05-25T00:41:21.365109Z",
     "shell.execute_reply": "2023-05-25T00:41:21.364934Z",
     "shell.execute_reply.started": "2023-05-25T00:41:21.364915Z"
    }
   },
   "outputs": [],
   "source": [
    "import torch\n",
    "import torch.nn as nn"
   ]
  },
  {
   "cell_type": "code",
   "execution_count": null,
   "metadata": {
    "execution": {
     "iopub.status.busy": "2023-05-25T00:41:21.366548Z",
     "iopub.status.idle": "2023-05-25T00:41:21.366933Z",
     "shell.execute_reply": "2023-05-25T00:41:21.366744Z",
     "shell.execute_reply.started": "2023-05-25T00:41:21.366726Z"
    }
   },
   "outputs": [],
   "source": [
    "# use BiDirectional RNN\n",
    "class BiLSTM(nn.Module):\n",
    "    def __init__(self):\n",
    "        super(BiLSTM, self).__init__()\n",
    "        self.hidden_size = 64\n",
    "        drp = 0.1\n",
    "        n_classes = len(le.classes_)\n",
    "        self.embedding = nn.Embedding(max_features, embed_size)\n",
    "        self.embedding.weight = nn.Parameter(torch.tensor(embedding_matrix, dtype=torch.float32))\n",
    "        self.embedding.weight.requires_grad = False\n",
    "        self.lstm = nn.LSTM(embed_size, self.hidden_size, bidirectional=True, batch_first=True)\n",
    "        self.linear = nn.Linear(self.hidden_size*4 , 64)\n",
    "        self.relu = nn.ReLU()\n",
    "        self.dropout = nn.Dropout(drp)\n",
    "        self.out = nn.Linear(64, n_classes)\n",
    "    def forward(self, x):\n",
    "        #rint(x.size())*\n",
    "        h_embedding = self.embedding(x)\n",
    "        #_embedding = torch.squeeze(torch.unsqueeze(h_embedding, 0))*\n",
    "        h_lstm, _ = self.lstm(h_embedding)\n",
    "        avg_pool = torch.mean(h_lstm, 1)\n",
    "        max_pool, _ = torch.max(h_lstm, 1)\n",
    "        conc = torch.cat(( avg_pool, max_pool), 1)\n",
    "        conc = self.relu(self.linear(conc))\n",
    "        conc = self.dropout(conc)\n",
    "        out = self.out(conc)\n",
    "        return out"
   ]
  },
  {
   "cell_type": "code",
   "execution_count": null,
   "metadata": {
    "execution": {
     "iopub.status.busy": "2023-05-25T00:41:21.368114Z",
     "iopub.status.idle": "2023-05-25T00:41:21.368477Z",
     "shell.execute_reply": "2023-05-25T00:41:21.368314Z",
     "shell.execute_reply.started": "2023-05-25T00:41:21.368297Z"
    }
   },
   "outputs": [],
   "source": [
    "n_epochs = 6\n",
    "model = BiLSTM()\n",
    "loss_fn = nn.CrossEntropyLoss(reduction='sum')\n",
    "optimizer = torch.optim.Adam(filter(lambda p: p.requires_grad, model.parameters()), lr=0.001)\n",
    "model.cuda()\n",
    "# Load train and test in CUDA Memory\n",
    "x_train = torch.tensor(train_X, dtype=torch.long).cuda()\n",
    "y_train = torch.tensor(train_y, dtype=torch.long).cuda()\n",
    "x_cv = torch.tensor(test_X, dtype=torch.long).cuda()\n",
    "y_cv = torch.tensor(test_y, dtype=torch.long).cuda()\n",
    "# Create Torch datasets\n",
    "train = torch.utils.data.TensorDataset(x_train, y_train)\n",
    "valid = torch.utils.data.TensorDataset(x_cv, y_cv)\n",
    "# Create Data Loaders\n",
    "train_loader = torch.utils.data.DataLoader(train, batch_size=batch_size, shuffle=True)\n",
    "valid_loader = torch.utils.data.DataLoader(valid, batch_size=batch_size, shuffle=False)\n",
    "train_loss = []\n",
    "valid_loss = []\n",
    "for epoch in range(n_epochs):\n",
    "    start_time = time.time()\n",
    "    # Set model to train configuration\n",
    "    model.train()\n",
    "    avg_loss = 0.  \n",
    "    for i, (x_batch, y_batch) in enumerate(train_loader):\n",
    "        # Predict/Forward Pass\n",
    "        y_pred = model(x_batch)\n",
    "        # Compute loss\n",
    "        loss = loss_fn(y_pred, y_batch)\n",
    "        optimizer.zero_grad()\n",
    "        loss.backward()\n",
    "        optimizer.step()\n",
    "        avg_loss += loss.item() / len(train_loader)\n",
    "    # Set model to validation configuration -Doesn't get trained here\n",
    "    model.eval()        \n",
    "    avg_val_loss = 0.\n",
    "    val_preds = np.zeros((len(x_cv),len(le.classes_)))\n",
    "    for i, (x_batch, y_batch) in enumerate(valid_loader):\n",
    "        y_pred = model(x_batch).detach()\n",
    "        avg_val_loss += loss_fn(y_pred, y_batch).item() / len(valid_loader)\n",
    "        # keep/store predictions\n",
    "        val_preds[i * batch_size:(i+1) * batch_size] =F.softmax(y_pred).cpu().numpy()\n",
    "    # Check Accuracy\n",
    "    val_accuracy = sum(val_preds.argmax(axis=1)==test_y)/len(test_y)\n",
    "    train_loss.append(avg_loss)\n",
    "    valid_loss.append(avg_val_loss)\n",
    "    elapsed_time = time.time() - start_time\n",
    "    print('Epoch {}/{} \\t loss={:.4f} \\t val_loss={:.4f}  \\t val_acc={:.4f}  \\t time={:.2f}s'.format(\n",
    "                epoch + 1, n_epochs, avg_loss, avg_val_loss, val_accuracy, elapsed_time))"
   ]
  },
  {
   "cell_type": "code",
   "execution_count": null,
   "metadata": {},
   "outputs": [],
   "source": []
  }
 ],
 "metadata": {
  "kernelspec": {
   "display_name": "Python 3 (ipykernel)",
   "language": "python",
   "name": "python3"
  },
  "language_info": {
   "codemirror_mode": {
    "name": "ipython",
    "version": 3
   },
   "file_extension": ".py",
   "mimetype": "text/x-python",
   "name": "python",
   "nbconvert_exporter": "python",
   "pygments_lexer": "ipython3",
   "version": "3.9.12"
  }
 },
 "nbformat": 4,
 "nbformat_minor": 4
}
